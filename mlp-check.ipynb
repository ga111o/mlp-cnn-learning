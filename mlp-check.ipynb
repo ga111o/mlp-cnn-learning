{
 "cells": [
  {
   "cell_type": "code",
   "execution_count": 2,
   "metadata": {},
   "outputs": [],
   "source": [
    "import os\n",
    "import random\n",
    "from PIL import Image\n",
    "\n",
    "from torch.utils.data import Dataset, DataLoader\n",
    "from torchvision import transforms\n",
    "\n",
    "import torch\n",
    "import torch.nn as nn\n",
    "import torch.optim as optim\n",
    "\n",
    "import torch.nn.functional as F\n",
    "\n",
    "import logging"
   ]
  },
  {
   "cell_type": "code",
   "execution_count": 3,
   "metadata": {},
   "outputs": [],
   "source": [
    "num_classes = 6\n",
    "\n",
    "class SimpleCNN(nn.Module):\n",
    "    def __init__(self):\n",
    "        super(SimpleCNN, self).__init__()\n",
    "        self.conv1 = nn.Conv2d(3, 6, 5)\n",
    "        self.pool = nn.MaxPool2d(2, 2)\n",
    "        self.conv2 = nn.Conv2d(6, 16, 5)\n",
    "        self.fc1 = nn.Linear(16 * 72 * 72 , 120)\n",
    "        self.fc2 = nn.Linear(120,84)\n",
    "        self.fc3 = nn.Linear(84,num_classes)\n",
    "\n",
    "    def forward(self,x):\n",
    "      x=self.pool(F.relu(self.conv1(x)))\n",
    "      x=self.pool(F.relu(self.conv2(x)))\n",
    "      x=x.view(-1,self.num_flat_features(x))\n",
    "      x=F.relu(self.fc1(x))\n",
    "      x=F.relu(self.fc2(x))\n",
    "      return self.fc3(x)\n",
    "\n",
    "    def num_flat_features(self,x):\n",
    "      size=x.size()[1:]\n",
    "      num_features=1\n",
    "      for s in size:\n",
    "          num_features *=s\n",
    "\n",
    "      return num_features\n"
   ]
  },
  {
   "cell_type": "code",
   "execution_count": 4,
   "metadata": {},
   "outputs": [
    {
     "name": "stderr",
     "output_type": "stream",
     "text": [
      "C:\\Users\\sando\\AppData\\Local\\Temp\\ipykernel_23048\\1629858931.py:26: DeprecationWarning: ANTIALIAS is deprecated and will be removed in Pillow 10 (2023-07-01). Use LANCZOS or Resampling.LANCZOS instead.\n",
      "  img = img.resize((new_width, new_height), Image.ANTIALIAS)\n",
      "예측: twilight sparkle, 이미지: pony (1).gif\n",
      "예측: twilight sparkle, 이미지: pony (1).jpeg\n"
     ]
    },
    {
     "name": "stdout",
     "output_type": "stream",
     "text": [
      "Model loaded\n",
      "예측: twilight sparkle, 이미지: pony (1).gif\n",
      "예측: twilight sparkle, 이미지: pony (1).jpeg\n"
     ]
    },
    {
     "name": "stderr",
     "output_type": "stream",
     "text": [
      "예측: rarity, 이미지: pony (1).jpg\n",
      "예측: pinkie pie, 이미지: pony (1).png\n"
     ]
    },
    {
     "name": "stdout",
     "output_type": "stream",
     "text": [
      "예측: rarity, 이미지: pony (1).jpg\n"
     ]
    },
    {
     "name": "stderr",
     "output_type": "stream",
     "text": [
      "예측: rainbow dash, 이미지: pony (1).webp\n",
      "예측: pinkie pie, 이미지: pony (10).gif\n",
      "예측: pinkie pie, 이미지: pony (10).jpeg\n"
     ]
    },
    {
     "name": "stdout",
     "output_type": "stream",
     "text": [
      "예측: pinkie pie, 이미지: pony (1).png\n",
      "예측: rainbow dash, 이미지: pony (1).webp\n",
      "예측: pinkie pie, 이미지: pony (10).gif\n",
      "예측: pinkie pie, 이미지: pony (10).jpeg\n"
     ]
    },
    {
     "name": "stderr",
     "output_type": "stream",
     "text": [
      "예측: twilight sparkle, 이미지: pony (10).jpg\n",
      "예측: rainbow dash, 이미지: pony (10).png\n",
      "예측: rainbow dash, 이미지: pony (100).gif\n"
     ]
    },
    {
     "name": "stdout",
     "output_type": "stream",
     "text": [
      "예측: twilight sparkle, 이미지: pony (10).jpg\n",
      "예측: rainbow dash, 이미지: pony (10).png\n",
      "예측: rainbow dash, 이미지: pony (100).gif\n"
     ]
    },
    {
     "name": "stderr",
     "output_type": "stream",
     "text": [
      "예측: twilight sparkle, 이미지: pony (100).jpg\n"
     ]
    },
    {
     "name": "stdout",
     "output_type": "stream",
     "text": [
      "예측: twilight sparkle, 이미지: pony (100).jpg\n"
     ]
    },
    {
     "name": "stderr",
     "output_type": "stream",
     "text": [
      "예측: rarity, 이미지: pony (100).png\n",
      "예측: twilight sparkle, 이미지: pony (101).gif\n"
     ]
    },
    {
     "name": "stdout",
     "output_type": "stream",
     "text": [
      "예측: rarity, 이미지: pony (100).png\n",
      "예측: twilight sparkle, 이미지: pony (101).gif\n"
     ]
    },
    {
     "name": "stderr",
     "output_type": "stream",
     "text": [
      "예측: rainbow dash, 이미지: pony (101).jpg\n"
     ]
    },
    {
     "name": "stdout",
     "output_type": "stream",
     "text": [
      "예측: rainbow dash, 이미지: pony (101).jpg\n"
     ]
    },
    {
     "name": "stderr",
     "output_type": "stream",
     "text": [
      "예측: rainbow dash, 이미지: pony (101).png\n",
      "예측: twilight sparkle, 이미지: pony (102).gif\n",
      "예측: twilight sparkle, 이미지: pony (102).jpg\n"
     ]
    },
    {
     "name": "stdout",
     "output_type": "stream",
     "text": [
      "예측: rainbow dash, 이미지: pony (101).png\n",
      "예측: twilight sparkle, 이미지: pony (102).gif\n",
      "예측: twilight sparkle, 이미지: pony (102).jpg\n"
     ]
    },
    {
     "name": "stderr",
     "output_type": "stream",
     "text": [
      "예측: fluttershy, 이미지: pony (102).png\n",
      "예측: twilight sparkle, 이미지: pony (103).gif\n",
      "예측: rarity, 이미지: pony (103).jpg\n"
     ]
    },
    {
     "name": "stdout",
     "output_type": "stream",
     "text": [
      "예측: fluttershy, 이미지: pony (102).png\n",
      "예측: twilight sparkle, 이미지: pony (103).gif\n",
      "예측: rarity, 이미지: pony (103).jpg\n"
     ]
    },
    {
     "name": "stderr",
     "output_type": "stream",
     "text": [
      "예측: rarity, 이미지: pony (103).png\n",
      "예측: twilight sparkle, 이미지: pony (104).gif\n",
      "예측: twilight sparkle, 이미지: pony (104).jpg\n"
     ]
    },
    {
     "name": "stdout",
     "output_type": "stream",
     "text": [
      "예측: rarity, 이미지: pony (103).png\n",
      "예측: twilight sparkle, 이미지: pony (104).gif\n",
      "예측: twilight sparkle, 이미지: pony (104).jpg\n"
     ]
    },
    {
     "name": "stderr",
     "output_type": "stream",
     "text": [
      "예측: rainbow dash, 이미지: pony (104).png\n",
      "예측: twilight sparkle, 이미지: pony (105).gif\n",
      "예측: twilight sparkle, 이미지: pony (105).jpg\n"
     ]
    },
    {
     "name": "stdout",
     "output_type": "stream",
     "text": [
      "예측: rainbow dash, 이미지: pony (104).png\n",
      "예측: twilight sparkle, 이미지: pony (105).gif\n",
      "예측: twilight sparkle, 이미지: pony (105).jpg\n"
     ]
    },
    {
     "name": "stderr",
     "output_type": "stream",
     "text": [
      "예측: twilight sparkle, 이미지: pony (105).png\n",
      "예측: twilight sparkle, 이미지: pony (106).gif\n",
      "예측: pinkie pie, 이미지: pony (106).jpg\n"
     ]
    },
    {
     "name": "stdout",
     "output_type": "stream",
     "text": [
      "예측: twilight sparkle, 이미지: pony (105).png\n",
      "예측: twilight sparkle, 이미지: pony (106).gif\n",
      "예측: pinkie pie, 이미지: pony (106).jpg\n"
     ]
    },
    {
     "name": "stderr",
     "output_type": "stream",
     "text": [
      "예측: pinkie pie, 이미지: pony (106).png\n",
      "예측: twilight sparkle, 이미지: pony (107).gif\n",
      "예측: pinkie pie, 이미지: pony (107).jpg\n"
     ]
    },
    {
     "name": "stdout",
     "output_type": "stream",
     "text": [
      "예측: pinkie pie, 이미지: pony (106).png\n",
      "예측: twilight sparkle, 이미지: pony (107).gif\n",
      "예측: pinkie pie, 이미지: pony (107).jpg\n"
     ]
    },
    {
     "name": "stderr",
     "output_type": "stream",
     "text": [
      "예측: rarity, 이미지: pony (107).png\n",
      "예측: twilight sparkle, 이미지: pony (108).gif\n"
     ]
    },
    {
     "name": "stdout",
     "output_type": "stream",
     "text": [
      "예측: rarity, 이미지: pony (107).png\n",
      "예측: twilight sparkle, 이미지: pony (108).gif\n"
     ]
    },
    {
     "name": "stderr",
     "output_type": "stream",
     "text": [
      "예측: pinkie pie, 이미지: pony (108).jpg\n"
     ]
    },
    {
     "name": "stdout",
     "output_type": "stream",
     "text": [
      "예측: pinkie pie, 이미지: pony (108).jpg\n"
     ]
    },
    {
     "name": "stderr",
     "output_type": "stream",
     "text": [
      "예측: twilight sparkle, 이미지: pony (108).png\n",
      "예측: twilight sparkle, 이미지: pony (109).gif\n",
      "예측: twilight sparkle, 이미지: pony (109).jpg\n"
     ]
    },
    {
     "name": "stdout",
     "output_type": "stream",
     "text": [
      "예측: twilight sparkle, 이미지: pony (108).png\n",
      "예측: twilight sparkle, 이미지: pony (109).gif\n",
      "예측: twilight sparkle, 이미지: pony (109).jpg\n"
     ]
    },
    {
     "name": "stderr",
     "output_type": "stream",
     "text": [
      "예측: twilight sparkle, 이미지: pony (109).png\n",
      "예측: pinkie pie, 이미지: pony (11).gif\n",
      "예측: pinkie pie, 이미지: pony (11).jpeg\n"
     ]
    },
    {
     "name": "stdout",
     "output_type": "stream",
     "text": [
      "예측: twilight sparkle, 이미지: pony (109).png\n",
      "예측: pinkie pie, 이미지: pony (11).gif\n",
      "예측: pinkie pie, 이미지: pony (11).jpeg\n"
     ]
    },
    {
     "name": "stderr",
     "output_type": "stream",
     "text": [
      "예측: twilight sparkle, 이미지: pony (11).jpg\n"
     ]
    },
    {
     "name": "stdout",
     "output_type": "stream",
     "text": [
      "예측: twilight sparkle, 이미지: pony (11).jpg\n"
     ]
    },
    {
     "name": "stderr",
     "output_type": "stream",
     "text": [
      "예측: fluttershy, 이미지: pony (11).png\n",
      "예측: rarity, 이미지: pony (110).gif\n",
      "예측: twilight sparkle, 이미지: pony (110).jpg\n"
     ]
    },
    {
     "name": "stdout",
     "output_type": "stream",
     "text": [
      "예측: fluttershy, 이미지: pony (11).png\n",
      "예측: rarity, 이미지: pony (110).gif\n",
      "예측: twilight sparkle, 이미지: pony (110).jpg\n"
     ]
    },
    {
     "name": "stderr",
     "output_type": "stream",
     "text": [
      "예측: pinkie pie, 이미지: pony (110).png\n",
      "예측: twilight sparkle, 이미지: pony (111).gif\n",
      "예측: pinkie pie, 이미지: pony (111).jpg\n"
     ]
    },
    {
     "name": "stdout",
     "output_type": "stream",
     "text": [
      "예측: pinkie pie, 이미지: pony (110).png\n",
      "예측: twilight sparkle, 이미지: pony (111).gif\n",
      "예측: pinkie pie, 이미지: pony (111).jpg\n"
     ]
    },
    {
     "name": "stderr",
     "output_type": "stream",
     "text": [
      "예측: fluttershy, 이미지: pony (111).png\n",
      "예측: twilight sparkle, 이미지: pony (112).gif\n",
      "예측: twilight sparkle, 이미지: pony (112).jpg\n"
     ]
    },
    {
     "name": "stdout",
     "output_type": "stream",
     "text": [
      "예측: fluttershy, 이미지: pony (111).png\n",
      "예측: twilight sparkle, 이미지: pony (112).gif\n",
      "예측: twilight sparkle, 이미지: pony (112).jpg\n"
     ]
    },
    {
     "name": "stderr",
     "output_type": "stream",
     "text": [
      "예측: rarity, 이미지: pony (112).png\n",
      "예측: twilight sparkle, 이미지: pony (113).gif\n",
      "예측: rarity, 이미지: pony (113).jpg\n"
     ]
    },
    {
     "name": "stdout",
     "output_type": "stream",
     "text": [
      "예측: rarity, 이미지: pony (112).png\n",
      "예측: twilight sparkle, 이미지: pony (113).gif\n",
      "예측: rarity, 이미지: pony (113).jpg\n"
     ]
    },
    {
     "name": "stderr",
     "output_type": "stream",
     "text": [
      "예측: twilight sparkle, 이미지: pony (113).png\n",
      "예측: twilight sparkle, 이미지: pony (114).gif\n",
      "예측: twilight sparkle, 이미지: pony (114).jpg\n"
     ]
    },
    {
     "name": "stdout",
     "output_type": "stream",
     "text": [
      "예측: twilight sparkle, 이미지: pony (113).png\n",
      "예측: twilight sparkle, 이미지: pony (114).gif\n",
      "예측: twilight sparkle, 이미지: pony (114).jpg\n"
     ]
    },
    {
     "name": "stderr",
     "output_type": "stream",
     "text": [
      "예측: twilight sparkle, 이미지: pony (114).png\n",
      "예측: rainbow dash, 이미지: pony (115).gif\n",
      "예측: pinkie pie, 이미지: pony (115).jpg\n"
     ]
    },
    {
     "name": "stdout",
     "output_type": "stream",
     "text": [
      "예측: twilight sparkle, 이미지: pony (114).png\n",
      "예측: rainbow dash, 이미지: pony (115).gif\n",
      "예측: pinkie pie, 이미지: pony (115).jpg\n"
     ]
    },
    {
     "name": "stderr",
     "output_type": "stream",
     "text": [
      "예측: twilight sparkle, 이미지: pony (115).png\n",
      "예측: rainbow dash, 이미지: pony (116).gif\n",
      "예측: pinkie pie, 이미지: pony (116).jpg\n"
     ]
    },
    {
     "name": "stdout",
     "output_type": "stream",
     "text": [
      "예측: twilight sparkle, 이미지: pony (115).png\n",
      "예측: rainbow dash, 이미지: pony (116).gif\n",
      "예측: pinkie pie, 이미지: pony (116).jpg\n"
     ]
    },
    {
     "name": "stderr",
     "output_type": "stream",
     "text": [
      "예측: twilight sparkle, 이미지: pony (116).png\n",
      "예측: rainbow dash, 이미지: pony (117).gif\n",
      "예측: twilight sparkle, 이미지: pony (117).jpg\n"
     ]
    },
    {
     "name": "stdout",
     "output_type": "stream",
     "text": [
      "예측: twilight sparkle, 이미지: pony (116).png\n",
      "예측: rainbow dash, 이미지: pony (117).gif\n",
      "예측: twilight sparkle, 이미지: pony (117).jpg\n"
     ]
    },
    {
     "name": "stderr",
     "output_type": "stream",
     "text": [
      "예측: fluttershy, 이미지: pony (117).png\n",
      "예측: rainbow dash, 이미지: pony (118).gif\n",
      "예측: pinkie pie, 이미지: pony (118).jpg\n"
     ]
    },
    {
     "name": "stdout",
     "output_type": "stream",
     "text": [
      "예측: fluttershy, 이미지: pony (117).png\n",
      "예측: rainbow dash, 이미지: pony (118).gif\n",
      "예측: pinkie pie, 이미지: pony (118).jpg\n"
     ]
    },
    {
     "name": "stderr",
     "output_type": "stream",
     "text": [
      "예측: applejack, 이미지: pony (118).png\n",
      "예측: applejack, 이미지: pony (119).gif\n",
      "예측: twilight sparkle, 이미지: pony (119).jpg\n"
     ]
    },
    {
     "name": "stdout",
     "output_type": "stream",
     "text": [
      "예측: applejack, 이미지: pony (118).png\n",
      "예측: applejack, 이미지: pony (119).gif\n",
      "예측: twilight sparkle, 이미지: pony (119).jpg\n"
     ]
    },
    {
     "name": "stderr",
     "output_type": "stream",
     "text": [
      "예측: pinkie pie, 이미지: pony (119).png\n",
      "예측: rarity, 이미지: pony (12).gif\n",
      "예측: twilight sparkle, 이미지: pony (12).jpeg\n"
     ]
    },
    {
     "name": "stdout",
     "output_type": "stream",
     "text": [
      "예측: pinkie pie, 이미지: pony (119).png\n",
      "예측: rarity, 이미지: pony (12).gif\n",
      "예측: twilight sparkle, 이미지: pony (12).jpeg\n"
     ]
    },
    {
     "name": "stderr",
     "output_type": "stream",
     "text": [
      "예측: applejack, 이미지: pony (12).jpg\n",
      "예측: fluttershy, 이미지: pony (12).png\n",
      "예측: rainbow dash, 이미지: pony (120).gif\n"
     ]
    },
    {
     "name": "stdout",
     "output_type": "stream",
     "text": [
      "예측: applejack, 이미지: pony (12).jpg\n",
      "예측: fluttershy, 이미지: pony (12).png\n",
      "예측: rainbow dash, 이미지: pony (120).gif\n"
     ]
    },
    {
     "name": "stderr",
     "output_type": "stream",
     "text": [
      "예측: twilight sparkle, 이미지: pony (120).jpg\n"
     ]
    },
    {
     "name": "stdout",
     "output_type": "stream",
     "text": [
      "예측: twilight sparkle, 이미지: pony (120).jpg\n"
     ]
    },
    {
     "name": "stderr",
     "output_type": "stream",
     "text": [
      "예측: pinkie pie, 이미지: pony (120).png\n",
      "예측: rarity, 이미지: pony (121).gif\n",
      "예측: rarity, 이미지: pony (121).jpg\n"
     ]
    },
    {
     "name": "stdout",
     "output_type": "stream",
     "text": [
      "예측: pinkie pie, 이미지: pony (120).png\n",
      "예측: rarity, 이미지: pony (121).gif\n",
      "예측: rarity, 이미지: pony (121).jpg\n"
     ]
    },
    {
     "name": "stderr",
     "output_type": "stream",
     "text": [
      "예측: twilight sparkle, 이미지: pony (121).png\n",
      "예측: fluttershy, 이미지: pony (122).gif\n",
      "예측: twilight sparkle, 이미지: pony (122).jpg\n"
     ]
    },
    {
     "name": "stdout",
     "output_type": "stream",
     "text": [
      "예측: twilight sparkle, 이미지: pony (121).png\n",
      "예측: fluttershy, 이미지: pony (122).gif\n",
      "예측: twilight sparkle, 이미지: pony (122).jpg\n"
     ]
    },
    {
     "name": "stderr",
     "output_type": "stream",
     "text": [
      "예측: twilight sparkle, 이미지: pony (122).png\n",
      "예측: rainbow dash, 이미지: pony (123).gif\n",
      "예측: rainbow dash, 이미지: pony (123).jpg\n"
     ]
    },
    {
     "name": "stdout",
     "output_type": "stream",
     "text": [
      "예측: twilight sparkle, 이미지: pony (122).png\n",
      "예측: rainbow dash, 이미지: pony (123).gif\n",
      "예측: rainbow dash, 이미지: pony (123).jpg\n"
     ]
    },
    {
     "name": "stderr",
     "output_type": "stream",
     "text": [
      "예측: twilight sparkle, 이미지: pony (123).png\n",
      "예측: rainbow dash, 이미지: pony (124).gif\n"
     ]
    },
    {
     "name": "stdout",
     "output_type": "stream",
     "text": [
      "예측: twilight sparkle, 이미지: pony (123).png\n",
      "예측: rainbow dash, 이미지: pony (124).gif\n"
     ]
    },
    {
     "name": "stderr",
     "output_type": "stream",
     "text": [
      "예측: rarity, 이미지: pony (124).jpg\n"
     ]
    },
    {
     "name": "stdout",
     "output_type": "stream",
     "text": [
      "예측: rarity, 이미지: pony (124).jpg\n"
     ]
    },
    {
     "name": "stderr",
     "output_type": "stream",
     "text": [
      "예측: twilight sparkle, 이미지: pony (124).png\n",
      "예측: twilight sparkle, 이미지: pony (125).gif\n"
     ]
    },
    {
     "name": "stdout",
     "output_type": "stream",
     "text": [
      "예측: twilight sparkle, 이미지: pony (124).png\n",
      "예측: twilight sparkle, 이미지: pony (125).gif\n"
     ]
    },
    {
     "name": "stderr",
     "output_type": "stream",
     "text": [
      "예측: fluttershy, 이미지: pony (125).jpg\n"
     ]
    },
    {
     "name": "stdout",
     "output_type": "stream",
     "text": [
      "예측: fluttershy, 이미지: pony (125).jpg\n"
     ]
    },
    {
     "name": "stderr",
     "output_type": "stream",
     "text": [
      "예측: twilight sparkle, 이미지: pony (125).png\n",
      "예측: rainbow dash, 이미지: pony (126).gif\n",
      "예측: pinkie pie, 이미지: pony (126).jpg\n"
     ]
    },
    {
     "name": "stdout",
     "output_type": "stream",
     "text": [
      "예측: twilight sparkle, 이미지: pony (125).png\n",
      "예측: rainbow dash, 이미지: pony (126).gif\n",
      "예측: pinkie pie, 이미지: pony (126).jpg\n"
     ]
    },
    {
     "name": "stderr",
     "output_type": "stream",
     "text": [
      "예측: twilight sparkle, 이미지: pony (126).png\n",
      "예측: rarity, 이미지: pony (127).gif\n",
      "예측: twilight sparkle, 이미지: pony (127).jpg\n"
     ]
    },
    {
     "name": "stdout",
     "output_type": "stream",
     "text": [
      "예측: twilight sparkle, 이미지: pony (126).png\n",
      "예측: rarity, 이미지: pony (127).gif\n",
      "예측: twilight sparkle, 이미지: pony (127).jpg\n"
     ]
    },
    {
     "name": "stderr",
     "output_type": "stream",
     "text": [
      "예측: twilight sparkle, 이미지: pony (127).png\n",
      "예측: fluttershy, 이미지: pony (128).gif\n",
      "예측: rarity, 이미지: pony (128).jpg\n"
     ]
    },
    {
     "name": "stdout",
     "output_type": "stream",
     "text": [
      "예측: twilight sparkle, 이미지: pony (127).png\n",
      "예측: fluttershy, 이미지: pony (128).gif\n",
      "예측: rarity, 이미지: pony (128).jpg\n"
     ]
    },
    {
     "name": "stderr",
     "output_type": "stream",
     "text": [
      "예측: rarity, 이미지: pony (128).png\n",
      "예측: pinkie pie, 이미지: pony (129).gif\n",
      "예측: twilight sparkle, 이미지: pony (129).jpg\n"
     ]
    },
    {
     "name": "stdout",
     "output_type": "stream",
     "text": [
      "예측: rarity, 이미지: pony (128).png\n",
      "예측: pinkie pie, 이미지: pony (129).gif\n",
      "예측: twilight sparkle, 이미지: pony (129).jpg\n"
     ]
    },
    {
     "name": "stderr",
     "output_type": "stream",
     "text": [
      "예측: rarity, 이미지: pony (129).png\n",
      "예측: fluttershy, 이미지: pony (13).gif\n",
      "예측: twilight sparkle, 이미지: pony (13).jpeg\n"
     ]
    },
    {
     "name": "stdout",
     "output_type": "stream",
     "text": [
      "예측: rarity, 이미지: pony (129).png\n",
      "예측: fluttershy, 이미지: pony (13).gif\n",
      "예측: twilight sparkle, 이미지: pony (13).jpeg\n"
     ]
    },
    {
     "name": "stderr",
     "output_type": "stream",
     "text": [
      "예측: pinkie pie, 이미지: pony (13).jpg\n",
      "예측: applejack, 이미지: pony (13).png\n",
      "예측: rarity, 이미지: pony (130).gif\n"
     ]
    },
    {
     "name": "stdout",
     "output_type": "stream",
     "text": [
      "예측: pinkie pie, 이미지: pony (13).jpg\n",
      "예측: applejack, 이미지: pony (13).png\n"
     ]
    },
    {
     "name": "stderr",
     "output_type": "stream",
     "text": [
      "예측: applejack, 이미지: pony (130).jpg\n",
      "예측: twilight sparkle, 이미지: pony (130).png\n",
      "예측: twilight sparkle, 이미지: pony (131).gif\n"
     ]
    },
    {
     "name": "stdout",
     "output_type": "stream",
     "text": [
      "예측: rarity, 이미지: pony (130).gif\n",
      "예측: applejack, 이미지: pony (130).jpg\n",
      "예측: twilight sparkle, 이미지: pony (130).png\n",
      "예측: twilight sparkle, 이미지: pony (131).gif\n"
     ]
    },
    {
     "name": "stderr",
     "output_type": "stream",
     "text": [
      "예측: twilight sparkle, 이미지: pony (131).jpg\n",
      "예측: rarity, 이미지: pony (131).png\n",
      "예측: rainbow dash, 이미지: pony (132).gif\n",
      "예측: twilight sparkle, 이미지: pony (132).jpg\n"
     ]
    },
    {
     "name": "stdout",
     "output_type": "stream",
     "text": [
      "예측: twilight sparkle, 이미지: pony (131).jpg\n",
      "예측: rarity, 이미지: pony (131).png\n",
      "예측: rainbow dash, 이미지: pony (132).gif\n"
     ]
    },
    {
     "name": "stderr",
     "output_type": "stream",
     "text": [
      "예측: twilight sparkle, 이미지: pony (132).png\n",
      "예측: rarity, 이미지: pony (133).gif\n",
      "예측: twilight sparkle, 이미지: pony (133).jpg\n"
     ]
    },
    {
     "name": "stdout",
     "output_type": "stream",
     "text": [
      "예측: twilight sparkle, 이미지: pony (132).jpg\n",
      "예측: twilight sparkle, 이미지: pony (132).png\n",
      "예측: rarity, 이미지: pony (133).gif\n",
      "예측: twilight sparkle, 이미지: pony (133).jpg\n"
     ]
    },
    {
     "name": "stderr",
     "output_type": "stream",
     "text": [
      "예측: twilight sparkle, 이미지: pony (133).png\n",
      "예측: fluttershy, 이미지: pony (134).gif\n",
      "예측: twilight sparkle, 이미지: pony (134).jpg\n"
     ]
    },
    {
     "name": "stdout",
     "output_type": "stream",
     "text": [
      "예측: twilight sparkle, 이미지: pony (133).png\n",
      "예측: fluttershy, 이미지: pony (134).gif\n",
      "예측: twilight sparkle, 이미지: pony (134).jpg\n"
     ]
    },
    {
     "name": "stderr",
     "output_type": "stream",
     "text": [
      "예측: twilight sparkle, 이미지: pony (134).png\n",
      "예측: fluttershy, 이미지: pony (135).gif\n",
      "예측: pinkie pie, 이미지: pony (135).jpg\n"
     ]
    },
    {
     "name": "stdout",
     "output_type": "stream",
     "text": [
      "예측: twilight sparkle, 이미지: pony (134).png\n",
      "예측: fluttershy, 이미지: pony (135).gif\n",
      "예측: pinkie pie, 이미지: pony (135).jpg\n"
     ]
    },
    {
     "name": "stderr",
     "output_type": "stream",
     "text": [
      "예측: twilight sparkle, 이미지: pony (135).png\n",
      "예측: rarity, 이미지: pony (136).gif\n",
      "예측: pinkie pie, 이미지: pony (136).jpg\n",
      "예측: applejack, 이미지: pony (136).png\n",
      "예측: pinkie pie, 이미지: pony (137).gif\n",
      "예측: rarity, 이미지: pony (137).jpg\n"
     ]
    },
    {
     "name": "stdout",
     "output_type": "stream",
     "text": [
      "예측: twilight sparkle, 이미지: pony (135).png\n",
      "예측: rarity, 이미지: pony (136).gif\n",
      "예측: pinkie pie, 이미지: pony (136).jpg\n",
      "예측: applejack, 이미지: pony (136).png\n",
      "예측: pinkie pie, 이미지: pony (137).gif\n",
      "예측: rarity, 이미지: pony (137).jpg\n"
     ]
    },
    {
     "name": "stderr",
     "output_type": "stream",
     "text": [
      "예측: twilight sparkle, 이미지: pony (137).png\n",
      "예측: rainbow dash, 이미지: pony (138).gif\n",
      "예측: pinkie pie, 이미지: pony (138).jpg\n"
     ]
    },
    {
     "name": "stdout",
     "output_type": "stream",
     "text": [
      "예측: twilight sparkle, 이미지: pony (137).png\n",
      "예측: rainbow dash, 이미지: pony (138).gif\n",
      "예측: pinkie pie, 이미지: pony (138).jpg\n"
     ]
    },
    {
     "name": "stderr",
     "output_type": "stream",
     "text": [
      "예측: twilight sparkle, 이미지: pony (138).png\n",
      "예측: fluttershy, 이미지: pony (139).gif\n",
      "예측: pinkie pie, 이미지: pony (139).jpg\n",
      "예측: twilight sparkle, 이미지: pony (139).png\n"
     ]
    },
    {
     "name": "stdout",
     "output_type": "stream",
     "text": [
      "예측: twilight sparkle, 이미지: pony (138).png\n",
      "예측: fluttershy, 이미지: pony (139).gif\n",
      "예측: pinkie pie, 이미지: pony (139).jpg\n",
      "예측: twilight sparkle, 이미지: pony (139).png\n"
     ]
    },
    {
     "name": "stderr",
     "output_type": "stream",
     "text": [
      "예측: rainbow dash, 이미지: pony (14).gif\n",
      "예측: rarity, 이미지: pony (14).JPEG\n"
     ]
    },
    {
     "name": "stdout",
     "output_type": "stream",
     "text": [
      "예측: rainbow dash, 이미지: pony (14).gif\n",
      "예측: rarity, 이미지: pony (14).JPEG\n"
     ]
    },
    {
     "name": "stderr",
     "output_type": "stream",
     "text": [
      "예측: twilight sparkle, 이미지: pony (14).jpg\n",
      "예측: twilight sparkle, 이미지: pony (14).png\n",
      "예측: fluttershy, 이미지: pony (140).gif\n",
      "예측: rarity, 이미지: pony (140).jpg\n"
     ]
    },
    {
     "name": "stdout",
     "output_type": "stream",
     "text": [
      "예측: twilight sparkle, 이미지: pony (14).jpg\n",
      "예측: twilight sparkle, 이미지: pony (14).png\n",
      "예측: fluttershy, 이미지: pony (140).gif\n",
      "예측: rarity, 이미지: pony (140).jpg\n"
     ]
    },
    {
     "name": "stderr",
     "output_type": "stream",
     "text": [
      "예측: rarity, 이미지: pony (140).png\n",
      "예측: fluttershy, 이미지: pony (141).gif\n",
      "예측: rarity, 이미지: pony (141).jpg\n"
     ]
    },
    {
     "name": "stdout",
     "output_type": "stream",
     "text": [
      "예측: rarity, 이미지: pony (140).png\n",
      "예측: fluttershy, 이미지: pony (141).gif\n",
      "예측: rarity, 이미지: pony (141).jpg\n"
     ]
    },
    {
     "name": "stderr",
     "output_type": "stream",
     "text": [
      "예측: twilight sparkle, 이미지: pony (141).png\n",
      "예측: twilight sparkle, 이미지: pony (142).gif\n",
      "예측: applejack, 이미지: pony (142).jpg\n"
     ]
    },
    {
     "name": "stdout",
     "output_type": "stream",
     "text": [
      "예측: twilight sparkle, 이미지: pony (141).png\n",
      "예측: twilight sparkle, 이미지: pony (142).gif\n",
      "예측: applejack, 이미지: pony (142).jpg\n"
     ]
    },
    {
     "name": "stderr",
     "output_type": "stream",
     "text": [
      "예측: rarity, 이미지: pony (142).png\n",
      "예측: rainbow dash, 이미지: pony (143).gif\n",
      "예측: applejack, 이미지: pony (143).jpg\n",
      "예측: twilight sparkle, 이미지: pony (143).png\n"
     ]
    },
    {
     "name": "stdout",
     "output_type": "stream",
     "text": [
      "예측: rarity, 이미지: pony (142).png\n",
      "예측: rainbow dash, 이미지: pony (143).gif\n",
      "예측: applejack, 이미지: pony (143).jpg\n"
     ]
    },
    {
     "name": "stderr",
     "output_type": "stream",
     "text": [
      "예측: fluttershy, 이미지: pony (144).gif\n",
      "예측: twilight sparkle, 이미지: pony (144).jpg\n"
     ]
    },
    {
     "name": "stdout",
     "output_type": "stream",
     "text": [
      "예측: twilight sparkle, 이미지: pony (143).png\n",
      "예측: fluttershy, 이미지: pony (144).gif\n",
      "예측: twilight sparkle, 이미지: pony (144).jpg\n"
     ]
    },
    {
     "name": "stderr",
     "output_type": "stream",
     "text": [
      "예측: twilight sparkle, 이미지: pony (144).png\n",
      "예측: rarity, 이미지: pony (145).gif\n",
      "예측: applejack, 이미지: pony (145).jpg\n"
     ]
    },
    {
     "name": "stdout",
     "output_type": "stream",
     "text": [
      "예측: twilight sparkle, 이미지: pony (144).png\n",
      "예측: rarity, 이미지: pony (145).gif\n",
      "예측: applejack, 이미지: pony (145).jpg\n"
     ]
    },
    {
     "name": "stderr",
     "output_type": "stream",
     "text": [
      "예측: rarity, 이미지: pony (145).png\n",
      "예측: fluttershy, 이미지: pony (146).gif\n",
      "예측: rainbow dash, 이미지: pony (146).jpg\n"
     ]
    },
    {
     "name": "stdout",
     "output_type": "stream",
     "text": [
      "예측: rarity, 이미지: pony (145).png\n",
      "예측: fluttershy, 이미지: pony (146).gif\n",
      "예측: rainbow dash, 이미지: pony (146).jpg\n"
     ]
    },
    {
     "name": "stderr",
     "output_type": "stream",
     "text": [
      "예측: rainbow dash, 이미지: pony (146).png\n",
      "예측: fluttershy, 이미지: pony (147).gif\n",
      "예측: fluttershy, 이미지: pony (147).jpg\n",
      "예측: twilight sparkle, 이미지: pony (147).png\n",
      "예측: twilight sparkle, 이미지: pony (148).gif\n"
     ]
    },
    {
     "name": "stdout",
     "output_type": "stream",
     "text": [
      "예측: rainbow dash, 이미지: pony (146).png\n",
      "예측: fluttershy, 이미지: pony (147).gif\n",
      "예측: fluttershy, 이미지: pony (147).jpg\n",
      "예측: twilight sparkle, 이미지: pony (147).png\n",
      "예측: twilight sparkle, 이미지: pony (148).gif\n"
     ]
    },
    {
     "name": "stderr",
     "output_type": "stream",
     "text": [
      "예측: fluttershy, 이미지: pony (148).jpg\n",
      "예측: pinkie pie, 이미지: pony (148).png\n",
      "예측: twilight sparkle, 이미지: pony (149).gif\n",
      "예측: pinkie pie, 이미지: pony (149).jpg\n",
      "예측: rainbow dash, 이미지: pony (149).png\n"
     ]
    },
    {
     "name": "stdout",
     "output_type": "stream",
     "text": [
      "예측: fluttershy, 이미지: pony (148).jpg\n",
      "예측: pinkie pie, 이미지: pony (148).png\n",
      "예측: twilight sparkle, 이미지: pony (149).gif\n",
      "예측: pinkie pie, 이미지: pony (149).jpg\n",
      "예측: rainbow dash, 이미지: pony (149).png\n"
     ]
    },
    {
     "name": "stderr",
     "output_type": "stream",
     "text": [
      "예측: twilight sparkle, 이미지: pony (15).gif\n",
      "예측: fluttershy, 이미지: pony (15).JPEG\n"
     ]
    },
    {
     "name": "stdout",
     "output_type": "stream",
     "text": [
      "예측: twilight sparkle, 이미지: pony (15).gif\n",
      "예측: fluttershy, 이미지: pony (15).JPEG\n"
     ]
    },
    {
     "name": "stderr",
     "output_type": "stream",
     "text": [
      "예측: rarity, 이미지: pony (15).jpg\n"
     ]
    },
    {
     "name": "stdout",
     "output_type": "stream",
     "text": [
      "예측: rarity, 이미지: pony (15).jpg\n"
     ]
    },
    {
     "name": "stderr",
     "output_type": "stream",
     "text": [
      "예측: rarity, 이미지: pony (15).png\n",
      "예측: twilight sparkle, 이미지: pony (150).gif\n",
      "예측: twilight sparkle, 이미지: pony (150).jpg\n",
      "예측: twilight sparkle, 이미지: pony (150).png\n",
      "예측: pinkie pie, 이미지: pony (151).gif\n"
     ]
    },
    {
     "name": "stdout",
     "output_type": "stream",
     "text": [
      "예측: rarity, 이미지: pony (15).png\n",
      "예측: twilight sparkle, 이미지: pony (150).gif\n",
      "예측: twilight sparkle, 이미지: pony (150).jpg\n",
      "예측: twilight sparkle, 이미지: pony (150).png\n",
      "예측: pinkie pie, 이미지: pony (151).gif\n"
     ]
    },
    {
     "name": "stderr",
     "output_type": "stream",
     "text": [
      "예측: fluttershy, 이미지: pony (151).jpg\n",
      "예측: twilight sparkle, 이미지: pony (151).png\n",
      "예측: rainbow dash, 이미지: pony (152).gif\n",
      "예측: fluttershy, 이미지: pony (152).jpg\n"
     ]
    },
    {
     "name": "stdout",
     "output_type": "stream",
     "text": [
      "예측: fluttershy, 이미지: pony (151).jpg\n",
      "예측: twilight sparkle, 이미지: pony (151).png\n",
      "예측: rainbow dash, 이미지: pony (152).gif\n",
      "예측: fluttershy, 이미지: pony (152).jpg\n"
     ]
    },
    {
     "name": "stderr",
     "output_type": "stream",
     "text": [
      "예측: twilight sparkle, 이미지: pony (152).png\n",
      "예측: twilight sparkle, 이미지: pony (153).gif\n",
      "예측: rarity, 이미지: pony (153).jpg\n",
      "예측: twilight sparkle, 이미지: pony (153).png\n",
      "예측: twilight sparkle, 이미지: pony (154).gif\n"
     ]
    },
    {
     "name": "stdout",
     "output_type": "stream",
     "text": [
      "예측: twilight sparkle, 이미지: pony (152).png\n",
      "예측: twilight sparkle, 이미지: pony (153).gif\n",
      "예측: rarity, 이미지: pony (153).jpg\n",
      "예측: twilight sparkle, 이미지: pony (153).png\n",
      "예측: twilight sparkle, 이미지: pony (154).gif\n"
     ]
    },
    {
     "name": "stderr",
     "output_type": "stream",
     "text": [
      "예측: twilight sparkle, 이미지: pony (154).jpg\n",
      "예측: fluttershy, 이미지: pony (154).png\n",
      "예측: rarity, 이미지: pony (155).gif\n",
      "예측: fluttershy, 이미지: pony (155).jpg\n",
      "예측: applejack, 이미지: pony (155).png\n"
     ]
    },
    {
     "name": "stdout",
     "output_type": "stream",
     "text": [
      "예측: twilight sparkle, 이미지: pony (154).jpg\n",
      "예측: fluttershy, 이미지: pony (154).png\n",
      "예측: rarity, 이미지: pony (155).gif\n",
      "예측: fluttershy, 이미지: pony (155).jpg\n"
     ]
    },
    {
     "name": "stderr",
     "output_type": "stream",
     "text": [
      "예측: rarity, 이미지: pony (156).gif\n",
      "예측: rainbow dash, 이미지: pony (156).jpg\n",
      "예측: pinkie pie, 이미지: pony (156).png\n"
     ]
    },
    {
     "name": "stdout",
     "output_type": "stream",
     "text": [
      "예측: applejack, 이미지: pony (155).png\n",
      "예측: rarity, 이미지: pony (156).gif\n",
      "예측: rainbow dash, 이미지: pony (156).jpg\n",
      "예측: pinkie pie, 이미지: pony (156).png\n"
     ]
    },
    {
     "name": "stderr",
     "output_type": "stream",
     "text": [
      "예측: twilight sparkle, 이미지: pony (157).gif\n",
      "예측: pinkie pie, 이미지: pony (157).jpg\n",
      "예측: rainbow dash, 이미지: pony (157).png\n",
      "예측: twilight sparkle, 이미지: pony (158).gif\n"
     ]
    },
    {
     "name": "stdout",
     "output_type": "stream",
     "text": [
      "예측: twilight sparkle, 이미지: pony (157).gif\n",
      "예측: pinkie pie, 이미지: pony (157).jpg\n",
      "예측: rainbow dash, 이미지: pony (157).png\n",
      "예측: twilight sparkle, 이미지: pony (158).gif\n"
     ]
    },
    {
     "name": "stderr",
     "output_type": "stream",
     "text": [
      "예측: fluttershy, 이미지: pony (158).jpg\n",
      "예측: applejack, 이미지: pony (158).png\n",
      "예측: pinkie pie, 이미지: pony (159).gif\n",
      "예측: rainbow dash, 이미지: pony (159).jpg\n",
      "예측: pinkie pie, 이미지: pony (159).png\n"
     ]
    },
    {
     "name": "stdout",
     "output_type": "stream",
     "text": [
      "예측: fluttershy, 이미지: pony (158).jpg\n",
      "예측: applejack, 이미지: pony (158).png\n",
      "예측: pinkie pie, 이미지: pony (159).gif\n",
      "예측: rainbow dash, 이미지: pony (159).jpg\n"
     ]
    },
    {
     "name": "stderr",
     "output_type": "stream",
     "text": [
      "예측: twilight sparkle, 이미지: pony (16).gif\n",
      "예측: fluttershy, 이미지: pony (16).JPEG\n"
     ]
    },
    {
     "name": "stdout",
     "output_type": "stream",
     "text": [
      "예측: pinkie pie, 이미지: pony (159).png\n",
      "예측: twilight sparkle, 이미지: pony (16).gif\n",
      "예측: fluttershy, 이미지: pony (16).JPEG\n"
     ]
    },
    {
     "name": "stderr",
     "output_type": "stream",
     "text": [
      "예측: twilight sparkle, 이미지: pony (16).jpg\n"
     ]
    },
    {
     "name": "stdout",
     "output_type": "stream",
     "text": [
      "예측: twilight sparkle, 이미지: pony (16).jpg\n"
     ]
    },
    {
     "name": "stderr",
     "output_type": "stream",
     "text": [
      "예측: fluttershy, 이미지: pony (16).png\n",
      "예측: rainbow dash, 이미지: pony (160).gif\n",
      "예측: pinkie pie, 이미지: pony (160).jpg\n",
      "예측: fluttershy, 이미지: pony (160).png\n",
      "예측: twilight sparkle, 이미지: pony (161).gif\n",
      "예측: twilight sparkle, 이미지: pony (161).jpg\n"
     ]
    },
    {
     "name": "stdout",
     "output_type": "stream",
     "text": [
      "예측: fluttershy, 이미지: pony (16).png\n",
      "예측: rainbow dash, 이미지: pony (160).gif\n",
      "예측: pinkie pie, 이미지: pony (160).jpg\n",
      "예측: fluttershy, 이미지: pony (160).png\n",
      "예측: twilight sparkle, 이미지: pony (161).gif\n"
     ]
    },
    {
     "name": "stderr",
     "output_type": "stream",
     "text": [
      "c:\\Users\\sando\\AppData\\Local\\Programs\\Python\\Python311\\Lib\\site-packages\\PIL\\Image.py:992: UserWarning: Palette images with Transparency expressed in bytes should be converted to RGBA images\n",
      "  warnings.warn(\n",
      "예측: fluttershy, 이미지: pony (161).png\n",
      "예측: rainbow dash, 이미지: pony (162).gif\n",
      "예측: applejack, 이미지: pony (162).jpg\n",
      "예측: rarity, 이미지: pony (162).png\n",
      "예측: pinkie pie, 이미지: pony (163).gif\n"
     ]
    },
    {
     "name": "stdout",
     "output_type": "stream",
     "text": [
      "예측: twilight sparkle, 이미지: pony (161).jpg\n",
      "예측: fluttershy, 이미지: pony (161).png\n",
      "예측: rainbow dash, 이미지: pony (162).gif\n",
      "예측: applejack, 이미지: pony (162).jpg\n",
      "예측: rarity, 이미지: pony (162).png\n"
     ]
    },
    {
     "name": "stderr",
     "output_type": "stream",
     "text": [
      "예측: fluttershy, 이미지: pony (163).jpg\n",
      "예측: twilight sparkle, 이미지: pony (163).png\n"
     ]
    },
    {
     "name": "stdout",
     "output_type": "stream",
     "text": [
      "예측: pinkie pie, 이미지: pony (163).gif\n",
      "예측: fluttershy, 이미지: pony (163).jpg\n"
     ]
    },
    {
     "name": "stderr",
     "output_type": "stream",
     "text": [
      "예측: pinkie pie, 이미지: pony (164).gif\n",
      "예측: rainbow dash, 이미지: pony (164).jpg\n",
      "예측: fluttershy, 이미지: pony (164).png\n",
      "예측: rarity, 이미지: pony (165).gif\n"
     ]
    },
    {
     "name": "stdout",
     "output_type": "stream",
     "text": [
      "예측: twilight sparkle, 이미지: pony (163).png\n",
      "예측: pinkie pie, 이미지: pony (164).gif\n",
      "예측: rainbow dash, 이미지: pony (164).jpg\n",
      "예측: fluttershy, 이미지: pony (164).png\n",
      "예측: rarity, 이미지: pony (165).gif\n"
     ]
    },
    {
     "name": "stderr",
     "output_type": "stream",
     "text": [
      "예측: applejack, 이미지: pony (165).jpg\n",
      "예측: rainbow dash, 이미지: pony (165).png\n",
      "예측: rainbow dash, 이미지: pony (166).gif\n",
      "예측: rarity, 이미지: pony (166).jpg\n",
      "예측: rainbow dash, 이미지: pony (166).png\n"
     ]
    },
    {
     "name": "stdout",
     "output_type": "stream",
     "text": [
      "예측: applejack, 이미지: pony (165).jpg\n",
      "예측: rainbow dash, 이미지: pony (165).png\n",
      "예측: rainbow dash, 이미지: pony (166).gif\n",
      "예측: rarity, 이미지: pony (166).jpg\n"
     ]
    },
    {
     "name": "stderr",
     "output_type": "stream",
     "text": [
      "예측: applejack, 이미지: pony (167).gif\n",
      "예측: twilight sparkle, 이미지: pony (167).jpg\n",
      "예측: twilight sparkle, 이미지: pony (167).png\n",
      "예측: rainbow dash, 이미지: pony (168).gif\n"
     ]
    },
    {
     "name": "stdout",
     "output_type": "stream",
     "text": [
      "예측: rainbow dash, 이미지: pony (166).png\n",
      "예측: applejack, 이미지: pony (167).gif\n",
      "예측: twilight sparkle, 이미지: pony (167).jpg\n",
      "예측: twilight sparkle, 이미지: pony (167).png\n",
      "예측: rainbow dash, 이미지: pony (168).gif\n"
     ]
    },
    {
     "name": "stderr",
     "output_type": "stream",
     "text": [
      "예측: pinkie pie, 이미지: pony (168).jpg\n",
      "예측: rarity, 이미지: pony (168).png\n",
      "예측: rarity, 이미지: pony (169).gif\n",
      "예측: rarity, 이미지: pony (169).jpg\n"
     ]
    },
    {
     "name": "stdout",
     "output_type": "stream",
     "text": [
      "예측: pinkie pie, 이미지: pony (168).jpg\n",
      "예측: rarity, 이미지: pony (168).png\n",
      "예측: rarity, 이미지: pony (169).gif\n",
      "예측: rarity, 이미지: pony (169).jpg\n"
     ]
    },
    {
     "name": "stderr",
     "output_type": "stream",
     "text": [
      "예측: applejack, 이미지: pony (169).png\n",
      "예측: twilight sparkle, 이미지: pony (17).gif\n",
      "예측: twilight sparkle, 이미지: pony (17).jpg\n"
     ]
    },
    {
     "name": "stdout",
     "output_type": "stream",
     "text": [
      "예측: applejack, 이미지: pony (169).png\n",
      "예측: twilight sparkle, 이미지: pony (17).gif\n",
      "예측: twilight sparkle, 이미지: pony (17).jpg\n"
     ]
    },
    {
     "name": "stderr",
     "output_type": "stream",
     "text": [
      "예측: rarity, 이미지: pony (17).png\n",
      "예측: twilight sparkle, 이미지: pony (170).gif\n",
      "예측: twilight sparkle, 이미지: pony (170).jpg\n",
      "예측: fluttershy, 이미지: pony (170).png\n",
      "예측: pinkie pie, 이미지: pony (171).gif\n"
     ]
    },
    {
     "name": "stdout",
     "output_type": "stream",
     "text": [
      "예측: rarity, 이미지: pony (17).png\n",
      "예측: twilight sparkle, 이미지: pony (170).gif\n",
      "예측: twilight sparkle, 이미지: pony (170).jpg\n",
      "예측: fluttershy, 이미지: pony (170).png\n",
      "예측: pinkie pie, 이미지: pony (171).gif\n"
     ]
    },
    {
     "name": "stderr",
     "output_type": "stream",
     "text": [
      "예측: twilight sparkle, 이미지: pony (171).jpg\n",
      "예측: rainbow dash, 이미지: pony (171).png\n",
      "예측: twilight sparkle, 이미지: pony (172).gif\n",
      "예측: rarity, 이미지: pony (172).jpg\n"
     ]
    },
    {
     "name": "stdout",
     "output_type": "stream",
     "text": [
      "예측: twilight sparkle, 이미지: pony (171).jpg\n",
      "예측: rainbow dash, 이미지: pony (171).png\n",
      "예측: twilight sparkle, 이미지: pony (172).gif\n",
      "예측: rarity, 이미지: pony (172).jpg\n"
     ]
    },
    {
     "name": "stderr",
     "output_type": "stream",
     "text": [
      "예측: applejack, 이미지: pony (172).png\n",
      "예측: twilight sparkle, 이미지: pony (173).gif\n",
      "예측: twilight sparkle, 이미지: pony (173).jpg\n",
      "예측: fluttershy, 이미지: pony (173).png\n",
      "예측: twilight sparkle, 이미지: pony (174).gif\n"
     ]
    },
    {
     "name": "stdout",
     "output_type": "stream",
     "text": [
      "예측: applejack, 이미지: pony (172).png\n",
      "예측: twilight sparkle, 이미지: pony (173).gif\n",
      "예측: twilight sparkle, 이미지: pony (173).jpg\n",
      "예측: fluttershy, 이미지: pony (173).png\n",
      "예측: twilight sparkle, 이미지: pony (174).gif\n"
     ]
    },
    {
     "name": "stderr",
     "output_type": "stream",
     "text": [
      "예측: applejack, 이미지: pony (174).jpg\n",
      "예측: pinkie pie, 이미지: pony (174).png\n",
      "예측: twilight sparkle, 이미지: pony (175).gif\n",
      "예측: fluttershy, 이미지: pony (175).jpg\n"
     ]
    },
    {
     "name": "stdout",
     "output_type": "stream",
     "text": [
      "예측: applejack, 이미지: pony (174).jpg\n",
      "예측: pinkie pie, 이미지: pony (174).png\n",
      "예측: twilight sparkle, 이미지: pony (175).gif\n",
      "예측: fluttershy, 이미지: pony (175).jpg\n"
     ]
    },
    {
     "name": "stderr",
     "output_type": "stream",
     "text": [
      "예측: pinkie pie, 이미지: pony (175).png\n",
      "예측: twilight sparkle, 이미지: pony (176).gif\n",
      "예측: pinkie pie, 이미지: pony (176).jpg\n",
      "예측: rainbow dash, 이미지: pony (176).png\n",
      "예측: twilight sparkle, 이미지: pony (177).gif\n"
     ]
    },
    {
     "name": "stdout",
     "output_type": "stream",
     "text": [
      "예측: pinkie pie, 이미지: pony (175).png\n",
      "예측: twilight sparkle, 이미지: pony (176).gif\n",
      "예측: pinkie pie, 이미지: pony (176).jpg\n",
      "예측: rainbow dash, 이미지: pony (176).png\n",
      "예측: twilight sparkle, 이미지: pony (177).gif\n"
     ]
    },
    {
     "name": "stderr",
     "output_type": "stream",
     "text": [
      "예측: twilight sparkle, 이미지: pony (177).jpg\n",
      "예측: pinkie pie, 이미지: pony (177).png\n",
      "예측: rainbow dash, 이미지: pony (178).gif\n",
      "예측: twilight sparkle, 이미지: pony (178).jpg\n",
      "예측: twilight sparkle, 이미지: pony (178).png\n",
      "예측: fluttershy, 이미지: pony (179).gif\n"
     ]
    },
    {
     "name": "stdout",
     "output_type": "stream",
     "text": [
      "예측: twilight sparkle, 이미지: pony (177).jpg\n",
      "예측: pinkie pie, 이미지: pony (177).png\n",
      "예측: rainbow dash, 이미지: pony (178).gif\n",
      "예측: twilight sparkle, 이미지: pony (178).jpg\n",
      "예측: twilight sparkle, 이미지: pony (178).png\n",
      "예측: fluttershy, 이미지: pony (179).gif\n"
     ]
    },
    {
     "name": "stderr",
     "output_type": "stream",
     "text": [
      "예측: applejack, 이미지: pony (179).jpg\n",
      "예측: fluttershy, 이미지: pony (179).png\n",
      "예측: rarity, 이미지: pony (18).gif\n",
      "예측: twilight sparkle, 이미지: pony (18).jpg\n"
     ]
    },
    {
     "name": "stdout",
     "output_type": "stream",
     "text": [
      "예측: applejack, 이미지: pony (179).jpg\n",
      "예측: fluttershy, 이미지: pony (179).png\n",
      "예측: rarity, 이미지: pony (18).gif\n",
      "예측: twilight sparkle, 이미지: pony (18).jpg\n"
     ]
    },
    {
     "name": "stderr",
     "output_type": "stream",
     "text": [
      "예측: rarity, 이미지: pony (18).png\n",
      "예측: rainbow dash, 이미지: pony (180).gif\n",
      "예측: fluttershy, 이미지: pony (180).jpg\n",
      "예측: fluttershy, 이미지: pony (180).png\n",
      "예측: applejack, 이미지: pony (181).gif\n"
     ]
    },
    {
     "name": "stdout",
     "output_type": "stream",
     "text": [
      "예측: rarity, 이미지: pony (18).png\n",
      "예측: rainbow dash, 이미지: pony (180).gif\n",
      "예측: fluttershy, 이미지: pony (180).jpg\n",
      "예측: fluttershy, 이미지: pony (180).png\n",
      "예측: applejack, 이미지: pony (181).gif\n"
     ]
    },
    {
     "name": "stderr",
     "output_type": "stream",
     "text": [
      "예측: applejack, 이미지: pony (181).jpg\n",
      "예측: applejack, 이미지: pony (181).png\n",
      "예측: twilight sparkle, 이미지: pony (182).gif\n",
      "예측: twilight sparkle, 이미지: pony (182).jpg\n"
     ]
    },
    {
     "name": "stdout",
     "output_type": "stream",
     "text": [
      "예측: applejack, 이미지: pony (181).jpg\n",
      "예측: applejack, 이미지: pony (181).png\n",
      "예측: twilight sparkle, 이미지: pony (182).gif\n",
      "예측: twilight sparkle, 이미지: pony (182).jpg\n"
     ]
    },
    {
     "name": "stderr",
     "output_type": "stream",
     "text": [
      "예측: twilight sparkle, 이미지: pony (182).png\n",
      "예측: twilight sparkle, 이미지: pony (183).gif\n",
      "예측: twilight sparkle, 이미지: pony (183).jpg\n",
      "예측: applejack, 이미지: pony (183).png\n",
      "예측: rarity, 이미지: pony (184).gif\n"
     ]
    },
    {
     "name": "stdout",
     "output_type": "stream",
     "text": [
      "예측: twilight sparkle, 이미지: pony (182).png\n",
      "예측: twilight sparkle, 이미지: pony (183).gif\n",
      "예측: twilight sparkle, 이미지: pony (183).jpg\n",
      "예측: applejack, 이미지: pony (183).png\n",
      "예측: rarity, 이미지: pony (184).gif\n"
     ]
    },
    {
     "name": "stderr",
     "output_type": "stream",
     "text": [
      "예측: twilight sparkle, 이미지: pony (184).jpg\n",
      "예측: applejack, 이미지: pony (184).png\n",
      "예측: rarity, 이미지: pony (185).gif\n",
      "예측: rarity, 이미지: pony (185).jpg\n",
      "예측: fluttershy, 이미지: pony (185).png\n"
     ]
    },
    {
     "name": "stdout",
     "output_type": "stream",
     "text": [
      "예측: twilight sparkle, 이미지: pony (184).jpg\n",
      "예측: applejack, 이미지: pony (184).png\n",
      "예측: rarity, 이미지: pony (185).gif\n",
      "예측: rarity, 이미지: pony (185).jpg\n"
     ]
    },
    {
     "name": "stderr",
     "output_type": "stream",
     "text": [
      "예측: pinkie pie, 이미지: pony (186).gif\n",
      "예측: twilight sparkle, 이미지: pony (186).jpg\n",
      "예측: rarity, 이미지: pony (186).png\n",
      "예측: twilight sparkle, 이미지: pony (187).gif\n"
     ]
    },
    {
     "name": "stdout",
     "output_type": "stream",
     "text": [
      "예측: fluttershy, 이미지: pony (185).png\n",
      "예측: pinkie pie, 이미지: pony (186).gif\n",
      "예측: twilight sparkle, 이미지: pony (186).jpg\n",
      "예측: rarity, 이미지: pony (186).png\n",
      "예측: twilight sparkle, 이미지: pony (187).gif\n"
     ]
    },
    {
     "name": "stderr",
     "output_type": "stream",
     "text": [
      "예측: pinkie pie, 이미지: pony (187).jpg\n",
      "예측: pinkie pie, 이미지: pony (187).png\n",
      "예측: rarity, 이미지: pony (188).gif\n",
      "예측: rarity, 이미지: pony (188).jpg\n"
     ]
    },
    {
     "name": "stdout",
     "output_type": "stream",
     "text": [
      "예측: pinkie pie, 이미지: pony (187).jpg\n",
      "예측: pinkie pie, 이미지: pony (187).png\n",
      "예측: rarity, 이미지: pony (188).gif\n",
      "예측: rarity, 이미지: pony (188).jpg\n"
     ]
    },
    {
     "name": "stderr",
     "output_type": "stream",
     "text": [
      "예측: pinkie pie, 이미지: pony (188).png\n",
      "예측: pinkie pie, 이미지: pony (189).gif\n",
      "예측: fluttershy, 이미지: pony (189).jpg\n",
      "예측: rainbow dash, 이미지: pony (189).png\n"
     ]
    },
    {
     "name": "stdout",
     "output_type": "stream",
     "text": [
      "예측: pinkie pie, 이미지: pony (188).png\n",
      "예측: pinkie pie, 이미지: pony (189).gif\n",
      "예측: fluttershy, 이미지: pony (189).jpg\n",
      "예측: rainbow dash, 이미지: pony (189).png\n"
     ]
    },
    {
     "name": "stderr",
     "output_type": "stream",
     "text": [
      "예측: twilight sparkle, 이미지: pony (19).gif\n",
      "예측: rainbow dash, 이미지: pony (19).jpg\n"
     ]
    },
    {
     "name": "stdout",
     "output_type": "stream",
     "text": [
      "예측: twilight sparkle, 이미지: pony (19).gif\n",
      "예측: rainbow dash, 이미지: pony (19).jpg\n"
     ]
    },
    {
     "name": "stderr",
     "output_type": "stream",
     "text": [
      "예측: rarity, 이미지: pony (19).png\n",
      "예측: pinkie pie, 이미지: pony (190).gif\n",
      "예측: twilight sparkle, 이미지: pony (190).jpg\n",
      "예측: twilight sparkle, 이미지: pony (190).png\n",
      "예측: rarity, 이미지: pony (191).gif\n"
     ]
    },
    {
     "name": "stdout",
     "output_type": "stream",
     "text": [
      "예측: rarity, 이미지: pony (19).png\n",
      "예측: pinkie pie, 이미지: pony (190).gif\n",
      "예측: twilight sparkle, 이미지: pony (190).jpg\n",
      "예측: twilight sparkle, 이미지: pony (190).png\n"
     ]
    },
    {
     "name": "stderr",
     "output_type": "stream",
     "text": [
      "예측: twilight sparkle, 이미지: pony (191).jpg\n",
      "예측: rainbow dash, 이미지: pony (191).png\n"
     ]
    },
    {
     "name": "stdout",
     "output_type": "stream",
     "text": [
      "예측: rarity, 이미지: pony (191).gif\n",
      "예측: twilight sparkle, 이미지: pony (191).jpg\n",
      "예측: rainbow dash, 이미지: pony (191).png\n"
     ]
    },
    {
     "name": "stderr",
     "output_type": "stream",
     "text": [
      "예측: rainbow dash, 이미지: pony (192).gif\n",
      "예측: rarity, 이미지: pony (192).jpg\n",
      "예측: fluttershy, 이미지: pony (192).png\n",
      "예측: rainbow dash, 이미지: pony (193).gif\n",
      "예측: twilight sparkle, 이미지: pony (193).jpg\n",
      "예측: pinkie pie, 이미지: pony (193).png\n"
     ]
    },
    {
     "name": "stdout",
     "output_type": "stream",
     "text": [
      "예측: rainbow dash, 이미지: pony (192).gif\n",
      "예측: rarity, 이미지: pony (192).jpg\n",
      "예측: fluttershy, 이미지: pony (192).png\n",
      "예측: rainbow dash, 이미지: pony (193).gif\n",
      "예측: twilight sparkle, 이미지: pony (193).jpg\n"
     ]
    },
    {
     "name": "stderr",
     "output_type": "stream",
     "text": [
      "예측: rarity, 이미지: pony (194).gif\n",
      "예측: twilight sparkle, 이미지: pony (194).jpg\n",
      "예측: pinkie pie, 이미지: pony (194).png\n",
      "예측: twilight sparkle, 이미지: pony (195).gif\n"
     ]
    },
    {
     "name": "stdout",
     "output_type": "stream",
     "text": [
      "예측: pinkie pie, 이미지: pony (193).png\n",
      "예측: rarity, 이미지: pony (194).gif\n",
      "예측: twilight sparkle, 이미지: pony (194).jpg\n",
      "예측: pinkie pie, 이미지: pony (194).png\n",
      "예측: twilight sparkle, 이미지: pony (195).gif\n"
     ]
    },
    {
     "name": "stderr",
     "output_type": "stream",
     "text": [
      "예측: rarity, 이미지: pony (195).jpg\n",
      "예측: fluttershy, 이미지: pony (195).png\n",
      "예측: twilight sparkle, 이미지: pony (196).gif\n",
      "예측: rarity, 이미지: pony (196).jpg\n"
     ]
    },
    {
     "name": "stdout",
     "output_type": "stream",
     "text": [
      "예측: rarity, 이미지: pony (195).jpg\n",
      "예측: fluttershy, 이미지: pony (195).png\n",
      "예측: twilight sparkle, 이미지: pony (196).gif\n",
      "예측: rarity, 이미지: pony (196).jpg\n"
     ]
    },
    {
     "name": "stderr",
     "output_type": "stream",
     "text": [
      "예측: pinkie pie, 이미지: pony (196).png\n",
      "예측: applejack, 이미지: pony (197).gif\n",
      "예측: fluttershy, 이미지: pony (197).jpg\n",
      "예측: fluttershy, 이미지: pony (197).png\n",
      "예측: rainbow dash, 이미지: pony (198).gif\n"
     ]
    },
    {
     "name": "stdout",
     "output_type": "stream",
     "text": [
      "예측: pinkie pie, 이미지: pony (196).png\n",
      "예측: applejack, 이미지: pony (197).gif\n",
      "예측: fluttershy, 이미지: pony (197).jpg\n",
      "예측: fluttershy, 이미지: pony (197).png\n",
      "예측: rainbow dash, 이미지: pony (198).gif\n"
     ]
    },
    {
     "name": "stderr",
     "output_type": "stream",
     "text": [
      "예측: rarity, 이미지: pony (198).jpg\n",
      "예측: rainbow dash, 이미지: pony (198).png\n",
      "예측: fluttershy, 이미지: pony (199).gif\n",
      "예측: rarity, 이미지: pony (199).jpg\n",
      "예측: fluttershy, 이미지: pony (199).png\n"
     ]
    },
    {
     "name": "stdout",
     "output_type": "stream",
     "text": [
      "예측: rarity, 이미지: pony (198).jpg\n",
      "예측: rainbow dash, 이미지: pony (198).png\n",
      "예측: fluttershy, 이미지: pony (199).gif\n",
      "예측: rarity, 이미지: pony (199).jpg\n"
     ]
    },
    {
     "name": "stderr",
     "output_type": "stream",
     "text": [
      "예측: twilight sparkle, 이미지: pony (2).gif\n",
      "예측: rarity, 이미지: pony (2).jpeg\n",
      "예측: rarity, 이미지: pony (2).jpg\n"
     ]
    },
    {
     "name": "stdout",
     "output_type": "stream",
     "text": [
      "예측: fluttershy, 이미지: pony (199).png\n",
      "예측: twilight sparkle, 이미지: pony (2).gif\n",
      "예측: rarity, 이미지: pony (2).jpeg\n",
      "예측: rarity, 이미지: pony (2).jpg\n"
     ]
    },
    {
     "name": "stderr",
     "output_type": "stream",
     "text": [
      "예측: pinkie pie, 이미지: pony (2).png\n",
      "예측: rarity, 이미지: pony (2).webp\n",
      "예측: rainbow dash, 이미지: pony (20).gif\n"
     ]
    },
    {
     "name": "stdout",
     "output_type": "stream",
     "text": [
      "예측: pinkie pie, 이미지: pony (2).png\n",
      "예측: rarity, 이미지: pony (2).webp\n",
      "예측: rainbow dash, 이미지: pony (20).gif\n"
     ]
    },
    {
     "name": "stderr",
     "output_type": "stream",
     "text": [
      "예측: twilight sparkle, 이미지: pony (20).jpg\n",
      "예측: rainbow dash, 이미지: pony (20).png\n"
     ]
    },
    {
     "name": "stdout",
     "output_type": "stream",
     "text": [
      "예측: twilight sparkle, 이미지: pony (20).jpg\n",
      "예측: rainbow dash, 이미지: pony (20).png\n"
     ]
    },
    {
     "name": "stderr",
     "output_type": "stream",
     "text": [
      "예측: rainbow dash, 이미지: pony (200).gif\n",
      "예측: rarity, 이미지: pony (200).jpg\n",
      "예측: twilight sparkle, 이미지: pony (200).png\n",
      "예측: pinkie pie, 이미지: pony (201).gif\n",
      "예측: rainbow dash, 이미지: pony (201).jpg\n"
     ]
    },
    {
     "name": "stdout",
     "output_type": "stream",
     "text": [
      "예측: rainbow dash, 이미지: pony (200).gif\n",
      "예측: rarity, 이미지: pony (200).jpg\n",
      "예측: twilight sparkle, 이미지: pony (200).png\n",
      "예측: pinkie pie, 이미지: pony (201).gif\n",
      "예측: rainbow dash, 이미지: pony (201).jpg\n"
     ]
    },
    {
     "name": "stderr",
     "output_type": "stream",
     "text": [
      "예측: pinkie pie, 이미지: pony (201).png\n",
      "예측: twilight sparkle, 이미지: pony (202).gif\n",
      "예측: twilight sparkle, 이미지: pony (202).jpg\n",
      "예측: fluttershy, 이미지: pony (202).png\n",
      "예측: applejack, 이미지: pony (203).gif\n",
      "예측: twilight sparkle, 이미지: pony (203).jpg\n"
     ]
    },
    {
     "name": "stdout",
     "output_type": "stream",
     "text": [
      "예측: pinkie pie, 이미지: pony (201).png\n",
      "예측: twilight sparkle, 이미지: pony (202).gif\n",
      "예측: twilight sparkle, 이미지: pony (202).jpg\n",
      "예측: fluttershy, 이미지: pony (202).png\n",
      "예측: applejack, 이미지: pony (203).gif\n"
     ]
    },
    {
     "name": "stderr",
     "output_type": "stream",
     "text": [
      "예측: rarity, 이미지: pony (203).png\n",
      "예측: rainbow dash, 이미지: pony (204).gif\n",
      "예측: pinkie pie, 이미지: pony (204).jpg\n"
     ]
    },
    {
     "name": "stdout",
     "output_type": "stream",
     "text": [
      "예측: twilight sparkle, 이미지: pony (203).jpg\n",
      "예측: rarity, 이미지: pony (203).png\n",
      "예측: rainbow dash, 이미지: pony (204).gif\n",
      "예측: pinkie pie, 이미지: pony (204).jpg\n"
     ]
    },
    {
     "name": "stderr",
     "output_type": "stream",
     "text": [
      "예측: rainbow dash, 이미지: pony (204).png\n",
      "예측: fluttershy, 이미지: pony (205).gif\n",
      "예측: applejack, 이미지: pony (205).jpg\n",
      "예측: pinkie pie, 이미지: pony (205).png\n"
     ]
    },
    {
     "name": "stdout",
     "output_type": "stream",
     "text": [
      "예측: rainbow dash, 이미지: pony (204).png\n",
      "예측: fluttershy, 이미지: pony (205).gif\n",
      "예측: applejack, 이미지: pony (205).jpg\n"
     ]
    },
    {
     "name": "stderr",
     "output_type": "stream",
     "text": [
      "예측: pinkie pie, 이미지: pony (206).gif\n",
      "예측: rarity, 이미지: pony (206).jpg\n",
      "예측: pinkie pie, 이미지: pony (206).png\n",
      "예측: rarity, 이미지: pony (207).gif\n",
      "예측: applejack, 이미지: pony (207).jpg\n"
     ]
    },
    {
     "name": "stdout",
     "output_type": "stream",
     "text": [
      "예측: pinkie pie, 이미지: pony (205).png\n",
      "예측: pinkie pie, 이미지: pony (206).gif\n",
      "예측: rarity, 이미지: pony (206).jpg\n",
      "예측: pinkie pie, 이미지: pony (206).png\n",
      "예측: rarity, 이미지: pony (207).gif\n"
     ]
    },
    {
     "name": "stderr",
     "output_type": "stream",
     "text": [
      "예측: rarity, 이미지: pony (207).png\n",
      "예측: pinkie pie, 이미지: pony (208).gif\n",
      "예측: rarity, 이미지: pony (208).jpg\n"
     ]
    },
    {
     "name": "stdout",
     "output_type": "stream",
     "text": [
      "예측: applejack, 이미지: pony (207).jpg\n",
      "예측: rarity, 이미지: pony (207).png\n",
      "예측: pinkie pie, 이미지: pony (208).gif\n",
      "예측: rarity, 이미지: pony (208).jpg\n"
     ]
    },
    {
     "name": "stderr",
     "output_type": "stream",
     "text": [
      "예측: twilight sparkle, 이미지: pony (208).png\n",
      "예측: fluttershy, 이미지: pony (209).gif\n",
      "예측: twilight sparkle, 이미지: pony (209).jpg\n",
      "예측: pinkie pie, 이미지: pony (209).png\n",
      "예측: rarity, 이미지: pony (21).gif\n"
     ]
    },
    {
     "name": "stdout",
     "output_type": "stream",
     "text": [
      "예측: twilight sparkle, 이미지: pony (208).png\n",
      "예측: fluttershy, 이미지: pony (209).gif\n",
      "예측: twilight sparkle, 이미지: pony (209).jpg\n",
      "예측: pinkie pie, 이미지: pony (209).png\n",
      "예측: rarity, 이미지: pony (21).gif\n"
     ]
    },
    {
     "name": "stderr",
     "output_type": "stream",
     "text": [
      "예측: rainbow dash, 이미지: pony (21).jpg\n",
      "예측: rarity, 이미지: pony (21).png\n",
      "예측: rainbow dash, 이미지: pony (210).gif\n"
     ]
    },
    {
     "name": "stdout",
     "output_type": "stream",
     "text": [
      "예측: rainbow dash, 이미지: pony (21).jpg\n",
      "예측: rarity, 이미지: pony (21).png\n"
     ]
    },
    {
     "name": "stderr",
     "output_type": "stream",
     "text": [
      "예측: applejack, 이미지: pony (210).jpg\n",
      "예측: fluttershy, 이미지: pony (210).png\n",
      "예측: rainbow dash, 이미지: pony (211).gif\n"
     ]
    },
    {
     "name": "stdout",
     "output_type": "stream",
     "text": [
      "예측: rainbow dash, 이미지: pony (210).gif\n",
      "예측: applejack, 이미지: pony (210).jpg\n",
      "예측: fluttershy, 이미지: pony (210).png\n"
     ]
    },
    {
     "name": "stderr",
     "output_type": "stream",
     "text": [
      "예측: twilight sparkle, 이미지: pony (211).jpg\n",
      "예측: twilight sparkle, 이미지: pony (211).png\n",
      "예측: twilight sparkle, 이미지: pony (212).gif\n"
     ]
    },
    {
     "name": "stdout",
     "output_type": "stream",
     "text": [
      "예측: rainbow dash, 이미지: pony (211).gif\n",
      "예측: twilight sparkle, 이미지: pony (211).jpg\n",
      "예측: twilight sparkle, 이미지: pony (211).png\n"
     ]
    },
    {
     "name": "stderr",
     "output_type": "stream",
     "text": [
      "예측: twilight sparkle, 이미지: pony (212).jpg\n",
      "예측: fluttershy, 이미지: pony (212).png\n",
      "예측: rainbow dash, 이미지: pony (213).gif\n"
     ]
    },
    {
     "name": "stdout",
     "output_type": "stream",
     "text": [
      "예측: twilight sparkle, 이미지: pony (212).gif\n",
      "예측: twilight sparkle, 이미지: pony (212).jpg\n",
      "예측: fluttershy, 이미지: pony (212).png\n",
      "예측: rainbow dash, 이미지: pony (213).gif\n"
     ]
    },
    {
     "name": "stderr",
     "output_type": "stream",
     "text": [
      "예측: applejack, 이미지: pony (213).jpg\n"
     ]
    },
    {
     "name": "stdout",
     "output_type": "stream",
     "text": [
      "예측: applejack, 이미지: pony (213).jpg\n"
     ]
    },
    {
     "name": "stderr",
     "output_type": "stream",
     "text": [
      "예측: twilight sparkle, 이미지: pony (213).png\n",
      "예측: fluttershy, 이미지: pony (214).gif\n",
      "예측: applejack, 이미지: pony (214).jpg\n",
      "예측: rainbow dash, 이미지: pony (214).png\n"
     ]
    },
    {
     "name": "stdout",
     "output_type": "stream",
     "text": [
      "예측: twilight sparkle, 이미지: pony (213).png\n",
      "예측: fluttershy, 이미지: pony (214).gif\n",
      "예측: applejack, 이미지: pony (214).jpg\n"
     ]
    },
    {
     "name": "stderr",
     "output_type": "stream",
     "text": [
      "예측: twilight sparkle, 이미지: pony (215).gif\n",
      "예측: applejack, 이미지: pony (215).jpg\n",
      "예측: fluttershy, 이미지: pony (215).png\n"
     ]
    },
    {
     "name": "stdout",
     "output_type": "stream",
     "text": [
      "예측: rainbow dash, 이미지: pony (214).png\n",
      "예측: twilight sparkle, 이미지: pony (215).gif\n",
      "예측: applejack, 이미지: pony (215).jpg\n",
      "예측: fluttershy, 이미지: pony (215).png\n"
     ]
    },
    {
     "name": "stderr",
     "output_type": "stream",
     "text": [
      "예측: twilight sparkle, 이미지: pony (216).gif\n",
      "예측: rarity, 이미지: pony (216).jpg\n",
      "예측: rainbow dash, 이미지: pony (216).png\n",
      "예측: rainbow dash, 이미지: pony (217).gif\n"
     ]
    },
    {
     "name": "stdout",
     "output_type": "stream",
     "text": [
      "예측: twilight sparkle, 이미지: pony (216).gif\n",
      "예측: rarity, 이미지: pony (216).jpg\n",
      "예측: rainbow dash, 이미지: pony (216).png\n",
      "예측: rainbow dash, 이미지: pony (217).gif\n"
     ]
    },
    {
     "name": "stderr",
     "output_type": "stream",
     "text": [
      "예측: rarity, 이미지: pony (217).jpg\n",
      "예측: pinkie pie, 이미지: pony (217).png\n",
      "예측: rarity, 이미지: pony (218).gif\n",
      "예측: rarity, 이미지: pony (218).jpg\n",
      "예측: fluttershy, 이미지: pony (218).png\n"
     ]
    },
    {
     "name": "stdout",
     "output_type": "stream",
     "text": [
      "예측: rarity, 이미지: pony (217).jpg\n",
      "예측: pinkie pie, 이미지: pony (217).png\n",
      "예측: rarity, 이미지: pony (218).gif\n",
      "예측: rarity, 이미지: pony (218).jpg\n"
     ]
    },
    {
     "name": "stderr",
     "output_type": "stream",
     "text": [
      "예측: twilight sparkle, 이미지: pony (219).gif\n",
      "예측: fluttershy, 이미지: pony (219).jpg\n",
      "예측: applejack, 이미지: pony (219).png\n",
      "예측: rarity, 이미지: pony (22).gif\n"
     ]
    },
    {
     "name": "stdout",
     "output_type": "stream",
     "text": [
      "예측: fluttershy, 이미지: pony (218).png\n",
      "예측: twilight sparkle, 이미지: pony (219).gif\n",
      "예측: fluttershy, 이미지: pony (219).jpg\n",
      "예측: applejack, 이미지: pony (219).png\n",
      "예측: rarity, 이미지: pony (22).gif\n"
     ]
    },
    {
     "name": "stderr",
     "output_type": "stream",
     "text": [
      "예측: twilight sparkle, 이미지: pony (22).jpg\n"
     ]
    },
    {
     "name": "stdout",
     "output_type": "stream",
     "text": [
      "예측: twilight sparkle, 이미지: pony (22).jpg\n"
     ]
    },
    {
     "name": "stderr",
     "output_type": "stream",
     "text": [
      "예측: rainbow dash, 이미지: pony (22).png\n",
      "예측: pinkie pie, 이미지: pony (220).gif\n",
      "예측: applejack, 이미지: pony (220).jpg\n",
      "예측: pinkie pie, 이미지: pony (220).png\n",
      "예측: twilight sparkle, 이미지: pony (221).gif\n"
     ]
    },
    {
     "name": "stdout",
     "output_type": "stream",
     "text": [
      "예측: rainbow dash, 이미지: pony (22).png\n",
      "예측: pinkie pie, 이미지: pony (220).gif\n",
      "예측: applejack, 이미지: pony (220).jpg\n",
      "예측: pinkie pie, 이미지: pony (220).png\n"
     ]
    },
    {
     "name": "stderr",
     "output_type": "stream",
     "text": [
      "예측: applejack, 이미지: pony (221).jpg\n",
      "예측: pinkie pie, 이미지: pony (221).png\n",
      "예측: twilight sparkle, 이미지: pony (222).gif\n",
      "예측: fluttershy, 이미지: pony (222).jpg\n"
     ]
    },
    {
     "name": "stdout",
     "output_type": "stream",
     "text": [
      "예측: twilight sparkle, 이미지: pony (221).gif\n",
      "예측: applejack, 이미지: pony (221).jpg\n",
      "예측: pinkie pie, 이미지: pony (221).png\n",
      "예측: twilight sparkle, 이미지: pony (222).gif\n"
     ]
    },
    {
     "name": "stderr",
     "output_type": "stream",
     "text": [
      "예측: pinkie pie, 이미지: pony (222).png\n",
      "예측: rarity, 이미지: pony (223).gif\n"
     ]
    },
    {
     "name": "stdout",
     "output_type": "stream",
     "text": [
      "예측: fluttershy, 이미지: pony (222).jpg\n",
      "예측: pinkie pie, 이미지: pony (222).png\n",
      "예측: rarity, 이미지: pony (223).gif\n"
     ]
    },
    {
     "name": "stderr",
     "output_type": "stream",
     "text": [
      "예측: fluttershy, 이미지: pony (223).jpg\n",
      "예측: rarity, 이미지: pony (223).png\n",
      "예측: twilight sparkle, 이미지: pony (224).gif\n",
      "예측: pinkie pie, 이미지: pony (224).jpg\n",
      "예측: twilight sparkle, 이미지: pony (224).png\n",
      "예측: pinkie pie, 이미지: pony (225).gif\n"
     ]
    },
    {
     "name": "stdout",
     "output_type": "stream",
     "text": [
      "예측: fluttershy, 이미지: pony (223).jpg\n",
      "예측: rarity, 이미지: pony (223).png\n",
      "예측: twilight sparkle, 이미지: pony (224).gif\n",
      "예측: pinkie pie, 이미지: pony (224).jpg\n",
      "예측: twilight sparkle, 이미지: pony (224).png\n"
     ]
    },
    {
     "name": "stderr",
     "output_type": "stream",
     "text": [
      "예측: twilight sparkle, 이미지: pony (225).jpg\n",
      "예측: fluttershy, 이미지: pony (225).png\n",
      "예측: twilight sparkle, 이미지: pony (226).gif\n"
     ]
    },
    {
     "name": "stdout",
     "output_type": "stream",
     "text": [
      "예측: pinkie pie, 이미지: pony (225).gif\n",
      "예측: twilight sparkle, 이미지: pony (225).jpg\n",
      "예측: fluttershy, 이미지: pony (225).png\n",
      "예측: twilight sparkle, 이미지: pony (226).gif\n"
     ]
    },
    {
     "name": "stderr",
     "output_type": "stream",
     "text": [
      "예측: applejack, 이미지: pony (226).jpg\n",
      "예측: rainbow dash, 이미지: pony (226).png\n",
      "예측: pinkie pie, 이미지: pony (227).gif\n",
      "예측: twilight sparkle, 이미지: pony (227).jpg\n",
      "예측: twilight sparkle, 이미지: pony (227).png\n",
      "예측: rainbow dash, 이미지: pony (228).gif\n"
     ]
    },
    {
     "name": "stdout",
     "output_type": "stream",
     "text": [
      "예측: applejack, 이미지: pony (226).jpg\n",
      "예측: rainbow dash, 이미지: pony (226).png\n",
      "예측: pinkie pie, 이미지: pony (227).gif\n",
      "예측: twilight sparkle, 이미지: pony (227).jpg\n",
      "예측: twilight sparkle, 이미지: pony (227).png\n"
     ]
    },
    {
     "name": "stderr",
     "output_type": "stream",
     "text": [
      "예측: twilight sparkle, 이미지: pony (228).jpg\n",
      "예측: twilight sparkle, 이미지: pony (228).png\n",
      "예측: rarity, 이미지: pony (229).gif\n",
      "예측: fluttershy, 이미지: pony (229).jpg\n"
     ]
    },
    {
     "name": "stdout",
     "output_type": "stream",
     "text": [
      "예측: rainbow dash, 이미지: pony (228).gif\n",
      "예측: twilight sparkle, 이미지: pony (228).jpg\n",
      "예측: twilight sparkle, 이미지: pony (228).png\n",
      "예측: rarity, 이미지: pony (229).gif\n",
      "예측: fluttershy, 이미지: pony (229).jpg\n"
     ]
    },
    {
     "name": "stderr",
     "output_type": "stream",
     "text": [
      "예측: pinkie pie, 이미지: pony (229).png\n",
      "예측: pinkie pie, 이미지: pony (23).gif\n"
     ]
    },
    {
     "name": "stdout",
     "output_type": "stream",
     "text": [
      "예측: pinkie pie, 이미지: pony (229).png\n",
      "예측: pinkie pie, 이미지: pony (23).gif\n"
     ]
    },
    {
     "name": "stderr",
     "output_type": "stream",
     "text": [
      "예측: twilight sparkle, 이미지: pony (23).jpg\n"
     ]
    },
    {
     "name": "stdout",
     "output_type": "stream",
     "text": [
      "예측: twilight sparkle, 이미지: pony (23).jpg\n"
     ]
    },
    {
     "name": "stderr",
     "output_type": "stream",
     "text": [
      "예측: twilight sparkle, 이미지: pony (23).png\n",
      "예측: rainbow dash, 이미지: pony (230).gif\n",
      "예측: twilight sparkle, 이미지: pony (230).jpg\n",
      "예측: twilight sparkle, 이미지: pony (230).png\n",
      "예측: rarity, 이미지: pony (231).gif\n"
     ]
    },
    {
     "name": "stdout",
     "output_type": "stream",
     "text": [
      "예측: twilight sparkle, 이미지: pony (23).png\n",
      "예측: rainbow dash, 이미지: pony (230).gif\n",
      "예측: twilight sparkle, 이미지: pony (230).jpg\n",
      "예측: twilight sparkle, 이미지: pony (230).png\n",
      "예측: rarity, 이미지: pony (231).gif\n"
     ]
    },
    {
     "name": "stderr",
     "output_type": "stream",
     "text": [
      "예측: rarity, 이미지: pony (231).jpg\n",
      "예측: twilight sparkle, 이미지: pony (231).png\n",
      "예측: twilight sparkle, 이미지: pony (232).gif\n",
      "예측: twilight sparkle, 이미지: pony (232).jpg\n",
      "예측: pinkie pie, 이미지: pony (232).png\n"
     ]
    },
    {
     "name": "stdout",
     "output_type": "stream",
     "text": [
      "예측: rarity, 이미지: pony (231).jpg\n",
      "예측: twilight sparkle, 이미지: pony (231).png\n",
      "예측: twilight sparkle, 이미지: pony (232).gif\n",
      "예측: twilight sparkle, 이미지: pony (232).jpg\n"
     ]
    },
    {
     "name": "stderr",
     "output_type": "stream",
     "text": [
      "예측: rainbow dash, 이미지: pony (233).gif\n",
      "예측: rainbow dash, 이미지: pony (233).jpg\n",
      "예측: twilight sparkle, 이미지: pony (233).png\n",
      "예측: fluttershy, 이미지: pony (234).gif\n"
     ]
    },
    {
     "name": "stdout",
     "output_type": "stream",
     "text": [
      "예측: pinkie pie, 이미지: pony (232).png\n",
      "예측: rainbow dash, 이미지: pony (233).gif\n",
      "예측: rainbow dash, 이미지: pony (233).jpg\n",
      "예측: twilight sparkle, 이미지: pony (233).png\n",
      "예측: fluttershy, 이미지: pony (234).gif\n"
     ]
    },
    {
     "name": "stderr",
     "output_type": "stream",
     "text": [
      "예측: twilight sparkle, 이미지: pony (234).jpg\n",
      "예측: pinkie pie, 이미지: pony (234).png\n",
      "예측: fluttershy, 이미지: pony (235).gif\n",
      "예측: twilight sparkle, 이미지: pony (235).jpg\n",
      "예측: fluttershy, 이미지: pony (235).png\n"
     ]
    },
    {
     "name": "stdout",
     "output_type": "stream",
     "text": [
      "예측: twilight sparkle, 이미지: pony (234).jpg\n",
      "예측: pinkie pie, 이미지: pony (234).png\n",
      "예측: fluttershy, 이미지: pony (235).gif\n",
      "예측: twilight sparkle, 이미지: pony (235).jpg\n"
     ]
    },
    {
     "name": "stderr",
     "output_type": "stream",
     "text": [
      "예측: twilight sparkle, 이미지: pony (236).gif\n",
      "예측: pinkie pie, 이미지: pony (236).jpg\n",
      "예측: fluttershy, 이미지: pony (236).png\n",
      "예측: rainbow dash, 이미지: pony (237).gif\n"
     ]
    },
    {
     "name": "stdout",
     "output_type": "stream",
     "text": [
      "예측: fluttershy, 이미지: pony (235).png\n",
      "예측: twilight sparkle, 이미지: pony (236).gif\n",
      "예측: pinkie pie, 이미지: pony (236).jpg\n",
      "예측: fluttershy, 이미지: pony (236).png\n",
      "예측: rainbow dash, 이미지: pony (237).gif\n"
     ]
    },
    {
     "name": "stderr",
     "output_type": "stream",
     "text": [
      "예측: applejack, 이미지: pony (237).jpg\n",
      "예측: pinkie pie, 이미지: pony (237).png\n",
      "예측: twilight sparkle, 이미지: pony (238).gif\n",
      "예측: rarity, 이미지: pony (238).jpg\n"
     ]
    },
    {
     "name": "stdout",
     "output_type": "stream",
     "text": [
      "예측: applejack, 이미지: pony (237).jpg\n",
      "예측: pinkie pie, 이미지: pony (237).png\n",
      "예측: twilight sparkle, 이미지: pony (238).gif\n",
      "예측: rarity, 이미지: pony (238).jpg\n"
     ]
    },
    {
     "name": "stderr",
     "output_type": "stream",
     "text": [
      "예측: applejack, 이미지: pony (238).png\n",
      "예측: pinkie pie, 이미지: pony (239).gif\n",
      "예측: pinkie pie, 이미지: pony (239).jpg\n",
      "예측: pinkie pie, 이미지: pony (239).png\n",
      "예측: twilight sparkle, 이미지: pony (24).gif\n"
     ]
    },
    {
     "name": "stdout",
     "output_type": "stream",
     "text": [
      "예측: applejack, 이미지: pony (238).png\n",
      "예측: pinkie pie, 이미지: pony (239).gif\n",
      "예측: pinkie pie, 이미지: pony (239).jpg\n",
      "예측: pinkie pie, 이미지: pony (239).png\n"
     ]
    },
    {
     "name": "stderr",
     "output_type": "stream",
     "text": [
      "예측: fluttershy, 이미지: pony (24).jpg\n"
     ]
    },
    {
     "name": "stdout",
     "output_type": "stream",
     "text": [
      "예측: twilight sparkle, 이미지: pony (24).gif\n",
      "예측: fluttershy, 이미지: pony (24).jpg\n"
     ]
    },
    {
     "name": "stderr",
     "output_type": "stream",
     "text": [
      "예측: rainbow dash, 이미지: pony (24).png\n",
      "예측: twilight sparkle, 이미지: pony (240).gif\n",
      "예측: rarity, 이미지: pony (240).jpg\n",
      "예측: applejack, 이미지: pony (240).png\n"
     ]
    },
    {
     "name": "stdout",
     "output_type": "stream",
     "text": [
      "예측: rainbow dash, 이미지: pony (24).png\n",
      "예측: twilight sparkle, 이미지: pony (240).gif\n",
      "예측: rarity, 이미지: pony (240).jpg\n"
     ]
    },
    {
     "name": "stderr",
     "output_type": "stream",
     "text": [
      "예측: twilight sparkle, 이미지: pony (241).gif\n",
      "예측: applejack, 이미지: pony (241).jpg\n",
      "예측: rainbow dash, 이미지: pony (241).png\n",
      "예측: pinkie pie, 이미지: pony (242).gif\n",
      "예측: applejack, 이미지: pony (242).jpg\n"
     ]
    },
    {
     "name": "stdout",
     "output_type": "stream",
     "text": [
      "예측: applejack, 이미지: pony (240).png\n",
      "예측: twilight sparkle, 이미지: pony (241).gif\n",
      "예측: applejack, 이미지: pony (241).jpg\n",
      "예측: rainbow dash, 이미지: pony (241).png\n",
      "예측: pinkie pie, 이미지: pony (242).gif\n"
     ]
    },
    {
     "name": "stderr",
     "output_type": "stream",
     "text": [
      "예측: rainbow dash, 이미지: pony (242).png\n",
      "예측: fluttershy, 이미지: pony (243).gif\n",
      "예측: pinkie pie, 이미지: pony (243).jpg\n",
      "예측: rainbow dash, 이미지: pony (243).png\n",
      "예측: twilight sparkle, 이미지: pony (244).gif\n"
     ]
    },
    {
     "name": "stdout",
     "output_type": "stream",
     "text": [
      "예측: applejack, 이미지: pony (242).jpg\n",
      "예측: rainbow dash, 이미지: pony (242).png\n",
      "예측: fluttershy, 이미지: pony (243).gif\n",
      "예측: pinkie pie, 이미지: pony (243).jpg\n",
      "예측: rainbow dash, 이미지: pony (243).png\n"
     ]
    },
    {
     "name": "stderr",
     "output_type": "stream",
     "text": [
      "예측: pinkie pie, 이미지: pony (244).jpg\n",
      "예측: fluttershy, 이미지: pony (244).png\n",
      "예측: rarity, 이미지: pony (245).gif\n",
      "예측: rainbow dash, 이미지: pony (245).jpg\n"
     ]
    },
    {
     "name": "stdout",
     "output_type": "stream",
     "text": [
      "예측: twilight sparkle, 이미지: pony (244).gif\n",
      "예측: pinkie pie, 이미지: pony (244).jpg\n",
      "예측: fluttershy, 이미지: pony (244).png\n",
      "예측: rarity, 이미지: pony (245).gif\n"
     ]
    },
    {
     "name": "stderr",
     "output_type": "stream",
     "text": [
      "예측: rarity, 이미지: pony (245).png\n",
      "예측: rainbow dash, 이미지: pony (246).gif\n",
      "예측: rainbow dash, 이미지: pony (246).jpg\n",
      "예측: applejack, 이미지: pony (246).png\n"
     ]
    },
    {
     "name": "stdout",
     "output_type": "stream",
     "text": [
      "예측: rainbow dash, 이미지: pony (245).jpg\n",
      "예측: rarity, 이미지: pony (245).png\n",
      "예측: rainbow dash, 이미지: pony (246).gif\n",
      "예측: rainbow dash, 이미지: pony (246).jpg\n"
     ]
    },
    {
     "name": "stderr",
     "output_type": "stream",
     "text": [
      "예측: pinkie pie, 이미지: pony (247).gif\n",
      "예측: rainbow dash, 이미지: pony (247).jpg\n",
      "예측: fluttershy, 이미지: pony (247).png\n",
      "예측: rainbow dash, 이미지: pony (248).gif\n"
     ]
    },
    {
     "name": "stdout",
     "output_type": "stream",
     "text": [
      "예측: applejack, 이미지: pony (246).png\n",
      "예측: pinkie pie, 이미지: pony (247).gif\n",
      "예측: rainbow dash, 이미지: pony (247).jpg\n",
      "예측: fluttershy, 이미지: pony (247).png\n",
      "예측: rainbow dash, 이미지: pony (248).gif\n"
     ]
    },
    {
     "name": "stderr",
     "output_type": "stream",
     "text": [
      "예측: twilight sparkle, 이미지: pony (248).jpg\n",
      "예측: twilight sparkle, 이미지: pony (248).png\n",
      "예측: twilight sparkle, 이미지: pony (249).gif\n",
      "예측: rarity, 이미지: pony (249).jpg\n",
      "예측: rarity, 이미지: pony (249).png\n",
      "예측: twilight sparkle, 이미지: pony (25).gif\n"
     ]
    },
    {
     "name": "stdout",
     "output_type": "stream",
     "text": [
      "예측: twilight sparkle, 이미지: pony (248).jpg\n",
      "예측: twilight sparkle, 이미지: pony (248).png\n",
      "예측: twilight sparkle, 이미지: pony (249).gif\n",
      "예측: rarity, 이미지: pony (249).jpg\n",
      "예측: rarity, 이미지: pony (249).png\n"
     ]
    },
    {
     "name": "stderr",
     "output_type": "stream",
     "text": [
      "예측: pinkie pie, 이미지: pony (25).jpg\n"
     ]
    },
    {
     "name": "stdout",
     "output_type": "stream",
     "text": [
      "예측: twilight sparkle, 이미지: pony (25).gif\n",
      "예측: pinkie pie, 이미지: pony (25).jpg\n"
     ]
    },
    {
     "name": "stderr",
     "output_type": "stream",
     "text": [
      "예측: applejack, 이미지: pony (25).png\n",
      "예측: pinkie pie, 이미지: pony (250).gif\n",
      "예측: pinkie pie, 이미지: pony (250).jpg\n",
      "예측: twilight sparkle, 이미지: pony (250).png\n",
      "예측: pinkie pie, 이미지: pony (251).gif\n"
     ]
    },
    {
     "name": "stdout",
     "output_type": "stream",
     "text": [
      "예측: applejack, 이미지: pony (25).png\n",
      "예측: pinkie pie, 이미지: pony (250).gif\n",
      "예측: pinkie pie, 이미지: pony (250).jpg\n",
      "예측: twilight sparkle, 이미지: pony (250).png\n",
      "예측: pinkie pie, 이미지: pony (251).gif\n"
     ]
    },
    {
     "name": "stderr",
     "output_type": "stream",
     "text": [
      "예측: rarity, 이미지: pony (251).jpg\n",
      "예측: rarity, 이미지: pony (251).png\n",
      "예측: pinkie pie, 이미지: pony (252).gif\n",
      "예측: rainbow dash, 이미지: pony (252).jpg\n"
     ]
    },
    {
     "name": "stdout",
     "output_type": "stream",
     "text": [
      "예측: rarity, 이미지: pony (251).jpg\n",
      "예측: rarity, 이미지: pony (251).png\n",
      "예측: pinkie pie, 이미지: pony (252).gif\n",
      "예측: rainbow dash, 이미지: pony (252).jpg\n"
     ]
    },
    {
     "name": "stderr",
     "output_type": "stream",
     "text": [
      "예측: pinkie pie, 이미지: pony (252).png\n",
      "예측: applejack, 이미지: pony (253).gif\n",
      "예측: pinkie pie, 이미지: pony (253).jpg\n",
      "예측: twilight sparkle, 이미지: pony (253).png\n",
      "예측: applejack, 이미지: pony (254).gif\n"
     ]
    },
    {
     "name": "stdout",
     "output_type": "stream",
     "text": [
      "예측: pinkie pie, 이미지: pony (252).png\n",
      "예측: applejack, 이미지: pony (253).gif\n",
      "예측: pinkie pie, 이미지: pony (253).jpg\n",
      "예측: twilight sparkle, 이미지: pony (253).png\n",
      "예측: applejack, 이미지: pony (254).gif\n"
     ]
    },
    {
     "name": "stderr",
     "output_type": "stream",
     "text": [
      "예측: twilight sparkle, 이미지: pony (254).jpg\n",
      "예측: rarity, 이미지: pony (254).png\n",
      "예측: fluttershy, 이미지: pony (255).gif\n",
      "예측: rainbow dash, 이미지: pony (255).jpg\n",
      "예측: fluttershy, 이미지: pony (255).png\n"
     ]
    },
    {
     "name": "stdout",
     "output_type": "stream",
     "text": [
      "예측: twilight sparkle, 이미지: pony (254).jpg\n",
      "예측: rarity, 이미지: pony (254).png\n",
      "예측: fluttershy, 이미지: pony (255).gif\n",
      "예측: rainbow dash, 이미지: pony (255).jpg\n"
     ]
    },
    {
     "name": "stderr",
     "output_type": "stream",
     "text": [
      "예측: applejack, 이미지: pony (256).gif\n",
      "예측: twilight sparkle, 이미지: pony (256).jpg\n",
      "예측: applejack, 이미지: pony (256).png\n"
     ]
    },
    {
     "name": "stdout",
     "output_type": "stream",
     "text": [
      "예측: fluttershy, 이미지: pony (255).png\n",
      "예측: applejack, 이미지: pony (256).gif\n",
      "예측: twilight sparkle, 이미지: pony (256).jpg\n",
      "예측: applejack, 이미지: pony (256).png\n"
     ]
    },
    {
     "name": "stderr",
     "output_type": "stream",
     "text": [
      "예측: applejack, 이미지: pony (257).gif\n",
      "예측: applejack, 이미지: pony (257).jpg\n",
      "예측: pinkie pie, 이미지: pony (257).png\n",
      "예측: rarity, 이미지: pony (258).gif\n",
      "예측: rainbow dash, 이미지: pony (258).jpg\n"
     ]
    },
    {
     "name": "stdout",
     "output_type": "stream",
     "text": [
      "예측: applejack, 이미지: pony (257).gif\n",
      "예측: applejack, 이미지: pony (257).jpg\n",
      "예측: pinkie pie, 이미지: pony (257).png\n",
      "예측: rarity, 이미지: pony (258).gif\n",
      "예측: rainbow dash, 이미지: pony (258).jpg\n"
     ]
    },
    {
     "name": "stderr",
     "output_type": "stream",
     "text": [
      "예측: pinkie pie, 이미지: pony (258).png\n",
      "예측: twilight sparkle, 이미지: pony (259).gif\n",
      "예측: twilight sparkle, 이미지: pony (259).jpg\n",
      "예측: rainbow dash, 이미지: pony (259).png\n",
      "예측: rarity, 이미지: pony (26).gif\n"
     ]
    },
    {
     "name": "stdout",
     "output_type": "stream",
     "text": [
      "예측: pinkie pie, 이미지: pony (258).png\n",
      "예측: twilight sparkle, 이미지: pony (259).gif\n",
      "예측: twilight sparkle, 이미지: pony (259).jpg\n",
      "예측: rainbow dash, 이미지: pony (259).png\n",
      "예측: rarity, 이미지: pony (26).gif\n"
     ]
    },
    {
     "name": "stderr",
     "output_type": "stream",
     "text": [
      "예측: twilight sparkle, 이미지: pony (26).jpg\n",
      "예측: fluttershy, 이미지: pony (26).png\n",
      "예측: twilight sparkle, 이미지: pony (260).gif\n",
      "예측: pinkie pie, 이미지: pony (260).jpg\n",
      "예측: pinkie pie, 이미지: pony (260).png\n"
     ]
    },
    {
     "name": "stdout",
     "output_type": "stream",
     "text": [
      "예측: twilight sparkle, 이미지: pony (26).jpg\n",
      "예측: fluttershy, 이미지: pony (26).png\n",
      "예측: twilight sparkle, 이미지: pony (260).gif\n",
      "예측: pinkie pie, 이미지: pony (260).jpg\n"
     ]
    },
    {
     "name": "stderr",
     "output_type": "stream",
     "text": [
      "예측: rarity, 이미지: pony (261).gif\n",
      "예측: fluttershy, 이미지: pony (261).jpg\n",
      "예측: rainbow dash, 이미지: pony (261).png\n"
     ]
    },
    {
     "name": "stdout",
     "output_type": "stream",
     "text": [
      "예측: pinkie pie, 이미지: pony (260).png\n",
      "예측: rarity, 이미지: pony (261).gif\n",
      "예측: fluttershy, 이미지: pony (261).jpg\n",
      "예측: rainbow dash, 이미지: pony (261).png\n"
     ]
    },
    {
     "name": "stderr",
     "output_type": "stream",
     "text": [
      "예측: twilight sparkle, 이미지: pony (262).gif\n"
     ]
    },
    {
     "name": "stdout",
     "output_type": "stream",
     "text": [
      "예측: twilight sparkle, 이미지: pony (262).gif\n"
     ]
    },
    {
     "name": "stderr",
     "output_type": "stream",
     "text": [
      "예측: fluttershy, 이미지: pony (262).jpg\n",
      "예측: fluttershy, 이미지: pony (262).png\n",
      "예측: twilight sparkle, 이미지: pony (263).gif\n",
      "예측: pinkie pie, 이미지: pony (263).jpg\n"
     ]
    },
    {
     "name": "stdout",
     "output_type": "stream",
     "text": [
      "예측: fluttershy, 이미지: pony (262).jpg\n",
      "예측: fluttershy, 이미지: pony (262).png\n",
      "예측: twilight sparkle, 이미지: pony (263).gif\n",
      "예측: pinkie pie, 이미지: pony (263).jpg\n"
     ]
    },
    {
     "name": "stderr",
     "output_type": "stream",
     "text": [
      "예측: twilight sparkle, 이미지: pony (263).png\n",
      "예측: rarity, 이미지: pony (264).gif\n",
      "예측: rainbow dash, 이미지: pony (264).jpg\n"
     ]
    },
    {
     "name": "stdout",
     "output_type": "stream",
     "text": [
      "예측: twilight sparkle, 이미지: pony (263).png\n",
      "예측: rarity, 이미지: pony (264).gif\n",
      "예측: rainbow dash, 이미지: pony (264).jpg\n"
     ]
    },
    {
     "name": "stderr",
     "output_type": "stream",
     "text": [
      "예측: rainbow dash, 이미지: pony (264).png\n",
      "예측: rainbow dash, 이미지: pony (265).gif\n",
      "예측: pinkie pie, 이미지: pony (265).jpg\n",
      "예측: rainbow dash, 이미지: pony (265).png\n",
      "예측: rarity, 이미지: pony (266).gif\n"
     ]
    },
    {
     "name": "stdout",
     "output_type": "stream",
     "text": [
      "예측: rainbow dash, 이미지: pony (264).png\n",
      "예측: rainbow dash, 이미지: pony (265).gif\n",
      "예측: pinkie pie, 이미지: pony (265).jpg\n",
      "예측: rainbow dash, 이미지: pony (265).png\n",
      "예측: rarity, 이미지: pony (266).gif\n"
     ]
    },
    {
     "name": "stderr",
     "output_type": "stream",
     "text": [
      "예측: applejack, 이미지: pony (266).jpg\n",
      "예측: rarity, 이미지: pony (266).png\n",
      "예측: twilight sparkle, 이미지: pony (267).gif\n",
      "예측: twilight sparkle, 이미지: pony (267).jpg\n",
      "예측: twilight sparkle, 이미지: pony (267).png\n"
     ]
    },
    {
     "name": "stdout",
     "output_type": "stream",
     "text": [
      "예측: applejack, 이미지: pony (266).jpg\n",
      "예측: rarity, 이미지: pony (266).png\n",
      "예측: twilight sparkle, 이미지: pony (267).gif\n",
      "예측: twilight sparkle, 이미지: pony (267).jpg\n",
      "예측: twilight sparkle, 이미지: pony (267).png\n"
     ]
    },
    {
     "name": "stderr",
     "output_type": "stream",
     "text": [
      "예측: pinkie pie, 이미지: pony (268).gif\n",
      "예측: pinkie pie, 이미지: pony (268).jpg\n",
      "예측: rarity, 이미지: pony (268).PNG\n",
      "예측: pinkie pie, 이미지: pony (269).gif\n",
      "예측: pinkie pie, 이미지: pony (269).jpg\n"
     ]
    },
    {
     "name": "stdout",
     "output_type": "stream",
     "text": [
      "예측: pinkie pie, 이미지: pony (268).gif\n",
      "예측: pinkie pie, 이미지: pony (268).jpg\n",
      "예측: rarity, 이미지: pony (268).PNG\n",
      "예측: pinkie pie, 이미지: pony (269).gif\n"
     ]
    },
    {
     "name": "stderr",
     "output_type": "stream",
     "text": [
      "예측: rarity, 이미지: pony (269).png\n",
      "예측: applejack, 이미지: pony (27).gif\n"
     ]
    },
    {
     "name": "stdout",
     "output_type": "stream",
     "text": [
      "예측: pinkie pie, 이미지: pony (269).jpg\n",
      "예측: rarity, 이미지: pony (269).png\n",
      "예측: applejack, 이미지: pony (27).gif\n"
     ]
    },
    {
     "name": "stderr",
     "output_type": "stream",
     "text": [
      "예측: twilight sparkle, 이미지: pony (27).jpg\n"
     ]
    },
    {
     "name": "stdout",
     "output_type": "stream",
     "text": [
      "예측: twilight sparkle, 이미지: pony (27).jpg\n"
     ]
    },
    {
     "name": "stderr",
     "output_type": "stream",
     "text": [
      "예측: rainbow dash, 이미지: pony (27).png\n",
      "예측: pinkie pie, 이미지: pony (270).gif\n",
      "예측: pinkie pie, 이미지: pony (270).jpg\n",
      "예측: fluttershy, 이미지: pony (270).png\n",
      "예측: pinkie pie, 이미지: pony (271).gif\n"
     ]
    },
    {
     "name": "stdout",
     "output_type": "stream",
     "text": [
      "예측: rainbow dash, 이미지: pony (27).png\n",
      "예측: pinkie pie, 이미지: pony (270).gif\n",
      "예측: pinkie pie, 이미지: pony (270).jpg\n",
      "예측: fluttershy, 이미지: pony (270).png\n"
     ]
    },
    {
     "name": "stderr",
     "output_type": "stream",
     "text": [
      "예측: rarity, 이미지: pony (271).jpg\n",
      "예측: rarity, 이미지: pony (271).png\n",
      "예측: pinkie pie, 이미지: pony (272).gif\n",
      "예측: pinkie pie, 이미지: pony (272).jpg\n"
     ]
    },
    {
     "name": "stdout",
     "output_type": "stream",
     "text": [
      "예측: pinkie pie, 이미지: pony (271).gif\n",
      "예측: rarity, 이미지: pony (271).jpg\n",
      "예측: rarity, 이미지: pony (271).png\n",
      "예측: pinkie pie, 이미지: pony (272).gif\n",
      "예측: pinkie pie, 이미지: pony (272).jpg\n"
     ]
    },
    {
     "name": "stderr",
     "output_type": "stream",
     "text": [
      "예측: rarity, 이미지: pony (272).png\n",
      "예측: twilight sparkle, 이미지: pony (273).gif\n",
      "예측: twilight sparkle, 이미지: pony (273).jpg\n",
      "예측: pinkie pie, 이미지: pony (273).png\n",
      "예측: rainbow dash, 이미지: pony (274).gif\n"
     ]
    },
    {
     "name": "stdout",
     "output_type": "stream",
     "text": [
      "예측: rarity, 이미지: pony (272).png\n",
      "예측: twilight sparkle, 이미지: pony (273).gif\n",
      "예측: twilight sparkle, 이미지: pony (273).jpg\n",
      "예측: pinkie pie, 이미지: pony (273).png\n",
      "예측: rainbow dash, 이미지: pony (274).gif\n"
     ]
    },
    {
     "name": "stderr",
     "output_type": "stream",
     "text": [
      "예측: twilight sparkle, 이미지: pony (274).jpg\n",
      "예측: twilight sparkle, 이미지: pony (274).png\n",
      "예측: twilight sparkle, 이미지: pony (275).gif\n",
      "예측: rarity, 이미지: pony (275).jpg\n",
      "예측: rarity, 이미지: pony (275).png\n"
     ]
    },
    {
     "name": "stdout",
     "output_type": "stream",
     "text": [
      "예측: twilight sparkle, 이미지: pony (274).jpg\n",
      "예측: twilight sparkle, 이미지: pony (274).png\n",
      "예측: twilight sparkle, 이미지: pony (275).gif\n",
      "예측: rarity, 이미지: pony (275).jpg\n",
      "예측: rarity, 이미지: pony (275).png\n"
     ]
    },
    {
     "name": "stderr",
     "output_type": "stream",
     "text": [
      "예측: fluttershy, 이미지: pony (276).gif\n",
      "예측: twilight sparkle, 이미지: pony (276).jpg\n",
      "예측: fluttershy, 이미지: pony (276).png\n",
      "예측: applejack, 이미지: pony (277).gif\n",
      "예측: rarity, 이미지: pony (277).jpg\n"
     ]
    },
    {
     "name": "stdout",
     "output_type": "stream",
     "text": [
      "예측: fluttershy, 이미지: pony (276).gif\n",
      "예측: twilight sparkle, 이미지: pony (276).jpg\n",
      "예측: fluttershy, 이미지: pony (276).png\n",
      "예측: applejack, 이미지: pony (277).gif\n"
     ]
    },
    {
     "name": "stderr",
     "output_type": "stream",
     "text": [
      "예측: twilight sparkle, 이미지: pony (277).png\n",
      "예측: rarity, 이미지: pony (278).gif\n",
      "예측: fluttershy, 이미지: pony (278).jpg\n"
     ]
    },
    {
     "name": "stdout",
     "output_type": "stream",
     "text": [
      "예측: rarity, 이미지: pony (277).jpg\n",
      "예측: twilight sparkle, 이미지: pony (277).png\n",
      "예측: rarity, 이미지: pony (278).gif\n",
      "예측: fluttershy, 이미지: pony (278).jpg\n"
     ]
    },
    {
     "name": "stderr",
     "output_type": "stream",
     "text": [
      "예측: rarity, 이미지: pony (278).png\n",
      "예측: pinkie pie, 이미지: pony (279).gif\n",
      "예측: pinkie pie, 이미지: pony (279).jpg\n",
      "예측: applejack, 이미지: pony (279).png\n",
      "예측: pinkie pie, 이미지: pony (28).gif\n"
     ]
    },
    {
     "name": "stdout",
     "output_type": "stream",
     "text": [
      "예측: rarity, 이미지: pony (278).png\n",
      "예측: pinkie pie, 이미지: pony (279).gif\n",
      "예측: pinkie pie, 이미지: pony (279).jpg\n",
      "예측: applejack, 이미지: pony (279).png\n",
      "예측: pinkie pie, 이미지: pony (28).gif\n"
     ]
    },
    {
     "name": "stderr",
     "output_type": "stream",
     "text": [
      "예측: applejack, 이미지: pony (28).jpg\n"
     ]
    },
    {
     "name": "stdout",
     "output_type": "stream",
     "text": [
      "예측: applejack, 이미지: pony (28).jpg\n"
     ]
    },
    {
     "name": "stderr",
     "output_type": "stream",
     "text": [
      "예측: rarity, 이미지: pony (28).png\n",
      "예측: rarity, 이미지: pony (280).gif\n",
      "예측: pinkie pie, 이미지: pony (280).jpg\n",
      "예측: rainbow dash, 이미지: pony (280).png\n",
      "예측: applejack, 이미지: pony (281).gif\n",
      "예측: rarity, 이미지: pony (281).jpg\n"
     ]
    },
    {
     "name": "stdout",
     "output_type": "stream",
     "text": [
      "예측: rarity, 이미지: pony (28).png\n",
      "예측: rarity, 이미지: pony (280).gif\n",
      "예측: pinkie pie, 이미지: pony (280).jpg\n",
      "예측: rainbow dash, 이미지: pony (280).png\n",
      "예측: applejack, 이미지: pony (281).gif\n"
     ]
    },
    {
     "name": "stderr",
     "output_type": "stream",
     "text": [
      "예측: pinkie pie, 이미지: pony (281).png\n",
      "예측: pinkie pie, 이미지: pony (282).gif\n",
      "예측: rarity, 이미지: pony (282).jpg\n",
      "예측: pinkie pie, 이미지: pony (282).png\n",
      "예측: rarity, 이미지: pony (283).gif\n"
     ]
    },
    {
     "name": "stdout",
     "output_type": "stream",
     "text": [
      "예측: rarity, 이미지: pony (281).jpg\n",
      "예측: pinkie pie, 이미지: pony (281).png\n",
      "예측: pinkie pie, 이미지: pony (282).gif\n",
      "예측: rarity, 이미지: pony (282).jpg\n",
      "예측: pinkie pie, 이미지: pony (282).png\n"
     ]
    },
    {
     "name": "stderr",
     "output_type": "stream",
     "text": [
      "예측: rarity, 이미지: pony (283).jpg\n",
      "예측: rarity, 이미지: pony (283).png\n",
      "예측: fluttershy, 이미지: pony (284).gif\n",
      "예측: applejack, 이미지: pony (284).jpg\n"
     ]
    },
    {
     "name": "stdout",
     "output_type": "stream",
     "text": [
      "예측: rarity, 이미지: pony (283).gif\n",
      "예측: rarity, 이미지: pony (283).jpg\n",
      "예측: rarity, 이미지: pony (283).png\n",
      "예측: fluttershy, 이미지: pony (284).gif\n",
      "예측: applejack, 이미지: pony (284).jpg\n"
     ]
    },
    {
     "name": "stderr",
     "output_type": "stream",
     "text": [
      "예측: pinkie pie, 이미지: pony (284).png\n",
      "예측: pinkie pie, 이미지: pony (285).gif\n",
      "예측: twilight sparkle, 이미지: pony (285).jpg\n",
      "예측: fluttershy, 이미지: pony (285).png\n",
      "예측: applejack, 이미지: pony (286).gif\n"
     ]
    },
    {
     "name": "stdout",
     "output_type": "stream",
     "text": [
      "예측: pinkie pie, 이미지: pony (284).png\n",
      "예측: pinkie pie, 이미지: pony (285).gif\n",
      "예측: twilight sparkle, 이미지: pony (285).jpg\n",
      "예측: fluttershy, 이미지: pony (285).png\n",
      "예측: applejack, 이미지: pony (286).gif\n"
     ]
    },
    {
     "name": "stderr",
     "output_type": "stream",
     "text": [
      "예측: fluttershy, 이미지: pony (286).jpg\n",
      "예측: rainbow dash, 이미지: pony (286).png\n",
      "예측: fluttershy, 이미지: pony (287).gif\n",
      "예측: rarity, 이미지: pony (287).jpg\n"
     ]
    },
    {
     "name": "stdout",
     "output_type": "stream",
     "text": [
      "예측: fluttershy, 이미지: pony (286).jpg\n",
      "예측: rainbow dash, 이미지: pony (286).png\n",
      "예측: fluttershy, 이미지: pony (287).gif\n",
      "예측: rarity, 이미지: pony (287).jpg\n"
     ]
    },
    {
     "name": "stderr",
     "output_type": "stream",
     "text": [
      "예측: twilight sparkle, 이미지: pony (287).png\n",
      "예측: twilight sparkle, 이미지: pony (288).gif\n",
      "예측: applejack, 이미지: pony (288).jpg\n",
      "예측: applejack, 이미지: pony (288).png\n",
      "예측: twilight sparkle, 이미지: pony (289).gif\n"
     ]
    },
    {
     "name": "stdout",
     "output_type": "stream",
     "text": [
      "예측: twilight sparkle, 이미지: pony (287).png\n",
      "예측: twilight sparkle, 이미지: pony (288).gif\n",
      "예측: applejack, 이미지: pony (288).jpg\n",
      "예측: applejack, 이미지: pony (288).png\n",
      "예측: twilight sparkle, 이미지: pony (289).gif\n"
     ]
    },
    {
     "name": "stderr",
     "output_type": "stream",
     "text": [
      "예측: rarity, 이미지: pony (289).jpg\n",
      "예측: applejack, 이미지: pony (289).png\n",
      "예측: rainbow dash, 이미지: pony (29).gif\n"
     ]
    },
    {
     "name": "stdout",
     "output_type": "stream",
     "text": [
      "예측: rarity, 이미지: pony (289).jpg\n",
      "예측: applejack, 이미지: pony (289).png\n",
      "예측: rainbow dash, 이미지: pony (29).gif\n"
     ]
    },
    {
     "name": "stderr",
     "output_type": "stream",
     "text": [
      "예측: pinkie pie, 이미지: pony (29).jpg\n"
     ]
    },
    {
     "name": "stdout",
     "output_type": "stream",
     "text": [
      "예측: pinkie pie, 이미지: pony (29).jpg\n"
     ]
    },
    {
     "name": "stderr",
     "output_type": "stream",
     "text": [
      "예측: pinkie pie, 이미지: pony (29).png\n",
      "예측: rarity, 이미지: pony (290).gif\n",
      "예측: twilight sparkle, 이미지: pony (290).jpg\n",
      "예측: pinkie pie, 이미지: pony (290).png\n",
      "예측: rainbow dash, 이미지: pony (291).gif\n"
     ]
    },
    {
     "name": "stdout",
     "output_type": "stream",
     "text": [
      "예측: pinkie pie, 이미지: pony (29).png\n",
      "예측: rarity, 이미지: pony (290).gif\n",
      "예측: twilight sparkle, 이미지: pony (290).jpg\n",
      "예측: pinkie pie, 이미지: pony (290).png\n",
      "예측: rainbow dash, 이미지: pony (291).gif\n"
     ]
    },
    {
     "name": "stderr",
     "output_type": "stream",
     "text": [
      "예측: twilight sparkle, 이미지: pony (291).jpg\n",
      "예측: twilight sparkle, 이미지: pony (291).png\n",
      "예측: rarity, 이미지: pony (292).gif\n",
      "예측: twilight sparkle, 이미지: pony (292).jpg\n"
     ]
    },
    {
     "name": "stdout",
     "output_type": "stream",
     "text": [
      "예측: twilight sparkle, 이미지: pony (291).jpg\n",
      "예측: twilight sparkle, 이미지: pony (291).png\n",
      "예측: rarity, 이미지: pony (292).gif\n"
     ]
    },
    {
     "name": "stderr",
     "output_type": "stream",
     "text": [
      "예측: pinkie pie, 이미지: pony (292).png\n",
      "예측: fluttershy, 이미지: pony (293).gif\n",
      "예측: rarity, 이미지: pony (293).jpg\n",
      "예측: rarity, 이미지: pony (293).png\n"
     ]
    },
    {
     "name": "stdout",
     "output_type": "stream",
     "text": [
      "예측: twilight sparkle, 이미지: pony (292).jpg\n",
      "예측: pinkie pie, 이미지: pony (292).png\n",
      "예측: fluttershy, 이미지: pony (293).gif\n",
      "예측: rarity, 이미지: pony (293).jpg\n",
      "예측: rarity, 이미지: pony (293).png\n"
     ]
    },
    {
     "name": "stderr",
     "output_type": "stream",
     "text": [
      "예측: rarity, 이미지: pony (294).gif\n",
      "예측: pinkie pie, 이미지: pony (294).jpg\n",
      "예측: pinkie pie, 이미지: pony (294).png\n",
      "예측: rarity, 이미지: pony (295).gif\n"
     ]
    },
    {
     "name": "stdout",
     "output_type": "stream",
     "text": [
      "예측: rarity, 이미지: pony (294).gif\n",
      "예측: pinkie pie, 이미지: pony (294).jpg\n",
      "예측: pinkie pie, 이미지: pony (294).png\n",
      "예측: rarity, 이미지: pony (295).gif\n"
     ]
    },
    {
     "name": "stderr",
     "output_type": "stream",
     "text": [
      "예측: twilight sparkle, 이미지: pony (295).jpg\n",
      "예측: rainbow dash, 이미지: pony (295).png\n",
      "예측: fluttershy, 이미지: pony (296).gif\n",
      "예측: rainbow dash, 이미지: pony (296).jpg\n"
     ]
    },
    {
     "name": "stdout",
     "output_type": "stream",
     "text": [
      "예측: twilight sparkle, 이미지: pony (295).jpg\n",
      "예측: rainbow dash, 이미지: pony (295).png\n",
      "예측: fluttershy, 이미지: pony (296).gif\n",
      "예측: rainbow dash, 이미지: pony (296).jpg\n"
     ]
    },
    {
     "name": "stderr",
     "output_type": "stream",
     "text": [
      "예측: rarity, 이미지: pony (296).png\n",
      "예측: twilight sparkle, 이미지: pony (297).gif\n",
      "예측: twilight sparkle, 이미지: pony (297).jpg\n",
      "예측: rarity, 이미지: pony (297).png\n"
     ]
    },
    {
     "name": "stdout",
     "output_type": "stream",
     "text": [
      "예측: rarity, 이미지: pony (296).png\n",
      "예측: twilight sparkle, 이미지: pony (297).gif\n",
      "예측: twilight sparkle, 이미지: pony (297).jpg\n",
      "예측: rarity, 이미지: pony (297).png\n"
     ]
    },
    {
     "name": "stderr",
     "output_type": "stream",
     "text": [
      "예측: twilight sparkle, 이미지: pony (298).gif\n",
      "예측: rarity, 이미지: pony (298).jpg\n",
      "예측: applejack, 이미지: pony (298).png\n",
      "예측: rainbow dash, 이미지: pony (299).gif\n",
      "예측: applejack, 이미지: pony (299).jpg\n"
     ]
    },
    {
     "name": "stdout",
     "output_type": "stream",
     "text": [
      "예측: twilight sparkle, 이미지: pony (298).gif\n",
      "예측: rarity, 이미지: pony (298).jpg\n",
      "예측: applejack, 이미지: pony (298).png\n",
      "예측: rainbow dash, 이미지: pony (299).gif\n",
      "예측: applejack, 이미지: pony (299).jpg\n"
     ]
    },
    {
     "name": "stderr",
     "output_type": "stream",
     "text": [
      "예측: applejack, 이미지: pony (299).png\n",
      "예측: twilight sparkle, 이미지: pony (3).gif\n",
      "예측: twilight sparkle, 이미지: pony (3).jpeg\n"
     ]
    },
    {
     "name": "stdout",
     "output_type": "stream",
     "text": [
      "예측: applejack, 이미지: pony (299).png\n",
      "예측: twilight sparkle, 이미지: pony (3).gif\n",
      "예측: twilight sparkle, 이미지: pony (3).jpeg\n"
     ]
    },
    {
     "name": "stderr",
     "output_type": "stream",
     "text": [
      "예측: twilight sparkle, 이미지: pony (3).jpg\n"
     ]
    },
    {
     "name": "stdout",
     "output_type": "stream",
     "text": [
      "예측: twilight sparkle, 이미지: pony (3).jpg\n"
     ]
    },
    {
     "name": "stderr",
     "output_type": "stream",
     "text": [
      "예측: pinkie pie, 이미지: pony (3).png\n",
      "예측: twilight sparkle, 이미지: pony (3).webp\n",
      "예측: fluttershy, 이미지: pony (30).gif\n",
      "예측: twilight sparkle, 이미지: pony (30).jpg\n"
     ]
    },
    {
     "name": "stdout",
     "output_type": "stream",
     "text": [
      "예측: pinkie pie, 이미지: pony (3).png\n",
      "예측: twilight sparkle, 이미지: pony (3).webp\n",
      "예측: fluttershy, 이미지: pony (30).gif\n",
      "예측: twilight sparkle, 이미지: pony (30).jpg\n"
     ]
    },
    {
     "name": "stderr",
     "output_type": "stream",
     "text": [
      "예측: rainbow dash, 이미지: pony (30).png\n",
      "예측: rainbow dash, 이미지: pony (300).gif\n",
      "예측: twilight sparkle, 이미지: pony (300).jpg\n",
      "예측: twilight sparkle, 이미지: pony (300).png\n",
      "예측: applejack, 이미지: pony (301).gif\n"
     ]
    },
    {
     "name": "stdout",
     "output_type": "stream",
     "text": [
      "예측: rainbow dash, 이미지: pony (30).png\n",
      "예측: rainbow dash, 이미지: pony (300).gif\n",
      "예측: twilight sparkle, 이미지: pony (300).jpg\n",
      "예측: twilight sparkle, 이미지: pony (300).png\n",
      "예측: applejack, 이미지: pony (301).gif\n"
     ]
    },
    {
     "name": "stderr",
     "output_type": "stream",
     "text": [
      "예측: rarity, 이미지: pony (301).jpg\n",
      "예측: twilight sparkle, 이미지: pony (301).png\n",
      "예측: twilight sparkle, 이미지: pony (302).gif\n",
      "예측: twilight sparkle, 이미지: pony (302).jpg\n",
      "예측: twilight sparkle, 이미지: pony (302).png\n",
      "예측: applejack, 이미지: pony (303).gif\n"
     ]
    },
    {
     "name": "stdout",
     "output_type": "stream",
     "text": [
      "예측: rarity, 이미지: pony (301).jpg\n",
      "예측: twilight sparkle, 이미지: pony (301).png\n",
      "예측: twilight sparkle, 이미지: pony (302).gif\n",
      "예측: twilight sparkle, 이미지: pony (302).jpg\n",
      "예측: twilight sparkle, 이미지: pony (302).png\n",
      "예측: applejack, 이미지: pony (303).gif\n"
     ]
    },
    {
     "name": "stderr",
     "output_type": "stream",
     "text": [
      "예측: pinkie pie, 이미지: pony (303).jpg\n",
      "예측: twilight sparkle, 이미지: pony (303).png\n",
      "예측: rarity, 이미지: pony (304).gif\n",
      "예측: twilight sparkle, 이미지: pony (304).jpg\n",
      "예측: twilight sparkle, 이미지: pony (304).png\n"
     ]
    },
    {
     "name": "stdout",
     "output_type": "stream",
     "text": [
      "예측: pinkie pie, 이미지: pony (303).jpg\n",
      "예측: twilight sparkle, 이미지: pony (303).png\n",
      "예측: rarity, 이미지: pony (304).gif\n",
      "예측: twilight sparkle, 이미지: pony (304).jpg\n"
     ]
    },
    {
     "name": "stderr",
     "output_type": "stream",
     "text": [
      "예측: applejack, 이미지: pony (305).gif\n",
      "예측: twilight sparkle, 이미지: pony (305).jpg\n",
      "예측: pinkie pie, 이미지: pony (305).png\n",
      "예측: applejack, 이미지: pony (306).gif\n"
     ]
    },
    {
     "name": "stdout",
     "output_type": "stream",
     "text": [
      "예측: twilight sparkle, 이미지: pony (304).png\n",
      "예측: applejack, 이미지: pony (305).gif\n",
      "예측: twilight sparkle, 이미지: pony (305).jpg\n",
      "예측: pinkie pie, 이미지: pony (305).png\n",
      "예측: applejack, 이미지: pony (306).gif\n"
     ]
    },
    {
     "name": "stderr",
     "output_type": "stream",
     "text": [
      "예측: rainbow dash, 이미지: pony (306).jpg\n",
      "예측: applejack, 이미지: pony (306).png\n",
      "예측: fluttershy, 이미지: pony (307).gif\n"
     ]
    },
    {
     "name": "stdout",
     "output_type": "stream",
     "text": [
      "예측: rainbow dash, 이미지: pony (306).jpg\n",
      "예측: applejack, 이미지: pony (306).png\n",
      "예측: fluttershy, 이미지: pony (307).gif\n"
     ]
    },
    {
     "name": "stderr",
     "output_type": "stream",
     "text": [
      "예측: applejack, 이미지: pony (307).jpg\n",
      "예측: twilight sparkle, 이미지: pony (307).png\n",
      "예측: twilight sparkle, 이미지: pony (308).gif\n",
      "예측: twilight sparkle, 이미지: pony (308).jpg\n",
      "예측: applejack, 이미지: pony (308).png\n"
     ]
    },
    {
     "name": "stdout",
     "output_type": "stream",
     "text": [
      "예측: applejack, 이미지: pony (307).jpg\n",
      "예측: twilight sparkle, 이미지: pony (307).png\n",
      "예측: twilight sparkle, 이미지: pony (308).gif\n",
      "예측: twilight sparkle, 이미지: pony (308).jpg\n",
      "예측: applejack, 이미지: pony (308).png\n"
     ]
    },
    {
     "name": "stderr",
     "output_type": "stream",
     "text": [
      "예측: twilight sparkle, 이미지: pony (309).gif\n",
      "예측: applejack, 이미지: pony (309).jpg\n",
      "예측: rainbow dash, 이미지: pony (309).png\n",
      "예측: pinkie pie, 이미지: pony (31).gif\n",
      "예측: twilight sparkle, 이미지: pony (31).jpg\n"
     ]
    },
    {
     "name": "stdout",
     "output_type": "stream",
     "text": [
      "예측: twilight sparkle, 이미지: pony (309).gif\n",
      "예측: applejack, 이미지: pony (309).jpg\n",
      "예측: rainbow dash, 이미지: pony (309).png\n",
      "예측: pinkie pie, 이미지: pony (31).gif\n"
     ]
    },
    {
     "name": "stderr",
     "output_type": "stream",
     "text": [
      "예측: twilight sparkle, 이미지: pony (31).png\n",
      "예측: fluttershy, 이미지: pony (310).gif\n"
     ]
    },
    {
     "name": "stdout",
     "output_type": "stream",
     "text": [
      "예측: twilight sparkle, 이미지: pony (31).jpg\n",
      "예측: twilight sparkle, 이미지: pony (31).png\n",
      "예측: fluttershy, 이미지: pony (310).gif\n"
     ]
    },
    {
     "name": "stderr",
     "output_type": "stream",
     "text": [
      "예측: fluttershy, 이미지: pony (310).jpg\n",
      "예측: applejack, 이미지: pony (310).png\n",
      "예측: rarity, 이미지: pony (311).gif\n",
      "예측: fluttershy, 이미지: pony (311).jpg\n",
      "예측: fluttershy, 이미지: pony (311).png\n"
     ]
    },
    {
     "name": "stdout",
     "output_type": "stream",
     "text": [
      "예측: fluttershy, 이미지: pony (310).jpg\n",
      "예측: applejack, 이미지: pony (310).png\n",
      "예측: rarity, 이미지: pony (311).gif\n",
      "예측: fluttershy, 이미지: pony (311).jpg\n",
      "예측: fluttershy, 이미지: pony (311).png\n"
     ]
    },
    {
     "name": "stderr",
     "output_type": "stream",
     "text": [
      "예측: rarity, 이미지: pony (312).gif\n",
      "예측: twilight sparkle, 이미지: pony (312).jpg\n",
      "예측: rainbow dash, 이미지: pony (312).png\n",
      "예측: pinkie pie, 이미지: pony (313).gif\n",
      "예측: twilight sparkle, 이미지: pony (313).jpg\n"
     ]
    },
    {
     "name": "stdout",
     "output_type": "stream",
     "text": [
      "예측: rarity, 이미지: pony (312).gif\n",
      "예측: twilight sparkle, 이미지: pony (312).jpg\n",
      "예측: rainbow dash, 이미지: pony (312).png\n",
      "예측: pinkie pie, 이미지: pony (313).gif\n",
      "예측: twilight sparkle, 이미지: pony (313).jpg\n"
     ]
    },
    {
     "name": "stderr",
     "output_type": "stream",
     "text": [
      "예측: rainbow dash, 이미지: pony (313).png\n",
      "예측: pinkie pie, 이미지: pony (314).gif\n",
      "예측: twilight sparkle, 이미지: pony (314).jpg\n",
      "예측: rarity, 이미지: pony (314).png\n",
      "예측: rarity, 이미지: pony (315).gif\n"
     ]
    },
    {
     "name": "stdout",
     "output_type": "stream",
     "text": [
      "예측: rainbow dash, 이미지: pony (313).png\n",
      "예측: pinkie pie, 이미지: pony (314).gif\n",
      "예측: twilight sparkle, 이미지: pony (314).jpg\n",
      "예측: rarity, 이미지: pony (314).png\n",
      "예측: rarity, 이미지: pony (315).gif\n"
     ]
    },
    {
     "name": "stderr",
     "output_type": "stream",
     "text": [
      "예측: fluttershy, 이미지: pony (315).jpg\n",
      "예측: rarity, 이미지: pony (315).png\n",
      "예측: pinkie pie, 이미지: pony (316).gif\n",
      "예측: pinkie pie, 이미지: pony (316).jpg\n",
      "예측: fluttershy, 이미지: pony (316).png\n"
     ]
    },
    {
     "name": "stdout",
     "output_type": "stream",
     "text": [
      "예측: fluttershy, 이미지: pony (315).jpg\n",
      "예측: rarity, 이미지: pony (315).png\n",
      "예측: pinkie pie, 이미지: pony (316).gif\n",
      "예측: pinkie pie, 이미지: pony (316).jpg\n",
      "예측: fluttershy, 이미지: pony (316).png\n"
     ]
    },
    {
     "name": "stderr",
     "output_type": "stream",
     "text": [
      "예측: pinkie pie, 이미지: pony (317).gif\n",
      "예측: fluttershy, 이미지: pony (317).jpg\n",
      "예측: pinkie pie, 이미지: pony (317).png\n",
      "예측: pinkie pie, 이미지: pony (318).gif\n",
      "예측: twilight sparkle, 이미지: pony (318).jpg\n"
     ]
    },
    {
     "name": "stdout",
     "output_type": "stream",
     "text": [
      "예측: pinkie pie, 이미지: pony (317).gif\n",
      "예측: fluttershy, 이미지: pony (317).jpg\n",
      "예측: pinkie pie, 이미지: pony (317).png\n",
      "예측: pinkie pie, 이미지: pony (318).gif\n"
     ]
    },
    {
     "name": "stderr",
     "output_type": "stream",
     "text": [
      "예측: fluttershy, 이미지: pony (318).png\n",
      "예측: pinkie pie, 이미지: pony (319).gif\n",
      "예측: rarity, 이미지: pony (319).jpg\n"
     ]
    },
    {
     "name": "stdout",
     "output_type": "stream",
     "text": [
      "예측: twilight sparkle, 이미지: pony (318).jpg\n",
      "예측: fluttershy, 이미지: pony (318).png\n",
      "예측: pinkie pie, 이미지: pony (319).gif\n",
      "예측: rarity, 이미지: pony (319).jpg\n"
     ]
    },
    {
     "name": "stderr",
     "output_type": "stream",
     "text": [
      "예측: rarity, 이미지: pony (319).png\n",
      "예측: rainbow dash, 이미지: pony (32).gif\n",
      "예측: twilight sparkle, 이미지: pony (32).jpg\n"
     ]
    },
    {
     "name": "stdout",
     "output_type": "stream",
     "text": [
      "예측: rarity, 이미지: pony (319).png\n",
      "예측: rainbow dash, 이미지: pony (32).gif\n",
      "예측: twilight sparkle, 이미지: pony (32).jpg\n"
     ]
    },
    {
     "name": "stderr",
     "output_type": "stream",
     "text": [
      "예측: twilight sparkle, 이미지: pony (32).png\n",
      "예측: pinkie pie, 이미지: pony (320).gif\n",
      "예측: twilight sparkle, 이미지: pony (320).jpg\n",
      "예측: applejack, 이미지: pony (320).png\n",
      "예측: pinkie pie, 이미지: pony (321).gif\n"
     ]
    },
    {
     "name": "stdout",
     "output_type": "stream",
     "text": [
      "예측: twilight sparkle, 이미지: pony (32).png\n",
      "예측: pinkie pie, 이미지: pony (320).gif\n",
      "예측: twilight sparkle, 이미지: pony (320).jpg\n",
      "예측: applejack, 이미지: pony (320).png\n",
      "예측: pinkie pie, 이미지: pony (321).gif\n"
     ]
    },
    {
     "name": "stderr",
     "output_type": "stream",
     "text": [
      "예측: twilight sparkle, 이미지: pony (321).jpg\n",
      "예측: rainbow dash, 이미지: pony (321).png\n",
      "예측: pinkie pie, 이미지: pony (322).gif\n",
      "예측: rarity, 이미지: pony (322).jpg\n"
     ]
    },
    {
     "name": "stdout",
     "output_type": "stream",
     "text": [
      "예측: twilight sparkle, 이미지: pony (321).jpg\n",
      "예측: rainbow dash, 이미지: pony (321).png\n",
      "예측: pinkie pie, 이미지: pony (322).gif\n",
      "예측: rarity, 이미지: pony (322).jpg\n"
     ]
    },
    {
     "name": "stderr",
     "output_type": "stream",
     "text": [
      "예측: applejack, 이미지: pony (322).png\n",
      "예측: fluttershy, 이미지: pony (323).gif\n",
      "예측: rarity, 이미지: pony (323).jpg\n",
      "예측: pinkie pie, 이미지: pony (323).png\n",
      "예측: rarity, 이미지: pony (324).gif\n"
     ]
    },
    {
     "name": "stdout",
     "output_type": "stream",
     "text": [
      "예측: applejack, 이미지: pony (322).png\n",
      "예측: fluttershy, 이미지: pony (323).gif\n",
      "예측: rarity, 이미지: pony (323).jpg\n",
      "예측: pinkie pie, 이미지: pony (323).png\n",
      "예측: rarity, 이미지: pony (324).gif\n"
     ]
    },
    {
     "name": "stderr",
     "output_type": "stream",
     "text": [
      "예측: fluttershy, 이미지: pony (324).jpg\n",
      "예측: applejack, 이미지: pony (324).png\n",
      "예측: rarity, 이미지: pony (325).gif\n",
      "예측: rarity, 이미지: pony (325).jpg\n"
     ]
    },
    {
     "name": "stdout",
     "output_type": "stream",
     "text": [
      "예측: fluttershy, 이미지: pony (324).jpg\n",
      "예측: applejack, 이미지: pony (324).png\n",
      "예측: rarity, 이미지: pony (325).gif\n",
      "예측: rarity, 이미지: pony (325).jpg\n"
     ]
    },
    {
     "name": "stderr",
     "output_type": "stream",
     "text": [
      "예측: twilight sparkle, 이미지: pony (325).png\n",
      "예측: pinkie pie, 이미지: pony (326).gif\n",
      "예측: pinkie pie, 이미지: pony (326).jpg\n",
      "예측: pinkie pie, 이미지: pony (326).png\n",
      "예측: rarity, 이미지: pony (327).gif\n"
     ]
    },
    {
     "name": "stdout",
     "output_type": "stream",
     "text": [
      "예측: twilight sparkle, 이미지: pony (325).png\n",
      "예측: pinkie pie, 이미지: pony (326).gif\n",
      "예측: pinkie pie, 이미지: pony (326).jpg\n",
      "예측: pinkie pie, 이미지: pony (326).png\n",
      "예측: rarity, 이미지: pony (327).gif\n"
     ]
    },
    {
     "name": "stderr",
     "output_type": "stream",
     "text": [
      "예측: applejack, 이미지: pony (327).jpg\n",
      "예측: twilight sparkle, 이미지: pony (327).png\n",
      "예측: twilight sparkle, 이미지: pony (328).gif\n",
      "예측: applejack, 이미지: pony (328).jpg\n"
     ]
    },
    {
     "name": "stdout",
     "output_type": "stream",
     "text": [
      "예측: applejack, 이미지: pony (327).jpg\n",
      "예측: twilight sparkle, 이미지: pony (327).png\n",
      "예측: twilight sparkle, 이미지: pony (328).gif\n",
      "예측: applejack, 이미지: pony (328).jpg\n"
     ]
    },
    {
     "name": "stderr",
     "output_type": "stream",
     "text": [
      "예측: applejack, 이미지: pony (328).png\n",
      "예측: twilight sparkle, 이미지: pony (329).gif\n",
      "예측: twilight sparkle, 이미지: pony (329).jpg\n"
     ]
    },
    {
     "name": "stdout",
     "output_type": "stream",
     "text": [
      "예측: applejack, 이미지: pony (328).png\n",
      "예측: twilight sparkle, 이미지: pony (329).gif\n",
      "예측: twilight sparkle, 이미지: pony (329).jpg\n"
     ]
    },
    {
     "name": "stderr",
     "output_type": "stream",
     "text": [
      "예측: fluttershy, 이미지: pony (329).png\n",
      "예측: twilight sparkle, 이미지: pony (33).gif\n",
      "예측: twilight sparkle, 이미지: pony (33).jpg\n"
     ]
    },
    {
     "name": "stdout",
     "output_type": "stream",
     "text": [
      "예측: fluttershy, 이미지: pony (329).png\n",
      "예측: twilight sparkle, 이미지: pony (33).gif\n",
      "예측: twilight sparkle, 이미지: pony (33).jpg\n"
     ]
    },
    {
     "name": "stderr",
     "output_type": "stream",
     "text": [
      "예측: rarity, 이미지: pony (33).png\n",
      "예측: twilight sparkle, 이미지: pony (330).gif\n",
      "예측: rainbow dash, 이미지: pony (330).jpg\n",
      "예측: applejack, 이미지: pony (330).png\n"
     ]
    },
    {
     "name": "stdout",
     "output_type": "stream",
     "text": [
      "예측: rarity, 이미지: pony (33).png\n",
      "예측: twilight sparkle, 이미지: pony (330).gif\n",
      "예측: rainbow dash, 이미지: pony (330).jpg\n",
      "예측: applejack, 이미지: pony (330).png\n"
     ]
    },
    {
     "name": "stderr",
     "output_type": "stream",
     "text": [
      "예측: fluttershy, 이미지: pony (331).gif\n"
     ]
    },
    {
     "name": "stdout",
     "output_type": "stream",
     "text": [
      "예측: fluttershy, 이미지: pony (331).gif\n"
     ]
    },
    {
     "name": "stderr",
     "output_type": "stream",
     "text": [
      "예측: fluttershy, 이미지: pony (331).jpg\n",
      "예측: applejack, 이미지: pony (331).png\n",
      "예측: fluttershy, 이미지: pony (332).gif\n",
      "예측: applejack, 이미지: pony (332).jpg\n"
     ]
    },
    {
     "name": "stdout",
     "output_type": "stream",
     "text": [
      "예측: fluttershy, 이미지: pony (331).jpg\n",
      "예측: applejack, 이미지: pony (331).png\n",
      "예측: fluttershy, 이미지: pony (332).gif\n",
      "예측: applejack, 이미지: pony (332).jpg\n"
     ]
    },
    {
     "name": "stderr",
     "output_type": "stream",
     "text": [
      "예측: rainbow dash, 이미지: pony (332).png\n",
      "예측: twilight sparkle, 이미지: pony (333).gif\n",
      "예측: rainbow dash, 이미지: pony (333).jpg\n",
      "예측: applejack, 이미지: pony (333).png\n",
      "예측: twilight sparkle, 이미지: pony (334).gif\n"
     ]
    },
    {
     "name": "stdout",
     "output_type": "stream",
     "text": [
      "예측: rainbow dash, 이미지: pony (332).png\n",
      "예측: twilight sparkle, 이미지: pony (333).gif\n",
      "예측: rainbow dash, 이미지: pony (333).jpg\n",
      "예측: applejack, 이미지: pony (333).png\n",
      "예측: twilight sparkle, 이미지: pony (334).gif\n"
     ]
    },
    {
     "name": "stderr",
     "output_type": "stream",
     "text": [
      "예측: twilight sparkle, 이미지: pony (334).jpg\n",
      "예측: rainbow dash, 이미지: pony (334).png\n",
      "예측: pinkie pie, 이미지: pony (335).gif\n",
      "예측: rarity, 이미지: pony (335).jpg\n"
     ]
    },
    {
     "name": "stdout",
     "output_type": "stream",
     "text": [
      "예측: twilight sparkle, 이미지: pony (334).jpg\n",
      "예측: rainbow dash, 이미지: pony (334).png\n",
      "예측: pinkie pie, 이미지: pony (335).gif\n",
      "예측: rarity, 이미지: pony (335).jpg\n"
     ]
    },
    {
     "name": "stderr",
     "output_type": "stream",
     "text": [
      "예측: rarity, 이미지: pony (335).png\n",
      "예측: rainbow dash, 이미지: pony (336).gif\n",
      "예측: fluttershy, 이미지: pony (336).jpg\n",
      "예측: rainbow dash, 이미지: pony (336).png\n"
     ]
    },
    {
     "name": "stdout",
     "output_type": "stream",
     "text": [
      "예측: rarity, 이미지: pony (335).png\n",
      "예측: rainbow dash, 이미지: pony (336).gif\n",
      "예측: fluttershy, 이미지: pony (336).jpg\n",
      "예측: rainbow dash, 이미지: pony (336).png\n"
     ]
    },
    {
     "name": "stderr",
     "output_type": "stream",
     "text": [
      "예측: twilight sparkle, 이미지: pony (337).gif\n",
      "예측: twilight sparkle, 이미지: pony (337).jpg\n"
     ]
    },
    {
     "name": "stdout",
     "output_type": "stream",
     "text": [
      "예측: twilight sparkle, 이미지: pony (337).gif\n",
      "예측: twilight sparkle, 이미지: pony (337).jpg\n"
     ]
    },
    {
     "name": "stderr",
     "output_type": "stream",
     "text": [
      "예측: applejack, 이미지: pony (337).png\n",
      "예측: twilight sparkle, 이미지: pony (338).gif\n",
      "예측: twilight sparkle, 이미지: pony (338).jpg\n",
      "예측: pinkie pie, 이미지: pony (338).png\n",
      "예측: rarity, 이미지: pony (339).gif\n"
     ]
    },
    {
     "name": "stdout",
     "output_type": "stream",
     "text": [
      "예측: applejack, 이미지: pony (337).png\n",
      "예측: twilight sparkle, 이미지: pony (338).gif\n",
      "예측: twilight sparkle, 이미지: pony (338).jpg\n",
      "예측: pinkie pie, 이미지: pony (338).png\n"
     ]
    },
    {
     "name": "stderr",
     "output_type": "stream",
     "text": [
      "예측: twilight sparkle, 이미지: pony (339).jpg\n",
      "예측: applejack, 이미지: pony (339).png\n",
      "예측: rarity, 이미지: pony (34).gif\n"
     ]
    },
    {
     "name": "stdout",
     "output_type": "stream",
     "text": [
      "예측: rarity, 이미지: pony (339).gif\n",
      "예측: twilight sparkle, 이미지: pony (339).jpg\n",
      "예측: applejack, 이미지: pony (339).png\n",
      "예측: rarity, 이미지: pony (34).gif\n"
     ]
    },
    {
     "name": "stderr",
     "output_type": "stream",
     "text": [
      "예측: twilight sparkle, 이미지: pony (34).jpg\n"
     ]
    },
    {
     "name": "stdout",
     "output_type": "stream",
     "text": [
      "예측: twilight sparkle, 이미지: pony (34).jpg\n"
     ]
    },
    {
     "name": "stderr",
     "output_type": "stream",
     "text": [
      "예측: twilight sparkle, 이미지: pony (34).png\n",
      "예측: rainbow dash, 이미지: pony (340).gif\n",
      "예측: fluttershy, 이미지: pony (340).jpg\n",
      "예측: fluttershy, 이미지: pony (340).png\n",
      "예측: applejack, 이미지: pony (341).gif\n"
     ]
    },
    {
     "name": "stdout",
     "output_type": "stream",
     "text": [
      "예측: twilight sparkle, 이미지: pony (34).png\n",
      "예측: rainbow dash, 이미지: pony (340).gif\n",
      "예측: fluttershy, 이미지: pony (340).jpg\n",
      "예측: fluttershy, 이미지: pony (340).png\n"
     ]
    },
    {
     "name": "stderr",
     "output_type": "stream",
     "text": [
      "예측: applejack, 이미지: pony (341).jpg\n",
      "예측: pinkie pie, 이미지: pony (341).png\n",
      "예측: rainbow dash, 이미지: pony (342).gif\n"
     ]
    },
    {
     "name": "stdout",
     "output_type": "stream",
     "text": [
      "예측: applejack, 이미지: pony (341).gif\n",
      "예측: applejack, 이미지: pony (341).jpg\n",
      "예측: pinkie pie, 이미지: pony (341).png\n",
      "예측: rainbow dash, 이미지: pony (342).gif\n"
     ]
    },
    {
     "name": "stderr",
     "output_type": "stream",
     "text": [
      "예측: twilight sparkle, 이미지: pony (342).jpg\n",
      "예측: applejack, 이미지: pony (342).png\n",
      "예측: applejack, 이미지: pony (343).gif\n",
      "예측: applejack, 이미지: pony (343).jpg\n",
      "예측: rarity, 이미지: pony (343).png\n",
      "예측: twilight sparkle, 이미지: pony (344).gif\n"
     ]
    },
    {
     "name": "stdout",
     "output_type": "stream",
     "text": [
      "예측: twilight sparkle, 이미지: pony (342).jpg\n",
      "예측: applejack, 이미지: pony (342).png\n",
      "예측: applejack, 이미지: pony (343).gif\n",
      "예측: applejack, 이미지: pony (343).jpg\n",
      "예측: rarity, 이미지: pony (343).png\n"
     ]
    },
    {
     "name": "stderr",
     "output_type": "stream",
     "text": [
      "예측: rarity, 이미지: pony (344).jpg\n",
      "예측: pinkie pie, 이미지: pony (344).PNG\n",
      "예측: pinkie pie, 이미지: pony (345).gif\n",
      "예측: twilight sparkle, 이미지: pony (345).jpg\n"
     ]
    },
    {
     "name": "stdout",
     "output_type": "stream",
     "text": [
      "예측: twilight sparkle, 이미지: pony (344).gif\n",
      "예측: rarity, 이미지: pony (344).jpg\n",
      "예측: pinkie pie, 이미지: pony (344).PNG\n",
      "예측: pinkie pie, 이미지: pony (345).gif\n"
     ]
    },
    {
     "name": "stderr",
     "output_type": "stream",
     "text": [
      "예측: fluttershy, 이미지: pony (345).png\n",
      "예측: rainbow dash, 이미지: pony (346).gif\n"
     ]
    },
    {
     "name": "stdout",
     "output_type": "stream",
     "text": [
      "예측: twilight sparkle, 이미지: pony (345).jpg\n",
      "예측: fluttershy, 이미지: pony (345).png\n",
      "예측: rainbow dash, 이미지: pony (346).gif\n"
     ]
    },
    {
     "name": "stderr",
     "output_type": "stream",
     "text": [
      "예측: pinkie pie, 이미지: pony (346).jpg\n",
      "예측: applejack, 이미지: pony (346).png\n",
      "예측: pinkie pie, 이미지: pony (347).gif\n"
     ]
    },
    {
     "name": "stdout",
     "output_type": "stream",
     "text": [
      "예측: pinkie pie, 이미지: pony (346).jpg\n",
      "예측: applejack, 이미지: pony (346).png\n",
      "예측: pinkie pie, 이미지: pony (347).gif\n"
     ]
    },
    {
     "name": "stderr",
     "output_type": "stream",
     "text": [
      "예측: twilight sparkle, 이미지: pony (347).jpg\n",
      "예측: fluttershy, 이미지: pony (347).png\n",
      "예측: rainbow dash, 이미지: pony (348).gif\n",
      "예측: pinkie pie, 이미지: pony (348).jpg\n",
      "예측: pinkie pie, 이미지: pony (348).png\n",
      "예측: pinkie pie, 이미지: pony (349).gif\n"
     ]
    },
    {
     "name": "stdout",
     "output_type": "stream",
     "text": [
      "예측: twilight sparkle, 이미지: pony (347).jpg\n",
      "예측: fluttershy, 이미지: pony (347).png\n",
      "예측: rainbow dash, 이미지: pony (348).gif\n",
      "예측: pinkie pie, 이미지: pony (348).jpg\n",
      "예측: pinkie pie, 이미지: pony (348).png\n",
      "예측: pinkie pie, 이미지: pony (349).gif\n"
     ]
    },
    {
     "name": "stderr",
     "output_type": "stream",
     "text": [
      "예측: applejack, 이미지: pony (349).jpg\n",
      "예측: fluttershy, 이미지: pony (349).png\n",
      "예측: rarity, 이미지: pony (35).gif\n"
     ]
    },
    {
     "name": "stdout",
     "output_type": "stream",
     "text": [
      "예측: applejack, 이미지: pony (349).jpg\n",
      "예측: fluttershy, 이미지: pony (349).png\n",
      "예측: rarity, 이미지: pony (35).gif\n"
     ]
    },
    {
     "name": "stderr",
     "output_type": "stream",
     "text": [
      "예측: twilight sparkle, 이미지: pony (35).jpg\n"
     ]
    },
    {
     "name": "stdout",
     "output_type": "stream",
     "text": [
      "예측: twilight sparkle, 이미지: pony (35).jpg\n"
     ]
    },
    {
     "name": "stderr",
     "output_type": "stream",
     "text": [
      "예측: twilight sparkle, 이미지: pony (35).png\n",
      "예측: fluttershy, 이미지: pony (350).gif\n",
      "예측: fluttershy, 이미지: pony (350).jpg\n"
     ]
    },
    {
     "name": "stdout",
     "output_type": "stream",
     "text": [
      "예측: twilight sparkle, 이미지: pony (35).png\n",
      "예측: fluttershy, 이미지: pony (350).gif\n",
      "예측: fluttershy, 이미지: pony (350).jpg\n"
     ]
    },
    {
     "name": "stderr",
     "output_type": "stream",
     "text": [
      "예측: applejack, 이미지: pony (350).png\n",
      "예측: fluttershy, 이미지: pony (351).gif\n",
      "예측: applejack, 이미지: pony (351).JPG\n",
      "예측: twilight sparkle, 이미지: pony (351).png\n",
      "예측: twilight sparkle, 이미지: pony (352).GIF\n"
     ]
    },
    {
     "name": "stdout",
     "output_type": "stream",
     "text": [
      "예측: applejack, 이미지: pony (350).png\n",
      "예측: fluttershy, 이미지: pony (351).gif\n",
      "예측: applejack, 이미지: pony (351).JPG\n",
      "예측: twilight sparkle, 이미지: pony (351).png\n",
      "예측: twilight sparkle, 이미지: pony (352).GIF\n"
     ]
    },
    {
     "name": "stderr",
     "output_type": "stream",
     "text": [
      "예측: twilight sparkle, 이미지: pony (352).JPG\n",
      "예측: fluttershy, 이미지: pony (352).png\n",
      "예측: twilight sparkle, 이미지: pony (353).GIF\n"
     ]
    },
    {
     "name": "stdout",
     "output_type": "stream",
     "text": [
      "예측: twilight sparkle, 이미지: pony (352).JPG\n",
      "예측: fluttershy, 이미지: pony (352).png\n",
      "예측: twilight sparkle, 이미지: pony (353).GIF\n"
     ]
    },
    {
     "name": "stderr",
     "output_type": "stream",
     "text": [
      "예측: rainbow dash, 이미지: pony (353).JPG\n",
      "예측: applejack, 이미지: pony (353).png\n",
      "예측: twilight sparkle, 이미지: pony (354).GIF\n",
      "예측: fluttershy, 이미지: pony (354).JPG\n"
     ]
    },
    {
     "name": "stdout",
     "output_type": "stream",
     "text": [
      "예측: rainbow dash, 이미지: pony (353).JPG\n",
      "예측: applejack, 이미지: pony (353).png\n",
      "예측: twilight sparkle, 이미지: pony (354).GIF\n",
      "예측: fluttershy, 이미지: pony (354).JPG\n"
     ]
    },
    {
     "name": "stderr",
     "output_type": "stream",
     "text": [
      "예측: fluttershy, 이미지: pony (354).png\n",
      "예측: twilight sparkle, 이미지: pony (355).GIF\n",
      "예측: rarity, 이미지: pony (355).JPG\n"
     ]
    },
    {
     "name": "stdout",
     "output_type": "stream",
     "text": [
      "예측: fluttershy, 이미지: pony (354).png\n",
      "예측: twilight sparkle, 이미지: pony (355).GIF\n",
      "예측: rarity, 이미지: pony (355).JPG\n"
     ]
    },
    {
     "name": "stderr",
     "output_type": "stream",
     "text": [
      "예측: applejack, 이미지: pony (355).png\n",
      "예측: twilight sparkle, 이미지: pony (356).GIF\n",
      "예측: twilight sparkle, 이미지: pony (356).JPG\n"
     ]
    },
    {
     "name": "stdout",
     "output_type": "stream",
     "text": [
      "예측: applejack, 이미지: pony (355).png\n",
      "예측: twilight sparkle, 이미지: pony (356).GIF\n",
      "예측: twilight sparkle, 이미지: pony (356).JPG\n"
     ]
    },
    {
     "name": "stderr",
     "output_type": "stream",
     "text": [
      "예측: applejack, 이미지: pony (356).png\n",
      "예측: fluttershy, 이미지: pony (357).GIF\n",
      "예측: twilight sparkle, 이미지: pony (357).JPG\n"
     ]
    },
    {
     "name": "stdout",
     "output_type": "stream",
     "text": [
      "예측: applejack, 이미지: pony (356).png\n",
      "예측: fluttershy, 이미지: pony (357).GIF\n",
      "예측: twilight sparkle, 이미지: pony (357).JPG\n"
     ]
    },
    {
     "name": "stderr",
     "output_type": "stream",
     "text": [
      "예측: twilight sparkle, 이미지: pony (357).png\n",
      "예측: fluttershy, 이미지: pony (358).GIF\n",
      "예측: twilight sparkle, 이미지: pony (358).JPG\n"
     ]
    },
    {
     "name": "stdout",
     "output_type": "stream",
     "text": [
      "예측: twilight sparkle, 이미지: pony (357).png\n",
      "예측: fluttershy, 이미지: pony (358).GIF\n",
      "예측: twilight sparkle, 이미지: pony (358).JPG\n"
     ]
    },
    {
     "name": "stderr",
     "output_type": "stream",
     "text": [
      "예측: twilight sparkle, 이미지: pony (358).png\n",
      "예측: rarity, 이미지: pony (359).GIF\n",
      "예측: fluttershy, 이미지: pony (359).JPG\n"
     ]
    },
    {
     "name": "stdout",
     "output_type": "stream",
     "text": [
      "예측: twilight sparkle, 이미지: pony (358).png\n",
      "예측: rarity, 이미지: pony (359).GIF\n",
      "예측: fluttershy, 이미지: pony (359).JPG\n"
     ]
    },
    {
     "name": "stderr",
     "output_type": "stream",
     "text": [
      "예측: rainbow dash, 이미지: pony (359).png\n",
      "예측: rarity, 이미지: pony (36).gif\n",
      "예측: twilight sparkle, 이미지: pony (36).jpg\n"
     ]
    },
    {
     "name": "stdout",
     "output_type": "stream",
     "text": [
      "예측: rainbow dash, 이미지: pony (359).png\n",
      "예측: rarity, 이미지: pony (36).gif\n",
      "예측: twilight sparkle, 이미지: pony (36).jpg\n"
     ]
    },
    {
     "name": "stderr",
     "output_type": "stream",
     "text": [
      "예측: rarity, 이미지: pony (36).png\n",
      "예측: pinkie pie, 이미지: pony (360).GIF\n",
      "예측: applejack, 이미지: pony (360).JPG\n",
      "예측: twilight sparkle, 이미지: pony (360).png\n"
     ]
    },
    {
     "name": "stdout",
     "output_type": "stream",
     "text": [
      "예측: rarity, 이미지: pony (36).png\n",
      "예측: pinkie pie, 이미지: pony (360).GIF\n",
      "예측: applejack, 이미지: pony (360).JPG\n",
      "예측: twilight sparkle, 이미지: pony (360).png\n"
     ]
    },
    {
     "name": "stderr",
     "output_type": "stream",
     "text": [
      "예측: pinkie pie, 이미지: pony (361).GIF\n",
      "예측: pinkie pie, 이미지: pony (361).JPG\n",
      "예측: rarity, 이미지: pony (361).png\n",
      "예측: rainbow dash, 이미지: pony (362).GIF\n"
     ]
    },
    {
     "name": "stdout",
     "output_type": "stream",
     "text": [
      "예측: pinkie pie, 이미지: pony (361).GIF\n",
      "예측: pinkie pie, 이미지: pony (361).JPG\n",
      "예측: rarity, 이미지: pony (361).png\n"
     ]
    },
    {
     "name": "stderr",
     "output_type": "stream",
     "text": [
      "예측: twilight sparkle, 이미지: pony (362).JPG\n"
     ]
    },
    {
     "name": "stdout",
     "output_type": "stream",
     "text": [
      "예측: rainbow dash, 이미지: pony (362).GIF\n",
      "예측: twilight sparkle, 이미지: pony (362).JPG\n"
     ]
    },
    {
     "name": "stderr",
     "output_type": "stream",
     "text": [
      "예측: fluttershy, 이미지: pony (362).png\n",
      "예측: rainbow dash, 이미지: pony (363).GIF\n",
      "예측: applejack, 이미지: pony (363).JPG\n"
     ]
    },
    {
     "name": "stdout",
     "output_type": "stream",
     "text": [
      "예측: fluttershy, 이미지: pony (362).png\n",
      "예측: rainbow dash, 이미지: pony (363).GIF\n",
      "예측: applejack, 이미지: pony (363).JPG\n"
     ]
    },
    {
     "name": "stderr",
     "output_type": "stream",
     "text": [
      "예측: twilight sparkle, 이미지: pony (363).png\n",
      "예측: twilight sparkle, 이미지: pony (364).GIF\n",
      "예측: rarity, 이미지: pony (364).JPG\n",
      "예측: rarity, 이미지: pony (364).png\n",
      "예측: rainbow dash, 이미지: pony (365).GIF\n",
      "예측: rarity, 이미지: pony (365).JPG\n"
     ]
    },
    {
     "name": "stdout",
     "output_type": "stream",
     "text": [
      "예측: twilight sparkle, 이미지: pony (363).png\n",
      "예측: twilight sparkle, 이미지: pony (364).GIF\n",
      "예측: rarity, 이미지: pony (364).JPG\n",
      "예측: rarity, 이미지: pony (364).png\n",
      "예측: rainbow dash, 이미지: pony (365).GIF\n",
      "예측: rarity, 이미지: pony (365).JPG\n"
     ]
    },
    {
     "name": "stderr",
     "output_type": "stream",
     "text": [
      "예측: twilight sparkle, 이미지: pony (365).png\n",
      "예측: twilight sparkle, 이미지: pony (366).GIF\n",
      "예측: rainbow dash, 이미지: pony (366).JPG\n",
      "예측: fluttershy, 이미지: pony (366).PNG\n",
      "예측: twilight sparkle, 이미지: pony (367).GIF\n"
     ]
    },
    {
     "name": "stdout",
     "output_type": "stream",
     "text": [
      "예측: twilight sparkle, 이미지: pony (365).png\n",
      "예측: twilight sparkle, 이미지: pony (366).GIF\n",
      "예측: rainbow dash, 이미지: pony (366).JPG\n",
      "예측: fluttershy, 이미지: pony (366).PNG\n",
      "예측: twilight sparkle, 이미지: pony (367).GIF\n"
     ]
    },
    {
     "name": "stderr",
     "output_type": "stream",
     "text": [
      "예측: twilight sparkle, 이미지: pony (367).JPG\n",
      "예측: fluttershy, 이미지: pony (367).PNG\n",
      "예측: twilight sparkle, 이미지: pony (368).GIF\n",
      "예측: applejack, 이미지: pony (368).JPG\n",
      "예측: rainbow dash, 이미지: pony (368).PNG\n"
     ]
    },
    {
     "name": "stdout",
     "output_type": "stream",
     "text": [
      "예측: twilight sparkle, 이미지: pony (367).JPG\n",
      "예측: fluttershy, 이미지: pony (367).PNG\n",
      "예측: twilight sparkle, 이미지: pony (368).GIF\n",
      "예측: applejack, 이미지: pony (368).JPG\n"
     ]
    },
    {
     "name": "stderr",
     "output_type": "stream",
     "text": [
      "예측: rarity, 이미지: pony (369).GIF\n",
      "예측: pinkie pie, 이미지: pony (369).JPG\n",
      "예측: applejack, 이미지: pony (369).PNG\n",
      "예측: rainbow dash, 이미지: pony (37).gif\n"
     ]
    },
    {
     "name": "stdout",
     "output_type": "stream",
     "text": [
      "예측: rainbow dash, 이미지: pony (368).PNG\n",
      "예측: rarity, 이미지: pony (369).GIF\n",
      "예측: pinkie pie, 이미지: pony (369).JPG\n",
      "예측: applejack, 이미지: pony (369).PNG\n",
      "예측: rainbow dash, 이미지: pony (37).gif\n"
     ]
    },
    {
     "name": "stderr",
     "output_type": "stream",
     "text": [
      "예측: fluttershy, 이미지: pony (37).jpg\n"
     ]
    },
    {
     "name": "stdout",
     "output_type": "stream",
     "text": [
      "예측: fluttershy, 이미지: pony (37).jpg\n"
     ]
    },
    {
     "name": "stderr",
     "output_type": "stream",
     "text": [
      "예측: rarity, 이미지: pony (37).png\n",
      "예측: twilight sparkle, 이미지: pony (370).GIF\n",
      "예측: rainbow dash, 이미지: pony (370).JPG\n",
      "예측: fluttershy, 이미지: pony (370).PNG\n",
      "예측: twilight sparkle, 이미지: pony (371).GIF\n",
      "예측: twilight sparkle, 이미지: pony (371).JPG\n"
     ]
    },
    {
     "name": "stdout",
     "output_type": "stream",
     "text": [
      "예측: rarity, 이미지: pony (37).png\n",
      "예측: twilight sparkle, 이미지: pony (370).GIF\n",
      "예측: rainbow dash, 이미지: pony (370).JPG\n",
      "예측: fluttershy, 이미지: pony (370).PNG\n",
      "예측: twilight sparkle, 이미지: pony (371).GIF\n"
     ]
    },
    {
     "name": "stderr",
     "output_type": "stream",
     "text": [
      "예측: fluttershy, 이미지: pony (371).PNG\n",
      "예측: pinkie pie, 이미지: pony (372).GIF\n",
      "예측: twilight sparkle, 이미지: pony (372).JPG\n",
      "예측: fluttershy, 이미지: pony (372).PNG\n",
      "예측: twilight sparkle, 이미지: pony (373).GIF\n"
     ]
    },
    {
     "name": "stdout",
     "output_type": "stream",
     "text": [
      "예측: twilight sparkle, 이미지: pony (371).JPG\n",
      "예측: fluttershy, 이미지: pony (371).PNG\n",
      "예측: pinkie pie, 이미지: pony (372).GIF\n",
      "예측: twilight sparkle, 이미지: pony (372).JPG\n",
      "예측: fluttershy, 이미지: pony (372).PNG\n"
     ]
    },
    {
     "name": "stderr",
     "output_type": "stream",
     "text": [
      "예측: rarity, 이미지: pony (373).JPG\n",
      "예측: rainbow dash, 이미지: pony (373).PNG\n",
      "예측: twilight sparkle, 이미지: pony (374).GIF\n",
      "예측: rainbow dash, 이미지: pony (374).JPG\n"
     ]
    },
    {
     "name": "stdout",
     "output_type": "stream",
     "text": [
      "예측: twilight sparkle, 이미지: pony (373).GIF\n",
      "예측: rarity, 이미지: pony (373).JPG\n",
      "예측: rainbow dash, 이미지: pony (373).PNG\n",
      "예측: twilight sparkle, 이미지: pony (374).GIF\n",
      "예측: rainbow dash, 이미지: pony (374).JPG\n"
     ]
    },
    {
     "name": "stderr",
     "output_type": "stream",
     "text": [
      "예측: pinkie pie, 이미지: pony (374).PNG\n",
      "예측: fluttershy, 이미지: pony (375).GIF\n",
      "예측: fluttershy, 이미지: pony (375).jpg\n",
      "예측: rarity, 이미지: pony (375).PNG\n",
      "예측: fluttershy, 이미지: pony (376).GIF\n",
      "예측: rainbow dash, 이미지: pony (376).jpg\n"
     ]
    },
    {
     "name": "stdout",
     "output_type": "stream",
     "text": [
      "예측: pinkie pie, 이미지: pony (374).PNG\n",
      "예측: fluttershy, 이미지: pony (375).GIF\n",
      "예측: fluttershy, 이미지: pony (375).jpg\n",
      "예측: rarity, 이미지: pony (375).PNG\n",
      "예측: fluttershy, 이미지: pony (376).GIF\n",
      "예측: rainbow dash, 이미지: pony (376).jpg\n"
     ]
    },
    {
     "name": "stderr",
     "output_type": "stream",
     "text": [
      "예측: twilight sparkle, 이미지: pony (376).PNG\n",
      "예측: rarity, 이미지: pony (377).GIF\n",
      "예측: fluttershy, 이미지: pony (377).jpg\n"
     ]
    },
    {
     "name": "stdout",
     "output_type": "stream",
     "text": [
      "예측: twilight sparkle, 이미지: pony (376).PNG\n",
      "예측: rarity, 이미지: pony (377).GIF\n",
      "예측: fluttershy, 이미지: pony (377).jpg\n"
     ]
    },
    {
     "name": "stderr",
     "output_type": "stream",
     "text": [
      "예측: fluttershy, 이미지: pony (377).PNG\n",
      "예측: rarity, 이미지: pony (378).GIF\n",
      "예측: rarity, 이미지: pony (378).jpg\n",
      "예측: applejack, 이미지: pony (378).PNG\n",
      "예측: rarity, 이미지: pony (379).GIF\n"
     ]
    },
    {
     "name": "stdout",
     "output_type": "stream",
     "text": [
      "예측: fluttershy, 이미지: pony (377).PNG\n",
      "예측: rarity, 이미지: pony (378).GIF\n",
      "예측: rarity, 이미지: pony (378).jpg\n",
      "예측: applejack, 이미지: pony (378).PNG\n",
      "예측: rarity, 이미지: pony (379).GIF\n"
     ]
    },
    {
     "name": "stderr",
     "output_type": "stream",
     "text": [
      "예측: rainbow dash, 이미지: pony (379).jpg\n"
     ]
    },
    {
     "name": "stdout",
     "output_type": "stream",
     "text": [
      "예측: rainbow dash, 이미지: pony (379).jpg\n"
     ]
    },
    {
     "name": "stderr",
     "output_type": "stream",
     "text": [
      "예측: pinkie pie, 이미지: pony (379).PNG\n",
      "예측: rarity, 이미지: pony (38).gif\n"
     ]
    },
    {
     "name": "stdout",
     "output_type": "stream",
     "text": [
      "예측: pinkie pie, 이미지: pony (379).PNG\n",
      "예측: rarity, 이미지: pony (38).gif\n"
     ]
    },
    {
     "name": "stderr",
     "output_type": "stream",
     "text": [
      "예측: twilight sparkle, 이미지: pony (38).jpg\n"
     ]
    },
    {
     "name": "stdout",
     "output_type": "stream",
     "text": [
      "예측: twilight sparkle, 이미지: pony (38).jpg\n"
     ]
    },
    {
     "name": "stderr",
     "output_type": "stream",
     "text": [
      "예측: applejack, 이미지: pony (38).png\n",
      "예측: twilight sparkle, 이미지: pony (380).GIF\n",
      "예측: rarity, 이미지: pony (380).jpg\n",
      "예측: fluttershy, 이미지: pony (380).PNG\n",
      "예측: rarity, 이미지: pony (381).GIF\n"
     ]
    },
    {
     "name": "stdout",
     "output_type": "stream",
     "text": [
      "예측: applejack, 이미지: pony (38).png\n",
      "예측: twilight sparkle, 이미지: pony (380).GIF\n",
      "예측: rarity, 이미지: pony (380).jpg\n",
      "예측: fluttershy, 이미지: pony (380).PNG\n",
      "예측: rarity, 이미지: pony (381).GIF\n"
     ]
    },
    {
     "name": "stderr",
     "output_type": "stream",
     "text": [
      "예측: pinkie pie, 이미지: pony (381).jpg\n",
      "예측: fluttershy, 이미지: pony (381).PNG\n",
      "예측: rainbow dash, 이미지: pony (382).GIF\n",
      "예측: rarity, 이미지: pony (382).jpg\n",
      "예측: rarity, 이미지: pony (382).PNG\n"
     ]
    },
    {
     "name": "stdout",
     "output_type": "stream",
     "text": [
      "예측: pinkie pie, 이미지: pony (381).jpg\n",
      "예측: fluttershy, 이미지: pony (381).PNG\n",
      "예측: rainbow dash, 이미지: pony (382).GIF\n",
      "예측: rarity, 이미지: pony (382).jpg\n",
      "예측: rarity, 이미지: pony (382).PNG\n"
     ]
    },
    {
     "name": "stderr",
     "output_type": "stream",
     "text": [
      "예측: fluttershy, 이미지: pony (383).GIF\n"
     ]
    },
    {
     "name": "stdout",
     "output_type": "stream",
     "text": [
      "예측: fluttershy, 이미지: pony (383).GIF\n"
     ]
    },
    {
     "name": "stderr",
     "output_type": "stream",
     "text": [
      "예측: twilight sparkle, 이미지: pony (383).jpg\n",
      "예측: pinkie pie, 이미지: pony (383).PNG\n",
      "예측: pinkie pie, 이미지: pony (384).GIF\n"
     ]
    },
    {
     "name": "stdout",
     "output_type": "stream",
     "text": [
      "예측: twilight sparkle, 이미지: pony (383).jpg\n",
      "예측: pinkie pie, 이미지: pony (383).PNG\n",
      "예측: pinkie pie, 이미지: pony (384).GIF\n"
     ]
    },
    {
     "name": "stderr",
     "output_type": "stream",
     "text": [
      "예측: twilight sparkle, 이미지: pony (384).jpg\n",
      "예측: pinkie pie, 이미지: pony (384).PNG\n",
      "예측: twilight sparkle, 이미지: pony (385).GIF\n"
     ]
    },
    {
     "name": "stdout",
     "output_type": "stream",
     "text": [
      "예측: twilight sparkle, 이미지: pony (384).jpg\n",
      "예측: pinkie pie, 이미지: pony (384).PNG\n",
      "예측: twilight sparkle, 이미지: pony (385).GIF\n"
     ]
    },
    {
     "name": "stderr",
     "output_type": "stream",
     "text": [
      "예측: twilight sparkle, 이미지: pony (385).jpg\n",
      "예측: twilight sparkle, 이미지: pony (385).PNG\n",
      "예측: rainbow dash, 이미지: pony (386).GIF\n",
      "예측: rarity, 이미지: pony (386).jpg\n",
      "예측: twilight sparkle, 이미지: pony (386).PNG\n",
      "예측: rainbow dash, 이미지: pony (387).GIF\n"
     ]
    },
    {
     "name": "stdout",
     "output_type": "stream",
     "text": [
      "예측: twilight sparkle, 이미지: pony (385).jpg\n",
      "예측: twilight sparkle, 이미지: pony (385).PNG\n",
      "예측: rainbow dash, 이미지: pony (386).GIF\n",
      "예측: rarity, 이미지: pony (386).jpg\n",
      "예측: twilight sparkle, 이미지: pony (386).PNG\n"
     ]
    },
    {
     "name": "stderr",
     "output_type": "stream",
     "text": [
      "예측: fluttershy, 이미지: pony (387).jpg\n",
      "예측: rainbow dash, 이미지: pony (387).PNG\n",
      "예측: pinkie pie, 이미지: pony (388).GIF\n",
      "예측: fluttershy, 이미지: pony (388).jpg\n",
      "예측: rainbow dash, 이미지: pony (388).PNG\n"
     ]
    },
    {
     "name": "stdout",
     "output_type": "stream",
     "text": [
      "예측: rainbow dash, 이미지: pony (387).GIF\n",
      "예측: fluttershy, 이미지: pony (387).jpg\n",
      "예측: rainbow dash, 이미지: pony (387).PNG\n",
      "예측: pinkie pie, 이미지: pony (388).GIF\n",
      "예측: fluttershy, 이미지: pony (388).jpg\n",
      "예측: rainbow dash, 이미지: pony (388).PNG\n"
     ]
    },
    {
     "name": "stderr",
     "output_type": "stream",
     "text": [
      "예측: fluttershy, 이미지: pony (389).GIF\n",
      "예측: rainbow dash, 이미지: pony (389).jpg\n",
      "예측: applejack, 이미지: pony (389).PNG\n"
     ]
    },
    {
     "name": "stdout",
     "output_type": "stream",
     "text": [
      "예측: fluttershy, 이미지: pony (389).GIF\n",
      "예측: rainbow dash, 이미지: pony (389).jpg\n",
      "예측: applejack, 이미지: pony (389).PNG\n"
     ]
    },
    {
     "name": "stderr",
     "output_type": "stream",
     "text": [
      "예측: pinkie pie, 이미지: pony (39).gif\n",
      "예측: twilight sparkle, 이미지: pony (39).jpg\n"
     ]
    },
    {
     "name": "stdout",
     "output_type": "stream",
     "text": [
      "예측: pinkie pie, 이미지: pony (39).gif\n",
      "예측: twilight sparkle, 이미지: pony (39).jpg\n"
     ]
    },
    {
     "name": "stderr",
     "output_type": "stream",
     "text": [
      "예측: twilight sparkle, 이미지: pony (39).png\n",
      "예측: fluttershy, 이미지: pony (390).GIF\n",
      "예측: pinkie pie, 이미지: pony (390).jpg\n"
     ]
    },
    {
     "name": "stdout",
     "output_type": "stream",
     "text": [
      "예측: twilight sparkle, 이미지: pony (39).png\n",
      "예측: fluttershy, 이미지: pony (390).GIF\n",
      "예측: pinkie pie, 이미지: pony (390).jpg\n"
     ]
    },
    {
     "name": "stderr",
     "output_type": "stream",
     "text": [
      "예측: rarity, 이미지: pony (390).PNG\n",
      "예측: rainbow dash, 이미지: pony (391).GIF\n",
      "예측: twilight sparkle, 이미지: pony (391).jpg\n",
      "예측: rainbow dash, 이미지: pony (391).PNG\n",
      "예측: rainbow dash, 이미지: pony (392).GIF\n"
     ]
    },
    {
     "name": "stdout",
     "output_type": "stream",
     "text": [
      "예측: rarity, 이미지: pony (390).PNG\n",
      "예측: rainbow dash, 이미지: pony (391).GIF\n",
      "예측: twilight sparkle, 이미지: pony (391).jpg\n",
      "예측: rainbow dash, 이미지: pony (391).PNG\n",
      "예측: rainbow dash, 이미지: pony (392).GIF\n"
     ]
    },
    {
     "name": "stderr",
     "output_type": "stream",
     "text": [
      "예측: twilight sparkle, 이미지: pony (392).jpg\n",
      "예측: fluttershy, 이미지: pony (392).PNG\n",
      "예측: pinkie pie, 이미지: pony (393).GIF\n",
      "예측: fluttershy, 이미지: pony (393).jpg\n"
     ]
    },
    {
     "name": "stdout",
     "output_type": "stream",
     "text": [
      "예측: twilight sparkle, 이미지: pony (392).jpg\n",
      "예측: fluttershy, 이미지: pony (392).PNG\n",
      "예측: pinkie pie, 이미지: pony (393).GIF\n",
      "예측: fluttershy, 이미지: pony (393).jpg\n"
     ]
    },
    {
     "name": "stderr",
     "output_type": "stream",
     "text": [
      "예측: rainbow dash, 이미지: pony (393).PNG\n",
      "예측: twilight sparkle, 이미지: pony (394).GIF\n",
      "예측: rainbow dash, 이미지: pony (394).jpg\n",
      "예측: applejack, 이미지: pony (394).PNG\n",
      "예측: twilight sparkle, 이미지: pony (395).GIF\n"
     ]
    },
    {
     "name": "stdout",
     "output_type": "stream",
     "text": [
      "예측: rainbow dash, 이미지: pony (393).PNG\n",
      "예측: twilight sparkle, 이미지: pony (394).GIF\n",
      "예측: rainbow dash, 이미지: pony (394).jpg\n",
      "예측: applejack, 이미지: pony (394).PNG\n",
      "예측: twilight sparkle, 이미지: pony (395).GIF\n"
     ]
    },
    {
     "name": "stderr",
     "output_type": "stream",
     "text": [
      "예측: twilight sparkle, 이미지: pony (395).jpg\n",
      "예측: twilight sparkle, 이미지: pony (395).PNG\n",
      "예측: twilight sparkle, 이미지: pony (396).GIF\n",
      "예측: twilight sparkle, 이미지: pony (396).jpg\n",
      "예측: applejack, 이미지: pony (396).PNG\n"
     ]
    },
    {
     "name": "stdout",
     "output_type": "stream",
     "text": [
      "예측: twilight sparkle, 이미지: pony (395).jpg\n",
      "예측: twilight sparkle, 이미지: pony (395).PNG\n",
      "예측: twilight sparkle, 이미지: pony (396).GIF\n",
      "예측: twilight sparkle, 이미지: pony (396).jpg\n"
     ]
    },
    {
     "name": "stderr",
     "output_type": "stream",
     "text": [
      "예측: twilight sparkle, 이미지: pony (397).GIF\n",
      "예측: rainbow dash, 이미지: pony (397).jpg\n",
      "예측: fluttershy, 이미지: pony (397).PNG\n",
      "예측: twilight sparkle, 이미지: pony (398).GIF\n"
     ]
    },
    {
     "name": "stdout",
     "output_type": "stream",
     "text": [
      "예측: applejack, 이미지: pony (396).PNG\n",
      "예측: twilight sparkle, 이미지: pony (397).GIF\n",
      "예측: rainbow dash, 이미지: pony (397).jpg\n",
      "예측: fluttershy, 이미지: pony (397).PNG\n",
      "예측: twilight sparkle, 이미지: pony (398).GIF\n"
     ]
    },
    {
     "name": "stderr",
     "output_type": "stream",
     "text": [
      "예측: twilight sparkle, 이미지: pony (398).jpg\n",
      "예측: fluttershy, 이미지: pony (398).PNG\n",
      "예측: twilight sparkle, 이미지: pony (399).GIF\n",
      "예측: rarity, 이미지: pony (399).jpg\n",
      "예측: rarity, 이미지: pony (399).PNG\n"
     ]
    },
    {
     "name": "stdout",
     "output_type": "stream",
     "text": [
      "예측: twilight sparkle, 이미지: pony (398).jpg\n",
      "예측: fluttershy, 이미지: pony (398).PNG\n",
      "예측: twilight sparkle, 이미지: pony (399).GIF\n",
      "예측: rarity, 이미지: pony (399).jpg\n",
      "예측: rarity, 이미지: pony (399).PNG\n"
     ]
    },
    {
     "name": "stderr",
     "output_type": "stream",
     "text": [
      "예측: twilight sparkle, 이미지: pony (4).gif\n",
      "예측: pinkie pie, 이미지: pony (4).jpeg\n"
     ]
    },
    {
     "name": "stdout",
     "output_type": "stream",
     "text": [
      "예측: twilight sparkle, 이미지: pony (4).gif\n",
      "예측: pinkie pie, 이미지: pony (4).jpeg\n"
     ]
    },
    {
     "name": "stderr",
     "output_type": "stream",
     "text": [
      "예측: applejack, 이미지: pony (4).jpg\n",
      "예측: pinkie pie, 이미지: pony (4).png\n",
      "예측: rarity, 이미지: pony (4).webp\n",
      "예측: fluttershy, 이미지: pony (40).gif\n"
     ]
    },
    {
     "name": "stdout",
     "output_type": "stream",
     "text": [
      "예측: applejack, 이미지: pony (4).jpg\n",
      "예측: pinkie pie, 이미지: pony (4).png\n",
      "예측: rarity, 이미지: pony (4).webp\n",
      "예측: fluttershy, 이미지: pony (40).gif\n"
     ]
    },
    {
     "name": "stderr",
     "output_type": "stream",
     "text": [
      "예측: fluttershy, 이미지: pony (40).jpg\n"
     ]
    },
    {
     "name": "stdout",
     "output_type": "stream",
     "text": [
      "예측: fluttershy, 이미지: pony (40).jpg\n"
     ]
    },
    {
     "name": "stderr",
     "output_type": "stream",
     "text": [
      "예측: pinkie pie, 이미지: pony (40).png\n",
      "예측: twilight sparkle, 이미지: pony (400).GIF\n",
      "예측: twilight sparkle, 이미지: pony (400).jpg\n",
      "예측: rarity, 이미지: pony (400).PNG\n",
      "예측: rarity, 이미지: pony (401).GIF\n"
     ]
    },
    {
     "name": "stdout",
     "output_type": "stream",
     "text": [
      "예측: pinkie pie, 이미지: pony (40).png\n",
      "예측: twilight sparkle, 이미지: pony (400).GIF\n",
      "예측: twilight sparkle, 이미지: pony (400).jpg\n",
      "예측: rarity, 이미지: pony (400).PNG\n",
      "예측: rarity, 이미지: pony (401).GIF\n"
     ]
    },
    {
     "name": "stderr",
     "output_type": "stream",
     "text": [
      "예측: twilight sparkle, 이미지: pony (401).jpg\n",
      "예측: twilight sparkle, 이미지: pony (401).PNG\n",
      "예측: twilight sparkle, 이미지: pony (402).GIF\n",
      "예측: pinkie pie, 이미지: pony (402).jpg\n",
      "예측: rainbow dash, 이미지: pony (402).PNG\n"
     ]
    },
    {
     "name": "stdout",
     "output_type": "stream",
     "text": [
      "예측: twilight sparkle, 이미지: pony (401).jpg\n",
      "예측: twilight sparkle, 이미지: pony (401).PNG\n",
      "예측: twilight sparkle, 이미지: pony (402).GIF\n",
      "예측: pinkie pie, 이미지: pony (402).jpg\n",
      "예측: rainbow dash, 이미지: pony (402).PNG\n"
     ]
    },
    {
     "name": "stderr",
     "output_type": "stream",
     "text": [
      "예측: twilight sparkle, 이미지: pony (403).GIF\n",
      "예측: pinkie pie, 이미지: pony (403).jpg\n",
      "예측: applejack, 이미지: pony (403).PNG\n",
      "예측: twilight sparkle, 이미지: pony (404).GIF\n",
      "예측: fluttershy, 이미지: pony (404).jpg\n"
     ]
    },
    {
     "name": "stdout",
     "output_type": "stream",
     "text": [
      "예측: twilight sparkle, 이미지: pony (403).GIF\n",
      "예측: pinkie pie, 이미지: pony (403).jpg\n",
      "예측: applejack, 이미지: pony (403).PNG\n",
      "예측: twilight sparkle, 이미지: pony (404).GIF\n"
     ]
    },
    {
     "name": "stderr",
     "output_type": "stream",
     "text": [
      "예측: applejack, 이미지: pony (404).PNG\n",
      "예측: twilight sparkle, 이미지: pony (405).GIF\n",
      "예측: fluttershy, 이미지: pony (405).jpg\n",
      "예측: fluttershy, 이미지: pony (405).PNG\n",
      "예측: twilight sparkle, 이미지: pony (406).GIF\n"
     ]
    },
    {
     "name": "stdout",
     "output_type": "stream",
     "text": [
      "예측: fluttershy, 이미지: pony (404).jpg\n",
      "예측: applejack, 이미지: pony (404).PNG\n",
      "예측: twilight sparkle, 이미지: pony (405).GIF\n",
      "예측: fluttershy, 이미지: pony (405).jpg\n",
      "예측: fluttershy, 이미지: pony (405).PNG\n"
     ]
    },
    {
     "name": "stderr",
     "output_type": "stream",
     "text": [
      "예측: pinkie pie, 이미지: pony (406).jpg\n",
      "예측: twilight sparkle, 이미지: pony (406).PNG\n"
     ]
    },
    {
     "name": "stdout",
     "output_type": "stream",
     "text": [
      "예측: twilight sparkle, 이미지: pony (406).GIF\n",
      "예측: pinkie pie, 이미지: pony (406).jpg\n",
      "예측: twilight sparkle, 이미지: pony (406).PNG\n"
     ]
    },
    {
     "name": "stderr",
     "output_type": "stream",
     "text": [
      "예측: twilight sparkle, 이미지: pony (407).GIF\n",
      "예측: pinkie pie, 이미지: pony (407).jpg\n",
      "예측: fluttershy, 이미지: pony (407).PNG\n",
      "예측: twilight sparkle, 이미지: pony (408).GIF\n"
     ]
    },
    {
     "name": "stdout",
     "output_type": "stream",
     "text": [
      "예측: twilight sparkle, 이미지: pony (407).GIF\n",
      "예측: pinkie pie, 이미지: pony (407).jpg\n",
      "예측: fluttershy, 이미지: pony (407).PNG\n",
      "예측: twilight sparkle, 이미지: pony (408).GIF\n"
     ]
    },
    {
     "name": "stderr",
     "output_type": "stream",
     "text": [
      "예측: applejack, 이미지: pony (408).jpg\n",
      "예측: rainbow dash, 이미지: pony (408).PNG\n",
      "예측: twilight sparkle, 이미지: pony (409).GIF\n",
      "예측: twilight sparkle, 이미지: pony (409).jpg\n"
     ]
    },
    {
     "name": "stdout",
     "output_type": "stream",
     "text": [
      "예측: applejack, 이미지: pony (408).jpg\n",
      "예측: rainbow dash, 이미지: pony (408).PNG\n",
      "예측: twilight sparkle, 이미지: pony (409).GIF\n",
      "예측: twilight sparkle, 이미지: pony (409).jpg\n"
     ]
    },
    {
     "name": "stderr",
     "output_type": "stream",
     "text": [
      "예측: twilight sparkle, 이미지: pony (409).PNG\n",
      "예측: rarity, 이미지: pony (41).gif\n",
      "예측: twilight sparkle, 이미지: pony (41).jpg\n"
     ]
    },
    {
     "name": "stdout",
     "output_type": "stream",
     "text": [
      "예측: twilight sparkle, 이미지: pony (409).PNG\n",
      "예측: rarity, 이미지: pony (41).gif\n",
      "예측: twilight sparkle, 이미지: pony (41).jpg\n"
     ]
    },
    {
     "name": "stderr",
     "output_type": "stream",
     "text": [
      "예측: pinkie pie, 이미지: pony (41).png\n",
      "예측: twilight sparkle, 이미지: pony (410).GIF\n",
      "예측: applejack, 이미지: pony (410).jpg\n",
      "예측: rarity, 이미지: pony (410).PNG\n",
      "예측: twilight sparkle, 이미지: pony (411).GIF\n",
      "예측: pinkie pie, 이미지: pony (411).jpg\n"
     ]
    },
    {
     "name": "stdout",
     "output_type": "stream",
     "text": [
      "예측: pinkie pie, 이미지: pony (41).png\n",
      "예측: twilight sparkle, 이미지: pony (410).GIF\n",
      "예측: applejack, 이미지: pony (410).jpg\n",
      "예측: rarity, 이미지: pony (410).PNG\n",
      "예측: twilight sparkle, 이미지: pony (411).GIF\n"
     ]
    },
    {
     "name": "stderr",
     "output_type": "stream",
     "text": [
      "예측: applejack, 이미지: pony (411).PNG\n",
      "예측: twilight sparkle, 이미지: pony (412).GIF\n",
      "예측: twilight sparkle, 이미지: pony (412).jpg\n",
      "예측: pinkie pie, 이미지: pony (412).PNG\n",
      "예측: twilight sparkle, 이미지: pony (413).GIF\n"
     ]
    },
    {
     "name": "stdout",
     "output_type": "stream",
     "text": [
      "예측: pinkie pie, 이미지: pony (411).jpg\n",
      "예측: applejack, 이미지: pony (411).PNG\n",
      "예측: twilight sparkle, 이미지: pony (412).GIF\n",
      "예측: twilight sparkle, 이미지: pony (412).jpg\n",
      "예측: pinkie pie, 이미지: pony (412).PNG\n",
      "예측: twilight sparkle, 이미지: pony (413).GIF\n"
     ]
    },
    {
     "name": "stderr",
     "output_type": "stream",
     "text": [
      "예측: pinkie pie, 이미지: pony (413).jpg\n",
      "예측: fluttershy, 이미지: pony (413).PNG\n",
      "예측: twilight sparkle, 이미지: pony (414).GIF\n"
     ]
    },
    {
     "name": "stdout",
     "output_type": "stream",
     "text": [
      "예측: pinkie pie, 이미지: pony (413).jpg\n",
      "예측: fluttershy, 이미지: pony (413).PNG\n",
      "예측: twilight sparkle, 이미지: pony (414).GIF\n"
     ]
    },
    {
     "name": "stderr",
     "output_type": "stream",
     "text": [
      "예측: twilight sparkle, 이미지: pony (414).jpg\n",
      "예측: fluttershy, 이미지: pony (414).PNG\n",
      "예측: twilight sparkle, 이미지: pony (415).GIF\n"
     ]
    },
    {
     "name": "stdout",
     "output_type": "stream",
     "text": [
      "예측: twilight sparkle, 이미지: pony (414).jpg\n",
      "예측: fluttershy, 이미지: pony (414).PNG\n",
      "예측: twilight sparkle, 이미지: pony (415).GIF\n"
     ]
    },
    {
     "name": "stderr",
     "output_type": "stream",
     "text": [
      "예측: rarity, 이미지: pony (415).jpg\n",
      "예측: rainbow dash, 이미지: pony (415).PNG\n",
      "예측: twilight sparkle, 이미지: pony (416).GIF\n"
     ]
    },
    {
     "name": "stdout",
     "output_type": "stream",
     "text": [
      "예측: rarity, 이미지: pony (415).jpg\n",
      "예측: rainbow dash, 이미지: pony (415).PNG\n",
      "예측: twilight sparkle, 이미지: pony (416).GIF\n"
     ]
    },
    {
     "name": "stderr",
     "output_type": "stream",
     "text": [
      "예측: rarity, 이미지: pony (416).jpg\n",
      "예측: applejack, 이미지: pony (416).PNG\n",
      "예측: twilight sparkle, 이미지: pony (417).GIF\n",
      "예측: applejack, 이미지: pony (417).jpg\n"
     ]
    },
    {
     "name": "stdout",
     "output_type": "stream",
     "text": [
      "예측: rarity, 이미지: pony (416).jpg\n",
      "예측: applejack, 이미지: pony (416).PNG\n",
      "예측: twilight sparkle, 이미지: pony (417).GIF\n",
      "예측: applejack, 이미지: pony (417).jpg\n"
     ]
    },
    {
     "name": "stderr",
     "output_type": "stream",
     "text": [
      "예측: applejack, 이미지: pony (417).PNG\n",
      "예측: twilight sparkle, 이미지: pony (418).GIF\n",
      "예측: twilight sparkle, 이미지: pony (418).jpg\n"
     ]
    },
    {
     "name": "stdout",
     "output_type": "stream",
     "text": [
      "예측: applejack, 이미지: pony (417).PNG\n",
      "예측: twilight sparkle, 이미지: pony (418).GIF\n",
      "예측: twilight sparkle, 이미지: pony (418).jpg\n"
     ]
    },
    {
     "name": "stderr",
     "output_type": "stream",
     "text": [
      "예측: twilight sparkle, 이미지: pony (418).PNG\n",
      "예측: twilight sparkle, 이미지: pony (419).GIF\n",
      "예측: twilight sparkle, 이미지: pony (419).jpg\n",
      "예측: rainbow dash, 이미지: pony (419).PNG\n",
      "예측: pinkie pie, 이미지: pony (42).gif\n"
     ]
    },
    {
     "name": "stdout",
     "output_type": "stream",
     "text": [
      "예측: twilight sparkle, 이미지: pony (418).PNG\n",
      "예측: twilight sparkle, 이미지: pony (419).GIF\n",
      "예측: twilight sparkle, 이미지: pony (419).jpg\n",
      "예측: rainbow dash, 이미지: pony (419).PNG\n"
     ]
    },
    {
     "name": "stderr",
     "output_type": "stream",
     "text": [
      "예측: applejack, 이미지: pony (42).jpg\n"
     ]
    },
    {
     "name": "stdout",
     "output_type": "stream",
     "text": [
      "예측: pinkie pie, 이미지: pony (42).gif\n",
      "예측: applejack, 이미지: pony (42).jpg\n"
     ]
    },
    {
     "name": "stderr",
     "output_type": "stream",
     "text": [
      "예측: pinkie pie, 이미지: pony (42).png\n",
      "예측: twilight sparkle, 이미지: pony (420).GIF\n"
     ]
    },
    {
     "name": "stdout",
     "output_type": "stream",
     "text": [
      "예측: pinkie pie, 이미지: pony (42).png\n",
      "예측: twilight sparkle, 이미지: pony (420).GIF\n"
     ]
    },
    {
     "name": "stderr",
     "output_type": "stream",
     "text": [
      "예측: fluttershy, 이미지: pony (420).jpg\n",
      "예측: twilight sparkle, 이미지: pony (420).PNG\n",
      "예측: twilight sparkle, 이미지: pony (421).GIF\n",
      "예측: twilight sparkle, 이미지: pony (421).jpg\n",
      "예측: rarity, 이미지: pony (421).PNG\n",
      "예측: twilight sparkle, 이미지: pony (422).GIF\n"
     ]
    },
    {
     "name": "stdout",
     "output_type": "stream",
     "text": [
      "예측: fluttershy, 이미지: pony (420).jpg\n",
      "예측: twilight sparkle, 이미지: pony (420).PNG\n",
      "예측: twilight sparkle, 이미지: pony (421).GIF\n",
      "예측: twilight sparkle, 이미지: pony (421).jpg\n",
      "예측: rarity, 이미지: pony (421).PNG\n"
     ]
    },
    {
     "name": "stderr",
     "output_type": "stream",
     "text": [
      "예측: applejack, 이미지: pony (422).jpg\n",
      "예측: rarity, 이미지: pony (422).png\n",
      "예측: twilight sparkle, 이미지: pony (423).GIF\n"
     ]
    },
    {
     "name": "stdout",
     "output_type": "stream",
     "text": [
      "예측: twilight sparkle, 이미지: pony (422).GIF\n",
      "예측: applejack, 이미지: pony (422).jpg\n",
      "예측: rarity, 이미지: pony (422).png\n",
      "예측: twilight sparkle, 이미지: pony (423).GIF\n"
     ]
    },
    {
     "name": "stderr",
     "output_type": "stream",
     "text": [
      "예측: rarity, 이미지: pony (423).jpg\n",
      "예측: applejack, 이미지: pony (423).png\n",
      "예측: twilight sparkle, 이미지: pony (424).GIF\n"
     ]
    },
    {
     "name": "stdout",
     "output_type": "stream",
     "text": [
      "예측: rarity, 이미지: pony (423).jpg\n",
      "예측: applejack, 이미지: pony (423).png\n",
      "예측: twilight sparkle, 이미지: pony (424).GIF\n"
     ]
    },
    {
     "name": "stderr",
     "output_type": "stream",
     "text": [
      "예측: fluttershy, 이미지: pony (424).jpg\n",
      "예측: rainbow dash, 이미지: pony (424).png\n",
      "예측: twilight sparkle, 이미지: pony (425).GIF\n"
     ]
    },
    {
     "name": "stdout",
     "output_type": "stream",
     "text": [
      "예측: fluttershy, 이미지: pony (424).jpg\n",
      "예측: rainbow dash, 이미지: pony (424).png\n",
      "예측: twilight sparkle, 이미지: pony (425).GIF\n"
     ]
    },
    {
     "name": "stderr",
     "output_type": "stream",
     "text": [
      "예측: fluttershy, 이미지: pony (425).jpg\n"
     ]
    },
    {
     "name": "stdout",
     "output_type": "stream",
     "text": [
      "예측: fluttershy, 이미지: pony (425).jpg\n"
     ]
    },
    {
     "name": "stderr",
     "output_type": "stream",
     "text": [
      "예측: rarity, 이미지: pony (425).png\n",
      "예측: twilight sparkle, 이미지: pony (426).GIF\n"
     ]
    },
    {
     "name": "stdout",
     "output_type": "stream",
     "text": [
      "예측: rarity, 이미지: pony (425).png\n",
      "예측: twilight sparkle, 이미지: pony (426).GIF\n"
     ]
    },
    {
     "name": "stderr",
     "output_type": "stream",
     "text": [
      "예측: applejack, 이미지: pony (426).jpg\n",
      "예측: twilight sparkle, 이미지: pony (426).png\n",
      "예측: twilight sparkle, 이미지: pony (427).GIF\n",
      "예측: pinkie pie, 이미지: pony (427).jpg\n",
      "예측: pinkie pie, 이미지: pony (427).png\n",
      "예측: twilight sparkle, 이미지: pony (428).GIF\n"
     ]
    },
    {
     "name": "stdout",
     "output_type": "stream",
     "text": [
      "예측: applejack, 이미지: pony (426).jpg\n",
      "예측: twilight sparkle, 이미지: pony (426).png\n",
      "예측: twilight sparkle, 이미지: pony (427).GIF\n",
      "예측: pinkie pie, 이미지: pony (427).jpg\n",
      "예측: pinkie pie, 이미지: pony (427).png\n",
      "예측: twilight sparkle, 이미지: pony (428).GIF\n"
     ]
    },
    {
     "name": "stderr",
     "output_type": "stream",
     "text": [
      "예측: pinkie pie, 이미지: pony (428).jpg\n",
      "예측: rainbow dash, 이미지: pony (428).png\n",
      "예측: twilight sparkle, 이미지: pony (429).GIF\n"
     ]
    },
    {
     "name": "stdout",
     "output_type": "stream",
     "text": [
      "예측: pinkie pie, 이미지: pony (428).jpg\n",
      "예측: rainbow dash, 이미지: pony (428).png\n",
      "예측: twilight sparkle, 이미지: pony (429).GIF\n"
     ]
    },
    {
     "name": "stderr",
     "output_type": "stream",
     "text": [
      "예측: twilight sparkle, 이미지: pony (429).jpg\n"
     ]
    },
    {
     "name": "stdout",
     "output_type": "stream",
     "text": [
      "예측: twilight sparkle, 이미지: pony (429).jpg\n"
     ]
    },
    {
     "name": "stderr",
     "output_type": "stream",
     "text": [
      "예측: applejack, 이미지: pony (429).png\n",
      "예측: rainbow dash, 이미지: pony (43).gif\n",
      "예측: fluttershy, 이미지: pony (43).jpg\n"
     ]
    },
    {
     "name": "stdout",
     "output_type": "stream",
     "text": [
      "예측: applejack, 이미지: pony (429).png\n",
      "예측: rainbow dash, 이미지: pony (43).gif\n",
      "예측: fluttershy, 이미지: pony (43).jpg\n"
     ]
    },
    {
     "name": "stderr",
     "output_type": "stream",
     "text": [
      "예측: twilight sparkle, 이미지: pony (43).png\n",
      "예측: twilight sparkle, 이미지: pony (430).GIF\n",
      "예측: twilight sparkle, 이미지: pony (430).jpg\n",
      "예측: twilight sparkle, 이미지: pony (430).png\n"
     ]
    },
    {
     "name": "stdout",
     "output_type": "stream",
     "text": [
      "예측: twilight sparkle, 이미지: pony (43).png\n",
      "예측: twilight sparkle, 이미지: pony (430).GIF\n",
      "예측: twilight sparkle, 이미지: pony (430).jpg\n",
      "예측: twilight sparkle, 이미지: pony (430).png\n"
     ]
    },
    {
     "name": "stderr",
     "output_type": "stream",
     "text": [
      "예측: twilight sparkle, 이미지: pony (431).GIF\n",
      "예측: twilight sparkle, 이미지: pony (431).jpg\n"
     ]
    },
    {
     "name": "stdout",
     "output_type": "stream",
     "text": [
      "예측: twilight sparkle, 이미지: pony (431).GIF\n",
      "예측: twilight sparkle, 이미지: pony (431).jpg\n"
     ]
    },
    {
     "name": "stderr",
     "output_type": "stream",
     "text": [
      "예측: rarity, 이미지: pony (431).png\n",
      "예측: rainbow dash, 이미지: pony (432).GIF\n",
      "예측: twilight sparkle, 이미지: pony (432).jpg\n",
      "예측: twilight sparkle, 이미지: pony (432).png\n",
      "예측: rainbow dash, 이미지: pony (433).GIF\n"
     ]
    },
    {
     "name": "stdout",
     "output_type": "stream",
     "text": [
      "예측: rarity, 이미지: pony (431).png\n",
      "예측: rainbow dash, 이미지: pony (432).GIF\n",
      "예측: twilight sparkle, 이미지: pony (432).jpg\n",
      "예측: twilight sparkle, 이미지: pony (432).png\n",
      "예측: rainbow dash, 이미지: pony (433).GIF\n"
     ]
    },
    {
     "name": "stderr",
     "output_type": "stream",
     "text": [
      "예측: fluttershy, 이미지: pony (433).jpg\n",
      "예측: rarity, 이미지: pony (433).png\n",
      "예측: fluttershy, 이미지: pony (434).GIF\n",
      "예측: rainbow dash, 이미지: pony (434).jpg\n"
     ]
    },
    {
     "name": "stdout",
     "output_type": "stream",
     "text": [
      "예측: fluttershy, 이미지: pony (433).jpg\n",
      "예측: rarity, 이미지: pony (433).png\n",
      "예측: fluttershy, 이미지: pony (434).GIF\n",
      "예측: rainbow dash, 이미지: pony (434).jpg\n"
     ]
    },
    {
     "name": "stderr",
     "output_type": "stream",
     "text": [
      "예측: twilight sparkle, 이미지: pony (434).png\n",
      "예측: pinkie pie, 이미지: pony (435).GIF\n",
      "예측: rarity, 이미지: pony (435).jpg\n",
      "예측: rainbow dash, 이미지: pony (435).png\n",
      "예측: rarity, 이미지: pony (436).GIF\n"
     ]
    },
    {
     "name": "stdout",
     "output_type": "stream",
     "text": [
      "예측: twilight sparkle, 이미지: pony (434).png\n",
      "예측: pinkie pie, 이미지: pony (435).GIF\n",
      "예측: rarity, 이미지: pony (435).jpg\n",
      "예측: rainbow dash, 이미지: pony (435).png\n",
      "예측: rarity, 이미지: pony (436).GIF\n"
     ]
    },
    {
     "name": "stderr",
     "output_type": "stream",
     "text": [
      "예측: applejack, 이미지: pony (436).jpg\n",
      "예측: rarity, 이미지: pony (436).png\n",
      "예측: applejack, 이미지: pony (437).GIF\n",
      "예측: fluttershy, 이미지: pony (437).jpg\n"
     ]
    },
    {
     "name": "stdout",
     "output_type": "stream",
     "text": [
      "예측: applejack, 이미지: pony (436).jpg\n",
      "예측: rarity, 이미지: pony (436).png\n",
      "예측: applejack, 이미지: pony (437).GIF\n",
      "예측: fluttershy, 이미지: pony (437).jpg\n"
     ]
    },
    {
     "name": "stderr",
     "output_type": "stream",
     "text": [
      "예측: rarity, 이미지: pony (437).png\n",
      "예측: twilight sparkle, 이미지: pony (438).GIF\n",
      "예측: twilight sparkle, 이미지: pony (438).jpg\n",
      "예측: pinkie pie, 이미지: pony (438).png\n",
      "예측: applejack, 이미지: pony (439).GIF\n"
     ]
    },
    {
     "name": "stdout",
     "output_type": "stream",
     "text": [
      "예측: rarity, 이미지: pony (437).png\n",
      "예측: twilight sparkle, 이미지: pony (438).GIF\n",
      "예측: twilight sparkle, 이미지: pony (438).jpg\n",
      "예측: pinkie pie, 이미지: pony (438).png\n",
      "예측: applejack, 이미지: pony (439).GIF\n"
     ]
    },
    {
     "name": "stderr",
     "output_type": "stream",
     "text": [
      "예측: rainbow dash, 이미지: pony (439).jpg\n",
      "예측: rarity, 이미지: pony (439).png\n",
      "예측: rainbow dash, 이미지: pony (44).gif\n",
      "예측: twilight sparkle, 이미지: pony (44).jpg\n"
     ]
    },
    {
     "name": "stdout",
     "output_type": "stream",
     "text": [
      "예측: rainbow dash, 이미지: pony (439).jpg\n",
      "예측: rarity, 이미지: pony (439).png\n",
      "예측: rainbow dash, 이미지: pony (44).gif\n",
      "예측: twilight sparkle, 이미지: pony (44).jpg\n"
     ]
    },
    {
     "name": "stderr",
     "output_type": "stream",
     "text": [
      "예측: twilight sparkle, 이미지: pony (44).png\n",
      "예측: pinkie pie, 이미지: pony (440).GIF\n",
      "예측: pinkie pie, 이미지: pony (440).jpg\n",
      "예측: twilight sparkle, 이미지: pony (440).png\n",
      "예측: applejack, 이미지: pony (441).GIF\n"
     ]
    },
    {
     "name": "stdout",
     "output_type": "stream",
     "text": [
      "예측: twilight sparkle, 이미지: pony (44).png\n",
      "예측: pinkie pie, 이미지: pony (440).GIF\n",
      "예측: pinkie pie, 이미지: pony (440).jpg\n",
      "예측: twilight sparkle, 이미지: pony (440).png\n",
      "예측: applejack, 이미지: pony (441).GIF\n"
     ]
    },
    {
     "name": "stderr",
     "output_type": "stream",
     "text": [
      "예측: rarity, 이미지: pony (441).jpg\n",
      "예측: pinkie pie, 이미지: pony (441).png\n",
      "예측: twilight sparkle, 이미지: pony (442).GIF\n"
     ]
    },
    {
     "name": "stdout",
     "output_type": "stream",
     "text": [
      "예측: rarity, 이미지: pony (441).jpg\n",
      "예측: pinkie pie, 이미지: pony (441).png\n",
      "예측: twilight sparkle, 이미지: pony (442).GIF\n"
     ]
    },
    {
     "name": "stderr",
     "output_type": "stream",
     "text": [
      "예측: twilight sparkle, 이미지: pony (442).jpg\n",
      "예측: twilight sparkle, 이미지: pony (442).png\n",
      "예측: fluttershy, 이미지: pony (443).GIF\n"
     ]
    },
    {
     "name": "stdout",
     "output_type": "stream",
     "text": [
      "예측: twilight sparkle, 이미지: pony (442).jpg\n",
      "예측: twilight sparkle, 이미지: pony (442).png\n",
      "예측: fluttershy, 이미지: pony (443).GIF\n"
     ]
    },
    {
     "name": "stderr",
     "output_type": "stream",
     "text": [
      "예측: rarity, 이미지: pony (443).jpg\n",
      "예측: rarity, 이미지: pony (443).png\n",
      "예측: twilight sparkle, 이미지: pony (444).GIF\n",
      "예측: rarity, 이미지: pony (444).jpg\n"
     ]
    },
    {
     "name": "stdout",
     "output_type": "stream",
     "text": [
      "예측: rarity, 이미지: pony (443).jpg\n",
      "예측: rarity, 이미지: pony (443).png\n",
      "예측: twilight sparkle, 이미지: pony (444).GIF\n",
      "예측: rarity, 이미지: pony (444).jpg\n"
     ]
    },
    {
     "name": "stderr",
     "output_type": "stream",
     "text": [
      "예측: fluttershy, 이미지: pony (444).png\n",
      "예측: twilight sparkle, 이미지: pony (445).GIF\n"
     ]
    },
    {
     "name": "stdout",
     "output_type": "stream",
     "text": [
      "예측: fluttershy, 이미지: pony (444).png\n",
      "예측: twilight sparkle, 이미지: pony (445).GIF\n"
     ]
    },
    {
     "name": "stderr",
     "output_type": "stream",
     "text": [
      "예측: applejack, 이미지: pony (445).jpg\n"
     ]
    },
    {
     "name": "stdout",
     "output_type": "stream",
     "text": [
      "예측: applejack, 이미지: pony (445).jpg\n"
     ]
    },
    {
     "name": "stderr",
     "output_type": "stream",
     "text": [
      "예측: applejack, 이미지: pony (445).png\n",
      "예측: twilight sparkle, 이미지: pony (446).GIF\n",
      "예측: fluttershy, 이미지: pony (446).jpg\n"
     ]
    },
    {
     "name": "stdout",
     "output_type": "stream",
     "text": [
      "예측: applejack, 이미지: pony (445).png\n",
      "예측: twilight sparkle, 이미지: pony (446).GIF\n",
      "예측: fluttershy, 이미지: pony (446).jpg\n"
     ]
    },
    {
     "name": "stderr",
     "output_type": "stream",
     "text": [
      "예측: twilight sparkle, 이미지: pony (446).png\n",
      "예측: rainbow dash, 이미지: pony (447).GIF\n",
      "예측: rarity, 이미지: pony (447).jpg\n",
      "예측: twilight sparkle, 이미지: pony (447).png\n"
     ]
    },
    {
     "name": "stdout",
     "output_type": "stream",
     "text": [
      "예측: twilight sparkle, 이미지: pony (446).png\n",
      "예측: rainbow dash, 이미지: pony (447).GIF\n",
      "예측: rarity, 이미지: pony (447).jpg\n",
      "예측: twilight sparkle, 이미지: pony (447).png\n"
     ]
    },
    {
     "name": "stderr",
     "output_type": "stream",
     "text": [
      "예측: applejack, 이미지: pony (448).GIF\n",
      "예측: fluttershy, 이미지: pony (448).jpg\n",
      "예측: fluttershy, 이미지: pony (448).png\n",
      "예측: fluttershy, 이미지: pony (449).GIF\n"
     ]
    },
    {
     "name": "stdout",
     "output_type": "stream",
     "text": [
      "예측: applejack, 이미지: pony (448).GIF\n",
      "예측: fluttershy, 이미지: pony (448).jpg\n",
      "예측: fluttershy, 이미지: pony (448).png\n",
      "예측: fluttershy, 이미지: pony (449).GIF\n"
     ]
    },
    {
     "name": "stderr",
     "output_type": "stream",
     "text": [
      "예측: twilight sparkle, 이미지: pony (449).jpg\n"
     ]
    },
    {
     "name": "stdout",
     "output_type": "stream",
     "text": [
      "예측: twilight sparkle, 이미지: pony (449).jpg\n"
     ]
    },
    {
     "name": "stderr",
     "output_type": "stream",
     "text": [
      "예측: twilight sparkle, 이미지: pony (449).png\n",
      "예측: fluttershy, 이미지: pony (45).gif\n"
     ]
    },
    {
     "name": "stdout",
     "output_type": "stream",
     "text": [
      "예측: twilight sparkle, 이미지: pony (449).png\n",
      "예측: fluttershy, 이미지: pony (45).gif\n"
     ]
    },
    {
     "name": "stderr",
     "output_type": "stream",
     "text": [
      "예측: fluttershy, 이미지: pony (45).jpg\n"
     ]
    },
    {
     "name": "stdout",
     "output_type": "stream",
     "text": [
      "예측: fluttershy, 이미지: pony (45).jpg\n"
     ]
    },
    {
     "name": "stderr",
     "output_type": "stream",
     "text": [
      "예측: twilight sparkle, 이미지: pony (45).png\n",
      "예측: pinkie pie, 이미지: pony (450).GIF\n",
      "예측: applejack, 이미지: pony (450).jpg\n"
     ]
    },
    {
     "name": "stdout",
     "output_type": "stream",
     "text": [
      "예측: twilight sparkle, 이미지: pony (45).png\n",
      "예측: pinkie pie, 이미지: pony (450).GIF\n",
      "예측: applejack, 이미지: pony (450).jpg\n"
     ]
    },
    {
     "name": "stderr",
     "output_type": "stream",
     "text": [
      "예측: pinkie pie, 이미지: pony (450).png\n",
      "예측: rainbow dash, 이미지: pony (451).GIF\n",
      "예측: fluttershy, 이미지: pony (451).jpg\n"
     ]
    },
    {
     "name": "stdout",
     "output_type": "stream",
     "text": [
      "예측: pinkie pie, 이미지: pony (450).png\n",
      "예측: rainbow dash, 이미지: pony (451).GIF\n",
      "예측: fluttershy, 이미지: pony (451).jpg\n"
     ]
    },
    {
     "name": "stderr",
     "output_type": "stream",
     "text": [
      "예측: twilight sparkle, 이미지: pony (451).png\n",
      "예측: rainbow dash, 이미지: pony (452).GIF\n"
     ]
    },
    {
     "name": "stdout",
     "output_type": "stream",
     "text": [
      "예측: twilight sparkle, 이미지: pony (451).png\n",
      "예측: rainbow dash, 이미지: pony (452).GIF\n"
     ]
    },
    {
     "name": "stderr",
     "output_type": "stream",
     "text": [
      "예측: pinkie pie, 이미지: pony (452).jpg\n",
      "예측: twilight sparkle, 이미지: pony (452).png\n",
      "예측: twilight sparkle, 이미지: pony (453).GIF\n",
      "예측: twilight sparkle, 이미지: pony (453).jpg\n"
     ]
    },
    {
     "name": "stdout",
     "output_type": "stream",
     "text": [
      "예측: pinkie pie, 이미지: pony (452).jpg\n",
      "예측: twilight sparkle, 이미지: pony (452).png\n",
      "예측: twilight sparkle, 이미지: pony (453).GIF\n",
      "예측: twilight sparkle, 이미지: pony (453).jpg\n"
     ]
    },
    {
     "name": "stderr",
     "output_type": "stream",
     "text": [
      "예측: applejack, 이미지: pony (453).png\n",
      "예측: pinkie pie, 이미지: pony (454).GIF\n",
      "예측: pinkie pie, 이미지: pony (454).jpg\n",
      "예측: rainbow dash, 이미지: pony (454).png\n",
      "예측: applejack, 이미지: pony (455).GIF\n"
     ]
    },
    {
     "name": "stdout",
     "output_type": "stream",
     "text": [
      "예측: applejack, 이미지: pony (453).png\n",
      "예측: pinkie pie, 이미지: pony (454).GIF\n",
      "예측: pinkie pie, 이미지: pony (454).jpg\n",
      "예측: rainbow dash, 이미지: pony (454).png\n"
     ]
    },
    {
     "name": "stderr",
     "output_type": "stream",
     "text": [
      "예측: rarity, 이미지: pony (455).jpg\n"
     ]
    },
    {
     "name": "stdout",
     "output_type": "stream",
     "text": [
      "예측: applejack, 이미지: pony (455).GIF\n",
      "예측: rarity, 이미지: pony (455).jpg\n"
     ]
    },
    {
     "name": "stderr",
     "output_type": "stream",
     "text": [
      "예측: rarity, 이미지: pony (455).png\n",
      "예측: twilight sparkle, 이미지: pony (456).GIF\n",
      "예측: rarity, 이미지: pony (456).jpg\n"
     ]
    },
    {
     "name": "stdout",
     "output_type": "stream",
     "text": [
      "예측: rarity, 이미지: pony (455).png\n",
      "예측: twilight sparkle, 이미지: pony (456).GIF\n",
      "예측: rarity, 이미지: pony (456).jpg\n"
     ]
    },
    {
     "name": "stderr",
     "output_type": "stream",
     "text": [
      "예측: fluttershy, 이미지: pony (456).png\n",
      "예측: rarity, 이미지: pony (457).GIF\n",
      "예측: rarity, 이미지: pony (457).jpg\n"
     ]
    },
    {
     "name": "stdout",
     "output_type": "stream",
     "text": [
      "예측: fluttershy, 이미지: pony (456).png\n",
      "예측: rarity, 이미지: pony (457).GIF\n",
      "예측: rarity, 이미지: pony (457).jpg\n"
     ]
    },
    {
     "name": "stderr",
     "output_type": "stream",
     "text": [
      "예측: rarity, 이미지: pony (457).png\n",
      "예측: rainbow dash, 이미지: pony (458).GIF\n",
      "예측: twilight sparkle, 이미지: pony (458).jpg\n",
      "예측: twilight sparkle, 이미지: pony (458).png\n"
     ]
    },
    {
     "name": "stdout",
     "output_type": "stream",
     "text": [
      "예측: rarity, 이미지: pony (457).png\n",
      "예측: rainbow dash, 이미지: pony (458).GIF\n",
      "예측: twilight sparkle, 이미지: pony (458).jpg\n",
      "예측: twilight sparkle, 이미지: pony (458).png\n"
     ]
    },
    {
     "name": "stderr",
     "output_type": "stream",
     "text": [
      "예측: applejack, 이미지: pony (459).GIF\n",
      "예측: rarity, 이미지: pony (459).jpg\n",
      "예측: twilight sparkle, 이미지: pony (459).png\n"
     ]
    },
    {
     "name": "stdout",
     "output_type": "stream",
     "text": [
      "예측: applejack, 이미지: pony (459).GIF\n",
      "예측: rarity, 이미지: pony (459).jpg\n",
      "예측: twilight sparkle, 이미지: pony (459).png\n"
     ]
    },
    {
     "name": "stderr",
     "output_type": "stream",
     "text": [
      "예측: applejack, 이미지: pony (46).gif\n"
     ]
    },
    {
     "name": "stdout",
     "output_type": "stream",
     "text": [
      "예측: applejack, 이미지: pony (46).gif\n"
     ]
    },
    {
     "name": "stderr",
     "output_type": "stream",
     "text": [
      "예측: rarity, 이미지: pony (46).jpg\n"
     ]
    },
    {
     "name": "stdout",
     "output_type": "stream",
     "text": [
      "예측: rarity, 이미지: pony (46).jpg\n"
     ]
    },
    {
     "name": "stderr",
     "output_type": "stream",
     "text": [
      "예측: twilight sparkle, 이미지: pony (46).png\n",
      "예측: rainbow dash, 이미지: pony (460).GIF\n",
      "예측: twilight sparkle, 이미지: pony (460).jpg\n"
     ]
    },
    {
     "name": "stdout",
     "output_type": "stream",
     "text": [
      "예측: twilight sparkle, 이미지: pony (46).png\n",
      "예측: rainbow dash, 이미지: pony (460).GIF\n",
      "예측: twilight sparkle, 이미지: pony (460).jpg\n"
     ]
    },
    {
     "name": "stderr",
     "output_type": "stream",
     "text": [
      "예측: fluttershy, 이미지: pony (460).png\n",
      "예측: applejack, 이미지: pony (461).GIF\n"
     ]
    },
    {
     "name": "stdout",
     "output_type": "stream",
     "text": [
      "예측: fluttershy, 이미지: pony (460).png\n",
      "예측: applejack, 이미지: pony (461).GIF\n"
     ]
    },
    {
     "name": "stderr",
     "output_type": "stream",
     "text": [
      "예측: pinkie pie, 이미지: pony (461).jpg\n",
      "예측: rarity, 이미지: pony (461).png\n",
      "예측: twilight sparkle, 이미지: pony (462).GIF\n"
     ]
    },
    {
     "name": "stdout",
     "output_type": "stream",
     "text": [
      "예측: pinkie pie, 이미지: pony (461).jpg\n",
      "예측: rarity, 이미지: pony (461).png\n",
      "예측: twilight sparkle, 이미지: pony (462).GIF\n"
     ]
    },
    {
     "name": "stderr",
     "output_type": "stream",
     "text": [
      "예측: twilight sparkle, 이미지: pony (462).jpg\n",
      "예측: rarity, 이미지: pony (462).png\n",
      "예측: twilight sparkle, 이미지: pony (463).GIF\n",
      "예측: rainbow dash, 이미지: pony (463).jpg\n"
     ]
    },
    {
     "name": "stdout",
     "output_type": "stream",
     "text": [
      "예측: twilight sparkle, 이미지: pony (462).jpg\n",
      "예측: rarity, 이미지: pony (462).png\n",
      "예측: twilight sparkle, 이미지: pony (463).GIF\n",
      "예측: rainbow dash, 이미지: pony (463).jpg\n"
     ]
    },
    {
     "name": "stderr",
     "output_type": "stream",
     "text": [
      "예측: twilight sparkle, 이미지: pony (463).png\n",
      "예측: pinkie pie, 이미지: pony (464).GIF\n",
      "예측: pinkie pie, 이미지: pony (464).jpg\n",
      "예측: twilight sparkle, 이미지: pony (464).png\n",
      "예측: fluttershy, 이미지: pony (465).GIF\n"
     ]
    },
    {
     "name": "stdout",
     "output_type": "stream",
     "text": [
      "예측: twilight sparkle, 이미지: pony (463).png\n",
      "예측: pinkie pie, 이미지: pony (464).GIF\n",
      "예측: pinkie pie, 이미지: pony (464).jpg\n",
      "예측: twilight sparkle, 이미지: pony (464).png\n",
      "예측: fluttershy, 이미지: pony (465).GIF\n"
     ]
    },
    {
     "name": "stderr",
     "output_type": "stream",
     "text": [
      "예측: twilight sparkle, 이미지: pony (465).jpg\n",
      "예측: rarity, 이미지: pony (465).png\n",
      "예측: applejack, 이미지: pony (466).GIF\n",
      "예측: rarity, 이미지: pony (466).jpg\n"
     ]
    },
    {
     "name": "stdout",
     "output_type": "stream",
     "text": [
      "예측: twilight sparkle, 이미지: pony (465).jpg\n",
      "예측: rarity, 이미지: pony (465).png\n",
      "예측: applejack, 이미지: pony (466).GIF\n"
     ]
    },
    {
     "name": "stderr",
     "output_type": "stream",
     "text": [
      "예측: twilight sparkle, 이미지: pony (466).png\n",
      "예측: rarity, 이미지: pony (467).GIF\n",
      "예측: twilight sparkle, 이미지: pony (467).jpg\n"
     ]
    },
    {
     "name": "stdout",
     "output_type": "stream",
     "text": [
      "예측: rarity, 이미지: pony (466).jpg\n",
      "예측: twilight sparkle, 이미지: pony (466).png\n",
      "예측: rarity, 이미지: pony (467).GIF\n",
      "예측: twilight sparkle, 이미지: pony (467).jpg\n"
     ]
    },
    {
     "name": "stderr",
     "output_type": "stream",
     "text": [
      "예측: applejack, 이미지: pony (467).png\n",
      "예측: twilight sparkle, 이미지: pony (468).GIF\n",
      "예측: rainbow dash, 이미지: pony (468).jpg\n"
     ]
    },
    {
     "name": "stdout",
     "output_type": "stream",
     "text": [
      "예측: applejack, 이미지: pony (467).png\n",
      "예측: twilight sparkle, 이미지: pony (468).GIF\n",
      "예측: rainbow dash, 이미지: pony (468).jpg\n"
     ]
    },
    {
     "name": "stderr",
     "output_type": "stream",
     "text": [
      "예측: rarity, 이미지: pony (468).png\n",
      "예측: rainbow dash, 이미지: pony (469).GIF\n",
      "예측: fluttershy, 이미지: pony (469).jpg\n",
      "예측: applejack, 이미지: pony (469).png\n"
     ]
    },
    {
     "name": "stdout",
     "output_type": "stream",
     "text": [
      "예측: rarity, 이미지: pony (468).png\n",
      "예측: rainbow dash, 이미지: pony (469).GIF\n",
      "예측: fluttershy, 이미지: pony (469).jpg\n",
      "예측: applejack, 이미지: pony (469).png\n"
     ]
    },
    {
     "name": "stderr",
     "output_type": "stream",
     "text": [
      "예측: applejack, 이미지: pony (47).gif\n",
      "예측: twilight sparkle, 이미지: pony (47).jpg\n",
      "예측: pinkie pie, 이미지: pony (47).png\n",
      "예측: twilight sparkle, 이미지: pony (470).GIF\n"
     ]
    },
    {
     "name": "stdout",
     "output_type": "stream",
     "text": [
      "예측: applejack, 이미지: pony (47).gif\n",
      "예측: twilight sparkle, 이미지: pony (47).jpg\n",
      "예측: pinkie pie, 이미지: pony (47).png\n",
      "예측: twilight sparkle, 이미지: pony (470).GIF\n"
     ]
    },
    {
     "name": "stderr",
     "output_type": "stream",
     "text": [
      "예측: rarity, 이미지: pony (470).jpg\n",
      "예측: rainbow dash, 이미지: pony (470).png\n",
      "예측: rainbow dash, 이미지: pony (471).GIF\n"
     ]
    },
    {
     "name": "stdout",
     "output_type": "stream",
     "text": [
      "예측: rarity, 이미지: pony (470).jpg\n",
      "예측: rainbow dash, 이미지: pony (470).png\n",
      "예측: rainbow dash, 이미지: pony (471).GIF\n"
     ]
    },
    {
     "name": "stderr",
     "output_type": "stream",
     "text": [
      "예측: fluttershy, 이미지: pony (471).jpg\n",
      "예측: fluttershy, 이미지: pony (471).png\n",
      "예측: rarity, 이미지: pony (472).GIF\n",
      "예측: rarity, 이미지: pony (472).jpg\n"
     ]
    },
    {
     "name": "stdout",
     "output_type": "stream",
     "text": [
      "예측: fluttershy, 이미지: pony (471).jpg\n",
      "예측: fluttershy, 이미지: pony (471).png\n",
      "예측: rarity, 이미지: pony (472).GIF\n",
      "예측: rarity, 이미지: pony (472).jpg\n"
     ]
    },
    {
     "name": "stderr",
     "output_type": "stream",
     "text": [
      "예측: rainbow dash, 이미지: pony (472).png\n",
      "예측: twilight sparkle, 이미지: pony (473).GIF\n",
      "예측: twilight sparkle, 이미지: pony (473).jpg\n"
     ]
    },
    {
     "name": "stdout",
     "output_type": "stream",
     "text": [
      "예측: rainbow dash, 이미지: pony (472).png\n",
      "예측: twilight sparkle, 이미지: pony (473).GIF\n",
      "예측: twilight sparkle, 이미지: pony (473).jpg\n"
     ]
    },
    {
     "name": "stderr",
     "output_type": "stream",
     "text": [
      "예측: rainbow dash, 이미지: pony (473).png\n",
      "예측: fluttershy, 이미지: pony (474).GIF\n",
      "예측: twilight sparkle, 이미지: pony (474).jpg\n",
      "예측: rainbow dash, 이미지: pony (474).png\n",
      "예측: rarity, 이미지: pony (475).GIF\n"
     ]
    },
    {
     "name": "stdout",
     "output_type": "stream",
     "text": [
      "예측: rainbow dash, 이미지: pony (473).png\n",
      "예측: fluttershy, 이미지: pony (474).GIF\n",
      "예측: twilight sparkle, 이미지: pony (474).jpg\n",
      "예측: rainbow dash, 이미지: pony (474).png\n",
      "예측: rarity, 이미지: pony (475).GIF\n"
     ]
    },
    {
     "name": "stderr",
     "output_type": "stream",
     "text": [
      "예측: pinkie pie, 이미지: pony (475).jpg\n",
      "예측: rarity, 이미지: pony (475).png\n",
      "예측: twilight sparkle, 이미지: pony (476).GIF\n",
      "예측: applejack, 이미지: pony (476).jpg\n",
      "예측: twilight sparkle, 이미지: pony (476).png\n"
     ]
    },
    {
     "name": "stdout",
     "output_type": "stream",
     "text": [
      "예측: pinkie pie, 이미지: pony (475).jpg\n",
      "예측: rarity, 이미지: pony (475).png\n",
      "예측: twilight sparkle, 이미지: pony (476).GIF\n",
      "예측: applejack, 이미지: pony (476).jpg\n"
     ]
    },
    {
     "name": "stderr",
     "output_type": "stream",
     "text": [
      "예측: rarity, 이미지: pony (477).GIF\n",
      "예측: pinkie pie, 이미지: pony (477).jpg\n"
     ]
    },
    {
     "name": "stdout",
     "output_type": "stream",
     "text": [
      "예측: twilight sparkle, 이미지: pony (476).png\n",
      "예측: rarity, 이미지: pony (477).GIF\n",
      "예측: pinkie pie, 이미지: pony (477).jpg\n"
     ]
    },
    {
     "name": "stderr",
     "output_type": "stream",
     "text": [
      "예측: pinkie pie, 이미지: pony (477).png\n",
      "예측: rainbow dash, 이미지: pony (478).GIF\n",
      "예측: twilight sparkle, 이미지: pony (478).jpg\n",
      "예측: twilight sparkle, 이미지: pony (478).png\n",
      "예측: rainbow dash, 이미지: pony (479).GIF\n"
     ]
    },
    {
     "name": "stdout",
     "output_type": "stream",
     "text": [
      "예측: pinkie pie, 이미지: pony (477).png\n",
      "예측: rainbow dash, 이미지: pony (478).GIF\n",
      "예측: twilight sparkle, 이미지: pony (478).jpg\n",
      "예측: twilight sparkle, 이미지: pony (478).png\n",
      "예측: rainbow dash, 이미지: pony (479).GIF\n"
     ]
    },
    {
     "name": "stderr",
     "output_type": "stream",
     "text": [
      "예측: rainbow dash, 이미지: pony (479).jpg\n",
      "예측: twilight sparkle, 이미지: pony (479).png\n",
      "예측: twilight sparkle, 이미지: pony (48).gif\n"
     ]
    },
    {
     "name": "stdout",
     "output_type": "stream",
     "text": [
      "예측: rainbow dash, 이미지: pony (479).jpg\n",
      "예측: twilight sparkle, 이미지: pony (479).png\n",
      "예측: twilight sparkle, 이미지: pony (48).gif\n"
     ]
    },
    {
     "name": "stderr",
     "output_type": "stream",
     "text": [
      "예측: rarity, 이미지: pony (48).jpg\n",
      "예측: applejack, 이미지: pony (48).png\n",
      "예측: rainbow dash, 이미지: pony (480).GIF\n"
     ]
    },
    {
     "name": "stdout",
     "output_type": "stream",
     "text": [
      "예측: rarity, 이미지: pony (48).jpg\n",
      "예측: applejack, 이미지: pony (48).png\n",
      "예측: rainbow dash, 이미지: pony (480).GIF\n"
     ]
    },
    {
     "name": "stderr",
     "output_type": "stream",
     "text": [
      "예측: rarity, 이미지: pony (480).jpg\n",
      "예측: applejack, 이미지: pony (480).png\n",
      "예측: twilight sparkle, 이미지: pony (481).GIF\n"
     ]
    },
    {
     "name": "stdout",
     "output_type": "stream",
     "text": [
      "예측: rarity, 이미지: pony (480).jpg\n",
      "예측: applejack, 이미지: pony (480).png\n",
      "예측: twilight sparkle, 이미지: pony (481).GIF\n"
     ]
    },
    {
     "name": "stderr",
     "output_type": "stream",
     "text": [
      "예측: fluttershy, 이미지: pony (481).jpg\n",
      "예측: rarity, 이미지: pony (481).png\n",
      "예측: rainbow dash, 이미지: pony (482).GIF\n"
     ]
    },
    {
     "name": "stdout",
     "output_type": "stream",
     "text": [
      "예측: fluttershy, 이미지: pony (481).jpg\n",
      "예측: rarity, 이미지: pony (481).png\n",
      "예측: rainbow dash, 이미지: pony (482).GIF\n"
     ]
    },
    {
     "name": "stderr",
     "output_type": "stream",
     "text": [
      "예측: applejack, 이미지: pony (482).jpg\n"
     ]
    },
    {
     "name": "stdout",
     "output_type": "stream",
     "text": [
      "예측: applejack, 이미지: pony (482).jpg\n"
     ]
    },
    {
     "name": "stderr",
     "output_type": "stream",
     "text": [
      "예측: fluttershy, 이미지: pony (482).png\n",
      "예측: applejack, 이미지: pony (483).GIF\n",
      "예측: twilight sparkle, 이미지: pony (483).jpg\n"
     ]
    },
    {
     "name": "stdout",
     "output_type": "stream",
     "text": [
      "예측: fluttershy, 이미지: pony (482).png\n",
      "예측: applejack, 이미지: pony (483).GIF\n",
      "예측: twilight sparkle, 이미지: pony (483).jpg\n"
     ]
    },
    {
     "name": "stderr",
     "output_type": "stream",
     "text": [
      "예측: twilight sparkle, 이미지: pony (483).png\n",
      "예측: applejack, 이미지: pony (484).GIF\n",
      "예측: twilight sparkle, 이미지: pony (484).jpg\n"
     ]
    },
    {
     "name": "stdout",
     "output_type": "stream",
     "text": [
      "예측: twilight sparkle, 이미지: pony (483).png\n",
      "예측: applejack, 이미지: pony (484).GIF\n",
      "예측: twilight sparkle, 이미지: pony (484).jpg\n"
     ]
    },
    {
     "name": "stderr",
     "output_type": "stream",
     "text": [
      "예측: twilight sparkle, 이미지: pony (484).png\n",
      "예측: rarity, 이미지: pony (485).GIF\n",
      "예측: applejack, 이미지: pony (485).jpg\n"
     ]
    },
    {
     "name": "stdout",
     "output_type": "stream",
     "text": [
      "예측: twilight sparkle, 이미지: pony (484).png\n",
      "예측: rarity, 이미지: pony (485).GIF\n",
      "예측: applejack, 이미지: pony (485).jpg\n"
     ]
    },
    {
     "name": "stderr",
     "output_type": "stream",
     "text": [
      "예측: twilight sparkle, 이미지: pony (485).png\n",
      "예측: rainbow dash, 이미지: pony (486).GIF\n",
      "예측: rarity, 이미지: pony (486).jpg\n",
      "예측: rainbow dash, 이미지: pony (486).png\n",
      "예측: rainbow dash, 이미지: pony (487).GIF\n"
     ]
    },
    {
     "name": "stdout",
     "output_type": "stream",
     "text": [
      "예측: twilight sparkle, 이미지: pony (485).png\n",
      "예측: rainbow dash, 이미지: pony (486).GIF\n",
      "예측: rarity, 이미지: pony (486).jpg\n",
      "예측: rainbow dash, 이미지: pony (486).png\n",
      "예측: rainbow dash, 이미지: pony (487).GIF\n"
     ]
    },
    {
     "name": "stderr",
     "output_type": "stream",
     "text": [
      "예측: rainbow dash, 이미지: pony (487).jpg\n"
     ]
    },
    {
     "name": "stdout",
     "output_type": "stream",
     "text": [
      "예측: rainbow dash, 이미지: pony (487).jpg\n"
     ]
    },
    {
     "name": "stderr",
     "output_type": "stream",
     "text": [
      "예측: pinkie pie, 이미지: pony (487).png\n",
      "예측: pinkie pie, 이미지: pony (488).GIF\n",
      "예측: applejack, 이미지: pony (488).jpg\n"
     ]
    },
    {
     "name": "stdout",
     "output_type": "stream",
     "text": [
      "예측: pinkie pie, 이미지: pony (487).png\n",
      "예측: pinkie pie, 이미지: pony (488).GIF\n",
      "예측: applejack, 이미지: pony (488).jpg\n"
     ]
    },
    {
     "name": "stderr",
     "output_type": "stream",
     "text": [
      "예측: pinkie pie, 이미지: pony (488).png\n",
      "예측: rainbow dash, 이미지: pony (489).GIF\n",
      "예측: rarity, 이미지: pony (489).jpg\n"
     ]
    },
    {
     "name": "stdout",
     "output_type": "stream",
     "text": [
      "예측: pinkie pie, 이미지: pony (488).png\n",
      "예측: rainbow dash, 이미지: pony (489).GIF\n",
      "예측: rarity, 이미지: pony (489).jpg\n"
     ]
    },
    {
     "name": "stderr",
     "output_type": "stream",
     "text": [
      "예측: rarity, 이미지: pony (489).png\n",
      "예측: rainbow dash, 이미지: pony (49).gif\n"
     ]
    },
    {
     "name": "stdout",
     "output_type": "stream",
     "text": [
      "예측: rarity, 이미지: pony (489).png\n",
      "예측: rainbow dash, 이미지: pony (49).gif\n"
     ]
    },
    {
     "name": "stderr",
     "output_type": "stream",
     "text": [
      "예측: rarity, 이미지: pony (49).jpg\n"
     ]
    },
    {
     "name": "stdout",
     "output_type": "stream",
     "text": [
      "예측: rarity, 이미지: pony (49).jpg\n"
     ]
    },
    {
     "name": "stderr",
     "output_type": "stream",
     "text": [
      "예측: twilight sparkle, 이미지: pony (49).png\n",
      "예측: rainbow dash, 이미지: pony (490).GIF\n",
      "예측: twilight sparkle, 이미지: pony (490).jpg\n",
      "예측: fluttershy, 이미지: pony (490).png\n",
      "예측: pinkie pie, 이미지: pony (491).GIF\n"
     ]
    },
    {
     "name": "stdout",
     "output_type": "stream",
     "text": [
      "예측: twilight sparkle, 이미지: pony (49).png\n",
      "예측: rainbow dash, 이미지: pony (490).GIF\n",
      "예측: twilight sparkle, 이미지: pony (490).jpg\n",
      "예측: fluttershy, 이미지: pony (490).png\n",
      "예측: pinkie pie, 이미지: pony (491).GIF\n"
     ]
    },
    {
     "name": "stderr",
     "output_type": "stream",
     "text": [
      "예측: pinkie pie, 이미지: pony (491).jpg\n"
     ]
    },
    {
     "name": "stdout",
     "output_type": "stream",
     "text": [
      "예측: pinkie pie, 이미지: pony (491).jpg\n"
     ]
    },
    {
     "name": "stderr",
     "output_type": "stream",
     "text": [
      "예측: fluttershy, 이미지: pony (491).png\n",
      "예측: applejack, 이미지: pony (492).GIF\n",
      "예측: fluttershy, 이미지: pony (492).jpg\n",
      "예측: fluttershy, 이미지: pony (492).png\n",
      "예측: pinkie pie, 이미지: pony (493).GIF\n"
     ]
    },
    {
     "name": "stdout",
     "output_type": "stream",
     "text": [
      "예측: fluttershy, 이미지: pony (491).png\n",
      "예측: applejack, 이미지: pony (492).GIF\n",
      "예측: fluttershy, 이미지: pony (492).jpg\n",
      "예측: fluttershy, 이미지: pony (492).png\n"
     ]
    },
    {
     "name": "stderr",
     "output_type": "stream",
     "text": [
      "예측: applejack, 이미지: pony (493).jpg\n",
      "예측: rainbow dash, 이미지: pony (493).png\n",
      "예측: pinkie pie, 이미지: pony (494).GIF\n"
     ]
    },
    {
     "name": "stdout",
     "output_type": "stream",
     "text": [
      "예측: pinkie pie, 이미지: pony (493).GIF\n",
      "예측: applejack, 이미지: pony (493).jpg\n",
      "예측: rainbow dash, 이미지: pony (493).png\n",
      "예측: pinkie pie, 이미지: pony (494).GIF\n"
     ]
    },
    {
     "name": "stderr",
     "output_type": "stream",
     "text": [
      "예측: rainbow dash, 이미지: pony (494).jpg\n",
      "예측: rarity, 이미지: pony (494).png\n",
      "예측: rarity, 이미지: pony (495).GIF\n",
      "예측: twilight sparkle, 이미지: pony (495).jpg\n"
     ]
    },
    {
     "name": "stdout",
     "output_type": "stream",
     "text": [
      "예측: rainbow dash, 이미지: pony (494).jpg\n",
      "예측: rarity, 이미지: pony (494).png\n",
      "예측: rarity, 이미지: pony (495).GIF\n",
      "예측: twilight sparkle, 이미지: pony (495).jpg\n"
     ]
    },
    {
     "name": "stderr",
     "output_type": "stream",
     "text": [
      "예측: twilight sparkle, 이미지: pony (495).png\n",
      "예측: twilight sparkle, 이미지: pony (496).GIF\n",
      "예측: rainbow dash, 이미지: pony (496).jpg\n"
     ]
    },
    {
     "name": "stdout",
     "output_type": "stream",
     "text": [
      "예측: twilight sparkle, 이미지: pony (495).png\n",
      "예측: twilight sparkle, 이미지: pony (496).GIF\n",
      "예측: rainbow dash, 이미지: pony (496).jpg\n"
     ]
    },
    {
     "name": "stderr",
     "output_type": "stream",
     "text": [
      "예측: pinkie pie, 이미지: pony (496).png\n",
      "예측: twilight sparkle, 이미지: pony (497).GIF\n",
      "예측: twilight sparkle, 이미지: pony (497).jpg\n"
     ]
    },
    {
     "name": "stdout",
     "output_type": "stream",
     "text": [
      "예측: pinkie pie, 이미지: pony (496).png\n",
      "예측: twilight sparkle, 이미지: pony (497).GIF\n",
      "예측: twilight sparkle, 이미지: pony (497).jpg\n"
     ]
    },
    {
     "name": "stderr",
     "output_type": "stream",
     "text": [
      "예측: pinkie pie, 이미지: pony (497).png\n",
      "예측: applejack, 이미지: pony (498).GIF\n",
      "예측: twilight sparkle, 이미지: pony (498).jpg\n",
      "예측: rarity, 이미지: pony (498).png\n",
      "예측: fluttershy, 이미지: pony (499).GIF\n"
     ]
    },
    {
     "name": "stdout",
     "output_type": "stream",
     "text": [
      "예측: pinkie pie, 이미지: pony (497).png\n",
      "예측: applejack, 이미지: pony (498).GIF\n",
      "예측: twilight sparkle, 이미지: pony (498).jpg\n",
      "예측: rarity, 이미지: pony (498).png\n",
      "예측: fluttershy, 이미지: pony (499).GIF\n"
     ]
    },
    {
     "name": "stderr",
     "output_type": "stream",
     "text": [
      "예측: fluttershy, 이미지: pony (499).jpg\n",
      "예측: twilight sparkle, 이미지: pony (499).png\n",
      "예측: twilight sparkle, 이미지: pony (5).gif\n",
      "예측: twilight sparkle, 이미지: pony (5).jpeg\n"
     ]
    },
    {
     "name": "stdout",
     "output_type": "stream",
     "text": [
      "예측: fluttershy, 이미지: pony (499).jpg\n",
      "예측: twilight sparkle, 이미지: pony (499).png\n",
      "예측: twilight sparkle, 이미지: pony (5).gif\n",
      "예측: twilight sparkle, 이미지: pony (5).jpeg\n"
     ]
    },
    {
     "name": "stderr",
     "output_type": "stream",
     "text": [
      "예측: rarity, 이미지: pony (5).jpg\n",
      "예측: pinkie pie, 이미지: pony (5).png\n",
      "예측: rarity, 이미지: pony (5).webp\n",
      "예측: rarity, 이미지: pony (50).gif\n"
     ]
    },
    {
     "name": "stdout",
     "output_type": "stream",
     "text": [
      "예측: rarity, 이미지: pony (5).jpg\n",
      "예측: pinkie pie, 이미지: pony (5).png\n",
      "예측: rarity, 이미지: pony (5).webp\n",
      "예측: rarity, 이미지: pony (50).gif\n"
     ]
    },
    {
     "name": "stderr",
     "output_type": "stream",
     "text": [
      "예측: rainbow dash, 이미지: pony (50).jpg\n"
     ]
    },
    {
     "name": "stdout",
     "output_type": "stream",
     "text": [
      "예측: rainbow dash, 이미지: pony (50).jpg\n"
     ]
    },
    {
     "name": "stderr",
     "output_type": "stream",
     "text": [
      "예측: fluttershy, 이미지: pony (50).png\n",
      "예측: pinkie pie, 이미지: pony (500).GIF\n",
      "예측: rarity, 이미지: pony (500).jpg\n",
      "예측: rarity, 이미지: pony (500).png\n",
      "예측: twilight sparkle, 이미지: pony (501).GIF\n",
      "예측: twilight sparkle, 이미지: pony (501).jpg\n"
     ]
    },
    {
     "name": "stdout",
     "output_type": "stream",
     "text": [
      "예측: fluttershy, 이미지: pony (50).png\n",
      "예측: pinkie pie, 이미지: pony (500).GIF\n",
      "예측: rarity, 이미지: pony (500).jpg\n",
      "예측: rarity, 이미지: pony (500).png\n",
      "예측: twilight sparkle, 이미지: pony (501).GIF\n"
     ]
    },
    {
     "name": "stderr",
     "output_type": "stream",
     "text": [
      "예측: rarity, 이미지: pony (501).png\n",
      "예측: applejack, 이미지: pony (502).GIF\n",
      "예측: rainbow dash, 이미지: pony (502).jpg\n"
     ]
    },
    {
     "name": "stdout",
     "output_type": "stream",
     "text": [
      "예측: twilight sparkle, 이미지: pony (501).jpg\n",
      "예측: rarity, 이미지: pony (501).png\n",
      "예측: applejack, 이미지: pony (502).GIF\n",
      "예측: rainbow dash, 이미지: pony (502).jpg\n"
     ]
    },
    {
     "name": "stderr",
     "output_type": "stream",
     "text": [
      "예측: rarity, 이미지: pony (502).png\n",
      "예측: twilight sparkle, 이미지: pony (503).GIF\n",
      "예측: twilight sparkle, 이미지: pony (503).jpg\n"
     ]
    },
    {
     "name": "stdout",
     "output_type": "stream",
     "text": [
      "예측: rarity, 이미지: pony (502).png\n",
      "예측: twilight sparkle, 이미지: pony (503).GIF\n",
      "예측: twilight sparkle, 이미지: pony (503).jpg\n"
     ]
    },
    {
     "name": "stderr",
     "output_type": "stream",
     "text": [
      "예측: rarity, 이미지: pony (503).png\n",
      "예측: twilight sparkle, 이미지: pony (504).GIF\n",
      "예측: fluttershy, 이미지: pony (504).jpg\n"
     ]
    },
    {
     "name": "stdout",
     "output_type": "stream",
     "text": [
      "예측: rarity, 이미지: pony (503).png\n",
      "예측: twilight sparkle, 이미지: pony (504).GIF\n",
      "예측: fluttershy, 이미지: pony (504).jpg\n"
     ]
    },
    {
     "name": "stderr",
     "output_type": "stream",
     "text": [
      "예측: rarity, 이미지: pony (504).png\n",
      "예측: twilight sparkle, 이미지: pony (505).GIF\n",
      "예측: applejack, 이미지: pony (505).jpg\n",
      "예측: rainbow dash, 이미지: pony (505).png\n",
      "예측: twilight sparkle, 이미지: pony (506).GIF\n"
     ]
    },
    {
     "name": "stdout",
     "output_type": "stream",
     "text": [
      "예측: rarity, 이미지: pony (504).png\n",
      "예측: twilight sparkle, 이미지: pony (505).GIF\n",
      "예측: applejack, 이미지: pony (505).jpg\n",
      "예측: rainbow dash, 이미지: pony (505).png\n",
      "예측: twilight sparkle, 이미지: pony (506).GIF\n"
     ]
    },
    {
     "name": "stderr",
     "output_type": "stream",
     "text": [
      "예측: pinkie pie, 이미지: pony (506).jpg\n",
      "예측: pinkie pie, 이미지: pony (506).png\n",
      "예측: twilight sparkle, 이미지: pony (507).GIF\n",
      "예측: rarity, 이미지: pony (507).jpg\n"
     ]
    },
    {
     "name": "stdout",
     "output_type": "stream",
     "text": [
      "예측: pinkie pie, 이미지: pony (506).jpg\n",
      "예측: pinkie pie, 이미지: pony (506).png\n",
      "예측: twilight sparkle, 이미지: pony (507).GIF\n",
      "예측: rarity, 이미지: pony (507).jpg\n"
     ]
    },
    {
     "name": "stderr",
     "output_type": "stream",
     "text": [
      "예측: twilight sparkle, 이미지: pony (507).png\n",
      "예측: twilight sparkle, 이미지: pony (508).GIF\n",
      "예측: twilight sparkle, 이미지: pony (508).jpg\n"
     ]
    },
    {
     "name": "stdout",
     "output_type": "stream",
     "text": [
      "예측: twilight sparkle, 이미지: pony (507).png\n",
      "예측: twilight sparkle, 이미지: pony (508).GIF\n",
      "예측: twilight sparkle, 이미지: pony (508).jpg\n"
     ]
    },
    {
     "name": "stderr",
     "output_type": "stream",
     "text": [
      "예측: twilight sparkle, 이미지: pony (508).png\n",
      "예측: pinkie pie, 이미지: pony (509).GIF\n",
      "예측: pinkie pie, 이미지: pony (509).jpg\n",
      "예측: fluttershy, 이미지: pony (509).png\n",
      "예측: rainbow dash, 이미지: pony (51).gif\n"
     ]
    },
    {
     "name": "stdout",
     "output_type": "stream",
     "text": [
      "예측: twilight sparkle, 이미지: pony (508).png\n",
      "예측: pinkie pie, 이미지: pony (509).GIF\n",
      "예측: pinkie pie, 이미지: pony (509).jpg\n",
      "예측: fluttershy, 이미지: pony (509).png\n"
     ]
    },
    {
     "name": "stderr",
     "output_type": "stream",
     "text": [
      "예측: twilight sparkle, 이미지: pony (51).jpg\n"
     ]
    },
    {
     "name": "stdout",
     "output_type": "stream",
     "text": [
      "예측: rainbow dash, 이미지: pony (51).gif\n",
      "예측: twilight sparkle, 이미지: pony (51).jpg\n"
     ]
    },
    {
     "name": "stderr",
     "output_type": "stream",
     "text": [
      "예측: pinkie pie, 이미지: pony (51).png\n",
      "예측: rainbow dash, 이미지: pony (510).GIF\n",
      "예측: twilight sparkle, 이미지: pony (510).jpg\n",
      "예측: fluttershy, 이미지: pony (510).png\n",
      "예측: twilight sparkle, 이미지: pony (511).GIF\n"
     ]
    },
    {
     "name": "stdout",
     "output_type": "stream",
     "text": [
      "예측: pinkie pie, 이미지: pony (51).png\n",
      "예측: rainbow dash, 이미지: pony (510).GIF\n",
      "예측: twilight sparkle, 이미지: pony (510).jpg\n",
      "예측: fluttershy, 이미지: pony (510).png\n",
      "예측: twilight sparkle, 이미지: pony (511).GIF\n"
     ]
    },
    {
     "name": "stderr",
     "output_type": "stream",
     "text": [
      "예측: twilight sparkle, 이미지: pony (511).jpg\n"
     ]
    },
    {
     "name": "stdout",
     "output_type": "stream",
     "text": [
      "예측: twilight sparkle, 이미지: pony (511).jpg\n"
     ]
    },
    {
     "name": "stderr",
     "output_type": "stream",
     "text": [
      "예측: rarity, 이미지: pony (511).png\n",
      "예측: twilight sparkle, 이미지: pony (512).GIF\n",
      "예측: applejack, 이미지: pony (512).jpg\n",
      "예측: pinkie pie, 이미지: pony (512).png\n"
     ]
    },
    {
     "name": "stdout",
     "output_type": "stream",
     "text": [
      "예측: rarity, 이미지: pony (511).png\n",
      "예측: twilight sparkle, 이미지: pony (512).GIF\n",
      "예측: applejack, 이미지: pony (512).jpg\n"
     ]
    },
    {
     "name": "stderr",
     "output_type": "stream",
     "text": [
      "예측: twilight sparkle, 이미지: pony (513).GIF\n",
      "예측: rarity, 이미지: pony (513).jpg\n",
      "예측: rarity, 이미지: pony (513).png\n",
      "예측: pinkie pie, 이미지: pony (514).GIF\n"
     ]
    },
    {
     "name": "stdout",
     "output_type": "stream",
     "text": [
      "예측: pinkie pie, 이미지: pony (512).png\n",
      "예측: twilight sparkle, 이미지: pony (513).GIF\n",
      "예측: rarity, 이미지: pony (513).jpg\n",
      "예측: rarity, 이미지: pony (513).png\n",
      "예측: pinkie pie, 이미지: pony (514).GIF\n"
     ]
    },
    {
     "name": "stderr",
     "output_type": "stream",
     "text": [
      "예측: rarity, 이미지: pony (514).jpg\n",
      "예측: twilight sparkle, 이미지: pony (514).png\n"
     ]
    },
    {
     "name": "stdout",
     "output_type": "stream",
     "text": [
      "예측: rarity, 이미지: pony (514).jpg\n",
      "예측: twilight sparkle, 이미지: pony (514).png\n"
     ]
    },
    {
     "name": "stderr",
     "output_type": "stream",
     "text": [
      "예측: twilight sparkle, 이미지: pony (515).GIF\n",
      "예측: fluttershy, 이미지: pony (515).jpg\n",
      "예측: rainbow dash, 이미지: pony (515).png\n",
      "예측: rainbow dash, 이미지: pony (516).GIF\n"
     ]
    },
    {
     "name": "stdout",
     "output_type": "stream",
     "text": [
      "예측: twilight sparkle, 이미지: pony (515).GIF\n",
      "예측: fluttershy, 이미지: pony (515).jpg\n",
      "예측: rainbow dash, 이미지: pony (515).png\n",
      "예측: rainbow dash, 이미지: pony (516).GIF\n"
     ]
    },
    {
     "name": "stderr",
     "output_type": "stream",
     "text": [
      "예측: rainbow dash, 이미지: pony (516).jpg\n",
      "예측: applejack, 이미지: pony (516).png\n",
      "예측: pinkie pie, 이미지: pony (517).GIF\n"
     ]
    },
    {
     "name": "stdout",
     "output_type": "stream",
     "text": [
      "예측: rainbow dash, 이미지: pony (516).jpg\n",
      "예측: applejack, 이미지: pony (516).png\n"
     ]
    },
    {
     "name": "stderr",
     "output_type": "stream",
     "text": [
      "예측: pinkie pie, 이미지: pony (517).jpg\n",
      "예측: fluttershy, 이미지: pony (517).png\n",
      "예측: fluttershy, 이미지: pony (518).GIF\n"
     ]
    },
    {
     "name": "stdout",
     "output_type": "stream",
     "text": [
      "예측: pinkie pie, 이미지: pony (517).GIF\n",
      "예측: pinkie pie, 이미지: pony (517).jpg\n",
      "예측: fluttershy, 이미지: pony (517).png\n",
      "예측: fluttershy, 이미지: pony (518).GIF\n"
     ]
    },
    {
     "name": "stderr",
     "output_type": "stream",
     "text": [
      "예측: rarity, 이미지: pony (518).jpg\n",
      "예측: rarity, 이미지: pony (518).png\n",
      "예측: rarity, 이미지: pony (519).GIF\n",
      "예측: pinkie pie, 이미지: pony (519).jpg\n"
     ]
    },
    {
     "name": "stdout",
     "output_type": "stream",
     "text": [
      "예측: rarity, 이미지: pony (518).jpg\n",
      "예측: rarity, 이미지: pony (518).png\n",
      "예측: rarity, 이미지: pony (519).GIF\n",
      "예측: pinkie pie, 이미지: pony (519).jpg\n"
     ]
    },
    {
     "name": "stderr",
     "output_type": "stream",
     "text": [
      "예측: rainbow dash, 이미지: pony (519).png\n",
      "예측: rainbow dash, 이미지: pony (52).gif\n",
      "예측: fluttershy, 이미지: pony (52).jpg\n"
     ]
    },
    {
     "name": "stdout",
     "output_type": "stream",
     "text": [
      "예측: rainbow dash, 이미지: pony (519).png\n",
      "예측: rainbow dash, 이미지: pony (52).gif\n",
      "예측: fluttershy, 이미지: pony (52).jpg\n"
     ]
    },
    {
     "name": "stderr",
     "output_type": "stream",
     "text": [
      "예측: twilight sparkle, 이미지: pony (52).png\n",
      "예측: twilight sparkle, 이미지: pony (520).GIF\n",
      "예측: rainbow dash, 이미지: pony (520).jpg\n",
      "예측: twilight sparkle, 이미지: pony (520).png\n"
     ]
    },
    {
     "name": "stdout",
     "output_type": "stream",
     "text": [
      "예측: twilight sparkle, 이미지: pony (52).png\n",
      "예측: twilight sparkle, 이미지: pony (520).GIF\n",
      "예측: rainbow dash, 이미지: pony (520).jpg\n",
      "예측: twilight sparkle, 이미지: pony (520).png\n"
     ]
    },
    {
     "name": "stderr",
     "output_type": "stream",
     "text": [
      "예측: twilight sparkle, 이미지: pony (521).GIF\n",
      "예측: twilight sparkle, 이미지: pony (521).jpg\n",
      "예측: fluttershy, 이미지: pony (521).png\n"
     ]
    },
    {
     "name": "stdout",
     "output_type": "stream",
     "text": [
      "예측: twilight sparkle, 이미지: pony (521).GIF\n",
      "예측: twilight sparkle, 이미지: pony (521).jpg\n",
      "예측: fluttershy, 이미지: pony (521).png\n"
     ]
    },
    {
     "name": "stderr",
     "output_type": "stream",
     "text": [
      "예측: pinkie pie, 이미지: pony (522).GIF\n",
      "예측: twilight sparkle, 이미지: pony (522).jpg\n",
      "예측: pinkie pie, 이미지: pony (522).png\n"
     ]
    },
    {
     "name": "stdout",
     "output_type": "stream",
     "text": [
      "예측: pinkie pie, 이미지: pony (522).GIF\n",
      "예측: twilight sparkle, 이미지: pony (522).jpg\n",
      "예측: pinkie pie, 이미지: pony (522).png\n"
     ]
    },
    {
     "name": "stderr",
     "output_type": "stream",
     "text": [
      "예측: twilight sparkle, 이미지: pony (523).GIF\n"
     ]
    },
    {
     "name": "stdout",
     "output_type": "stream",
     "text": [
      "예측: twilight sparkle, 이미지: pony (523).GIF\n"
     ]
    },
    {
     "name": "stderr",
     "output_type": "stream",
     "text": [
      "예측: twilight sparkle, 이미지: pony (523).jpg\n"
     ]
    },
    {
     "name": "stdout",
     "output_type": "stream",
     "text": [
      "예측: twilight sparkle, 이미지: pony (523).jpg\n"
     ]
    },
    {
     "name": "stderr",
     "output_type": "stream",
     "text": [
      "예측: rainbow dash, 이미지: pony (523).png\n",
      "예측: rainbow dash, 이미지: pony (524).GIF\n",
      "예측: rarity, 이미지: pony (524).jpg\n",
      "예측: rainbow dash, 이미지: pony (524).png\n",
      "예측: twilight sparkle, 이미지: pony (525).gif\n"
     ]
    },
    {
     "name": "stdout",
     "output_type": "stream",
     "text": [
      "예측: rainbow dash, 이미지: pony (523).png\n",
      "예측: rainbow dash, 이미지: pony (524).GIF\n",
      "예측: rarity, 이미지: pony (524).jpg\n",
      "예측: rainbow dash, 이미지: pony (524).png\n",
      "예측: twilight sparkle, 이미지: pony (525).gif\n"
     ]
    },
    {
     "name": "stderr",
     "output_type": "stream",
     "text": [
      "예측: twilight sparkle, 이미지: pony (525).jpg\n"
     ]
    },
    {
     "name": "stdout",
     "output_type": "stream",
     "text": [
      "예측: twilight sparkle, 이미지: pony (525).jpg\n"
     ]
    },
    {
     "name": "stderr",
     "output_type": "stream",
     "text": [
      "예측: applejack, 이미지: pony (525).png\n",
      "예측: twilight sparkle, 이미지: pony (526).gif\n",
      "예측: rarity, 이미지: pony (526).jpg\n",
      "예측: rarity, 이미지: pony (526).png\n"
     ]
    },
    {
     "name": "stdout",
     "output_type": "stream",
     "text": [
      "예측: applejack, 이미지: pony (525).png\n",
      "예측: twilight sparkle, 이미지: pony (526).gif\n",
      "예측: rarity, 이미지: pony (526).jpg\n"
     ]
    },
    {
     "name": "stderr",
     "output_type": "stream",
     "text": [
      "예측: fluttershy, 이미지: pony (527).gif\n",
      "예측: rarity, 이미지: pony (527).jpg\n",
      "예측: pinkie pie, 이미지: pony (527).png\n",
      "예측: rainbow dash, 이미지: pony (528).gif\n"
     ]
    },
    {
     "name": "stdout",
     "output_type": "stream",
     "text": [
      "예측: rarity, 이미지: pony (526).png\n",
      "예측: fluttershy, 이미지: pony (527).gif\n",
      "예측: rarity, 이미지: pony (527).jpg\n",
      "예측: pinkie pie, 이미지: pony (527).png\n",
      "예측: rainbow dash, 이미지: pony (528).gif\n"
     ]
    },
    {
     "name": "stderr",
     "output_type": "stream",
     "text": [
      "예측: rarity, 이미지: pony (528).jpg\n",
      "예측: applejack, 이미지: pony (528).png\n",
      "예측: rarity, 이미지: pony (529).gif\n"
     ]
    },
    {
     "name": "stdout",
     "output_type": "stream",
     "text": [
      "예측: rarity, 이미지: pony (528).jpg\n",
      "예측: applejack, 이미지: pony (528).png\n",
      "예측: rarity, 이미지: pony (529).gif\n"
     ]
    },
    {
     "name": "stderr",
     "output_type": "stream",
     "text": [
      "예측: fluttershy, 이미지: pony (529).jpg\n",
      "예측: pinkie pie, 이미지: pony (529).png\n",
      "예측: rarity, 이미지: pony (53).gif\n"
     ]
    },
    {
     "name": "stdout",
     "output_type": "stream",
     "text": [
      "예측: fluttershy, 이미지: pony (529).jpg\n",
      "예측: pinkie pie, 이미지: pony (529).png\n",
      "예측: rarity, 이미지: pony (53).gif\n"
     ]
    },
    {
     "name": "stderr",
     "output_type": "stream",
     "text": [
      "예측: fluttershy, 이미지: pony (53).jpg\n"
     ]
    },
    {
     "name": "stdout",
     "output_type": "stream",
     "text": [
      "예측: fluttershy, 이미지: pony (53).jpg\n"
     ]
    },
    {
     "name": "stderr",
     "output_type": "stream",
     "text": [
      "예측: fluttershy, 이미지: pony (53).png\n",
      "예측: pinkie pie, 이미지: pony (530).gif\n",
      "예측: twilight sparkle, 이미지: pony (530).jpg\n",
      "예측: pinkie pie, 이미지: pony (530).png\n"
     ]
    },
    {
     "name": "stdout",
     "output_type": "stream",
     "text": [
      "예측: fluttershy, 이미지: pony (53).png\n",
      "예측: pinkie pie, 이미지: pony (530).gif\n",
      "예측: twilight sparkle, 이미지: pony (530).jpg\n",
      "예측: pinkie pie, 이미지: pony (530).png\n"
     ]
    },
    {
     "name": "stderr",
     "output_type": "stream",
     "text": [
      "예측: pinkie pie, 이미지: pony (531).gif\n",
      "예측: applejack, 이미지: pony (531).jpg\n",
      "예측: fluttershy, 이미지: pony (531).png\n",
      "예측: fluttershy, 이미지: pony (532).gif\n",
      "예측: fluttershy, 이미지: pony (532).jpg\n"
     ]
    },
    {
     "name": "stdout",
     "output_type": "stream",
     "text": [
      "예측: pinkie pie, 이미지: pony (531).gif\n",
      "예측: applejack, 이미지: pony (531).jpg\n",
      "예측: fluttershy, 이미지: pony (531).png\n",
      "예측: fluttershy, 이미지: pony (532).gif\n",
      "예측: fluttershy, 이미지: pony (532).jpg\n"
     ]
    },
    {
     "name": "stderr",
     "output_type": "stream",
     "text": [
      "예측: rainbow dash, 이미지: pony (532).png\n",
      "예측: pinkie pie, 이미지: pony (533).gif\n",
      "예측: applejack, 이미지: pony (533).jpg\n",
      "예측: twilight sparkle, 이미지: pony (533).png\n",
      "예측: rainbow dash, 이미지: pony (534).gif\n"
     ]
    },
    {
     "name": "stdout",
     "output_type": "stream",
     "text": [
      "예측: rainbow dash, 이미지: pony (532).png\n",
      "예측: pinkie pie, 이미지: pony (533).gif\n",
      "예측: applejack, 이미지: pony (533).jpg\n",
      "예측: twilight sparkle, 이미지: pony (533).png\n",
      "예측: rainbow dash, 이미지: pony (534).gif\n"
     ]
    },
    {
     "name": "stderr",
     "output_type": "stream",
     "text": [
      "예측: applejack, 이미지: pony (534).jpg\n"
     ]
    },
    {
     "name": "stdout",
     "output_type": "stream",
     "text": [
      "예측: applejack, 이미지: pony (534).jpg\n"
     ]
    },
    {
     "name": "stderr",
     "output_type": "stream",
     "text": [
      "예측: fluttershy, 이미지: pony (534).png\n",
      "예측: twilight sparkle, 이미지: pony (535).gif\n",
      "예측: rainbow dash, 이미지: pony (535).jpg\n",
      "예측: pinkie pie, 이미지: pony (535).png\n",
      "예측: twilight sparkle, 이미지: pony (536).gif\n",
      "예측: twilight sparkle, 이미지: pony (536).jpg\n"
     ]
    },
    {
     "name": "stdout",
     "output_type": "stream",
     "text": [
      "예측: fluttershy, 이미지: pony (534).png\n",
      "예측: twilight sparkle, 이미지: pony (535).gif\n",
      "예측: rainbow dash, 이미지: pony (535).jpg\n",
      "예측: pinkie pie, 이미지: pony (535).png\n",
      "예측: twilight sparkle, 이미지: pony (536).gif\n",
      "예측: twilight sparkle, 이미지: pony (536).jpg\n"
     ]
    },
    {
     "name": "stderr",
     "output_type": "stream",
     "text": [
      "예측: fluttershy, 이미지: pony (536).png\n",
      "예측: twilight sparkle, 이미지: pony (537).gif\n",
      "예측: applejack, 이미지: pony (537).jpg\n"
     ]
    },
    {
     "name": "stdout",
     "output_type": "stream",
     "text": [
      "예측: fluttershy, 이미지: pony (536).png\n",
      "예측: twilight sparkle, 이미지: pony (537).gif\n"
     ]
    },
    {
     "name": "stderr",
     "output_type": "stream",
     "text": [
      "예측: fluttershy, 이미지: pony (537).png\n",
      "예측: twilight sparkle, 이미지: pony (538).gif\n",
      "예측: twilight sparkle, 이미지: pony (538).jpg\n",
      "예측: pinkie pie, 이미지: pony (538).png\n",
      "예측: twilight sparkle, 이미지: pony (539).gif\n"
     ]
    },
    {
     "name": "stdout",
     "output_type": "stream",
     "text": [
      "예측: applejack, 이미지: pony (537).jpg\n",
      "예측: fluttershy, 이미지: pony (537).png\n",
      "예측: twilight sparkle, 이미지: pony (538).gif\n",
      "예측: twilight sparkle, 이미지: pony (538).jpg\n",
      "예측: pinkie pie, 이미지: pony (538).png\n",
      "예측: twilight sparkle, 이미지: pony (539).gif\n"
     ]
    },
    {
     "name": "stderr",
     "output_type": "stream",
     "text": [
      "예측: pinkie pie, 이미지: pony (539).jpg\n",
      "예측: twilight sparkle, 이미지: pony (539).png\n",
      "예측: fluttershy, 이미지: pony (54).gif\n"
     ]
    },
    {
     "name": "stdout",
     "output_type": "stream",
     "text": [
      "예측: pinkie pie, 이미지: pony (539).jpg\n",
      "예측: twilight sparkle, 이미지: pony (539).png\n",
      "예측: fluttershy, 이미지: pony (54).gif\n"
     ]
    },
    {
     "name": "stderr",
     "output_type": "stream",
     "text": [
      "예측: twilight sparkle, 이미지: pony (54).jpg\n"
     ]
    },
    {
     "name": "stdout",
     "output_type": "stream",
     "text": [
      "예측: twilight sparkle, 이미지: pony (54).jpg\n"
     ]
    },
    {
     "name": "stderr",
     "output_type": "stream",
     "text": [
      "예측: twilight sparkle, 이미지: pony (54).png\n",
      "예측: twilight sparkle, 이미지: pony (540).gif\n",
      "예측: twilight sparkle, 이미지: pony (540).jpg\n"
     ]
    },
    {
     "name": "stdout",
     "output_type": "stream",
     "text": [
      "예측: twilight sparkle, 이미지: pony (54).png\n",
      "예측: twilight sparkle, 이미지: pony (540).gif\n",
      "예측: twilight sparkle, 이미지: pony (540).jpg\n"
     ]
    },
    {
     "name": "stderr",
     "output_type": "stream",
     "text": [
      "예측: applejack, 이미지: pony (540).png\n",
      "예측: twilight sparkle, 이미지: pony (541).gif\n",
      "예측: twilight sparkle, 이미지: pony (541).jpg\n",
      "예측: rarity, 이미지: pony (541).png\n",
      "예측: rarity, 이미지: pony (542).gif\n"
     ]
    },
    {
     "name": "stdout",
     "output_type": "stream",
     "text": [
      "예측: applejack, 이미지: pony (540).png\n",
      "예측: twilight sparkle, 이미지: pony (541).gif\n",
      "예측: twilight sparkle, 이미지: pony (541).jpg\n",
      "예측: rarity, 이미지: pony (541).png\n",
      "예측: rarity, 이미지: pony (542).gif\n"
     ]
    },
    {
     "name": "stderr",
     "output_type": "stream",
     "text": [
      "예측: rainbow dash, 이미지: pony (542).jpg\n",
      "예측: rarity, 이미지: pony (542).png\n",
      "예측: twilight sparkle, 이미지: pony (543).gif\n",
      "예측: twilight sparkle, 이미지: pony (543).jpg\n"
     ]
    },
    {
     "name": "stdout",
     "output_type": "stream",
     "text": [
      "예측: rainbow dash, 이미지: pony (542).jpg\n",
      "예측: rarity, 이미지: pony (542).png\n",
      "예측: twilight sparkle, 이미지: pony (543).gif\n",
      "예측: twilight sparkle, 이미지: pony (543).jpg\n"
     ]
    },
    {
     "name": "stderr",
     "output_type": "stream",
     "text": [
      "예측: twilight sparkle, 이미지: pony (543).png\n",
      "예측: twilight sparkle, 이미지: pony (544).gif\n",
      "예측: fluttershy, 이미지: pony (544).jpg\n",
      "예측: rarity, 이미지: pony (544).png\n",
      "예측: twilight sparkle, 이미지: pony (545).gif\n"
     ]
    },
    {
     "name": "stdout",
     "output_type": "stream",
     "text": [
      "예측: twilight sparkle, 이미지: pony (543).png\n",
      "예측: twilight sparkle, 이미지: pony (544).gif\n",
      "예측: fluttershy, 이미지: pony (544).jpg\n",
      "예측: rarity, 이미지: pony (544).png\n",
      "예측: twilight sparkle, 이미지: pony (545).gif\n"
     ]
    },
    {
     "name": "stderr",
     "output_type": "stream",
     "text": [
      "예측: rarity, 이미지: pony (545).jpg\n",
      "예측: fluttershy, 이미지: pony (545).png\n",
      "예측: rarity, 이미지: pony (546).gif\n"
     ]
    },
    {
     "name": "stdout",
     "output_type": "stream",
     "text": [
      "예측: rarity, 이미지: pony (545).jpg\n",
      "예측: fluttershy, 이미지: pony (545).png\n",
      "예측: rarity, 이미지: pony (546).gif\n"
     ]
    },
    {
     "name": "stderr",
     "output_type": "stream",
     "text": [
      "예측: twilight sparkle, 이미지: pony (546).jpg\n"
     ]
    },
    {
     "name": "stdout",
     "output_type": "stream",
     "text": [
      "예측: twilight sparkle, 이미지: pony (546).jpg\n"
     ]
    },
    {
     "name": "stderr",
     "output_type": "stream",
     "text": [
      "예측: rarity, 이미지: pony (546).png\n",
      "예측: pinkie pie, 이미지: pony (547).gif\n"
     ]
    },
    {
     "name": "stdout",
     "output_type": "stream",
     "text": [
      "예측: rarity, 이미지: pony (546).png\n",
      "예측: pinkie pie, 이미지: pony (547).gif\n"
     ]
    },
    {
     "name": "stderr",
     "output_type": "stream",
     "text": [
      "예측: fluttershy, 이미지: pony (547).jpg\n"
     ]
    },
    {
     "name": "stdout",
     "output_type": "stream",
     "text": [
      "예측: fluttershy, 이미지: pony (547).jpg\n"
     ]
    },
    {
     "name": "stderr",
     "output_type": "stream",
     "text": [
      "예측: rarity, 이미지: pony (547).png\n",
      "예측: twilight sparkle, 이미지: pony (548).gif\n",
      "예측: twilight sparkle, 이미지: pony (548).jpg\n"
     ]
    },
    {
     "name": "stdout",
     "output_type": "stream",
     "text": [
      "예측: rarity, 이미지: pony (547).png\n",
      "예측: twilight sparkle, 이미지: pony (548).gif\n",
      "예측: twilight sparkle, 이미지: pony (548).jpg\n"
     ]
    },
    {
     "name": "stderr",
     "output_type": "stream",
     "text": [
      "예측: fluttershy, 이미지: pony (548).png\n",
      "예측: twilight sparkle, 이미지: pony (549).gif\n",
      "예측: fluttershy, 이미지: pony (549).jpg\n",
      "예측: pinkie pie, 이미지: pony (549).png\n",
      "예측: twilight sparkle, 이미지: pony (55).gif\n"
     ]
    },
    {
     "name": "stdout",
     "output_type": "stream",
     "text": [
      "예측: fluttershy, 이미지: pony (548).png\n",
      "예측: twilight sparkle, 이미지: pony (549).gif\n",
      "예측: fluttershy, 이미지: pony (549).jpg\n",
      "예측: pinkie pie, 이미지: pony (549).png\n"
     ]
    },
    {
     "name": "stderr",
     "output_type": "stream",
     "text": [
      "예측: twilight sparkle, 이미지: pony (55).jpg\n"
     ]
    },
    {
     "name": "stdout",
     "output_type": "stream",
     "text": [
      "예측: twilight sparkle, 이미지: pony (55).gif\n",
      "예측: twilight sparkle, 이미지: pony (55).jpg\n"
     ]
    },
    {
     "name": "stderr",
     "output_type": "stream",
     "text": [
      "예측: twilight sparkle, 이미지: pony (55).png\n",
      "예측: twilight sparkle, 이미지: pony (550).gif\n",
      "예측: fluttershy, 이미지: pony (550).jpg\n"
     ]
    },
    {
     "name": "stdout",
     "output_type": "stream",
     "text": [
      "예측: twilight sparkle, 이미지: pony (55).png\n",
      "예측: twilight sparkle, 이미지: pony (550).gif\n"
     ]
    },
    {
     "name": "stderr",
     "output_type": "stream",
     "text": [
      "예측: twilight sparkle, 이미지: pony (550).png\n"
     ]
    },
    {
     "name": "stdout",
     "output_type": "stream",
     "text": [
      "예측: fluttershy, 이미지: pony (550).jpg\n",
      "예측: twilight sparkle, 이미지: pony (550).png\n"
     ]
    },
    {
     "name": "stderr",
     "output_type": "stream",
     "text": [
      "예측: twilight sparkle, 이미지: pony (551).gif\n",
      "예측: applejack, 이미지: pony (551).jpg\n"
     ]
    },
    {
     "name": "stdout",
     "output_type": "stream",
     "text": [
      "예측: twilight sparkle, 이미지: pony (551).gif\n",
      "예측: applejack, 이미지: pony (551).jpg\n"
     ]
    },
    {
     "name": "stderr",
     "output_type": "stream",
     "text": [
      "예측: rarity, 이미지: pony (551).png\n",
      "예측: twilight sparkle, 이미지: pony (552).gif\n",
      "예측: fluttershy, 이미지: pony (552).jpg\n"
     ]
    },
    {
     "name": "stdout",
     "output_type": "stream",
     "text": [
      "예측: rarity, 이미지: pony (551).png\n",
      "예측: twilight sparkle, 이미지: pony (552).gif\n",
      "예측: fluttershy, 이미지: pony (552).jpg\n"
     ]
    },
    {
     "name": "stderr",
     "output_type": "stream",
     "text": [
      "예측: twilight sparkle, 이미지: pony (552).png\n",
      "예측: twilight sparkle, 이미지: pony (553).gif\n",
      "예측: rarity, 이미지: pony (553).jpg\n"
     ]
    },
    {
     "name": "stdout",
     "output_type": "stream",
     "text": [
      "예측: twilight sparkle, 이미지: pony (552).png\n",
      "예측: twilight sparkle, 이미지: pony (553).gif\n",
      "예측: rarity, 이미지: pony (553).jpg\n"
     ]
    },
    {
     "name": "stderr",
     "output_type": "stream",
     "text": [
      "예측: fluttershy, 이미지: pony (553).png\n",
      "예측: twilight sparkle, 이미지: pony (554).gif\n",
      "예측: applejack, 이미지: pony (554).jpg\n",
      "예측: pinkie pie, 이미지: pony (554).png\n",
      "예측: twilight sparkle, 이미지: pony (555).gif\n"
     ]
    },
    {
     "name": "stdout",
     "output_type": "stream",
     "text": [
      "예측: fluttershy, 이미지: pony (553).png\n",
      "예측: twilight sparkle, 이미지: pony (554).gif\n",
      "예측: applejack, 이미지: pony (554).jpg\n",
      "예측: pinkie pie, 이미지: pony (554).png\n"
     ]
    },
    {
     "name": "stderr",
     "output_type": "stream",
     "text": [
      "예측: fluttershy, 이미지: pony (555).jpg\n"
     ]
    },
    {
     "name": "stdout",
     "output_type": "stream",
     "text": [
      "예측: twilight sparkle, 이미지: pony (555).gif\n",
      "예측: fluttershy, 이미지: pony (555).jpg\n"
     ]
    },
    {
     "name": "stderr",
     "output_type": "stream",
     "text": [
      "예측: twilight sparkle, 이미지: pony (555).png\n",
      "예측: twilight sparkle, 이미지: pony (556).gif\n",
      "예측: rarity, 이미지: pony (556).jpg\n",
      "예측: fluttershy, 이미지: pony (556).png\n",
      "예측: twilight sparkle, 이미지: pony (557).gif\n"
     ]
    },
    {
     "name": "stdout",
     "output_type": "stream",
     "text": [
      "예측: twilight sparkle, 이미지: pony (555).png\n",
      "예측: twilight sparkle, 이미지: pony (556).gif\n",
      "예측: rarity, 이미지: pony (556).jpg\n",
      "예측: fluttershy, 이미지: pony (556).png\n",
      "예측: twilight sparkle, 이미지: pony (557).gif\n"
     ]
    },
    {
     "name": "stderr",
     "output_type": "stream",
     "text": [
      "예측: rarity, 이미지: pony (557).jpg\n",
      "예측: twilight sparkle, 이미지: pony (557).png\n",
      "예측: pinkie pie, 이미지: pony (558).gif\n",
      "예측: applejack, 이미지: pony (558).jpg\n",
      "예측: pinkie pie, 이미지: pony (558).png\n"
     ]
    },
    {
     "name": "stdout",
     "output_type": "stream",
     "text": [
      "예측: rarity, 이미지: pony (557).jpg\n",
      "예측: twilight sparkle, 이미지: pony (557).png\n",
      "예측: pinkie pie, 이미지: pony (558).gif\n",
      "예측: applejack, 이미지: pony (558).jpg\n"
     ]
    },
    {
     "name": "stderr",
     "output_type": "stream",
     "text": [
      "예측: twilight sparkle, 이미지: pony (559).gif\n",
      "예측: rarity, 이미지: pony (559).jpg\n",
      "예측: twilight sparkle, 이미지: pony (559).png\n",
      "예측: twilight sparkle, 이미지: pony (56).gif\n"
     ]
    },
    {
     "name": "stdout",
     "output_type": "stream",
     "text": [
      "예측: pinkie pie, 이미지: pony (558).png\n",
      "예측: twilight sparkle, 이미지: pony (559).gif\n",
      "예측: rarity, 이미지: pony (559).jpg\n",
      "예측: twilight sparkle, 이미지: pony (559).png\n",
      "예측: twilight sparkle, 이미지: pony (56).gif\n"
     ]
    },
    {
     "name": "stderr",
     "output_type": "stream",
     "text": [
      "예측: pinkie pie, 이미지: pony (56).jpg\n",
      "예측: pinkie pie, 이미지: pony (56).png\n",
      "예측: twilight sparkle, 이미지: pony (560).gif\n"
     ]
    },
    {
     "name": "stdout",
     "output_type": "stream",
     "text": [
      "예측: pinkie pie, 이미지: pony (56).jpg\n",
      "예측: pinkie pie, 이미지: pony (56).png\n",
      "예측: twilight sparkle, 이미지: pony (560).gif\n"
     ]
    },
    {
     "name": "stderr",
     "output_type": "stream",
     "text": [
      "예측: pinkie pie, 이미지: pony (560).jpg\n"
     ]
    },
    {
     "name": "stdout",
     "output_type": "stream",
     "text": [
      "예측: pinkie pie, 이미지: pony (560).jpg\n"
     ]
    },
    {
     "name": "stderr",
     "output_type": "stream",
     "text": [
      "예측: applejack, 이미지: pony (560).png\n",
      "예측: twilight sparkle, 이미지: pony (561).gif\n",
      "예측: rarity, 이미지: pony (561).jpg\n",
      "예측: applejack, 이미지: pony (561).png\n",
      "예측: twilight sparkle, 이미지: pony (562).gif\n",
      "예측: twilight sparkle, 이미지: pony (562).jpg\n"
     ]
    },
    {
     "name": "stdout",
     "output_type": "stream",
     "text": [
      "예측: applejack, 이미지: pony (560).png\n",
      "예측: twilight sparkle, 이미지: pony (561).gif\n",
      "예측: rarity, 이미지: pony (561).jpg\n",
      "예측: applejack, 이미지: pony (561).png\n",
      "예측: twilight sparkle, 이미지: pony (562).gif\n"
     ]
    },
    {
     "name": "stderr",
     "output_type": "stream",
     "text": [
      "예측: twilight sparkle, 이미지: pony (562).png\n",
      "예측: twilight sparkle, 이미지: pony (563).gif\n"
     ]
    },
    {
     "name": "stdout",
     "output_type": "stream",
     "text": [
      "예측: twilight sparkle, 이미지: pony (562).jpg\n",
      "예측: twilight sparkle, 이미지: pony (562).png\n",
      "예측: twilight sparkle, 이미지: pony (563).gif\n"
     ]
    },
    {
     "name": "stderr",
     "output_type": "stream",
     "text": [
      "예측: fluttershy, 이미지: pony (563).jpg\n",
      "예측: twilight sparkle, 이미지: pony (563).png\n",
      "예측: twilight sparkle, 이미지: pony (564).gif\n",
      "예측: twilight sparkle, 이미지: pony (564).jpg\n"
     ]
    },
    {
     "name": "stdout",
     "output_type": "stream",
     "text": [
      "예측: fluttershy, 이미지: pony (563).jpg\n",
      "예측: twilight sparkle, 이미지: pony (563).png\n",
      "예측: twilight sparkle, 이미지: pony (564).gif\n",
      "예측: twilight sparkle, 이미지: pony (564).jpg\n"
     ]
    },
    {
     "name": "stderr",
     "output_type": "stream",
     "text": [
      "예측: applejack, 이미지: pony (564).png\n",
      "예측: twilight sparkle, 이미지: pony (565).gif\n",
      "예측: twilight sparkle, 이미지: pony (565).jpg\n",
      "예측: rarity, 이미지: pony (565).png\n"
     ]
    },
    {
     "name": "stdout",
     "output_type": "stream",
     "text": [
      "예측: applejack, 이미지: pony (564).png\n",
      "예측: twilight sparkle, 이미지: pony (565).gif\n",
      "예측: twilight sparkle, 이미지: pony (565).jpg\n",
      "예측: rarity, 이미지: pony (565).png\n"
     ]
    },
    {
     "name": "stderr",
     "output_type": "stream",
     "text": [
      "예측: twilight sparkle, 이미지: pony (566).gif\n",
      "예측: rarity, 이미지: pony (566).jpg\n",
      "예측: fluttershy, 이미지: pony (566).png\n",
      "예측: twilight sparkle, 이미지: pony (567).gif\n",
      "예측: twilight sparkle, 이미지: pony (567).jpg\n"
     ]
    },
    {
     "name": "stdout",
     "output_type": "stream",
     "text": [
      "예측: twilight sparkle, 이미지: pony (566).gif\n",
      "예측: rarity, 이미지: pony (566).jpg\n",
      "예측: fluttershy, 이미지: pony (566).png\n",
      "예측: twilight sparkle, 이미지: pony (567).gif\n",
      "예측: twilight sparkle, 이미지: pony (567).jpg\n"
     ]
    },
    {
     "name": "stderr",
     "output_type": "stream",
     "text": [
      "예측: pinkie pie, 이미지: pony (567).png\n",
      "예측: twilight sparkle, 이미지: pony (568).gif\n",
      "예측: fluttershy, 이미지: pony (568).jpg\n",
      "예측: rarity, 이미지: pony (568).png\n",
      "예측: twilight sparkle, 이미지: pony (569).gif\n",
      "예측: pinkie pie, 이미지: pony (569).jpg\n"
     ]
    },
    {
     "name": "stdout",
     "output_type": "stream",
     "text": [
      "예측: pinkie pie, 이미지: pony (567).png\n",
      "예측: twilight sparkle, 이미지: pony (568).gif\n",
      "예측: fluttershy, 이미지: pony (568).jpg\n",
      "예측: rarity, 이미지: pony (568).png\n",
      "예측: twilight sparkle, 이미지: pony (569).gif\n"
     ]
    },
    {
     "name": "stderr",
     "output_type": "stream",
     "text": [
      "예측: fluttershy, 이미지: pony (569).png\n",
      "예측: twilight sparkle, 이미지: pony (57).gif\n",
      "예측: twilight sparkle, 이미지: pony (57).jpg\n"
     ]
    },
    {
     "name": "stdout",
     "output_type": "stream",
     "text": [
      "예측: pinkie pie, 이미지: pony (569).jpg\n",
      "예측: fluttershy, 이미지: pony (569).png\n",
      "예측: twilight sparkle, 이미지: pony (57).gif\n",
      "예측: twilight sparkle, 이미지: pony (57).jpg\n"
     ]
    },
    {
     "name": "stderr",
     "output_type": "stream",
     "text": [
      "예측: fluttershy, 이미지: pony (57).png\n",
      "예측: twilight sparkle, 이미지: pony (570).gif\n",
      "예측: fluttershy, 이미지: pony (570).jpg\n"
     ]
    },
    {
     "name": "stdout",
     "output_type": "stream",
     "text": [
      "예측: fluttershy, 이미지: pony (57).png\n",
      "예측: twilight sparkle, 이미지: pony (570).gif\n",
      "예측: fluttershy, 이미지: pony (570).jpg\n"
     ]
    },
    {
     "name": "stderr",
     "output_type": "stream",
     "text": [
      "예측: twilight sparkle, 이미지: pony (570).png\n",
      "예측: twilight sparkle, 이미지: pony (571).gif\n",
      "예측: rarity, 이미지: pony (571).jpg\n",
      "예측: rainbow dash, 이미지: pony (571).png\n",
      "예측: twilight sparkle, 이미지: pony (572).gif\n"
     ]
    },
    {
     "name": "stdout",
     "output_type": "stream",
     "text": [
      "예측: twilight sparkle, 이미지: pony (570).png\n",
      "예측: twilight sparkle, 이미지: pony (571).gif\n",
      "예측: rarity, 이미지: pony (571).jpg\n",
      "예측: rainbow dash, 이미지: pony (571).png\n",
      "예측: twilight sparkle, 이미지: pony (572).gif\n"
     ]
    },
    {
     "name": "stderr",
     "output_type": "stream",
     "text": [
      "예측: fluttershy, 이미지: pony (572).jpg\n",
      "예측: rainbow dash, 이미지: pony (572).png\n",
      "예측: twilight sparkle, 이미지: pony (573).gif\n",
      "예측: twilight sparkle, 이미지: pony (573).jpg\n",
      "예측: twilight sparkle, 이미지: pony (573).png\n"
     ]
    },
    {
     "name": "stdout",
     "output_type": "stream",
     "text": [
      "예측: fluttershy, 이미지: pony (572).jpg\n",
      "예측: rainbow dash, 이미지: pony (572).png\n",
      "예측: twilight sparkle, 이미지: pony (573).gif\n",
      "예측: twilight sparkle, 이미지: pony (573).jpg\n"
     ]
    },
    {
     "name": "stderr",
     "output_type": "stream",
     "text": [
      "예측: twilight sparkle, 이미지: pony (574).gif\n",
      "예측: rainbow dash, 이미지: pony (574).jpg\n"
     ]
    },
    {
     "name": "stdout",
     "output_type": "stream",
     "text": [
      "예측: twilight sparkle, 이미지: pony (573).png\n",
      "예측: twilight sparkle, 이미지: pony (574).gif\n",
      "예측: rainbow dash, 이미지: pony (574).jpg\n"
     ]
    },
    {
     "name": "stderr",
     "output_type": "stream",
     "text": [
      "예측: fluttershy, 이미지: pony (574).png\n",
      "예측: twilight sparkle, 이미지: pony (575).gif\n",
      "예측: rainbow dash, 이미지: pony (575).jpg\n",
      "예측: twilight sparkle, 이미지: pony (575).png\n",
      "예측: twilight sparkle, 이미지: pony (576).gif\n"
     ]
    },
    {
     "name": "stdout",
     "output_type": "stream",
     "text": [
      "예측: fluttershy, 이미지: pony (574).png\n",
      "예측: twilight sparkle, 이미지: pony (575).gif\n",
      "예측: rainbow dash, 이미지: pony (575).jpg\n",
      "예측: twilight sparkle, 이미지: pony (575).png\n",
      "예측: twilight sparkle, 이미지: pony (576).gif\n"
     ]
    },
    {
     "name": "stderr",
     "output_type": "stream",
     "text": [
      "예측: rarity, 이미지: pony (576).jpg\n",
      "예측: rarity, 이미지: pony (576).png\n",
      "예측: twilight sparkle, 이미지: pony (577).gif\n",
      "예측: rarity, 이미지: pony (577).jpg\n"
     ]
    },
    {
     "name": "stdout",
     "output_type": "stream",
     "text": [
      "예측: rarity, 이미지: pony (576).jpg\n",
      "예측: rarity, 이미지: pony (576).png\n",
      "예측: twilight sparkle, 이미지: pony (577).gif\n",
      "예측: rarity, 이미지: pony (577).jpg\n"
     ]
    },
    {
     "name": "stderr",
     "output_type": "stream",
     "text": [
      "예측: twilight sparkle, 이미지: pony (577).png\n",
      "예측: twilight sparkle, 이미지: pony (578).gif\n",
      "예측: fluttershy, 이미지: pony (578).jpg\n"
     ]
    },
    {
     "name": "stdout",
     "output_type": "stream",
     "text": [
      "예측: twilight sparkle, 이미지: pony (577).png\n",
      "예측: twilight sparkle, 이미지: pony (578).gif\n",
      "예측: fluttershy, 이미지: pony (578).jpg\n"
     ]
    },
    {
     "name": "stderr",
     "output_type": "stream",
     "text": [
      "예측: twilight sparkle, 이미지: pony (578).png\n",
      "예측: twilight sparkle, 이미지: pony (579).gif\n"
     ]
    },
    {
     "name": "stdout",
     "output_type": "stream",
     "text": [
      "예측: twilight sparkle, 이미지: pony (578).png\n",
      "예측: twilight sparkle, 이미지: pony (579).gif\n"
     ]
    },
    {
     "name": "stderr",
     "output_type": "stream",
     "text": [
      "예측: twilight sparkle, 이미지: pony (579).jpg\n",
      "예측: twilight sparkle, 이미지: pony (579).png\n",
      "예측: rainbow dash, 이미지: pony (58).gif\n",
      "예측: twilight sparkle, 이미지: pony (58).jpg\n"
     ]
    },
    {
     "name": "stdout",
     "output_type": "stream",
     "text": [
      "예측: twilight sparkle, 이미지: pony (579).jpg\n",
      "예측: twilight sparkle, 이미지: pony (579).png\n",
      "예측: rainbow dash, 이미지: pony (58).gif\n",
      "예측: twilight sparkle, 이미지: pony (58).jpg\n"
     ]
    },
    {
     "name": "stderr",
     "output_type": "stream",
     "text": [
      "예측: applejack, 이미지: pony (58).png\n",
      "예측: twilight sparkle, 이미지: pony (580).gif\n",
      "예측: rainbow dash, 이미지: pony (580).jpg\n",
      "예측: twilight sparkle, 이미지: pony (580).png\n",
      "예측: twilight sparkle, 이미지: pony (581).gif\n",
      "예측: rarity, 이미지: pony (581).jpg\n"
     ]
    },
    {
     "name": "stdout",
     "output_type": "stream",
     "text": [
      "예측: applejack, 이미지: pony (58).png\n",
      "예측: twilight sparkle, 이미지: pony (580).gif\n",
      "예측: rainbow dash, 이미지: pony (580).jpg\n",
      "예측: twilight sparkle, 이미지: pony (580).png\n",
      "예측: twilight sparkle, 이미지: pony (581).gif\n"
     ]
    },
    {
     "name": "stderr",
     "output_type": "stream",
     "text": [
      "예측: twilight sparkle, 이미지: pony (581).png\n",
      "예측: rainbow dash, 이미지: pony (582).gif\n",
      "예측: rainbow dash, 이미지: pony (582).jpg\n"
     ]
    },
    {
     "name": "stdout",
     "output_type": "stream",
     "text": [
      "예측: rarity, 이미지: pony (581).jpg\n",
      "예측: twilight sparkle, 이미지: pony (581).png\n",
      "예측: rainbow dash, 이미지: pony (582).gif\n",
      "예측: rainbow dash, 이미지: pony (582).jpg\n"
     ]
    },
    {
     "name": "stderr",
     "output_type": "stream",
     "text": [
      "예측: rarity, 이미지: pony (582).png\n",
      "예측: rarity, 이미지: pony (583).gif\n",
      "예측: twilight sparkle, 이미지: pony (583).jpg\n",
      "예측: rarity, 이미지: pony (583).png\n"
     ]
    },
    {
     "name": "stdout",
     "output_type": "stream",
     "text": [
      "예측: rarity, 이미지: pony (582).png\n",
      "예측: rarity, 이미지: pony (583).gif\n",
      "예측: twilight sparkle, 이미지: pony (583).jpg\n",
      "예측: rarity, 이미지: pony (583).png\n"
     ]
    },
    {
     "name": "stderr",
     "output_type": "stream",
     "text": [
      "예측: pinkie pie, 이미지: pony (584).gif\n",
      "예측: applejack, 이미지: pony (584).jpg\n",
      "예측: applejack, 이미지: pony (584).png\n",
      "예측: twilight sparkle, 이미지: pony (585).gif\n",
      "예측: fluttershy, 이미지: pony (585).jpg\n"
     ]
    },
    {
     "name": "stdout",
     "output_type": "stream",
     "text": [
      "예측: pinkie pie, 이미지: pony (584).gif\n",
      "예측: applejack, 이미지: pony (584).jpg\n",
      "예측: applejack, 이미지: pony (584).png\n",
      "예측: twilight sparkle, 이미지: pony (585).gif\n",
      "예측: fluttershy, 이미지: pony (585).jpg\n"
     ]
    },
    {
     "name": "stderr",
     "output_type": "stream",
     "text": [
      "예측: applejack, 이미지: pony (585).png\n",
      "예측: twilight sparkle, 이미지: pony (586).gif\n",
      "예측: twilight sparkle, 이미지: pony (586).jpg\n",
      "예측: applejack, 이미지: pony (586).png\n",
      "예측: rarity, 이미지: pony (587).gif\n"
     ]
    },
    {
     "name": "stdout",
     "output_type": "stream",
     "text": [
      "예측: applejack, 이미지: pony (585).png\n",
      "예측: twilight sparkle, 이미지: pony (586).gif\n",
      "예측: twilight sparkle, 이미지: pony (586).jpg\n",
      "예측: applejack, 이미지: pony (586).png\n",
      "예측: rarity, 이미지: pony (587).gif\n"
     ]
    },
    {
     "name": "stderr",
     "output_type": "stream",
     "text": [
      "예측: twilight sparkle, 이미지: pony (587).jpg\n",
      "예측: pinkie pie, 이미지: pony (587).png\n",
      "예측: rarity, 이미지: pony (588).gif\n",
      "예측: fluttershy, 이미지: pony (588).jpg\n",
      "예측: pinkie pie, 이미지: pony (588).png\n"
     ]
    },
    {
     "name": "stdout",
     "output_type": "stream",
     "text": [
      "예측: twilight sparkle, 이미지: pony (587).jpg\n",
      "예측: pinkie pie, 이미지: pony (587).png\n",
      "예측: rarity, 이미지: pony (588).gif\n",
      "예측: fluttershy, 이미지: pony (588).jpg\n"
     ]
    },
    {
     "name": "stderr",
     "output_type": "stream",
     "text": [
      "예측: rarity, 이미지: pony (589).gif\n",
      "예측: rarity, 이미지: pony (589).jpg\n",
      "예측: fluttershy, 이미지: pony (589).png\n"
     ]
    },
    {
     "name": "stdout",
     "output_type": "stream",
     "text": [
      "예측: pinkie pie, 이미지: pony (588).png\n",
      "예측: rarity, 이미지: pony (589).gif\n",
      "예측: rarity, 이미지: pony (589).jpg\n",
      "예측: fluttershy, 이미지: pony (589).png\n"
     ]
    },
    {
     "name": "stderr",
     "output_type": "stream",
     "text": [
      "예측: twilight sparkle, 이미지: pony (59).gif\n",
      "예측: applejack, 이미지: pony (59).jpg\n"
     ]
    },
    {
     "name": "stdout",
     "output_type": "stream",
     "text": [
      "예측: twilight sparkle, 이미지: pony (59).gif\n",
      "예측: applejack, 이미지: pony (59).jpg\n"
     ]
    },
    {
     "name": "stderr",
     "output_type": "stream",
     "text": [
      "예측: pinkie pie, 이미지: pony (59).png\n",
      "예측: twilight sparkle, 이미지: pony (590).gif\n",
      "예측: applejack, 이미지: pony (590).jpg\n",
      "예측: twilight sparkle, 이미지: pony (590).png\n",
      "예측: fluttershy, 이미지: pony (591).gif\n",
      "예측: applejack, 이미지: pony (591).jpg\n"
     ]
    },
    {
     "name": "stdout",
     "output_type": "stream",
     "text": [
      "예측: pinkie pie, 이미지: pony (59).png\n",
      "예측: twilight sparkle, 이미지: pony (590).gif\n",
      "예측: applejack, 이미지: pony (590).jpg\n",
      "예측: twilight sparkle, 이미지: pony (590).png\n",
      "예측: fluttershy, 이미지: pony (591).gif\n"
     ]
    },
    {
     "name": "stderr",
     "output_type": "stream",
     "text": [
      "예측: twilight sparkle, 이미지: pony (591).png\n",
      "예측: twilight sparkle, 이미지: pony (592).gif\n",
      "예측: applejack, 이미지: pony (592).jpg\n"
     ]
    },
    {
     "name": "stdout",
     "output_type": "stream",
     "text": [
      "예측: applejack, 이미지: pony (591).jpg\n",
      "예측: twilight sparkle, 이미지: pony (591).png\n",
      "예측: twilight sparkle, 이미지: pony (592).gif\n",
      "예측: applejack, 이미지: pony (592).jpg\n"
     ]
    },
    {
     "name": "stderr",
     "output_type": "stream",
     "text": [
      "예측: rainbow dash, 이미지: pony (592).png\n",
      "예측: twilight sparkle, 이미지: pony (593).gif\n",
      "예측: applejack, 이미지: pony (593).jpg\n",
      "예측: fluttershy, 이미지: pony (593).png\n",
      "예측: twilight sparkle, 이미지: pony (594).gif\n"
     ]
    },
    {
     "name": "stdout",
     "output_type": "stream",
     "text": [
      "예측: rainbow dash, 이미지: pony (592).png\n",
      "예측: twilight sparkle, 이미지: pony (593).gif\n",
      "예측: applejack, 이미지: pony (593).jpg\n",
      "예측: fluttershy, 이미지: pony (593).png\n",
      "예측: twilight sparkle, 이미지: pony (594).gif\n"
     ]
    },
    {
     "name": "stderr",
     "output_type": "stream",
     "text": [
      "예측: applejack, 이미지: pony (594).jpg\n",
      "예측: applejack, 이미지: pony (594).png\n",
      "예측: twilight sparkle, 이미지: pony (595).gif\n",
      "예측: twilight sparkle, 이미지: pony (595).jpg\n",
      "예측: rarity, 이미지: pony (595).png\n",
      "예측: rarity, 이미지: pony (596).gif\n"
     ]
    },
    {
     "name": "stdout",
     "output_type": "stream",
     "text": [
      "예측: applejack, 이미지: pony (594).jpg\n",
      "예측: applejack, 이미지: pony (594).png\n",
      "예측: twilight sparkle, 이미지: pony (595).gif\n",
      "예측: twilight sparkle, 이미지: pony (595).jpg\n",
      "예측: rarity, 이미지: pony (595).png\n"
     ]
    },
    {
     "name": "stderr",
     "output_type": "stream",
     "text": [
      "예측: twilight sparkle, 이미지: pony (596).jpg\n",
      "예측: applejack, 이미지: pony (596).png\n",
      "예측: rarity, 이미지: pony (597).gif\n"
     ]
    },
    {
     "name": "stdout",
     "output_type": "stream",
     "text": [
      "예측: rarity, 이미지: pony (596).gif\n",
      "예측: twilight sparkle, 이미지: pony (596).jpg\n",
      "예측: applejack, 이미지: pony (596).png\n",
      "예측: rarity, 이미지: pony (597).gif\n"
     ]
    },
    {
     "name": "stderr",
     "output_type": "stream",
     "text": [
      "예측: rarity, 이미지: pony (597).jpg\n",
      "예측: twilight sparkle, 이미지: pony (597).png\n",
      "예측: twilight sparkle, 이미지: pony (598).gif\n"
     ]
    },
    {
     "name": "stdout",
     "output_type": "stream",
     "text": [
      "예측: rarity, 이미지: pony (597).jpg\n",
      "예측: twilight sparkle, 이미지: pony (597).png\n",
      "예측: twilight sparkle, 이미지: pony (598).gif\n"
     ]
    },
    {
     "name": "stderr",
     "output_type": "stream",
     "text": [
      "예측: fluttershy, 이미지: pony (598).jpg\n",
      "예측: rarity, 이미지: pony (598).png\n",
      "예측: rainbow dash, 이미지: pony (599).gif\n"
     ]
    },
    {
     "name": "stdout",
     "output_type": "stream",
     "text": [
      "예측: fluttershy, 이미지: pony (598).jpg\n",
      "예측: rarity, 이미지: pony (598).png\n",
      "예측: rainbow dash, 이미지: pony (599).gif\n"
     ]
    },
    {
     "name": "stderr",
     "output_type": "stream",
     "text": [
      "예측: rainbow dash, 이미지: pony (599).jpg\n",
      "예측: rarity, 이미지: pony (599).png\n",
      "예측: fluttershy, 이미지: pony (6).gif\n"
     ]
    },
    {
     "name": "stdout",
     "output_type": "stream",
     "text": [
      "예측: rainbow dash, 이미지: pony (599).jpg\n",
      "예측: rarity, 이미지: pony (599).png\n",
      "예측: fluttershy, 이미지: pony (6).gif\n"
     ]
    },
    {
     "name": "stderr",
     "output_type": "stream",
     "text": [
      "예측: rarity, 이미지: pony (6).jpeg\n",
      "예측: twilight sparkle, 이미지: pony (6).jpg\n"
     ]
    },
    {
     "name": "stdout",
     "output_type": "stream",
     "text": [
      "예측: rarity, 이미지: pony (6).jpeg\n",
      "예측: twilight sparkle, 이미지: pony (6).jpg\n"
     ]
    },
    {
     "name": "stderr",
     "output_type": "stream",
     "text": [
      "예측: fluttershy, 이미지: pony (6).png\n",
      "예측: rarity, 이미지: pony (6).webp\n",
      "예측: twilight sparkle, 이미지: pony (60).gif\n",
      "예측: rarity, 이미지: pony (60).jpg\n"
     ]
    },
    {
     "name": "stdout",
     "output_type": "stream",
     "text": [
      "예측: fluttershy, 이미지: pony (6).png\n",
      "예측: rarity, 이미지: pony (6).webp\n",
      "예측: twilight sparkle, 이미지: pony (60).gif\n",
      "예측: rarity, 이미지: pony (60).jpg\n"
     ]
    },
    {
     "name": "stderr",
     "output_type": "stream",
     "text": [
      "예측: twilight sparkle, 이미지: pony (60).png\n",
      "예측: twilight sparkle, 이미지: pony (600).gif\n",
      "예측: rarity, 이미지: pony (600).jpg\n"
     ]
    },
    {
     "name": "stdout",
     "output_type": "stream",
     "text": [
      "예측: twilight sparkle, 이미지: pony (60).png\n",
      "예측: twilight sparkle, 이미지: pony (600).gif\n",
      "예측: rarity, 이미지: pony (600).jpg\n"
     ]
    },
    {
     "name": "stderr",
     "output_type": "stream",
     "text": [
      "예측: rarity, 이미지: pony (600).png\n",
      "예측: twilight sparkle, 이미지: pony (601).gif\n",
      "예측: rarity, 이미지: pony (601).jpg\n"
     ]
    },
    {
     "name": "stdout",
     "output_type": "stream",
     "text": [
      "예측: rarity, 이미지: pony (600).png\n",
      "예측: twilight sparkle, 이미지: pony (601).gif\n",
      "예측: rarity, 이미지: pony (601).jpg\n"
     ]
    },
    {
     "name": "stderr",
     "output_type": "stream",
     "text": [
      "예측: fluttershy, 이미지: pony (601).png\n",
      "예측: pinkie pie, 이미지: pony (602).gif\n",
      "예측: rainbow dash, 이미지: pony (602).jpg\n",
      "예측: pinkie pie, 이미지: pony (602).png\n",
      "예측: twilight sparkle, 이미지: pony (603).gif\n",
      "예측: twilight sparkle, 이미지: pony (603).jpg\n"
     ]
    },
    {
     "name": "stdout",
     "output_type": "stream",
     "text": [
      "예측: fluttershy, 이미지: pony (601).png\n",
      "예측: pinkie pie, 이미지: pony (602).gif\n",
      "예측: rainbow dash, 이미지: pony (602).jpg\n",
      "예측: pinkie pie, 이미지: pony (602).png\n",
      "예측: twilight sparkle, 이미지: pony (603).gif\n"
     ]
    },
    {
     "name": "stderr",
     "output_type": "stream",
     "text": [
      "예측: fluttershy, 이미지: pony (603).png\n",
      "예측: fluttershy, 이미지: pony (604).gif\n"
     ]
    },
    {
     "name": "stdout",
     "output_type": "stream",
     "text": [
      "예측: twilight sparkle, 이미지: pony (603).jpg\n",
      "예측: fluttershy, 이미지: pony (603).png\n",
      "예측: fluttershy, 이미지: pony (604).gif\n"
     ]
    },
    {
     "name": "stderr",
     "output_type": "stream",
     "text": [
      "예측: twilight sparkle, 이미지: pony (604).jpg\n"
     ]
    },
    {
     "name": "stdout",
     "output_type": "stream",
     "text": [
      "예측: twilight sparkle, 이미지: pony (604).jpg\n"
     ]
    },
    {
     "name": "stderr",
     "output_type": "stream",
     "text": [
      "예측: fluttershy, 이미지: pony (604).png\n",
      "예측: rarity, 이미지: pony (605).gif\n"
     ]
    },
    {
     "name": "stdout",
     "output_type": "stream",
     "text": [
      "예측: fluttershy, 이미지: pony (604).png\n",
      "예측: rarity, 이미지: pony (605).gif\n"
     ]
    },
    {
     "name": "stderr",
     "output_type": "stream",
     "text": [
      "예측: twilight sparkle, 이미지: pony (605).jpg\n",
      "예측: fluttershy, 이미지: pony (605).png\n",
      "예측: rainbow dash, 이미지: pony (606).gif\n"
     ]
    },
    {
     "name": "stdout",
     "output_type": "stream",
     "text": [
      "예측: twilight sparkle, 이미지: pony (605).jpg\n",
      "예측: fluttershy, 이미지: pony (605).png\n",
      "예측: rainbow dash, 이미지: pony (606).gif\n"
     ]
    },
    {
     "name": "stderr",
     "output_type": "stream",
     "text": [
      "예측: rarity, 이미지: pony (606).jpg\n"
     ]
    },
    {
     "name": "stdout",
     "output_type": "stream",
     "text": [
      "예측: rarity, 이미지: pony (606).jpg\n"
     ]
    },
    {
     "name": "stderr",
     "output_type": "stream",
     "text": [
      "예측: pinkie pie, 이미지: pony (606).png\n",
      "예측: twilight sparkle, 이미지: pony (607).gif\n"
     ]
    },
    {
     "name": "stdout",
     "output_type": "stream",
     "text": [
      "예측: pinkie pie, 이미지: pony (606).png\n",
      "예측: twilight sparkle, 이미지: pony (607).gif\n"
     ]
    },
    {
     "name": "stderr",
     "output_type": "stream",
     "text": [
      "예측: twilight sparkle, 이미지: pony (607).jpg\n"
     ]
    },
    {
     "name": "stdout",
     "output_type": "stream",
     "text": [
      "예측: twilight sparkle, 이미지: pony (607).jpg\n"
     ]
    },
    {
     "name": "stderr",
     "output_type": "stream",
     "text": [
      "예측: twilight sparkle, 이미지: pony (607).png\n",
      "예측: twilight sparkle, 이미지: pony (608).gif\n",
      "예측: twilight sparkle, 이미지: pony (608).jpg\n"
     ]
    },
    {
     "name": "stdout",
     "output_type": "stream",
     "text": [
      "예측: twilight sparkle, 이미지: pony (607).png\n",
      "예측: twilight sparkle, 이미지: pony (608).gif\n",
      "예측: twilight sparkle, 이미지: pony (608).jpg\n"
     ]
    },
    {
     "name": "stderr",
     "output_type": "stream",
     "text": [
      "예측: twilight sparkle, 이미지: pony (608).png\n",
      "예측: fluttershy, 이미지: pony (609).gif\n",
      "예측: rainbow dash, 이미지: pony (609).jpg\n"
     ]
    },
    {
     "name": "stdout",
     "output_type": "stream",
     "text": [
      "예측: twilight sparkle, 이미지: pony (608).png\n",
      "예측: fluttershy, 이미지: pony (609).gif\n",
      "예측: rainbow dash, 이미지: pony (609).jpg\n"
     ]
    },
    {
     "name": "stderr",
     "output_type": "stream",
     "text": [
      "예측: pinkie pie, 이미지: pony (609).png\n",
      "예측: rainbow dash, 이미지: pony (61).gif\n",
      "예측: twilight sparkle, 이미지: pony (61).jpg\n"
     ]
    },
    {
     "name": "stdout",
     "output_type": "stream",
     "text": [
      "예측: pinkie pie, 이미지: pony (609).png\n",
      "예측: rainbow dash, 이미지: pony (61).gif\n",
      "예측: twilight sparkle, 이미지: pony (61).jpg\n"
     ]
    },
    {
     "name": "stderr",
     "output_type": "stream",
     "text": [
      "예측: applejack, 이미지: pony (61).png\n",
      "예측: pinkie pie, 이미지: pony (610).gif\n",
      "예측: fluttershy, 이미지: pony (610).jpg\n",
      "예측: rainbow dash, 이미지: pony (610).png\n",
      "예측: twilight sparkle, 이미지: pony (611).gif\n"
     ]
    },
    {
     "name": "stdout",
     "output_type": "stream",
     "text": [
      "예측: applejack, 이미지: pony (61).png\n",
      "예측: pinkie pie, 이미지: pony (610).gif\n",
      "예측: fluttershy, 이미지: pony (610).jpg\n",
      "예측: rainbow dash, 이미지: pony (610).png\n",
      "예측: twilight sparkle, 이미지: pony (611).gif\n"
     ]
    },
    {
     "name": "stderr",
     "output_type": "stream",
     "text": [
      "예측: rarity, 이미지: pony (611).jpg\n",
      "예측: twilight sparkle, 이미지: pony (611).png\n",
      "예측: rarity, 이미지: pony (612).gif\n",
      "예측: rarity, 이미지: pony (612).jpg\n"
     ]
    },
    {
     "name": "stdout",
     "output_type": "stream",
     "text": [
      "예측: rarity, 이미지: pony (611).jpg\n",
      "예측: twilight sparkle, 이미지: pony (611).png\n",
      "예측: rarity, 이미지: pony (612).gif\n",
      "예측: rarity, 이미지: pony (612).jpg\n"
     ]
    },
    {
     "name": "stderr",
     "output_type": "stream",
     "text": [
      "예측: pinkie pie, 이미지: pony (612).png\n",
      "예측: rarity, 이미지: pony (613).gif\n",
      "예측: rarity, 이미지: pony (613).jpg\n",
      "예측: fluttershy, 이미지: pony (613).png\n",
      "예측: rainbow dash, 이미지: pony (614).gif\n"
     ]
    },
    {
     "name": "stdout",
     "output_type": "stream",
     "text": [
      "예측: pinkie pie, 이미지: pony (612).png\n",
      "예측: rarity, 이미지: pony (613).gif\n",
      "예측: rarity, 이미지: pony (613).jpg\n",
      "예측: fluttershy, 이미지: pony (613).png\n",
      "예측: rainbow dash, 이미지: pony (614).gif\n"
     ]
    },
    {
     "name": "stderr",
     "output_type": "stream",
     "text": [
      "예측: rarity, 이미지: pony (614).jpg\n",
      "예측: fluttershy, 이미지: pony (614).png\n",
      "예측: rarity, 이미지: pony (615).gif\n",
      "예측: twilight sparkle, 이미지: pony (615).jpg\n"
     ]
    },
    {
     "name": "stdout",
     "output_type": "stream",
     "text": [
      "예측: rarity, 이미지: pony (614).jpg\n",
      "예측: fluttershy, 이미지: pony (614).png\n",
      "예측: rarity, 이미지: pony (615).gif\n"
     ]
    },
    {
     "name": "stderr",
     "output_type": "stream",
     "text": [
      "예측: twilight sparkle, 이미지: pony (615).png\n",
      "예측: rarity, 이미지: pony (616).gif\n"
     ]
    },
    {
     "name": "stdout",
     "output_type": "stream",
     "text": [
      "예측: twilight sparkle, 이미지: pony (615).jpg\n",
      "예측: twilight sparkle, 이미지: pony (615).png\n",
      "예측: rarity, 이미지: pony (616).gif\n"
     ]
    },
    {
     "name": "stderr",
     "output_type": "stream",
     "text": [
      "예측: rainbow dash, 이미지: pony (616).jpg\n",
      "예측: twilight sparkle, 이미지: pony (616).png\n",
      "예측: twilight sparkle, 이미지: pony (617).gif\n",
      "예측: twilight sparkle, 이미지: pony (617).jpg\n"
     ]
    },
    {
     "name": "stdout",
     "output_type": "stream",
     "text": [
      "예측: rainbow dash, 이미지: pony (616).jpg\n",
      "예측: twilight sparkle, 이미지: pony (616).png\n",
      "예측: twilight sparkle, 이미지: pony (617).gif\n",
      "예측: twilight sparkle, 이미지: pony (617).jpg\n"
     ]
    },
    {
     "name": "stderr",
     "output_type": "stream",
     "text": [
      "예측: twilight sparkle, 이미지: pony (617).png\n",
      "예측: rainbow dash, 이미지: pony (618).gif\n",
      "예측: twilight sparkle, 이미지: pony (618).jpg\n"
     ]
    },
    {
     "name": "stdout",
     "output_type": "stream",
     "text": [
      "예측: twilight sparkle, 이미지: pony (617).png\n",
      "예측: rainbow dash, 이미지: pony (618).gif\n",
      "예측: twilight sparkle, 이미지: pony (618).jpg\n"
     ]
    },
    {
     "name": "stderr",
     "output_type": "stream",
     "text": [
      "예측: twilight sparkle, 이미지: pony (618).png\n",
      "예측: rainbow dash, 이미지: pony (619).gif\n",
      "예측: rarity, 이미지: pony (619).jpg\n",
      "예측: rainbow dash, 이미지: pony (619).png\n",
      "예측: twilight sparkle, 이미지: pony (62).gif\n"
     ]
    },
    {
     "name": "stdout",
     "output_type": "stream",
     "text": [
      "예측: twilight sparkle, 이미지: pony (618).png\n",
      "예측: rainbow dash, 이미지: pony (619).gif\n",
      "예측: rarity, 이미지: pony (619).jpg\n",
      "예측: rainbow dash, 이미지: pony (619).png\n",
      "예측: twilight sparkle, 이미지: pony (62).gif\n"
     ]
    },
    {
     "name": "stderr",
     "output_type": "stream",
     "text": [
      "예측: fluttershy, 이미지: pony (62).jpg\n"
     ]
    },
    {
     "name": "stdout",
     "output_type": "stream",
     "text": [
      "예측: fluttershy, 이미지: pony (62).jpg\n"
     ]
    },
    {
     "name": "stderr",
     "output_type": "stream",
     "text": [
      "예측: fluttershy, 이미지: pony (62).png\n",
      "예측: rarity, 이미지: pony (620).gif\n",
      "예측: fluttershy, 이미지: pony (620).jpg\n",
      "예측: twilight sparkle, 이미지: pony (620).png\n",
      "예측: twilight sparkle, 이미지: pony (621).gif\n"
     ]
    },
    {
     "name": "stdout",
     "output_type": "stream",
     "text": [
      "예측: fluttershy, 이미지: pony (62).png\n",
      "예측: rarity, 이미지: pony (620).gif\n",
      "예측: fluttershy, 이미지: pony (620).jpg\n",
      "예측: twilight sparkle, 이미지: pony (620).png\n",
      "예측: twilight sparkle, 이미지: pony (621).gif\n"
     ]
    },
    {
     "name": "stderr",
     "output_type": "stream",
     "text": [
      "예측: rarity, 이미지: pony (621).jpg\n",
      "예측: rarity, 이미지: pony (621).png\n",
      "예측: twilight sparkle, 이미지: pony (622).gif\n"
     ]
    },
    {
     "name": "stdout",
     "output_type": "stream",
     "text": [
      "예측: rarity, 이미지: pony (621).jpg\n",
      "예측: rarity, 이미지: pony (621).png\n",
      "예측: twilight sparkle, 이미지: pony (622).gif\n"
     ]
    },
    {
     "name": "stderr",
     "output_type": "stream",
     "text": [
      "예측: rainbow dash, 이미지: pony (622).jpg\n"
     ]
    },
    {
     "name": "stdout",
     "output_type": "stream",
     "text": [
      "예측: rainbow dash, 이미지: pony (622).jpg\n"
     ]
    },
    {
     "name": "stderr",
     "output_type": "stream",
     "text": [
      "예측: rarity, 이미지: pony (622).png\n",
      "예측: twilight sparkle, 이미지: pony (623).gif\n",
      "예측: rarity, 이미지: pony (623).jpg\n"
     ]
    },
    {
     "name": "stdout",
     "output_type": "stream",
     "text": [
      "예측: rarity, 이미지: pony (622).png\n",
      "예측: twilight sparkle, 이미지: pony (623).gif\n",
      "예측: rarity, 이미지: pony (623).jpg\n"
     ]
    },
    {
     "name": "stderr",
     "output_type": "stream",
     "text": [
      "예측: applejack, 이미지: pony (623).png\n",
      "예측: fluttershy, 이미지: pony (624).gif\n",
      "예측: twilight sparkle, 이미지: pony (624).jpg\n",
      "예측: rarity, 이미지: pony (624).png\n",
      "예측: twilight sparkle, 이미지: pony (625).gif\n"
     ]
    },
    {
     "name": "stdout",
     "output_type": "stream",
     "text": [
      "예측: applejack, 이미지: pony (623).png\n",
      "예측: fluttershy, 이미지: pony (624).gif\n",
      "예측: twilight sparkle, 이미지: pony (624).jpg\n",
      "예측: rarity, 이미지: pony (624).png\n",
      "예측: twilight sparkle, 이미지: pony (625).gif\n"
     ]
    },
    {
     "name": "stderr",
     "output_type": "stream",
     "text": [
      "예측: applejack, 이미지: pony (625).jpg\n",
      "예측: rarity, 이미지: pony (625).png\n",
      "예측: rainbow dash, 이미지: pony (626).gif\n",
      "예측: rarity, 이미지: pony (626).jpg\n",
      "예측: rarity, 이미지: pony (626).png\n"
     ]
    },
    {
     "name": "stdout",
     "output_type": "stream",
     "text": [
      "예측: applejack, 이미지: pony (625).jpg\n",
      "예측: rarity, 이미지: pony (625).png\n",
      "예측: rainbow dash, 이미지: pony (626).gif\n",
      "예측: rarity, 이미지: pony (626).jpg\n"
     ]
    },
    {
     "name": "stderr",
     "output_type": "stream",
     "text": [
      "예측: rainbow dash, 이미지: pony (627).gif\n",
      "예측: pinkie pie, 이미지: pony (627).jpg\n",
      "예측: rainbow dash, 이미지: pony (627).png\n",
      "예측: twilight sparkle, 이미지: pony (628).gif\n",
      "예측: rarity, 이미지: pony (628).jpg\n"
     ]
    },
    {
     "name": "stdout",
     "output_type": "stream",
     "text": [
      "예측: rarity, 이미지: pony (626).png\n",
      "예측: rainbow dash, 이미지: pony (627).gif\n",
      "예측: pinkie pie, 이미지: pony (627).jpg\n",
      "예측: rainbow dash, 이미지: pony (627).png\n",
      "예측: twilight sparkle, 이미지: pony (628).gif\n",
      "예측: rarity, 이미지: pony (628).jpg\n"
     ]
    },
    {
     "name": "stderr",
     "output_type": "stream",
     "text": [
      "예측: twilight sparkle, 이미지: pony (628).png\n",
      "예측: twilight sparkle, 이미지: pony (629).gif\n",
      "예측: fluttershy, 이미지: pony (629).jpg\n",
      "예측: twilight sparkle, 이미지: pony (629).png\n",
      "예측: twilight sparkle, 이미지: pony (63).gif\n"
     ]
    },
    {
     "name": "stdout",
     "output_type": "stream",
     "text": [
      "예측: twilight sparkle, 이미지: pony (628).png\n",
      "예측: twilight sparkle, 이미지: pony (629).gif\n",
      "예측: fluttershy, 이미지: pony (629).jpg\n",
      "예측: twilight sparkle, 이미지: pony (629).png\n",
      "예측: twilight sparkle, 이미지: pony (63).gif\n"
     ]
    },
    {
     "name": "stderr",
     "output_type": "stream",
     "text": [
      "예측: twilight sparkle, 이미지: pony (63).jpg\n"
     ]
    },
    {
     "name": "stdout",
     "output_type": "stream",
     "text": [
      "예측: twilight sparkle, 이미지: pony (63).jpg\n"
     ]
    },
    {
     "name": "stderr",
     "output_type": "stream",
     "text": [
      "예측: twilight sparkle, 이미지: pony (63).png\n",
      "예측: applejack, 이미지: pony (630).gif\n",
      "예측: twilight sparkle, 이미지: pony (630).jpg\n"
     ]
    },
    {
     "name": "stdout",
     "output_type": "stream",
     "text": [
      "예측: twilight sparkle, 이미지: pony (63).png\n",
      "예측: applejack, 이미지: pony (630).gif\n",
      "예측: twilight sparkle, 이미지: pony (630).jpg\n"
     ]
    },
    {
     "name": "stderr",
     "output_type": "stream",
     "text": [
      "예측: rainbow dash, 이미지: pony (630).png\n",
      "예측: twilight sparkle, 이미지: pony (631).gif\n",
      "예측: pinkie pie, 이미지: pony (631).jpg\n",
      "예측: rarity, 이미지: pony (631).png\n",
      "예측: rarity, 이미지: pony (632).gif\n"
     ]
    },
    {
     "name": "stdout",
     "output_type": "stream",
     "text": [
      "예측: rainbow dash, 이미지: pony (630).png\n",
      "예측: twilight sparkle, 이미지: pony (631).gif\n",
      "예측: pinkie pie, 이미지: pony (631).jpg\n",
      "예측: rarity, 이미지: pony (631).png\n",
      "예측: rarity, 이미지: pony (632).gif\n"
     ]
    },
    {
     "name": "stderr",
     "output_type": "stream",
     "text": [
      "예측: pinkie pie, 이미지: pony (632).jpg\n",
      "예측: rarity, 이미지: pony (632).png\n",
      "예측: rainbow dash, 이미지: pony (633).gif\n"
     ]
    },
    {
     "name": "stdout",
     "output_type": "stream",
     "text": [
      "예측: pinkie pie, 이미지: pony (632).jpg\n",
      "예측: rarity, 이미지: pony (632).png\n",
      "예측: rainbow dash, 이미지: pony (633).gif\n"
     ]
    },
    {
     "name": "stderr",
     "output_type": "stream",
     "text": [
      "예측: twilight sparkle, 이미지: pony (633).jpg\n",
      "예측: rarity, 이미지: pony (633).png\n",
      "예측: fluttershy, 이미지: pony (634).gif\n"
     ]
    },
    {
     "name": "stdout",
     "output_type": "stream",
     "text": [
      "예측: twilight sparkle, 이미지: pony (633).jpg\n",
      "예측: rarity, 이미지: pony (633).png\n",
      "예측: fluttershy, 이미지: pony (634).gif\n"
     ]
    },
    {
     "name": "stderr",
     "output_type": "stream",
     "text": [
      "예측: rainbow dash, 이미지: pony (634).jpg\n",
      "예측: fluttershy, 이미지: pony (634).png\n"
     ]
    },
    {
     "name": "stdout",
     "output_type": "stream",
     "text": [
      "예측: rainbow dash, 이미지: pony (634).jpg\n"
     ]
    },
    {
     "name": "stderr",
     "output_type": "stream",
     "text": [
      "예측: twilight sparkle, 이미지: pony (635).gif\n",
      "예측: fluttershy, 이미지: pony (635).jpg\n",
      "예측: rarity, 이미지: pony (635).png\n",
      "예측: twilight sparkle, 이미지: pony (636).gif\n"
     ]
    },
    {
     "name": "stdout",
     "output_type": "stream",
     "text": [
      "예측: fluttershy, 이미지: pony (634).png\n",
      "예측: twilight sparkle, 이미지: pony (635).gif\n",
      "예측: fluttershy, 이미지: pony (635).jpg\n",
      "예측: rarity, 이미지: pony (635).png\n",
      "예측: twilight sparkle, 이미지: pony (636).gif\n"
     ]
    },
    {
     "name": "stderr",
     "output_type": "stream",
     "text": [
      "예측: fluttershy, 이미지: pony (636).jpg\n",
      "예측: rainbow dash, 이미지: pony (636).png\n",
      "예측: twilight sparkle, 이미지: pony (637).gif\n",
      "예측: rarity, 이미지: pony (637).jpg\n"
     ]
    },
    {
     "name": "stdout",
     "output_type": "stream",
     "text": [
      "예측: fluttershy, 이미지: pony (636).jpg\n",
      "예측: rainbow dash, 이미지: pony (636).png\n",
      "예측: twilight sparkle, 이미지: pony (637).gif\n",
      "예측: rarity, 이미지: pony (637).jpg\n"
     ]
    },
    {
     "name": "stderr",
     "output_type": "stream",
     "text": [
      "예측: twilight sparkle, 이미지: pony (637).png\n",
      "예측: fluttershy, 이미지: pony (638).gif\n",
      "예측: twilight sparkle, 이미지: pony (638).jpg\n",
      "예측: pinkie pie, 이미지: pony (638).png\n"
     ]
    },
    {
     "name": "stdout",
     "output_type": "stream",
     "text": [
      "예측: twilight sparkle, 이미지: pony (637).png\n",
      "예측: fluttershy, 이미지: pony (638).gif\n",
      "예측: twilight sparkle, 이미지: pony (638).jpg\n"
     ]
    },
    {
     "name": "stderr",
     "output_type": "stream",
     "text": [
      "예측: twilight sparkle, 이미지: pony (639).gif\n",
      "예측: fluttershy, 이미지: pony (639).jpg\n",
      "예측: twilight sparkle, 이미지: pony (639).png\n"
     ]
    },
    {
     "name": "stdout",
     "output_type": "stream",
     "text": [
      "예측: pinkie pie, 이미지: pony (638).png\n",
      "예측: twilight sparkle, 이미지: pony (639).gif\n",
      "예측: fluttershy, 이미지: pony (639).jpg\n",
      "예측: twilight sparkle, 이미지: pony (639).png\n"
     ]
    },
    {
     "name": "stderr",
     "output_type": "stream",
     "text": [
      "예측: twilight sparkle, 이미지: pony (64).gif\n",
      "예측: twilight sparkle, 이미지: pony (64).jpg\n"
     ]
    },
    {
     "name": "stdout",
     "output_type": "stream",
     "text": [
      "예측: twilight sparkle, 이미지: pony (64).gif\n",
      "예측: twilight sparkle, 이미지: pony (64).jpg\n"
     ]
    },
    {
     "name": "stderr",
     "output_type": "stream",
     "text": [
      "예측: rarity, 이미지: pony (64).png\n",
      "예측: fluttershy, 이미지: pony (640).gif\n",
      "예측: rarity, 이미지: pony (640).jpg\n",
      "예측: fluttershy, 이미지: pony (640).png\n",
      "예측: fluttershy, 이미지: pony (641).gif\n",
      "예측: rainbow dash, 이미지: pony (641).jpg\n"
     ]
    },
    {
     "name": "stdout",
     "output_type": "stream",
     "text": [
      "예측: rarity, 이미지: pony (64).png\n",
      "예측: fluttershy, 이미지: pony (640).gif\n",
      "예측: rarity, 이미지: pony (640).jpg\n",
      "예측: fluttershy, 이미지: pony (640).png\n",
      "예측: fluttershy, 이미지: pony (641).gif\n"
     ]
    },
    {
     "name": "stderr",
     "output_type": "stream",
     "text": [
      "예측: fluttershy, 이미지: pony (641).png\n",
      "예측: rarity, 이미지: pony (642).gif\n"
     ]
    },
    {
     "name": "stdout",
     "output_type": "stream",
     "text": [
      "예측: rainbow dash, 이미지: pony (641).jpg\n",
      "예측: fluttershy, 이미지: pony (641).png\n",
      "예측: rarity, 이미지: pony (642).gif\n"
     ]
    },
    {
     "name": "stderr",
     "output_type": "stream",
     "text": [
      "예측: applejack, 이미지: pony (642).jpg\n",
      "예측: twilight sparkle, 이미지: pony (642).png\n",
      "예측: pinkie pie, 이미지: pony (643).gif\n"
     ]
    },
    {
     "name": "stdout",
     "output_type": "stream",
     "text": [
      "예측: applejack, 이미지: pony (642).jpg\n",
      "예측: twilight sparkle, 이미지: pony (642).png\n",
      "예측: pinkie pie, 이미지: pony (643).gif\n"
     ]
    },
    {
     "name": "stderr",
     "output_type": "stream",
     "text": [
      "예측: twilight sparkle, 이미지: pony (643).jpg\n",
      "예측: fluttershy, 이미지: pony (643).png\n",
      "예측: twilight sparkle, 이미지: pony (644).gif\n"
     ]
    },
    {
     "name": "stdout",
     "output_type": "stream",
     "text": [
      "예측: twilight sparkle, 이미지: pony (643).jpg\n",
      "예측: fluttershy, 이미지: pony (643).png\n",
      "예측: twilight sparkle, 이미지: pony (644).gif\n"
     ]
    },
    {
     "name": "stderr",
     "output_type": "stream",
     "text": [
      "예측: fluttershy, 이미지: pony (644).jpg\n"
     ]
    },
    {
     "name": "stdout",
     "output_type": "stream",
     "text": [
      "예측: fluttershy, 이미지: pony (644).jpg\n"
     ]
    },
    {
     "name": "stderr",
     "output_type": "stream",
     "text": [
      "예측: rarity, 이미지: pony (644).png\n",
      "예측: twilight sparkle, 이미지: pony (645).gif\n",
      "예측: applejack, 이미지: pony (645).jpg\n"
     ]
    },
    {
     "name": "stdout",
     "output_type": "stream",
     "text": [
      "예측: rarity, 이미지: pony (644).png\n",
      "예측: twilight sparkle, 이미지: pony (645).gif\n",
      "예측: applejack, 이미지: pony (645).jpg\n"
     ]
    },
    {
     "name": "stderr",
     "output_type": "stream",
     "text": [
      "예측: fluttershy, 이미지: pony (645).png\n",
      "예측: rainbow dash, 이미지: pony (646).gif\n",
      "예측: fluttershy, 이미지: pony (646).jpg\n",
      "예측: rarity, 이미지: pony (646).png\n",
      "예측: twilight sparkle, 이미지: pony (647).gif\n"
     ]
    },
    {
     "name": "stdout",
     "output_type": "stream",
     "text": [
      "예측: fluttershy, 이미지: pony (645).png\n",
      "예측: rainbow dash, 이미지: pony (646).gif\n",
      "예측: fluttershy, 이미지: pony (646).jpg\n",
      "예측: rarity, 이미지: pony (646).png\n"
     ]
    },
    {
     "name": "stderr",
     "output_type": "stream",
     "text": [
      "예측: twilight sparkle, 이미지: pony (647).jpg\n",
      "예측: twilight sparkle, 이미지: pony (647).png\n",
      "예측: twilight sparkle, 이미지: pony (648).gif\n"
     ]
    },
    {
     "name": "stdout",
     "output_type": "stream",
     "text": [
      "예측: twilight sparkle, 이미지: pony (647).gif\n",
      "예측: twilight sparkle, 이미지: pony (647).jpg\n",
      "예측: twilight sparkle, 이미지: pony (647).png\n"
     ]
    },
    {
     "name": "stderr",
     "output_type": "stream",
     "text": [
      "예측: twilight sparkle, 이미지: pony (648).jpg\n",
      "예측: twilight sparkle, 이미지: pony (648).png\n",
      "예측: twilight sparkle, 이미지: pony (649).gif\n"
     ]
    },
    {
     "name": "stdout",
     "output_type": "stream",
     "text": [
      "예측: twilight sparkle, 이미지: pony (648).gif\n",
      "예측: twilight sparkle, 이미지: pony (648).jpg\n",
      "예측: twilight sparkle, 이미지: pony (648).png\n",
      "예측: twilight sparkle, 이미지: pony (649).gif\n"
     ]
    },
    {
     "name": "stderr",
     "output_type": "stream",
     "text": [
      "예측: fluttershy, 이미지: pony (649).jpg\n",
      "예측: rainbow dash, 이미지: pony (649).png\n",
      "예측: rainbow dash, 이미지: pony (65).gif\n"
     ]
    },
    {
     "name": "stdout",
     "output_type": "stream",
     "text": [
      "예측: fluttershy, 이미지: pony (649).jpg\n",
      "예측: rainbow dash, 이미지: pony (649).png\n",
      "예측: rainbow dash, 이미지: pony (65).gif\n"
     ]
    },
    {
     "name": "stderr",
     "output_type": "stream",
     "text": [
      "예측: applejack, 이미지: pony (65).jpg\n",
      "예측: fluttershy, 이미지: pony (65).png\n",
      "예측: rainbow dash, 이미지: pony (650).gif\n"
     ]
    },
    {
     "name": "stdout",
     "output_type": "stream",
     "text": [
      "예측: applejack, 이미지: pony (65).jpg\n",
      "예측: fluttershy, 이미지: pony (65).png\n",
      "예측: rainbow dash, 이미지: pony (650).gif\n"
     ]
    },
    {
     "name": "stderr",
     "output_type": "stream",
     "text": [
      "예측: fluttershy, 이미지: pony (650).jpg\n",
      "예측: twilight sparkle, 이미지: pony (650).png\n",
      "예측: applejack, 이미지: pony (651).gif\n",
      "예측: rarity, 이미지: pony (651).jpg\n"
     ]
    },
    {
     "name": "stdout",
     "output_type": "stream",
     "text": [
      "예측: fluttershy, 이미지: pony (650).jpg\n",
      "예측: twilight sparkle, 이미지: pony (650).png\n",
      "예측: applejack, 이미지: pony (651).gif\n",
      "예측: rarity, 이미지: pony (651).jpg\n"
     ]
    },
    {
     "name": "stderr",
     "output_type": "stream",
     "text": [
      "예측: rarity, 이미지: pony (651).png\n",
      "예측: twilight sparkle, 이미지: pony (652).gif\n",
      "예측: rainbow dash, 이미지: pony (652).jpg\n",
      "예측: twilight sparkle, 이미지: pony (652).png\n"
     ]
    },
    {
     "name": "stdout",
     "output_type": "stream",
     "text": [
      "예측: rarity, 이미지: pony (651).png\n",
      "예측: twilight sparkle, 이미지: pony (652).gif\n",
      "예측: rainbow dash, 이미지: pony (652).jpg\n",
      "예측: twilight sparkle, 이미지: pony (652).png\n"
     ]
    },
    {
     "name": "stderr",
     "output_type": "stream",
     "text": [
      "예측: fluttershy, 이미지: pony (653).gif\n",
      "예측: applejack, 이미지: pony (653).jpg\n",
      "예측: rainbow dash, 이미지: pony (653).png\n",
      "예측: twilight sparkle, 이미지: pony (654).gif\n"
     ]
    },
    {
     "name": "stdout",
     "output_type": "stream",
     "text": [
      "예측: fluttershy, 이미지: pony (653).gif\n",
      "예측: applejack, 이미지: pony (653).jpg\n",
      "예측: rainbow dash, 이미지: pony (653).png\n",
      "예측: twilight sparkle, 이미지: pony (654).gif\n"
     ]
    },
    {
     "name": "stderr",
     "output_type": "stream",
     "text": [
      "예측: rainbow dash, 이미지: pony (654).jpg\n",
      "예측: fluttershy, 이미지: pony (654).png\n",
      "예측: rarity, 이미지: pony (655).gif\n",
      "예측: twilight sparkle, 이미지: pony (655).jpg\n"
     ]
    },
    {
     "name": "stdout",
     "output_type": "stream",
     "text": [
      "예측: rainbow dash, 이미지: pony (654).jpg\n",
      "예측: fluttershy, 이미지: pony (654).png\n",
      "예측: rarity, 이미지: pony (655).gif\n",
      "예측: twilight sparkle, 이미지: pony (655).jpg\n"
     ]
    },
    {
     "name": "stderr",
     "output_type": "stream",
     "text": [
      "예측: fluttershy, 이미지: pony (655).png\n",
      "예측: twilight sparkle, 이미지: pony (656).gif\n",
      "예측: applejack, 이미지: pony (656).jpg\n",
      "예측: fluttershy, 이미지: pony (656).png\n"
     ]
    },
    {
     "name": "stdout",
     "output_type": "stream",
     "text": [
      "예측: fluttershy, 이미지: pony (655).png\n",
      "예측: twilight sparkle, 이미지: pony (656).gif\n",
      "예측: applejack, 이미지: pony (656).jpg\n",
      "예측: fluttershy, 이미지: pony (656).png\n"
     ]
    },
    {
     "name": "stderr",
     "output_type": "stream",
     "text": [
      "예측: rarity, 이미지: pony (657).gif\n",
      "예측: rainbow dash, 이미지: pony (657).jpg\n",
      "예측: fluttershy, 이미지: pony (657).png\n",
      "예측: rarity, 이미지: pony (658).gif\n",
      "예측: twilight sparkle, 이미지: pony (658).jpg\n"
     ]
    },
    {
     "name": "stdout",
     "output_type": "stream",
     "text": [
      "예측: rarity, 이미지: pony (657).gif\n",
      "예측: rainbow dash, 이미지: pony (657).jpg\n",
      "예측: fluttershy, 이미지: pony (657).png\n",
      "예측: rarity, 이미지: pony (658).gif\n"
     ]
    },
    {
     "name": "stderr",
     "output_type": "stream",
     "text": [
      "예측: fluttershy, 이미지: pony (658).png\n",
      "예측: pinkie pie, 이미지: pony (659).gif\n",
      "예측: twilight sparkle, 이미지: pony (659).jpg\n"
     ]
    },
    {
     "name": "stdout",
     "output_type": "stream",
     "text": [
      "예측: twilight sparkle, 이미지: pony (658).jpg\n",
      "예측: fluttershy, 이미지: pony (658).png\n",
      "예측: pinkie pie, 이미지: pony (659).gif\n",
      "예측: twilight sparkle, 이미지: pony (659).jpg\n"
     ]
    },
    {
     "name": "stderr",
     "output_type": "stream",
     "text": [
      "예측: twilight sparkle, 이미지: pony (659).png\n",
      "예측: twilight sparkle, 이미지: pony (66).gif\n",
      "예측: applejack, 이미지: pony (66).jpg\n"
     ]
    },
    {
     "name": "stdout",
     "output_type": "stream",
     "text": [
      "예측: twilight sparkle, 이미지: pony (659).png\n",
      "예측: twilight sparkle, 이미지: pony (66).gif\n",
      "예측: applejack, 이미지: pony (66).jpg\n"
     ]
    },
    {
     "name": "stderr",
     "output_type": "stream",
     "text": [
      "예측: fluttershy, 이미지: pony (66).png\n",
      "예측: twilight sparkle, 이미지: pony (660).gif\n",
      "예측: rarity, 이미지: pony (660).jpg\n",
      "예측: twilight sparkle, 이미지: pony (660).png\n"
     ]
    },
    {
     "name": "stdout",
     "output_type": "stream",
     "text": [
      "예측: fluttershy, 이미지: pony (66).png\n",
      "예측: twilight sparkle, 이미지: pony (660).gif\n",
      "예측: rarity, 이미지: pony (660).jpg\n"
     ]
    },
    {
     "name": "stderr",
     "output_type": "stream",
     "text": [
      "예측: twilight sparkle, 이미지: pony (661).gif\n",
      "예측: twilight sparkle, 이미지: pony (661).jpg\n",
      "예측: fluttershy, 이미지: pony (661).png\n",
      "예측: pinkie pie, 이미지: pony (662).gif\n"
     ]
    },
    {
     "name": "stdout",
     "output_type": "stream",
     "text": [
      "예측: twilight sparkle, 이미지: pony (660).png\n",
      "예측: twilight sparkle, 이미지: pony (661).gif\n",
      "예측: twilight sparkle, 이미지: pony (661).jpg\n",
      "예측: fluttershy, 이미지: pony (661).png\n",
      "예측: pinkie pie, 이미지: pony (662).gif\n"
     ]
    },
    {
     "name": "stderr",
     "output_type": "stream",
     "text": [
      "예측: fluttershy, 이미지: pony (662).jpg\n",
      "예측: fluttershy, 이미지: pony (662).png\n",
      "예측: fluttershy, 이미지: pony (663).gif\n",
      "예측: fluttershy, 이미지: pony (663).jpg\n",
      "예측: fluttershy, 이미지: pony (663).png\n"
     ]
    },
    {
     "name": "stdout",
     "output_type": "stream",
     "text": [
      "예측: fluttershy, 이미지: pony (662).jpg\n",
      "예측: fluttershy, 이미지: pony (662).png\n",
      "예측: fluttershy, 이미지: pony (663).gif\n",
      "예측: fluttershy, 이미지: pony (663).jpg\n",
      "예측: fluttershy, 이미지: pony (663).png\n"
     ]
    },
    {
     "name": "stderr",
     "output_type": "stream",
     "text": [
      "예측: pinkie pie, 이미지: pony (664).gif\n",
      "예측: fluttershy, 이미지: pony (664).jpg\n",
      "예측: fluttershy, 이미지: pony (664).png\n",
      "예측: twilight sparkle, 이미지: pony (665).gif\n"
     ]
    },
    {
     "name": "stdout",
     "output_type": "stream",
     "text": [
      "예측: pinkie pie, 이미지: pony (664).gif\n",
      "예측: fluttershy, 이미지: pony (664).jpg\n",
      "예측: fluttershy, 이미지: pony (664).png\n",
      "예측: twilight sparkle, 이미지: pony (665).gif\n"
     ]
    },
    {
     "name": "stderr",
     "output_type": "stream",
     "text": [
      "예측: rarity, 이미지: pony (665).jpg\n",
      "예측: fluttershy, 이미지: pony (665).png\n",
      "예측: twilight sparkle, 이미지: pony (666).gif\n",
      "예측: fluttershy, 이미지: pony (666).jpg\n",
      "예측: fluttershy, 이미지: pony (666).png\n",
      "예측: rarity, 이미지: pony (667).gif\n"
     ]
    },
    {
     "name": "stdout",
     "output_type": "stream",
     "text": [
      "예측: rarity, 이미지: pony (665).jpg\n",
      "예측: fluttershy, 이미지: pony (665).png\n",
      "예측: twilight sparkle, 이미지: pony (666).gif\n",
      "예측: fluttershy, 이미지: pony (666).jpg\n",
      "예측: fluttershy, 이미지: pony (666).png\n"
     ]
    },
    {
     "name": "stderr",
     "output_type": "stream",
     "text": [
      "예측: twilight sparkle, 이미지: pony (667).jpg\n",
      "예측: fluttershy, 이미지: pony (667).png\n",
      "예측: rarity, 이미지: pony (668).gif\n",
      "예측: fluttershy, 이미지: pony (668).jpg\n"
     ]
    },
    {
     "name": "stdout",
     "output_type": "stream",
     "text": [
      "예측: rarity, 이미지: pony (667).gif\n",
      "예측: twilight sparkle, 이미지: pony (667).jpg\n",
      "예측: fluttershy, 이미지: pony (667).png\n",
      "예측: rarity, 이미지: pony (668).gif\n",
      "예측: fluttershy, 이미지: pony (668).jpg\n"
     ]
    },
    {
     "name": "stderr",
     "output_type": "stream",
     "text": [
      "예측: fluttershy, 이미지: pony (668).png\n",
      "예측: rarity, 이미지: pony (669).gif\n",
      "예측: pinkie pie, 이미지: pony (669).jpg\n"
     ]
    },
    {
     "name": "stdout",
     "output_type": "stream",
     "text": [
      "예측: fluttershy, 이미지: pony (668).png\n",
      "예측: rarity, 이미지: pony (669).gif\n",
      "예측: pinkie pie, 이미지: pony (669).jpg\n"
     ]
    },
    {
     "name": "stderr",
     "output_type": "stream",
     "text": [
      "예측: applejack, 이미지: pony (669).png\n",
      "예측: twilight sparkle, 이미지: pony (67).gif\n",
      "예측: applejack, 이미지: pony (67).jpg\n"
     ]
    },
    {
     "name": "stdout",
     "output_type": "stream",
     "text": [
      "예측: applejack, 이미지: pony (669).png\n",
      "예측: twilight sparkle, 이미지: pony (67).gif\n",
      "예측: applejack, 이미지: pony (67).jpg\n"
     ]
    },
    {
     "name": "stderr",
     "output_type": "stream",
     "text": [
      "예측: rainbow dash, 이미지: pony (67).png\n",
      "예측: twilight sparkle, 이미지: pony (670).gif\n",
      "예측: twilight sparkle, 이미지: pony (670).jpg\n",
      "예측: applejack, 이미지: pony (670).png\n",
      "예측: rarity, 이미지: pony (671).gif\n"
     ]
    },
    {
     "name": "stdout",
     "output_type": "stream",
     "text": [
      "예측: rainbow dash, 이미지: pony (67).png\n",
      "예측: twilight sparkle, 이미지: pony (670).gif\n",
      "예측: twilight sparkle, 이미지: pony (670).jpg\n",
      "예측: applejack, 이미지: pony (670).png\n"
     ]
    },
    {
     "name": "stderr",
     "output_type": "stream",
     "text": [
      "예측: twilight sparkle, 이미지: pony (671).jpg\n",
      "예측: rarity, 이미지: pony (671).png\n",
      "예측: rainbow dash, 이미지: pony (672).gif\n",
      "예측: twilight sparkle, 이미지: pony (672).jpg\n"
     ]
    },
    {
     "name": "stdout",
     "output_type": "stream",
     "text": [
      "예측: rarity, 이미지: pony (671).gif\n",
      "예측: twilight sparkle, 이미지: pony (671).jpg\n",
      "예측: rarity, 이미지: pony (671).png\n",
      "예측: rainbow dash, 이미지: pony (672).gif\n",
      "예측: twilight sparkle, 이미지: pony (672).jpg\n"
     ]
    },
    {
     "name": "stderr",
     "output_type": "stream",
     "text": [
      "예측: twilight sparkle, 이미지: pony (672).png\n",
      "예측: rainbow dash, 이미지: pony (673).gif\n",
      "예측: fluttershy, 이미지: pony (673).jpg\n",
      "예측: fluttershy, 이미지: pony (673).png\n",
      "예측: rarity, 이미지: pony (674).gif\n"
     ]
    },
    {
     "name": "stdout",
     "output_type": "stream",
     "text": [
      "예측: twilight sparkle, 이미지: pony (672).png\n",
      "예측: rainbow dash, 이미지: pony (673).gif\n",
      "예측: fluttershy, 이미지: pony (673).jpg\n",
      "예측: fluttershy, 이미지: pony (673).png\n",
      "예측: rarity, 이미지: pony (674).gif\n"
     ]
    },
    {
     "name": "stderr",
     "output_type": "stream",
     "text": [
      "예측: rarity, 이미지: pony (674).jpg\n"
     ]
    },
    {
     "name": "stdout",
     "output_type": "stream",
     "text": [
      "예측: rarity, 이미지: pony (674).jpg\n"
     ]
    },
    {
     "name": "stderr",
     "output_type": "stream",
     "text": [
      "예측: twilight sparkle, 이미지: pony (674).png\n",
      "예측: fluttershy, 이미지: pony (675).gif\n",
      "예측: applejack, 이미지: pony (675).jpg\n"
     ]
    },
    {
     "name": "stdout",
     "output_type": "stream",
     "text": [
      "예측: twilight sparkle, 이미지: pony (674).png\n",
      "예측: fluttershy, 이미지: pony (675).gif\n",
      "예측: applejack, 이미지: pony (675).jpg\n"
     ]
    },
    {
     "name": "stderr",
     "output_type": "stream",
     "text": [
      "예측: twilight sparkle, 이미지: pony (675).png\n",
      "예측: fluttershy, 이미지: pony (676).gif\n"
     ]
    },
    {
     "name": "stdout",
     "output_type": "stream",
     "text": [
      "예측: twilight sparkle, 이미지: pony (675).png\n",
      "예측: fluttershy, 이미지: pony (676).gif\n"
     ]
    },
    {
     "name": "stderr",
     "output_type": "stream",
     "text": [
      "예측: rarity, 이미지: pony (676).jpg\n",
      "예측: twilight sparkle, 이미지: pony (676).png\n",
      "예측: fluttershy, 이미지: pony (677).gif\n",
      "예측: twilight sparkle, 이미지: pony (677).jpg\n",
      "예측: pinkie pie, 이미지: pony (677).png\n",
      "예측: rarity, 이미지: pony (678).gif\n"
     ]
    },
    {
     "name": "stdout",
     "output_type": "stream",
     "text": [
      "예측: rarity, 이미지: pony (676).jpg\n",
      "예측: twilight sparkle, 이미지: pony (676).png\n",
      "예측: fluttershy, 이미지: pony (677).gif\n",
      "예측: twilight sparkle, 이미지: pony (677).jpg\n",
      "예측: pinkie pie, 이미지: pony (677).png\n"
     ]
    },
    {
     "name": "stderr",
     "output_type": "stream",
     "text": [
      "예측: rarity, 이미지: pony (678).jpg\n"
     ]
    },
    {
     "name": "stdout",
     "output_type": "stream",
     "text": [
      "예측: rarity, 이미지: pony (678).gif\n",
      "예측: rarity, 이미지: pony (678).jpg\n"
     ]
    },
    {
     "name": "stderr",
     "output_type": "stream",
     "text": [
      "예측: applejack, 이미지: pony (678).png\n",
      "예측: fluttershy, 이미지: pony (679).gif\n",
      "예측: pinkie pie, 이미지: pony (679).jpg\n",
      "예측: applejack, 이미지: pony (679).png\n"
     ]
    },
    {
     "name": "stdout",
     "output_type": "stream",
     "text": [
      "예측: applejack, 이미지: pony (678).png\n",
      "예측: fluttershy, 이미지: pony (679).gif\n",
      "예측: pinkie pie, 이미지: pony (679).jpg\n"
     ]
    },
    {
     "name": "stderr",
     "output_type": "stream",
     "text": [
      "예측: fluttershy, 이미지: pony (68).gif\n",
      "예측: rainbow dash, 이미지: pony (68).jpg\n"
     ]
    },
    {
     "name": "stdout",
     "output_type": "stream",
     "text": [
      "예측: applejack, 이미지: pony (679).png\n",
      "예측: fluttershy, 이미지: pony (68).gif\n",
      "예측: rainbow dash, 이미지: pony (68).jpg\n"
     ]
    },
    {
     "name": "stderr",
     "output_type": "stream",
     "text": [
      "예측: rainbow dash, 이미지: pony (68).png\n",
      "예측: fluttershy, 이미지: pony (680).gif\n",
      "예측: rarity, 이미지: pony (680).jpg\n",
      "예측: rarity, 이미지: pony (680).png\n",
      "예측: fluttershy, 이미지: pony (681).gif\n"
     ]
    },
    {
     "name": "stdout",
     "output_type": "stream",
     "text": [
      "예측: rainbow dash, 이미지: pony (68).png\n",
      "예측: fluttershy, 이미지: pony (680).gif\n",
      "예측: rarity, 이미지: pony (680).jpg\n",
      "예측: rarity, 이미지: pony (680).png\n",
      "예측: fluttershy, 이미지: pony (681).gif\n"
     ]
    },
    {
     "name": "stderr",
     "output_type": "stream",
     "text": [
      "예측: pinkie pie, 이미지: pony (681).jpg\n",
      "예측: twilight sparkle, 이미지: pony (681).png\n",
      "예측: rarity, 이미지: pony (682).gif\n",
      "예측: fluttershy, 이미지: pony (682).jpg\n"
     ]
    },
    {
     "name": "stdout",
     "output_type": "stream",
     "text": [
      "예측: pinkie pie, 이미지: pony (681).jpg\n",
      "예측: twilight sparkle, 이미지: pony (681).png\n",
      "예측: rarity, 이미지: pony (682).gif\n",
      "예측: fluttershy, 이미지: pony (682).jpg\n"
     ]
    },
    {
     "name": "stderr",
     "output_type": "stream",
     "text": [
      "예측: twilight sparkle, 이미지: pony (682).png\n",
      "예측: twilight sparkle, 이미지: pony (683).gif\n",
      "예측: pinkie pie, 이미지: pony (683).jpg\n"
     ]
    },
    {
     "name": "stdout",
     "output_type": "stream",
     "text": [
      "예측: twilight sparkle, 이미지: pony (682).png\n",
      "예측: twilight sparkle, 이미지: pony (683).gif\n",
      "예측: pinkie pie, 이미지: pony (683).jpg\n"
     ]
    },
    {
     "name": "stderr",
     "output_type": "stream",
     "text": [
      "예측: fluttershy, 이미지: pony (683).png\n",
      "예측: twilight sparkle, 이미지: pony (684).gif\n",
      "예측: rarity, 이미지: pony (684).jpg\n",
      "예측: rarity, 이미지: pony (684).png\n"
     ]
    },
    {
     "name": "stdout",
     "output_type": "stream",
     "text": [
      "예측: fluttershy, 이미지: pony (683).png\n",
      "예측: twilight sparkle, 이미지: pony (684).gif\n",
      "예측: rarity, 이미지: pony (684).jpg\n",
      "예측: rarity, 이미지: pony (684).png\n"
     ]
    },
    {
     "name": "stderr",
     "output_type": "stream",
     "text": [
      "예측: rarity, 이미지: pony (685).gif\n",
      "예측: rarity, 이미지: pony (685).jpg\n",
      "예측: twilight sparkle, 이미지: pony (685).png\n",
      "예측: twilight sparkle, 이미지: pony (686).gif\n"
     ]
    },
    {
     "name": "stdout",
     "output_type": "stream",
     "text": [
      "예측: rarity, 이미지: pony (685).gif\n",
      "예측: rarity, 이미지: pony (685).jpg\n",
      "예측: twilight sparkle, 이미지: pony (685).png\n"
     ]
    },
    {
     "name": "stderr",
     "output_type": "stream",
     "text": [
      "예측: applejack, 이미지: pony (686).jpg\n",
      "예측: rainbow dash, 이미지: pony (686).png\n"
     ]
    },
    {
     "name": "stdout",
     "output_type": "stream",
     "text": [
      "예측: twilight sparkle, 이미지: pony (686).gif\n",
      "예측: applejack, 이미지: pony (686).jpg\n"
     ]
    },
    {
     "name": "stderr",
     "output_type": "stream",
     "text": [
      "예측: twilight sparkle, 이미지: pony (687).gif\n",
      "예측: twilight sparkle, 이미지: pony (687).jpg\n",
      "예측: rarity, 이미지: pony (687).png\n",
      "예측: twilight sparkle, 이미지: pony (688).gif\n",
      "예측: rarity, 이미지: pony (688).jpg\n"
     ]
    },
    {
     "name": "stdout",
     "output_type": "stream",
     "text": [
      "예측: rainbow dash, 이미지: pony (686).png\n",
      "예측: twilight sparkle, 이미지: pony (687).gif\n",
      "예측: twilight sparkle, 이미지: pony (687).jpg\n",
      "예측: rarity, 이미지: pony (687).png\n",
      "예측: twilight sparkle, 이미지: pony (688).gif\n"
     ]
    },
    {
     "name": "stderr",
     "output_type": "stream",
     "text": [
      "예측: fluttershy, 이미지: pony (688).png\n",
      "예측: twilight sparkle, 이미지: pony (689).gif\n",
      "예측: fluttershy, 이미지: pony (689).jpg\n"
     ]
    },
    {
     "name": "stdout",
     "output_type": "stream",
     "text": [
      "예측: rarity, 이미지: pony (688).jpg\n",
      "예측: fluttershy, 이미지: pony (688).png\n",
      "예측: twilight sparkle, 이미지: pony (689).gif\n",
      "예측: fluttershy, 이미지: pony (689).jpg\n"
     ]
    },
    {
     "name": "stderr",
     "output_type": "stream",
     "text": [
      "예측: rarity, 이미지: pony (689).png\n",
      "예측: fluttershy, 이미지: pony (69).gif\n",
      "예측: applejack, 이미지: pony (69).jpg\n"
     ]
    },
    {
     "name": "stdout",
     "output_type": "stream",
     "text": [
      "예측: rarity, 이미지: pony (689).png\n",
      "예측: fluttershy, 이미지: pony (69).gif\n",
      "예측: applejack, 이미지: pony (69).jpg\n"
     ]
    },
    {
     "name": "stderr",
     "output_type": "stream",
     "text": [
      "예측: rainbow dash, 이미지: pony (69).png\n",
      "예측: twilight sparkle, 이미지: pony (690).gif\n",
      "예측: fluttershy, 이미지: pony (690).jpg\n",
      "예측: rarity, 이미지: pony (690).png\n",
      "예측: fluttershy, 이미지: pony (691).gif\n",
      "예측: fluttershy, 이미지: pony (691).jpg\n"
     ]
    },
    {
     "name": "stdout",
     "output_type": "stream",
     "text": [
      "예측: rainbow dash, 이미지: pony (69).png\n",
      "예측: twilight sparkle, 이미지: pony (690).gif\n",
      "예측: fluttershy, 이미지: pony (690).jpg\n",
      "예측: rarity, 이미지: pony (690).png\n",
      "예측: fluttershy, 이미지: pony (691).gif\n"
     ]
    },
    {
     "name": "stderr",
     "output_type": "stream",
     "text": [
      "예측: twilight sparkle, 이미지: pony (691).png\n",
      "예측: rarity, 이미지: pony (692).gif\n",
      "예측: twilight sparkle, 이미지: pony (692).jpg\n",
      "예측: twilight sparkle, 이미지: pony (692).png\n"
     ]
    },
    {
     "name": "stdout",
     "output_type": "stream",
     "text": [
      "예측: fluttershy, 이미지: pony (691).jpg\n",
      "예측: twilight sparkle, 이미지: pony (691).png\n",
      "예측: rarity, 이미지: pony (692).gif\n",
      "예측: twilight sparkle, 이미지: pony (692).jpg\n",
      "예측: twilight sparkle, 이미지: pony (692).png\n"
     ]
    },
    {
     "name": "stderr",
     "output_type": "stream",
     "text": [
      "예측: twilight sparkle, 이미지: pony (693).gif\n",
      "예측: applejack, 이미지: pony (693).jpg\n",
      "예측: fluttershy, 이미지: pony (693).png\n",
      "예측: twilight sparkle, 이미지: pony (694).gif\n",
      "예측: rainbow dash, 이미지: pony (694).jpg\n"
     ]
    },
    {
     "name": "stdout",
     "output_type": "stream",
     "text": [
      "예측: twilight sparkle, 이미지: pony (693).gif\n",
      "예측: applejack, 이미지: pony (693).jpg\n",
      "예측: fluttershy, 이미지: pony (693).png\n",
      "예측: twilight sparkle, 이미지: pony (694).gif\n",
      "예측: rainbow dash, 이미지: pony (694).jpg\n"
     ]
    },
    {
     "name": "stderr",
     "output_type": "stream",
     "text": [
      "예측: fluttershy, 이미지: pony (694).png\n",
      "예측: pinkie pie, 이미지: pony (695).gif\n",
      "예측: rarity, 이미지: pony (695).jpg\n",
      "예측: rarity, 이미지: pony (695).png\n",
      "예측: twilight sparkle, 이미지: pony (696).gif\n"
     ]
    },
    {
     "name": "stdout",
     "output_type": "stream",
     "text": [
      "예측: fluttershy, 이미지: pony (694).png\n",
      "예측: pinkie pie, 이미지: pony (695).gif\n",
      "예측: rarity, 이미지: pony (695).jpg\n",
      "예측: rarity, 이미지: pony (695).png\n",
      "예측: twilight sparkle, 이미지: pony (696).gif\n"
     ]
    },
    {
     "name": "stderr",
     "output_type": "stream",
     "text": [
      "예측: twilight sparkle, 이미지: pony (696).jpg\n",
      "예측: twilight sparkle, 이미지: pony (696).png\n",
      "예측: twilight sparkle, 이미지: pony (697).gif\n",
      "예측: fluttershy, 이미지: pony (697).jpg\n"
     ]
    },
    {
     "name": "stdout",
     "output_type": "stream",
     "text": [
      "예측: twilight sparkle, 이미지: pony (696).jpg\n",
      "예측: twilight sparkle, 이미지: pony (696).png\n",
      "예측: twilight sparkle, 이미지: pony (697).gif\n",
      "예측: fluttershy, 이미지: pony (697).jpg\n"
     ]
    },
    {
     "name": "stderr",
     "output_type": "stream",
     "text": [
      "예측: rainbow dash, 이미지: pony (697).png\n",
      "예측: twilight sparkle, 이미지: pony (698).gif\n",
      "예측: fluttershy, 이미지: pony (698).jpg\n",
      "예측: twilight sparkle, 이미지: pony (698).png\n",
      "예측: rarity, 이미지: pony (699).gif\n"
     ]
    },
    {
     "name": "stdout",
     "output_type": "stream",
     "text": [
      "예측: rainbow dash, 이미지: pony (697).png\n",
      "예측: twilight sparkle, 이미지: pony (698).gif\n",
      "예측: fluttershy, 이미지: pony (698).jpg\n",
      "예측: twilight sparkle, 이미지: pony (698).png\n"
     ]
    },
    {
     "name": "stderr",
     "output_type": "stream",
     "text": [
      "예측: pinkie pie, 이미지: pony (699).jpg\n"
     ]
    },
    {
     "name": "stdout",
     "output_type": "stream",
     "text": [
      "예측: rarity, 이미지: pony (699).gif\n",
      "예측: pinkie pie, 이미지: pony (699).jpg\n"
     ]
    },
    {
     "name": "stderr",
     "output_type": "stream",
     "text": [
      "예측: rainbow dash, 이미지: pony (699).png\n",
      "예측: rarity, 이미지: pony (7).gif\n",
      "예측: rainbow dash, 이미지: pony (7).jpeg\n",
      "예측: twilight sparkle, 이미지: pony (7).jpg\n"
     ]
    },
    {
     "name": "stdout",
     "output_type": "stream",
     "text": [
      "예측: rainbow dash, 이미지: pony (699).png\n",
      "예측: rarity, 이미지: pony (7).gif\n",
      "예측: rainbow dash, 이미지: pony (7).jpeg\n",
      "예측: twilight sparkle, 이미지: pony (7).jpg\n"
     ]
    },
    {
     "name": "stderr",
     "output_type": "stream",
     "text": [
      "예측: pinkie pie, 이미지: pony (7).png\n",
      "예측: rainbow dash, 이미지: pony (7).webp\n",
      "예측: rainbow dash, 이미지: pony (70).gif\n"
     ]
    },
    {
     "name": "stdout",
     "output_type": "stream",
     "text": [
      "예측: pinkie pie, 이미지: pony (7).png\n",
      "예측: rainbow dash, 이미지: pony (7).webp\n",
      "예측: rainbow dash, 이미지: pony (70).gif\n"
     ]
    },
    {
     "name": "stderr",
     "output_type": "stream",
     "text": [
      "예측: fluttershy, 이미지: pony (70).jpg\n",
      "예측: rainbow dash, 이미지: pony (70).png\n",
      "예측: rarity, 이미지: pony (700).gif\n"
     ]
    },
    {
     "name": "stdout",
     "output_type": "stream",
     "text": [
      "예측: fluttershy, 이미지: pony (70).jpg\n",
      "예측: rainbow dash, 이미지: pony (70).png\n"
     ]
    },
    {
     "name": "stderr",
     "output_type": "stream",
     "text": [
      "예측: twilight sparkle, 이미지: pony (700).jpg\n"
     ]
    },
    {
     "name": "stdout",
     "output_type": "stream",
     "text": [
      "예측: rarity, 이미지: pony (700).gif\n",
      "예측: twilight sparkle, 이미지: pony (700).jpg\n"
     ]
    },
    {
     "name": "stderr",
     "output_type": "stream",
     "text": [
      "예측: rainbow dash, 이미지: pony (700).png\n",
      "예측: rarity, 이미지: pony (701).gif\n"
     ]
    },
    {
     "name": "stdout",
     "output_type": "stream",
     "text": [
      "예측: rainbow dash, 이미지: pony (700).png\n",
      "예측: rarity, 이미지: pony (701).gif\n"
     ]
    },
    {
     "name": "stderr",
     "output_type": "stream",
     "text": [
      "예측: twilight sparkle, 이미지: pony (701).jpg\n"
     ]
    },
    {
     "name": "stdout",
     "output_type": "stream",
     "text": [
      "예측: twilight sparkle, 이미지: pony (701).jpg\n"
     ]
    },
    {
     "name": "stderr",
     "output_type": "stream",
     "text": [
      "예측: rarity, 이미지: pony (701).png\n",
      "예측: twilight sparkle, 이미지: pony (702).gif\n",
      "예측: twilight sparkle, 이미지: pony (702).jpg\n"
     ]
    },
    {
     "name": "stdout",
     "output_type": "stream",
     "text": [
      "예측: rarity, 이미지: pony (701).png\n",
      "예측: twilight sparkle, 이미지: pony (702).gif\n",
      "예측: twilight sparkle, 이미지: pony (702).jpg\n"
     ]
    },
    {
     "name": "stderr",
     "output_type": "stream",
     "text": [
      "예측: fluttershy, 이미지: pony (702).png\n",
      "예측: rarity, 이미지: pony (703).gif\n",
      "예측: rainbow dash, 이미지: pony (703).jpg\n"
     ]
    },
    {
     "name": "stdout",
     "output_type": "stream",
     "text": [
      "예측: fluttershy, 이미지: pony (702).png\n",
      "예측: rarity, 이미지: pony (703).gif\n",
      "예측: rainbow dash, 이미지: pony (703).jpg\n"
     ]
    },
    {
     "name": "stderr",
     "output_type": "stream",
     "text": [
      "예측: rarity, 이미지: pony (703).png\n",
      "예측: rarity, 이미지: pony (704).gif\n",
      "예측: fluttershy, 이미지: pony (704).jpg\n"
     ]
    },
    {
     "name": "stdout",
     "output_type": "stream",
     "text": [
      "예측: rarity, 이미지: pony (703).png\n",
      "예측: rarity, 이미지: pony (704).gif\n",
      "예측: fluttershy, 이미지: pony (704).jpg\n"
     ]
    },
    {
     "name": "stderr",
     "output_type": "stream",
     "text": [
      "예측: fluttershy, 이미지: pony (704).png\n",
      "예측: rainbow dash, 이미지: pony (705).gif\n"
     ]
    },
    {
     "name": "stdout",
     "output_type": "stream",
     "text": [
      "예측: fluttershy, 이미지: pony (704).png\n",
      "예측: rainbow dash, 이미지: pony (705).gif\n"
     ]
    },
    {
     "name": "stderr",
     "output_type": "stream",
     "text": [
      "예측: applejack, 이미지: pony (705).jpg\n"
     ]
    },
    {
     "name": "stdout",
     "output_type": "stream",
     "text": [
      "예측: applejack, 이미지: pony (705).jpg\n"
     ]
    },
    {
     "name": "stderr",
     "output_type": "stream",
     "text": [
      "예측: fluttershy, 이미지: pony (705).png\n",
      "예측: rainbow dash, 이미지: pony (706).gif\n",
      "예측: fluttershy, 이미지: pony (706).jpg\n",
      "예측: fluttershy, 이미지: pony (706).png\n",
      "예측: pinkie pie, 이미지: pony (707).gif\n"
     ]
    },
    {
     "name": "stdout",
     "output_type": "stream",
     "text": [
      "예측: fluttershy, 이미지: pony (705).png\n",
      "예측: rainbow dash, 이미지: pony (706).gif\n",
      "예측: fluttershy, 이미지: pony (706).jpg\n",
      "예측: fluttershy, 이미지: pony (706).png\n"
     ]
    },
    {
     "name": "stderr",
     "output_type": "stream",
     "text": [
      "예측: pinkie pie, 이미지: pony (707).jpg\n"
     ]
    },
    {
     "name": "stdout",
     "output_type": "stream",
     "text": [
      "예측: pinkie pie, 이미지: pony (707).gif\n",
      "예측: pinkie pie, 이미지: pony (707).jpg\n"
     ]
    },
    {
     "name": "stderr",
     "output_type": "stream",
     "text": [
      "예측: twilight sparkle, 이미지: pony (707).png\n",
      "예측: twilight sparkle, 이미지: pony (708).gif\n",
      "예측: rarity, 이미지: pony (708).jpg\n",
      "예측: rarity, 이미지: pony (708).png\n",
      "예측: rarity, 이미지: pony (709).gif\n",
      "예측: rarity, 이미지: pony (709).jpg\n"
     ]
    },
    {
     "name": "stdout",
     "output_type": "stream",
     "text": [
      "예측: twilight sparkle, 이미지: pony (707).png\n",
      "예측: twilight sparkle, 이미지: pony (708).gif\n",
      "예측: rarity, 이미지: pony (708).jpg\n",
      "예측: rarity, 이미지: pony (708).png\n",
      "예측: rarity, 이미지: pony (709).gif\n",
      "예측: rarity, 이미지: pony (709).jpg\n"
     ]
    },
    {
     "name": "stderr",
     "output_type": "stream",
     "text": [
      "예측: pinkie pie, 이미지: pony (709).png\n",
      "예측: rainbow dash, 이미지: pony (71).gif\n",
      "예측: pinkie pie, 이미지: pony (71).jpg\n"
     ]
    },
    {
     "name": "stdout",
     "output_type": "stream",
     "text": [
      "예측: pinkie pie, 이미지: pony (709).png\n",
      "예측: rainbow dash, 이미지: pony (71).gif\n",
      "예측: pinkie pie, 이미지: pony (71).jpg\n"
     ]
    },
    {
     "name": "stderr",
     "output_type": "stream",
     "text": [
      "예측: fluttershy, 이미지: pony (71).png\n",
      "예측: rainbow dash, 이미지: pony (710).gif\n",
      "예측: fluttershy, 이미지: pony (710).jpg\n",
      "예측: rarity, 이미지: pony (710).png\n",
      "예측: twilight sparkle, 이미지: pony (711).gif\n"
     ]
    },
    {
     "name": "stdout",
     "output_type": "stream",
     "text": [
      "예측: fluttershy, 이미지: pony (71).png\n",
      "예측: rainbow dash, 이미지: pony (710).gif\n",
      "예측: fluttershy, 이미지: pony (710).jpg\n",
      "예측: rarity, 이미지: pony (710).png\n"
     ]
    },
    {
     "name": "stderr",
     "output_type": "stream",
     "text": [
      "예측: fluttershy, 이미지: pony (711).jpg\n"
     ]
    },
    {
     "name": "stdout",
     "output_type": "stream",
     "text": [
      "예측: twilight sparkle, 이미지: pony (711).gif\n",
      "예측: fluttershy, 이미지: pony (711).jpg\n"
     ]
    },
    {
     "name": "stderr",
     "output_type": "stream",
     "text": [
      "예측: rarity, 이미지: pony (711).png\n",
      "예측: rarity, 이미지: pony (712).gif\n",
      "예측: twilight sparkle, 이미지: pony (712).jpg\n"
     ]
    },
    {
     "name": "stdout",
     "output_type": "stream",
     "text": [
      "예측: rarity, 이미지: pony (711).png\n",
      "예측: rarity, 이미지: pony (712).gif\n",
      "예측: twilight sparkle, 이미지: pony (712).jpg\n"
     ]
    },
    {
     "name": "stderr",
     "output_type": "stream",
     "text": [
      "예측: rarity, 이미지: pony (712).png\n",
      "예측: twilight sparkle, 이미지: pony (713).gif\n",
      "예측: fluttershy, 이미지: pony (713).jpg\n",
      "예측: rarity, 이미지: pony (713).png\n",
      "예측: twilight sparkle, 이미지: pony (714).gif\n"
     ]
    },
    {
     "name": "stdout",
     "output_type": "stream",
     "text": [
      "예측: rarity, 이미지: pony (712).png\n",
      "예측: twilight sparkle, 이미지: pony (713).gif\n",
      "예측: fluttershy, 이미지: pony (713).jpg\n",
      "예측: rarity, 이미지: pony (713).png\n"
     ]
    },
    {
     "name": "stderr",
     "output_type": "stream",
     "text": [
      "예측: fluttershy, 이미지: pony (714).jpg\n",
      "예측: rarity, 이미지: pony (714).png\n",
      "예측: twilight sparkle, 이미지: pony (715).gif\n"
     ]
    },
    {
     "name": "stdout",
     "output_type": "stream",
     "text": [
      "예측: twilight sparkle, 이미지: pony (714).gif\n",
      "예측: fluttershy, 이미지: pony (714).jpg\n",
      "예측: rarity, 이미지: pony (714).png\n",
      "예측: twilight sparkle, 이미지: pony (715).gif\n"
     ]
    },
    {
     "name": "stderr",
     "output_type": "stream",
     "text": [
      "예측: pinkie pie, 이미지: pony (715).jpg\n",
      "예측: pinkie pie, 이미지: pony (715).png\n",
      "예측: pinkie pie, 이미지: pony (716).gif\n",
      "예측: twilight sparkle, 이미지: pony (716).jpg\n"
     ]
    },
    {
     "name": "stdout",
     "output_type": "stream",
     "text": [
      "예측: pinkie pie, 이미지: pony (715).jpg\n",
      "예측: pinkie pie, 이미지: pony (715).png\n",
      "예측: pinkie pie, 이미지: pony (716).gif\n"
     ]
    },
    {
     "name": "stderr",
     "output_type": "stream",
     "text": [
      "예측: twilight sparkle, 이미지: pony (716).png\n",
      "예측: twilight sparkle, 이미지: pony (717).gif\n"
     ]
    },
    {
     "name": "stdout",
     "output_type": "stream",
     "text": [
      "예측: twilight sparkle, 이미지: pony (716).jpg\n",
      "예측: twilight sparkle, 이미지: pony (716).png\n",
      "예측: twilight sparkle, 이미지: pony (717).gif\n"
     ]
    },
    {
     "name": "stderr",
     "output_type": "stream",
     "text": [
      "예측: pinkie pie, 이미지: pony (717).jpg\n",
      "예측: twilight sparkle, 이미지: pony (717).png\n",
      "예측: rainbow dash, 이미지: pony (718).gif\n"
     ]
    },
    {
     "name": "stdout",
     "output_type": "stream",
     "text": [
      "예측: pinkie pie, 이미지: pony (717).jpg\n",
      "예측: twilight sparkle, 이미지: pony (717).png\n",
      "예측: rainbow dash, 이미지: pony (718).gif\n"
     ]
    },
    {
     "name": "stderr",
     "output_type": "stream",
     "text": [
      "예측: applejack, 이미지: pony (718).jpg\n",
      "예측: pinkie pie, 이미지: pony (718).png\n",
      "예측: fluttershy, 이미지: pony (719).gif\n"
     ]
    },
    {
     "name": "stdout",
     "output_type": "stream",
     "text": [
      "예측: applejack, 이미지: pony (718).jpg\n",
      "예측: pinkie pie, 이미지: pony (718).png\n",
      "예측: fluttershy, 이미지: pony (719).gif\n"
     ]
    },
    {
     "name": "stderr",
     "output_type": "stream",
     "text": [
      "예측: rainbow dash, 이미지: pony (719).jpg\n"
     ]
    },
    {
     "name": "stdout",
     "output_type": "stream",
     "text": [
      "예측: rainbow dash, 이미지: pony (719).jpg\n"
     ]
    },
    {
     "name": "stderr",
     "output_type": "stream",
     "text": [
      "예측: pinkie pie, 이미지: pony (719).png\n",
      "예측: applejack, 이미지: pony (72).gif\n",
      "예측: fluttershy, 이미지: pony (72).jpg\n"
     ]
    },
    {
     "name": "stdout",
     "output_type": "stream",
     "text": [
      "예측: pinkie pie, 이미지: pony (719).png\n",
      "예측: applejack, 이미지: pony (72).gif\n",
      "예측: fluttershy, 이미지: pony (72).jpg\n"
     ]
    },
    {
     "name": "stderr",
     "output_type": "stream",
     "text": [
      "예측: twilight sparkle, 이미지: pony (72).png\n",
      "예측: rarity, 이미지: pony (720).gif\n",
      "예측: twilight sparkle, 이미지: pony (720).jpg\n",
      "예측: twilight sparkle, 이미지: pony (720).png\n",
      "예측: twilight sparkle, 이미지: pony (721).gif\n",
      "예측: rarity, 이미지: pony (721).jpg\n"
     ]
    },
    {
     "name": "stdout",
     "output_type": "stream",
     "text": [
      "예측: twilight sparkle, 이미지: pony (72).png\n",
      "예측: rarity, 이미지: pony (720).gif\n",
      "예측: twilight sparkle, 이미지: pony (720).jpg\n",
      "예측: twilight sparkle, 이미지: pony (720).png\n",
      "예측: twilight sparkle, 이미지: pony (721).gif\n"
     ]
    },
    {
     "name": "stderr",
     "output_type": "stream",
     "text": [
      "예측: rarity, 이미지: pony (721).png\n",
      "예측: pinkie pie, 이미지: pony (722).gif\n",
      "예측: applejack, 이미지: pony (722).jpg\n"
     ]
    },
    {
     "name": "stdout",
     "output_type": "stream",
     "text": [
      "예측: rarity, 이미지: pony (721).jpg\n",
      "예측: rarity, 이미지: pony (721).png\n",
      "예측: pinkie pie, 이미지: pony (722).gif\n"
     ]
    },
    {
     "name": "stderr",
     "output_type": "stream",
     "text": [
      "예측: twilight sparkle, 이미지: pony (722).png\n",
      "예측: twilight sparkle, 이미지: pony (723).gif\n",
      "예측: twilight sparkle, 이미지: pony (723).jpg\n"
     ]
    },
    {
     "name": "stdout",
     "output_type": "stream",
     "text": [
      "예측: applejack, 이미지: pony (722).jpg\n",
      "예측: twilight sparkle, 이미지: pony (722).png\n",
      "예측: twilight sparkle, 이미지: pony (723).gif\n",
      "예측: twilight sparkle, 이미지: pony (723).jpg\n"
     ]
    },
    {
     "name": "stderr",
     "output_type": "stream",
     "text": [
      "예측: twilight sparkle, 이미지: pony (723).png\n",
      "예측: twilight sparkle, 이미지: pony (724).gif\n",
      "예측: fluttershy, 이미지: pony (724).jpg\n",
      "예측: rarity, 이미지: pony (724).png\n",
      "예측: rainbow dash, 이미지: pony (725).gif\n"
     ]
    },
    {
     "name": "stdout",
     "output_type": "stream",
     "text": [
      "예측: twilight sparkle, 이미지: pony (723).png\n",
      "예측: twilight sparkle, 이미지: pony (724).gif\n",
      "예측: fluttershy, 이미지: pony (724).jpg\n",
      "예측: rarity, 이미지: pony (724).png\n",
      "예측: rainbow dash, 이미지: pony (725).gif\n"
     ]
    },
    {
     "name": "stderr",
     "output_type": "stream",
     "text": [
      "예측: rarity, 이미지: pony (725).jpg\n",
      "예측: fluttershy, 이미지: pony (725).png\n",
      "예측: twilight sparkle, 이미지: pony (726).gif\n",
      "예측: rarity, 이미지: pony (726).jpg\n"
     ]
    },
    {
     "name": "stdout",
     "output_type": "stream",
     "text": [
      "예측: rarity, 이미지: pony (725).jpg\n",
      "예측: fluttershy, 이미지: pony (725).png\n",
      "예측: twilight sparkle, 이미지: pony (726).gif\n",
      "예측: rarity, 이미지: pony (726).jpg\n"
     ]
    },
    {
     "name": "stderr",
     "output_type": "stream",
     "text": [
      "예측: rainbow dash, 이미지: pony (726).png\n",
      "예측: twilight sparkle, 이미지: pony (727).gif\n",
      "예측: fluttershy, 이미지: pony (727).jpg\n",
      "예측: pinkie pie, 이미지: pony (727).png\n"
     ]
    },
    {
     "name": "stdout",
     "output_type": "stream",
     "text": [
      "예측: rainbow dash, 이미지: pony (726).png\n",
      "예측: twilight sparkle, 이미지: pony (727).gif\n",
      "예측: fluttershy, 이미지: pony (727).jpg\n"
     ]
    },
    {
     "name": "stderr",
     "output_type": "stream",
     "text": [
      "예측: twilight sparkle, 이미지: pony (728).gif\n",
      "예측: rainbow dash, 이미지: pony (728).jpg\n",
      "예측: twilight sparkle, 이미지: pony (728).png\n",
      "예측: twilight sparkle, 이미지: pony (729).gif\n"
     ]
    },
    {
     "name": "stdout",
     "output_type": "stream",
     "text": [
      "예측: pinkie pie, 이미지: pony (727).png\n",
      "예측: twilight sparkle, 이미지: pony (728).gif\n",
      "예측: rainbow dash, 이미지: pony (728).jpg\n",
      "예측: twilight sparkle, 이미지: pony (728).png\n",
      "예측: twilight sparkle, 이미지: pony (729).gif\n"
     ]
    },
    {
     "name": "stderr",
     "output_type": "stream",
     "text": [
      "예측: rainbow dash, 이미지: pony (729).jpg\n",
      "예측: twilight sparkle, 이미지: pony (729).png\n",
      "예측: rainbow dash, 이미지: pony (73).gif\n"
     ]
    },
    {
     "name": "stdout",
     "output_type": "stream",
     "text": [
      "예측: rainbow dash, 이미지: pony (729).jpg\n",
      "예측: twilight sparkle, 이미지: pony (729).png\n",
      "예측: rainbow dash, 이미지: pony (73).gif\n"
     ]
    },
    {
     "name": "stderr",
     "output_type": "stream",
     "text": [
      "예측: twilight sparkle, 이미지: pony (73).jpg\n"
     ]
    },
    {
     "name": "stdout",
     "output_type": "stream",
     "text": [
      "예측: twilight sparkle, 이미지: pony (73).jpg\n"
     ]
    },
    {
     "name": "stderr",
     "output_type": "stream",
     "text": [
      "예측: rainbow dash, 이미지: pony (73).png\n",
      "예측: fluttershy, 이미지: pony (730).gif\n",
      "예측: rainbow dash, 이미지: pony (730).jpg\n",
      "예측: twilight sparkle, 이미지: pony (730).png\n",
      "예측: twilight sparkle, 이미지: pony (731).gif\n"
     ]
    },
    {
     "name": "stdout",
     "output_type": "stream",
     "text": [
      "예측: rainbow dash, 이미지: pony (73).png\n",
      "예측: fluttershy, 이미지: pony (730).gif\n",
      "예측: rainbow dash, 이미지: pony (730).jpg\n",
      "예측: twilight sparkle, 이미지: pony (730).png\n"
     ]
    },
    {
     "name": "stderr",
     "output_type": "stream",
     "text": [
      "예측: pinkie pie, 이미지: pony (731).jpg\n",
      "예측: applejack, 이미지: pony (731).png\n",
      "예측: twilight sparkle, 이미지: pony (732).gif\n"
     ]
    },
    {
     "name": "stdout",
     "output_type": "stream",
     "text": [
      "예측: twilight sparkle, 이미지: pony (731).gif\n",
      "예측: pinkie pie, 이미지: pony (731).jpg\n",
      "예측: applejack, 이미지: pony (731).png\n",
      "예측: twilight sparkle, 이미지: pony (732).gif\n"
     ]
    },
    {
     "name": "stderr",
     "output_type": "stream",
     "text": [
      "예측: rarity, 이미지: pony (732).jpg\n",
      "예측: twilight sparkle, 이미지: pony (732).png\n",
      "예측: twilight sparkle, 이미지: pony (733).gif\n",
      "예측: applejack, 이미지: pony (733).jpg\n"
     ]
    },
    {
     "name": "stdout",
     "output_type": "stream",
     "text": [
      "예측: rarity, 이미지: pony (732).jpg\n",
      "예측: twilight sparkle, 이미지: pony (732).png\n",
      "예측: twilight sparkle, 이미지: pony (733).gif\n",
      "예측: applejack, 이미지: pony (733).jpg\n"
     ]
    },
    {
     "name": "stderr",
     "output_type": "stream",
     "text": [
      "예측: twilight sparkle, 이미지: pony (733).png\n",
      "예측: twilight sparkle, 이미지: pony (734).gif\n",
      "예측: rarity, 이미지: pony (734).jpg\n",
      "예측: twilight sparkle, 이미지: pony (734).png\n",
      "예측: rainbow dash, 이미지: pony (735).gif\n"
     ]
    },
    {
     "name": "stdout",
     "output_type": "stream",
     "text": [
      "예측: twilight sparkle, 이미지: pony (733).png\n",
      "예측: twilight sparkle, 이미지: pony (734).gif\n",
      "예측: rarity, 이미지: pony (734).jpg\n",
      "예측: twilight sparkle, 이미지: pony (734).png\n",
      "예측: rainbow dash, 이미지: pony (735).gif\n"
     ]
    },
    {
     "name": "stderr",
     "output_type": "stream",
     "text": [
      "예측: fluttershy, 이미지: pony (735).jpg\n",
      "예측: twilight sparkle, 이미지: pony (735).png\n",
      "예측: twilight sparkle, 이미지: pony (736).gif\n"
     ]
    },
    {
     "name": "stdout",
     "output_type": "stream",
     "text": [
      "예측: fluttershy, 이미지: pony (735).jpg\n",
      "예측: twilight sparkle, 이미지: pony (735).png\n",
      "예측: twilight sparkle, 이미지: pony (736).gif\n"
     ]
    },
    {
     "name": "stderr",
     "output_type": "stream",
     "text": [
      "예측: pinkie pie, 이미지: pony (736).jpg\n"
     ]
    },
    {
     "name": "stdout",
     "output_type": "stream",
     "text": [
      "예측: pinkie pie, 이미지: pony (736).jpg\n"
     ]
    },
    {
     "name": "stderr",
     "output_type": "stream",
     "text": [
      "예측: twilight sparkle, 이미지: pony (736).png\n",
      "예측: fluttershy, 이미지: pony (737).gif\n"
     ]
    },
    {
     "name": "stdout",
     "output_type": "stream",
     "text": [
      "예측: twilight sparkle, 이미지: pony (736).png\n",
      "예측: fluttershy, 이미지: pony (737).gif\n"
     ]
    },
    {
     "name": "stderr",
     "output_type": "stream",
     "text": [
      "예측: rarity, 이미지: pony (737).jpg\n",
      "예측: pinkie pie, 이미지: pony (737).png\n",
      "예측: twilight sparkle, 이미지: pony (738).gif\n",
      "예측: twilight sparkle, 이미지: pony (738).jpg\n"
     ]
    },
    {
     "name": "stdout",
     "output_type": "stream",
     "text": [
      "예측: rarity, 이미지: pony (737).jpg\n",
      "예측: pinkie pie, 이미지: pony (737).png\n",
      "예측: twilight sparkle, 이미지: pony (738).gif\n",
      "예측: twilight sparkle, 이미지: pony (738).jpg\n"
     ]
    },
    {
     "name": "stderr",
     "output_type": "stream",
     "text": [
      "예측: fluttershy, 이미지: pony (738).png\n",
      "예측: fluttershy, 이미지: pony (739).gif\n",
      "예측: twilight sparkle, 이미지: pony (739).jpg\n",
      "예측: applejack, 이미지: pony (739).png\n",
      "예측: rarity, 이미지: pony (74).gif\n"
     ]
    },
    {
     "name": "stdout",
     "output_type": "stream",
     "text": [
      "예측: fluttershy, 이미지: pony (738).png\n",
      "예측: fluttershy, 이미지: pony (739).gif\n",
      "예측: twilight sparkle, 이미지: pony (739).jpg\n",
      "예측: applejack, 이미지: pony (739).png\n",
      "예측: rarity, 이미지: pony (74).gif\n"
     ]
    },
    {
     "name": "stderr",
     "output_type": "stream",
     "text": [
      "예측: twilight sparkle, 이미지: pony (74).jpg\n",
      "예측: rainbow dash, 이미지: pony (74).png\n",
      "예측: twilight sparkle, 이미지: pony (740).gif\n",
      "예측: twilight sparkle, 이미지: pony (740).jpg\n"
     ]
    },
    {
     "name": "stdout",
     "output_type": "stream",
     "text": [
      "예측: twilight sparkle, 이미지: pony (74).jpg\n",
      "예측: rainbow dash, 이미지: pony (74).png\n",
      "예측: twilight sparkle, 이미지: pony (740).gif\n",
      "예측: twilight sparkle, 이미지: pony (740).jpg\n"
     ]
    },
    {
     "name": "stderr",
     "output_type": "stream",
     "text": [
      "예측: twilight sparkle, 이미지: pony (740).png\n",
      "예측: twilight sparkle, 이미지: pony (741).gif\n",
      "예측: applejack, 이미지: pony (741).jpg\n"
     ]
    },
    {
     "name": "stdout",
     "output_type": "stream",
     "text": [
      "예측: twilight sparkle, 이미지: pony (740).png\n",
      "예측: twilight sparkle, 이미지: pony (741).gif\n",
      "예측: applejack, 이미지: pony (741).jpg\n"
     ]
    },
    {
     "name": "stderr",
     "output_type": "stream",
     "text": [
      "예측: twilight sparkle, 이미지: pony (741).png\n",
      "예측: rainbow dash, 이미지: pony (742).gif\n",
      "예측: twilight sparkle, 이미지: pony (742).jpg\n"
     ]
    },
    {
     "name": "stdout",
     "output_type": "stream",
     "text": [
      "예측: twilight sparkle, 이미지: pony (741).png\n",
      "예측: rainbow dash, 이미지: pony (742).gif\n",
      "예측: twilight sparkle, 이미지: pony (742).jpg\n"
     ]
    },
    {
     "name": "stderr",
     "output_type": "stream",
     "text": [
      "예측: twilight sparkle, 이미지: pony (742).png\n",
      "예측: twilight sparkle, 이미지: pony (743).gif\n",
      "예측: fluttershy, 이미지: pony (743).jpg\n",
      "예측: twilight sparkle, 이미지: pony (743).png\n",
      "예측: twilight sparkle, 이미지: pony (744).gif\n"
     ]
    },
    {
     "name": "stdout",
     "output_type": "stream",
     "text": [
      "예측: twilight sparkle, 이미지: pony (742).png\n",
      "예측: twilight sparkle, 이미지: pony (743).gif\n",
      "예측: fluttershy, 이미지: pony (743).jpg\n",
      "예측: twilight sparkle, 이미지: pony (743).png\n",
      "예측: twilight sparkle, 이미지: pony (744).gif\n"
     ]
    },
    {
     "name": "stderr",
     "output_type": "stream",
     "text": [
      "예측: fluttershy, 이미지: pony (744).jpg\n",
      "예측: twilight sparkle, 이미지: pony (744).png\n",
      "예측: fluttershy, 이미지: pony (745).gif\n",
      "예측: pinkie pie, 이미지: pony (745).jpg\n"
     ]
    },
    {
     "name": "stdout",
     "output_type": "stream",
     "text": [
      "예측: fluttershy, 이미지: pony (744).jpg\n",
      "예측: twilight sparkle, 이미지: pony (744).png\n",
      "예측: fluttershy, 이미지: pony (745).gif\n",
      "예측: pinkie pie, 이미지: pony (745).jpg\n"
     ]
    },
    {
     "name": "stderr",
     "output_type": "stream",
     "text": [
      "예측: rarity, 이미지: pony (745).png\n",
      "예측: pinkie pie, 이미지: pony (746).gif\n",
      "예측: twilight sparkle, 이미지: pony (746).jpg\n"
     ]
    },
    {
     "name": "stdout",
     "output_type": "stream",
     "text": [
      "예측: rarity, 이미지: pony (745).png\n",
      "예측: pinkie pie, 이미지: pony (746).gif\n",
      "예측: twilight sparkle, 이미지: pony (746).jpg\n"
     ]
    },
    {
     "name": "stderr",
     "output_type": "stream",
     "text": [
      "예측: applejack, 이미지: pony (746).png\n",
      "예측: fluttershy, 이미지: pony (747).gif\n"
     ]
    },
    {
     "name": "stdout",
     "output_type": "stream",
     "text": [
      "예측: applejack, 이미지: pony (746).png\n",
      "예측: fluttershy, 이미지: pony (747).gif\n"
     ]
    },
    {
     "name": "stderr",
     "output_type": "stream",
     "text": [
      "예측: twilight sparkle, 이미지: pony (747).jpg\n",
      "예측: rarity, 이미지: pony (747).png\n",
      "예측: fluttershy, 이미지: pony (748).gif\n",
      "예측: twilight sparkle, 이미지: pony (748).jpg\n"
     ]
    },
    {
     "name": "stdout",
     "output_type": "stream",
     "text": [
      "예측: twilight sparkle, 이미지: pony (747).jpg\n",
      "예측: rarity, 이미지: pony (747).png\n",
      "예측: fluttershy, 이미지: pony (748).gif\n",
      "예측: twilight sparkle, 이미지: pony (748).jpg\n"
     ]
    },
    {
     "name": "stderr",
     "output_type": "stream",
     "text": [
      "예측: fluttershy, 이미지: pony (748).png\n",
      "예측: fluttershy, 이미지: pony (749).gif\n",
      "예측: fluttershy, 이미지: pony (749).jpg\n",
      "예측: twilight sparkle, 이미지: pony (749).png\n",
      "예측: applejack, 이미지: pony (75).gif\n"
     ]
    },
    {
     "name": "stdout",
     "output_type": "stream",
     "text": [
      "예측: fluttershy, 이미지: pony (748).png\n",
      "예측: fluttershy, 이미지: pony (749).gif\n",
      "예측: fluttershy, 이미지: pony (749).jpg\n",
      "예측: twilight sparkle, 이미지: pony (749).png\n",
      "예측: applejack, 이미지: pony (75).gif\n"
     ]
    },
    {
     "name": "stderr",
     "output_type": "stream",
     "text": [
      "예측: pinkie pie, 이미지: pony (75).jpg\n",
      "예측: twilight sparkle, 이미지: pony (75).png\n",
      "예측: fluttershy, 이미지: pony (750).gif\n"
     ]
    },
    {
     "name": "stdout",
     "output_type": "stream",
     "text": [
      "예측: pinkie pie, 이미지: pony (75).jpg\n",
      "예측: twilight sparkle, 이미지: pony (75).png\n",
      "예측: fluttershy, 이미지: pony (750).gif\n"
     ]
    },
    {
     "name": "stderr",
     "output_type": "stream",
     "text": [
      "예측: applejack, 이미지: pony (750).jpg\n",
      "예측: rarity, 이미지: pony (750).png\n",
      "예측: pinkie pie, 이미지: pony (751).gif\n"
     ]
    },
    {
     "name": "stdout",
     "output_type": "stream",
     "text": [
      "예측: applejack, 이미지: pony (750).jpg\n",
      "예측: rarity, 이미지: pony (750).png\n",
      "예측: pinkie pie, 이미지: pony (751).gif\n"
     ]
    },
    {
     "name": "stderr",
     "output_type": "stream",
     "text": [
      "예측: rarity, 이미지: pony (751).jpg\n",
      "예측: twilight sparkle, 이미지: pony (751).png\n",
      "예측: fluttershy, 이미지: pony (752).gif\n"
     ]
    },
    {
     "name": "stdout",
     "output_type": "stream",
     "text": [
      "예측: rarity, 이미지: pony (751).jpg\n",
      "예측: twilight sparkle, 이미지: pony (751).png\n",
      "예측: fluttershy, 이미지: pony (752).gif\n"
     ]
    },
    {
     "name": "stderr",
     "output_type": "stream",
     "text": [
      "예측: fluttershy, 이미지: pony (752).jpg\n",
      "예측: rainbow dash, 이미지: pony (752).png\n",
      "예측: fluttershy, 이미지: pony (753).gif\n",
      "예측: twilight sparkle, 이미지: pony (753).jpg\n",
      "예측: twilight sparkle, 이미지: pony (753).png\n"
     ]
    },
    {
     "name": "stdout",
     "output_type": "stream",
     "text": [
      "예측: fluttershy, 이미지: pony (752).jpg\n",
      "예측: rainbow dash, 이미지: pony (752).png\n",
      "예측: fluttershy, 이미지: pony (753).gif\n",
      "예측: twilight sparkle, 이미지: pony (753).jpg\n"
     ]
    },
    {
     "name": "stderr",
     "output_type": "stream",
     "text": [
      "예측: fluttershy, 이미지: pony (754).gif\n"
     ]
    },
    {
     "name": "stdout",
     "output_type": "stream",
     "text": [
      "예측: twilight sparkle, 이미지: pony (753).png\n",
      "예측: fluttershy, 이미지: pony (754).gif\n"
     ]
    },
    {
     "name": "stderr",
     "output_type": "stream",
     "text": [
      "예측: fluttershy, 이미지: pony (754).jpg\n"
     ]
    },
    {
     "name": "stdout",
     "output_type": "stream",
     "text": [
      "예측: fluttershy, 이미지: pony (754).jpg\n"
     ]
    },
    {
     "name": "stderr",
     "output_type": "stream",
     "text": [
      "예측: pinkie pie, 이미지: pony (754).png\n",
      "예측: fluttershy, 이미지: pony (755).gif\n",
      "예측: twilight sparkle, 이미지: pony (755).jpg\n",
      "예측: twilight sparkle, 이미지: pony (755).png\n",
      "예측: fluttershy, 이미지: pony (756).gif\n",
      "예측: twilight sparkle, 이미지: pony (756).jpg\n"
     ]
    },
    {
     "name": "stdout",
     "output_type": "stream",
     "text": [
      "예측: pinkie pie, 이미지: pony (754).png\n",
      "예측: fluttershy, 이미지: pony (755).gif\n",
      "예측: twilight sparkle, 이미지: pony (755).jpg\n",
      "예측: twilight sparkle, 이미지: pony (755).png\n",
      "예측: fluttershy, 이미지: pony (756).gif\n"
     ]
    },
    {
     "name": "stderr",
     "output_type": "stream",
     "text": [
      "예측: rarity, 이미지: pony (756).png\n",
      "예측: fluttershy, 이미지: pony (757).gif\n",
      "예측: twilight sparkle, 이미지: pony (757).jpg\n"
     ]
    },
    {
     "name": "stdout",
     "output_type": "stream",
     "text": [
      "예측: twilight sparkle, 이미지: pony (756).jpg\n",
      "예측: rarity, 이미지: pony (756).png\n",
      "예측: fluttershy, 이미지: pony (757).gif\n",
      "예측: twilight sparkle, 이미지: pony (757).jpg\n"
     ]
    },
    {
     "name": "stderr",
     "output_type": "stream",
     "text": [
      "예측: rarity, 이미지: pony (757).png\n",
      "예측: applejack, 이미지: pony (758).gif\n",
      "예측: twilight sparkle, 이미지: pony (758).jpg\n",
      "예측: twilight sparkle, 이미지: pony (758).png\n",
      "예측: twilight sparkle, 이미지: pony (759).gif\n"
     ]
    },
    {
     "name": "stdout",
     "output_type": "stream",
     "text": [
      "예측: rarity, 이미지: pony (757).png\n",
      "예측: applejack, 이미지: pony (758).gif\n",
      "예측: twilight sparkle, 이미지: pony (758).jpg\n",
      "예측: twilight sparkle, 이미지: pony (758).png\n",
      "예측: twilight sparkle, 이미지: pony (759).gif\n"
     ]
    },
    {
     "name": "stderr",
     "output_type": "stream",
     "text": [
      "예측: twilight sparkle, 이미지: pony (759).jpg\n",
      "예측: fluttershy, 이미지: pony (759).png\n",
      "예측: twilight sparkle, 이미지: pony (76).gif\n",
      "예측: rainbow dash, 이미지: pony (76).jpg\n"
     ]
    },
    {
     "name": "stdout",
     "output_type": "stream",
     "text": [
      "예측: twilight sparkle, 이미지: pony (759).jpg\n",
      "예측: fluttershy, 이미지: pony (759).png\n",
      "예측: twilight sparkle, 이미지: pony (76).gif\n",
      "예측: rainbow dash, 이미지: pony (76).jpg\n"
     ]
    },
    {
     "name": "stderr",
     "output_type": "stream",
     "text": [
      "예측: rainbow dash, 이미지: pony (76).png\n",
      "예측: fluttershy, 이미지: pony (760).gif\n",
      "예측: twilight sparkle, 이미지: pony (760).jpg\n"
     ]
    },
    {
     "name": "stdout",
     "output_type": "stream",
     "text": [
      "예측: rainbow dash, 이미지: pony (76).png\n",
      "예측: fluttershy, 이미지: pony (760).gif\n",
      "예측: twilight sparkle, 이미지: pony (760).jpg\n"
     ]
    },
    {
     "name": "stderr",
     "output_type": "stream",
     "text": [
      "예측: fluttershy, 이미지: pony (760).png\n",
      "예측: fluttershy, 이미지: pony (761).gif\n",
      "예측: twilight sparkle, 이미지: pony (761).jpg\n"
     ]
    },
    {
     "name": "stdout",
     "output_type": "stream",
     "text": [
      "예측: fluttershy, 이미지: pony (760).png\n",
      "예측: fluttershy, 이미지: pony (761).gif\n",
      "예측: twilight sparkle, 이미지: pony (761).jpg\n"
     ]
    },
    {
     "name": "stderr",
     "output_type": "stream",
     "text": [
      "예측: pinkie pie, 이미지: pony (761).png\n",
      "예측: rainbow dash, 이미지: pony (762).gif\n",
      "예측: pinkie pie, 이미지: pony (762).jpg\n",
      "예측: twilight sparkle, 이미지: pony (762).png\n"
     ]
    },
    {
     "name": "stdout",
     "output_type": "stream",
     "text": [
      "예측: pinkie pie, 이미지: pony (761).png\n",
      "예측: rainbow dash, 이미지: pony (762).gif\n",
      "예측: pinkie pie, 이미지: pony (762).jpg\n"
     ]
    },
    {
     "name": "stderr",
     "output_type": "stream",
     "text": [
      "예측: twilight sparkle, 이미지: pony (763).gif\n"
     ]
    },
    {
     "name": "stdout",
     "output_type": "stream",
     "text": [
      "예측: twilight sparkle, 이미지: pony (762).png\n",
      "예측: twilight sparkle, 이미지: pony (763).gif\n"
     ]
    },
    {
     "name": "stderr",
     "output_type": "stream",
     "text": [
      "예측: fluttershy, 이미지: pony (763).jpg\n",
      "예측: applejack, 이미지: pony (763).png\n",
      "예측: rarity, 이미지: pony (764).gif\n"
     ]
    },
    {
     "name": "stdout",
     "output_type": "stream",
     "text": [
      "예측: fluttershy, 이미지: pony (763).jpg\n",
      "예측: applejack, 이미지: pony (763).png\n",
      "예측: rarity, 이미지: pony (764).gif\n"
     ]
    },
    {
     "name": "stderr",
     "output_type": "stream",
     "text": [
      "예측: twilight sparkle, 이미지: pony (764).jpg\n",
      "예측: twilight sparkle, 이미지: pony (764).png\n",
      "예측: pinkie pie, 이미지: pony (765).gif\n",
      "예측: twilight sparkle, 이미지: pony (765).jpg\n"
     ]
    },
    {
     "name": "stdout",
     "output_type": "stream",
     "text": [
      "예측: twilight sparkle, 이미지: pony (764).jpg\n",
      "예측: twilight sparkle, 이미지: pony (764).png\n",
      "예측: pinkie pie, 이미지: pony (765).gif\n",
      "예측: twilight sparkle, 이미지: pony (765).jpg\n"
     ]
    },
    {
     "name": "stderr",
     "output_type": "stream",
     "text": [
      "예측: rarity, 이미지: pony (765).png\n",
      "예측: fluttershy, 이미지: pony (766).gif\n",
      "예측: rainbow dash, 이미지: pony (766).jpg\n"
     ]
    },
    {
     "name": "stdout",
     "output_type": "stream",
     "text": [
      "예측: rarity, 이미지: pony (765).png\n",
      "예측: fluttershy, 이미지: pony (766).gif\n",
      "예측: rainbow dash, 이미지: pony (766).jpg\n"
     ]
    },
    {
     "name": "stderr",
     "output_type": "stream",
     "text": [
      "예측: fluttershy, 이미지: pony (766).png\n",
      "예측: pinkie pie, 이미지: pony (767).gif\n",
      "예측: fluttershy, 이미지: pony (767).jpg\n",
      "예측: fluttershy, 이미지: pony (767).png\n",
      "예측: fluttershy, 이미지: pony (768).gif\n"
     ]
    },
    {
     "name": "stdout",
     "output_type": "stream",
     "text": [
      "예측: fluttershy, 이미지: pony (766).png\n",
      "예측: pinkie pie, 이미지: pony (767).gif\n",
      "예측: fluttershy, 이미지: pony (767).jpg\n",
      "예측: fluttershy, 이미지: pony (767).png\n"
     ]
    },
    {
     "name": "stderr",
     "output_type": "stream",
     "text": [
      "예측: twilight sparkle, 이미지: pony (768).jpg\n",
      "예측: fluttershy, 이미지: pony (768).png\n",
      "예측: pinkie pie, 이미지: pony (769).gif\n"
     ]
    },
    {
     "name": "stdout",
     "output_type": "stream",
     "text": [
      "예측: fluttershy, 이미지: pony (768).gif\n",
      "예측: twilight sparkle, 이미지: pony (768).jpg\n",
      "예측: fluttershy, 이미지: pony (768).png\n",
      "예측: pinkie pie, 이미지: pony (769).gif\n"
     ]
    },
    {
     "name": "stderr",
     "output_type": "stream",
     "text": [
      "예측: twilight sparkle, 이미지: pony (769).jpg\n",
      "예측: fluttershy, 이미지: pony (769).png\n",
      "예측: applejack, 이미지: pony (77).gif\n",
      "예측: rainbow dash, 이미지: pony (77).jpg\n"
     ]
    },
    {
     "name": "stdout",
     "output_type": "stream",
     "text": [
      "예측: twilight sparkle, 이미지: pony (769).jpg\n",
      "예측: fluttershy, 이미지: pony (769).png\n",
      "예측: applejack, 이미지: pony (77).gif\n"
     ]
    },
    {
     "name": "stderr",
     "output_type": "stream",
     "text": [
      "예측: rainbow dash, 이미지: pony (77).png\n"
     ]
    },
    {
     "name": "stdout",
     "output_type": "stream",
     "text": [
      "예측: rainbow dash, 이미지: pony (77).jpg\n"
     ]
    },
    {
     "name": "stderr",
     "output_type": "stream",
     "text": [
      "예측: fluttershy, 이미지: pony (770).gif\n",
      "예측: rainbow dash, 이미지: pony (770).jpg\n",
      "예측: fluttershy, 이미지: pony (770).png\n",
      "예측: fluttershy, 이미지: pony (771).gif\n"
     ]
    },
    {
     "name": "stdout",
     "output_type": "stream",
     "text": [
      "예측: rainbow dash, 이미지: pony (77).png\n",
      "예측: fluttershy, 이미지: pony (770).gif\n",
      "예측: rainbow dash, 이미지: pony (770).jpg\n",
      "예측: fluttershy, 이미지: pony (770).png\n",
      "예측: fluttershy, 이미지: pony (771).gif\n"
     ]
    },
    {
     "name": "stderr",
     "output_type": "stream",
     "text": [
      "예측: twilight sparkle, 이미지: pony (771).jpg\n"
     ]
    },
    {
     "name": "stdout",
     "output_type": "stream",
     "text": [
      "예측: twilight sparkle, 이미지: pony (771).jpg\n"
     ]
    },
    {
     "name": "stderr",
     "output_type": "stream",
     "text": [
      "예측: twilight sparkle, 이미지: pony (771).png\n",
      "예측: fluttershy, 이미지: pony (772).gif\n",
      "예측: twilight sparkle, 이미지: pony (772).jpg\n"
     ]
    },
    {
     "name": "stdout",
     "output_type": "stream",
     "text": [
      "예측: twilight sparkle, 이미지: pony (771).png\n",
      "예측: fluttershy, 이미지: pony (772).gif\n",
      "예측: twilight sparkle, 이미지: pony (772).jpg\n"
     ]
    },
    {
     "name": "stderr",
     "output_type": "stream",
     "text": [
      "예측: fluttershy, 이미지: pony (772).png\n",
      "예측: pinkie pie, 이미지: pony (773).gif\n",
      "예측: rainbow dash, 이미지: pony (773).jpg\n",
      "예측: twilight sparkle, 이미지: pony (773).png\n",
      "예측: fluttershy, 이미지: pony (774).gif\n"
     ]
    },
    {
     "name": "stdout",
     "output_type": "stream",
     "text": [
      "예측: fluttershy, 이미지: pony (772).png\n",
      "예측: pinkie pie, 이미지: pony (773).gif\n",
      "예측: rainbow dash, 이미지: pony (773).jpg\n",
      "예측: twilight sparkle, 이미지: pony (773).png\n",
      "예측: fluttershy, 이미지: pony (774).gif\n"
     ]
    },
    {
     "name": "stderr",
     "output_type": "stream",
     "text": [
      "예측: twilight sparkle, 이미지: pony (774).jpg\n",
      "예측: rainbow dash, 이미지: pony (774).png\n",
      "예측: rainbow dash, 이미지: pony (775).gif\n",
      "예측: rarity, 이미지: pony (775).jpg\n"
     ]
    },
    {
     "name": "stdout",
     "output_type": "stream",
     "text": [
      "예측: twilight sparkle, 이미지: pony (774).jpg\n",
      "예측: rainbow dash, 이미지: pony (774).png\n",
      "예측: rainbow dash, 이미지: pony (775).gif\n",
      "예측: rarity, 이미지: pony (775).jpg\n"
     ]
    },
    {
     "name": "stderr",
     "output_type": "stream",
     "text": [
      "예측: pinkie pie, 이미지: pony (775).png\n",
      "예측: fluttershy, 이미지: pony (776).gif\n"
     ]
    },
    {
     "name": "stdout",
     "output_type": "stream",
     "text": [
      "예측: pinkie pie, 이미지: pony (775).png\n",
      "예측: fluttershy, 이미지: pony (776).gif\n"
     ]
    },
    {
     "name": "stderr",
     "output_type": "stream",
     "text": [
      "예측: twilight sparkle, 이미지: pony (776).jpg\n",
      "예측: fluttershy, 이미지: pony (776).png\n",
      "예측: applejack, 이미지: pony (777).gif\n",
      "예측: twilight sparkle, 이미지: pony (777).jpg\n"
     ]
    },
    {
     "name": "stdout",
     "output_type": "stream",
     "text": [
      "예측: twilight sparkle, 이미지: pony (776).jpg\n",
      "예측: fluttershy, 이미지: pony (776).png\n",
      "예측: applejack, 이미지: pony (777).gif\n",
      "예측: twilight sparkle, 이미지: pony (777).jpg\n"
     ]
    },
    {
     "name": "stderr",
     "output_type": "stream",
     "text": [
      "예측: twilight sparkle, 이미지: pony (777).png\n",
      "예측: twilight sparkle, 이미지: pony (778).gif\n",
      "예측: twilight sparkle, 이미지: pony (778).jpg\n",
      "예측: applejack, 이미지: pony (778).png\n",
      "예측: pinkie pie, 이미지: pony (779).gif\n"
     ]
    },
    {
     "name": "stdout",
     "output_type": "stream",
     "text": [
      "예측: twilight sparkle, 이미지: pony (777).png\n",
      "예측: twilight sparkle, 이미지: pony (778).gif\n",
      "예측: twilight sparkle, 이미지: pony (778).jpg\n",
      "예측: applejack, 이미지: pony (778).png\n"
     ]
    },
    {
     "name": "stderr",
     "output_type": "stream",
     "text": [
      "예측: rarity, 이미지: pony (779).jpg\n",
      "예측: applejack, 이미지: pony (779).png\n",
      "예측: rarity, 이미지: pony (78).gif\n"
     ]
    },
    {
     "name": "stdout",
     "output_type": "stream",
     "text": [
      "예측: pinkie pie, 이미지: pony (779).gif\n",
      "예측: rarity, 이미지: pony (779).jpg\n",
      "예측: applejack, 이미지: pony (779).png\n",
      "예측: rarity, 이미지: pony (78).gif\n"
     ]
    },
    {
     "name": "stderr",
     "output_type": "stream",
     "text": [
      "예측: twilight sparkle, 이미지: pony (78).jpg\n"
     ]
    },
    {
     "name": "stdout",
     "output_type": "stream",
     "text": [
      "예측: twilight sparkle, 이미지: pony (78).jpg\n"
     ]
    },
    {
     "name": "stderr",
     "output_type": "stream",
     "text": [
      "예측: twilight sparkle, 이미지: pony (78).png\n",
      "예측: fluttershy, 이미지: pony (780).gif\n",
      "예측: rarity, 이미지: pony (780).jpg\n",
      "예측: applejack, 이미지: pony (780).png\n"
     ]
    },
    {
     "name": "stdout",
     "output_type": "stream",
     "text": [
      "예측: twilight sparkle, 이미지: pony (78).png\n",
      "예측: fluttershy, 이미지: pony (780).gif\n",
      "예측: rarity, 이미지: pony (780).jpg\n"
     ]
    },
    {
     "name": "stderr",
     "output_type": "stream",
     "text": [
      "예측: rarity, 이미지: pony (781).gif\n",
      "예측: pinkie pie, 이미지: pony (781).jpg\n",
      "예측: applejack, 이미지: pony (781).png\n",
      "예측: twilight sparkle, 이미지: pony (782).gif\n"
     ]
    },
    {
     "name": "stdout",
     "output_type": "stream",
     "text": [
      "예측: applejack, 이미지: pony (780).png\n",
      "예측: rarity, 이미지: pony (781).gif\n",
      "예측: pinkie pie, 이미지: pony (781).jpg\n",
      "예측: applejack, 이미지: pony (781).png\n"
     ]
    },
    {
     "name": "stderr",
     "output_type": "stream",
     "text": [
      "예측: twilight sparkle, 이미지: pony (782).jpg\n",
      "예측: applejack, 이미지: pony (782).png\n",
      "예측: applejack, 이미지: pony (783).gif\n",
      "c:\\Users\\sando\\AppData\\Local\\Programs\\Python\\Python311\\Lib\\site-packages\\PIL\\Image.py:3176: DecompressionBombWarning: Image size (106773903 pixels) exceeds limit of 89478485 pixels, could be decompression bomb DOS attack.\n",
      "  warnings.warn(\n"
     ]
    },
    {
     "name": "stdout",
     "output_type": "stream",
     "text": [
      "예측: twilight sparkle, 이미지: pony (782).gif\n",
      "예측: twilight sparkle, 이미지: pony (782).jpg\n",
      "예측: applejack, 이미지: pony (782).png\n",
      "예측: applejack, 이미지: pony (783).gif\n"
     ]
    },
    {
     "name": "stderr",
     "output_type": "stream",
     "text": [
      "예측: twilight sparkle, 이미지: pony (783).jpg\n",
      "예측: applejack, 이미지: pony (783).png\n",
      "예측: rarity, 이미지: pony (784).gif\n",
      "예측: applejack, 이미지: pony (784).jpg\n"
     ]
    },
    {
     "name": "stdout",
     "output_type": "stream",
     "text": [
      "예측: twilight sparkle, 이미지: pony (783).jpg\n",
      "예측: applejack, 이미지: pony (783).png\n",
      "예측: rarity, 이미지: pony (784).gif\n",
      "예측: applejack, 이미지: pony (784).jpg\n"
     ]
    },
    {
     "name": "stderr",
     "output_type": "stream",
     "text": [
      "예측: rarity, 이미지: pony (784).png\n",
      "예측: rainbow dash, 이미지: pony (785).gif\n",
      "예측: applejack, 이미지: pony (785).jpg\n",
      "예측: twilight sparkle, 이미지: pony (785).png\n",
      "예측: twilight sparkle, 이미지: pony (786).gif\n"
     ]
    },
    {
     "name": "stdout",
     "output_type": "stream",
     "text": [
      "예측: rarity, 이미지: pony (784).png\n",
      "예측: rainbow dash, 이미지: pony (785).gif\n",
      "예측: applejack, 이미지: pony (785).jpg\n",
      "예측: twilight sparkle, 이미지: pony (785).png\n",
      "예측: twilight sparkle, 이미지: pony (786).gif\n"
     ]
    },
    {
     "name": "stderr",
     "output_type": "stream",
     "text": [
      "예측: applejack, 이미지: pony (786).jpg\n",
      "예측: fluttershy, 이미지: pony (786).png\n",
      "예측: twilight sparkle, 이미지: pony (787).gif\n",
      "예측: applejack, 이미지: pony (787).jpg\n"
     ]
    },
    {
     "name": "stdout",
     "output_type": "stream",
     "text": [
      "예측: applejack, 이미지: pony (786).jpg\n",
      "예측: fluttershy, 이미지: pony (786).png\n",
      "예측: twilight sparkle, 이미지: pony (787).gif\n",
      "예측: applejack, 이미지: pony (787).jpg\n"
     ]
    },
    {
     "name": "stderr",
     "output_type": "stream",
     "text": [
      "예측: fluttershy, 이미지: pony (787).png\n",
      "예측: twilight sparkle, 이미지: pony (788).gif\n",
      "예측: rarity, 이미지: pony (788).jpg\n",
      "예측: fluttershy, 이미지: pony (788).png\n",
      "예측: twilight sparkle, 이미지: pony (789).gif\n",
      "예측: fluttershy, 이미지: pony (789).jpg\n"
     ]
    },
    {
     "name": "stdout",
     "output_type": "stream",
     "text": [
      "예측: fluttershy, 이미지: pony (787).png\n",
      "예측: twilight sparkle, 이미지: pony (788).gif\n",
      "예측: rarity, 이미지: pony (788).jpg\n",
      "예측: fluttershy, 이미지: pony (788).png\n",
      "예측: twilight sparkle, 이미지: pony (789).gif\n",
      "예측: fluttershy, 이미지: pony (789).jpg\n"
     ]
    },
    {
     "name": "stderr",
     "output_type": "stream",
     "text": [
      "예측: twilight sparkle, 이미지: pony (789).png\n",
      "예측: twilight sparkle, 이미지: pony (79).gif\n",
      "예측: rainbow dash, 이미지: pony (79).jpg\n"
     ]
    },
    {
     "name": "stdout",
     "output_type": "stream",
     "text": [
      "예측: twilight sparkle, 이미지: pony (789).png\n",
      "예측: twilight sparkle, 이미지: pony (79).gif\n",
      "예측: rainbow dash, 이미지: pony (79).jpg\n"
     ]
    },
    {
     "name": "stderr",
     "output_type": "stream",
     "text": [
      "예측: applejack, 이미지: pony (79).png\n",
      "예측: pinkie pie, 이미지: pony (790).gif\n",
      "예측: fluttershy, 이미지: pony (790).jpg\n"
     ]
    },
    {
     "name": "stdout",
     "output_type": "stream",
     "text": [
      "예측: applejack, 이미지: pony (79).png\n",
      "예측: pinkie pie, 이미지: pony (790).gif\n",
      "예측: fluttershy, 이미지: pony (790).jpg\n"
     ]
    },
    {
     "name": "stderr",
     "output_type": "stream",
     "text": [
      "예측: twilight sparkle, 이미지: pony (790).png\n",
      "예측: fluttershy, 이미지: pony (791).gif\n",
      "예측: rainbow dash, 이미지: pony (791).jpg\n"
     ]
    },
    {
     "name": "stdout",
     "output_type": "stream",
     "text": [
      "예측: twilight sparkle, 이미지: pony (790).png\n",
      "예측: fluttershy, 이미지: pony (791).gif\n",
      "예측: rainbow dash, 이미지: pony (791).jpg\n"
     ]
    },
    {
     "name": "stderr",
     "output_type": "stream",
     "text": [
      "예측: fluttershy, 이미지: pony (791).png\n",
      "예측: rainbow dash, 이미지: pony (792).gif\n",
      "예측: rarity, 이미지: pony (792).jpg\n",
      "예측: twilight sparkle, 이미지: pony (792).png\n",
      "예측: rarity, 이미지: pony (793).gif\n"
     ]
    },
    {
     "name": "stdout",
     "output_type": "stream",
     "text": [
      "예측: fluttershy, 이미지: pony (791).png\n",
      "예측: rainbow dash, 이미지: pony (792).gif\n",
      "예측: rarity, 이미지: pony (792).jpg\n",
      "예측: twilight sparkle, 이미지: pony (792).png\n",
      "예측: rarity, 이미지: pony (793).gif\n"
     ]
    },
    {
     "name": "stderr",
     "output_type": "stream",
     "text": [
      "예측: rarity, 이미지: pony (793).jpg\n",
      "예측: applejack, 이미지: pony (793).png\n",
      "예측: pinkie pie, 이미지: pony (794).gif\n",
      "예측: twilight sparkle, 이미지: pony (794).jpg\n"
     ]
    },
    {
     "name": "stdout",
     "output_type": "stream",
     "text": [
      "예측: rarity, 이미지: pony (793).jpg\n",
      "예측: applejack, 이미지: pony (793).png\n",
      "예측: pinkie pie, 이미지: pony (794).gif\n"
     ]
    },
    {
     "name": "stderr",
     "output_type": "stream",
     "text": [
      "예측: twilight sparkle, 이미지: pony (794).png\n",
      "예측: pinkie pie, 이미지: pony (795).gif\n",
      "예측: twilight sparkle, 이미지: pony (795).jpg\n"
     ]
    },
    {
     "name": "stdout",
     "output_type": "stream",
     "text": [
      "예측: twilight sparkle, 이미지: pony (794).jpg\n",
      "예측: twilight sparkle, 이미지: pony (794).png\n",
      "예측: pinkie pie, 이미지: pony (795).gif\n",
      "예측: twilight sparkle, 이미지: pony (795).jpg\n"
     ]
    },
    {
     "name": "stderr",
     "output_type": "stream",
     "text": [
      "예측: twilight sparkle, 이미지: pony (795).png\n",
      "예측: pinkie pie, 이미지: pony (796).gif\n",
      "예측: twilight sparkle, 이미지: pony (796).jpg\n"
     ]
    },
    {
     "name": "stdout",
     "output_type": "stream",
     "text": [
      "예측: twilight sparkle, 이미지: pony (795).png\n",
      "예측: pinkie pie, 이미지: pony (796).gif\n",
      "예측: twilight sparkle, 이미지: pony (796).jpg\n"
     ]
    },
    {
     "name": "stderr",
     "output_type": "stream",
     "text": [
      "예측: rainbow dash, 이미지: pony (796).png\n",
      "예측: rainbow dash, 이미지: pony (797).gif\n",
      "예측: rarity, 이미지: pony (797).jpg\n",
      "예측: twilight sparkle, 이미지: pony (797).png\n"
     ]
    },
    {
     "name": "stdout",
     "output_type": "stream",
     "text": [
      "예측: rainbow dash, 이미지: pony (796).png\n",
      "예측: rainbow dash, 이미지: pony (797).gif\n",
      "예측: rarity, 이미지: pony (797).jpg\n"
     ]
    },
    {
     "name": "stderr",
     "output_type": "stream",
     "text": [
      "예측: rarity, 이미지: pony (798).gif\n",
      "예측: twilight sparkle, 이미지: pony (798).jpg\n",
      "예측: fluttershy, 이미지: pony (798).png\n",
      "예측: fluttershy, 이미지: pony (799).gif\n"
     ]
    },
    {
     "name": "stdout",
     "output_type": "stream",
     "text": [
      "예측: twilight sparkle, 이미지: pony (797).png\n",
      "예측: rarity, 이미지: pony (798).gif\n",
      "예측: twilight sparkle, 이미지: pony (798).jpg\n",
      "예측: fluttershy, 이미지: pony (798).png\n"
     ]
    },
    {
     "name": "stderr",
     "output_type": "stream",
     "text": [
      "예측: twilight sparkle, 이미지: pony (799).jpg\n"
     ]
    },
    {
     "name": "stdout",
     "output_type": "stream",
     "text": [
      "예측: fluttershy, 이미지: pony (799).gif\n",
      "예측: twilight sparkle, 이미지: pony (799).jpg\n"
     ]
    },
    {
     "name": "stderr",
     "output_type": "stream",
     "text": [
      "예측: twilight sparkle, 이미지: pony (799).png\n",
      "예측: applejack, 이미지: pony (8).gif\n",
      "예측: fluttershy, 이미지: pony (8).jpeg\n",
      "예측: pinkie pie, 이미지: pony (8).jpg\n"
     ]
    },
    {
     "name": "stdout",
     "output_type": "stream",
     "text": [
      "예측: twilight sparkle, 이미지: pony (799).png\n",
      "예측: applejack, 이미지: pony (8).gif\n",
      "예측: fluttershy, 이미지: pony (8).jpeg\n",
      "예측: pinkie pie, 이미지: pony (8).jpg\n"
     ]
    },
    {
     "name": "stderr",
     "output_type": "stream",
     "text": [
      "예측: pinkie pie, 이미지: pony (8).png\n",
      "예측: rarity, 이미지: pony (8).webp\n",
      "예측: fluttershy, 이미지: pony (80).gif\n",
      "예측: twilight sparkle, 이미지: pony (80).jpg\n",
      "예측: fluttershy, 이미지: pony (80).png\n"
     ]
    },
    {
     "name": "stdout",
     "output_type": "stream",
     "text": [
      "예측: pinkie pie, 이미지: pony (8).png\n",
      "예측: rarity, 이미지: pony (8).webp\n",
      "예측: fluttershy, 이미지: pony (80).gif\n",
      "예측: twilight sparkle, 이미지: pony (80).jpg\n",
      "예측: fluttershy, 이미지: pony (80).png\n"
     ]
    },
    {
     "name": "stderr",
     "output_type": "stream",
     "text": [
      "예측: twilight sparkle, 이미지: pony (800).gif\n",
      "예측: twilight sparkle, 이미지: pony (800).jpg\n",
      "예측: fluttershy, 이미지: pony (800).png\n"
     ]
    },
    {
     "name": "stdout",
     "output_type": "stream",
     "text": [
      "예측: twilight sparkle, 이미지: pony (800).gif\n",
      "예측: twilight sparkle, 이미지: pony (800).jpg\n",
      "예측: fluttershy, 이미지: pony (800).png\n"
     ]
    },
    {
     "name": "stderr",
     "output_type": "stream",
     "text": [
      "예측: twilight sparkle, 이미지: pony (801).gif\n",
      "예측: pinkie pie, 이미지: pony (801).jpg\n",
      "예측: rarity, 이미지: pony (801).png\n"
     ]
    },
    {
     "name": "stdout",
     "output_type": "stream",
     "text": [
      "예측: twilight sparkle, 이미지: pony (801).gif\n",
      "예측: pinkie pie, 이미지: pony (801).jpg\n"
     ]
    },
    {
     "name": "stderr",
     "output_type": "stream",
     "text": [
      "예측: twilight sparkle, 이미지: pony (802).gif\n",
      "예측: applejack, 이미지: pony (802).jpg\n"
     ]
    },
    {
     "name": "stdout",
     "output_type": "stream",
     "text": [
      "예측: rarity, 이미지: pony (801).png\n",
      "예측: twilight sparkle, 이미지: pony (802).gif\n",
      "예측: applejack, 이미지: pony (802).jpg\n"
     ]
    },
    {
     "name": "stderr",
     "output_type": "stream",
     "text": [
      "예측: rarity, 이미지: pony (802).png\n",
      "예측: twilight sparkle, 이미지: pony (803).gif\n",
      "예측: fluttershy, 이미지: pony (803).jpg\n"
     ]
    },
    {
     "name": "stdout",
     "output_type": "stream",
     "text": [
      "예측: rarity, 이미지: pony (802).png\n",
      "예측: twilight sparkle, 이미지: pony (803).gif\n",
      "예측: fluttershy, 이미지: pony (803).jpg\n"
     ]
    },
    {
     "name": "stderr",
     "output_type": "stream",
     "text": [
      "예측: applejack, 이미지: pony (803).png\n",
      "예측: twilight sparkle, 이미지: pony (804).gif\n",
      "예측: rainbow dash, 이미지: pony (804).jpg\n",
      "예측: rainbow dash, 이미지: pony (804).png\n"
     ]
    },
    {
     "name": "stdout",
     "output_type": "stream",
     "text": [
      "예측: applejack, 이미지: pony (803).png\n",
      "예측: twilight sparkle, 이미지: pony (804).gif\n",
      "예측: rainbow dash, 이미지: pony (804).jpg\n"
     ]
    },
    {
     "name": "stderr",
     "output_type": "stream",
     "text": [
      "예측: twilight sparkle, 이미지: pony (805).gif\n",
      "예측: rarity, 이미지: pony (805).jpg\n"
     ]
    },
    {
     "name": "stdout",
     "output_type": "stream",
     "text": [
      "예측: rainbow dash, 이미지: pony (804).png\n",
      "예측: twilight sparkle, 이미지: pony (805).gif\n",
      "예측: rarity, 이미지: pony (805).jpg\n"
     ]
    },
    {
     "name": "stderr",
     "output_type": "stream",
     "text": [
      "예측: fluttershy, 이미지: pony (805).png\n",
      "예측: twilight sparkle, 이미지: pony (806).gif\n",
      "예측: twilight sparkle, 이미지: pony (806).jpg\n",
      "예측: rarity, 이미지: pony (806).png\n",
      "예측: pinkie pie, 이미지: pony (807).gif\n"
     ]
    },
    {
     "name": "stdout",
     "output_type": "stream",
     "text": [
      "예측: fluttershy, 이미지: pony (805).png\n",
      "예측: twilight sparkle, 이미지: pony (806).gif\n",
      "예측: twilight sparkle, 이미지: pony (806).jpg\n",
      "예측: rarity, 이미지: pony (806).png\n",
      "예측: pinkie pie, 이미지: pony (807).gif\n"
     ]
    },
    {
     "name": "stderr",
     "output_type": "stream",
     "text": [
      "예측: rainbow dash, 이미지: pony (807).jpg\n",
      "예측: pinkie pie, 이미지: pony (807).png\n",
      "예측: twilight sparkle, 이미지: pony (808).gif\n",
      "예측: twilight sparkle, 이미지: pony (808).jpg\n"
     ]
    },
    {
     "name": "stdout",
     "output_type": "stream",
     "text": [
      "예측: rainbow dash, 이미지: pony (807).jpg\n",
      "예측: pinkie pie, 이미지: pony (807).png\n",
      "예측: twilight sparkle, 이미지: pony (808).gif\n",
      "예측: twilight sparkle, 이미지: pony (808).jpg\n"
     ]
    },
    {
     "name": "stderr",
     "output_type": "stream",
     "text": [
      "예측: twilight sparkle, 이미지: pony (808).png\n",
      "예측: twilight sparkle, 이미지: pony (809).gif\n",
      "예측: twilight sparkle, 이미지: pony (809).jpg\n"
     ]
    },
    {
     "name": "stdout",
     "output_type": "stream",
     "text": [
      "예측: twilight sparkle, 이미지: pony (808).png\n",
      "예측: twilight sparkle, 이미지: pony (809).gif\n",
      "예측: twilight sparkle, 이미지: pony (809).jpg\n"
     ]
    },
    {
     "name": "stderr",
     "output_type": "stream",
     "text": [
      "예측: twilight sparkle, 이미지: pony (809).png\n",
      "예측: fluttershy, 이미지: pony (81).gif\n",
      "예측: rarity, 이미지: pony (81).jpg\n"
     ]
    },
    {
     "name": "stdout",
     "output_type": "stream",
     "text": [
      "예측: twilight sparkle, 이미지: pony (809).png\n",
      "예측: fluttershy, 이미지: pony (81).gif\n",
      "예측: rarity, 이미지: pony (81).jpg\n"
     ]
    },
    {
     "name": "stderr",
     "output_type": "stream",
     "text": [
      "예측: rarity, 이미지: pony (81).png\n",
      "예측: rarity, 이미지: pony (810).gif\n",
      "예측: twilight sparkle, 이미지: pony (810).jpg\n",
      "예측: twilight sparkle, 이미지: pony (810).png\n"
     ]
    },
    {
     "name": "stdout",
     "output_type": "stream",
     "text": [
      "예측: rarity, 이미지: pony (81).png\n",
      "예측: rarity, 이미지: pony (810).gif\n",
      "예측: twilight sparkle, 이미지: pony (810).jpg\n"
     ]
    },
    {
     "name": "stderr",
     "output_type": "stream",
     "text": [
      "예측: pinkie pie, 이미지: pony (811).gif\n",
      "예측: rarity, 이미지: pony (811).jpg\n",
      "예측: fluttershy, 이미지: pony (811).png\n",
      "예측: rarity, 이미지: pony (812).gif\n"
     ]
    },
    {
     "name": "stdout",
     "output_type": "stream",
     "text": [
      "예측: twilight sparkle, 이미지: pony (810).png\n",
      "예측: pinkie pie, 이미지: pony (811).gif\n",
      "예측: rarity, 이미지: pony (811).jpg\n",
      "예측: fluttershy, 이미지: pony (811).png\n",
      "예측: rarity, 이미지: pony (812).gif\n"
     ]
    },
    {
     "name": "stderr",
     "output_type": "stream",
     "text": [
      "예측: twilight sparkle, 이미지: pony (812).jpg\n",
      "예측: twilight sparkle, 이미지: pony (812).png\n",
      "예측: rarity, 이미지: pony (813).gif\n",
      "예측: rarity, 이미지: pony (813).jpg\n"
     ]
    },
    {
     "name": "stdout",
     "output_type": "stream",
     "text": [
      "예측: twilight sparkle, 이미지: pony (812).jpg\n",
      "예측: twilight sparkle, 이미지: pony (812).png\n",
      "예측: rarity, 이미지: pony (813).gif\n",
      "예측: rarity, 이미지: pony (813).jpg\n"
     ]
    },
    {
     "name": "stderr",
     "output_type": "stream",
     "text": [
      "예측: twilight sparkle, 이미지: pony (813).png\n",
      "예측: twilight sparkle, 이미지: pony (814).gif\n",
      "예측: fluttershy, 이미지: pony (814).jpg\n"
     ]
    },
    {
     "name": "stdout",
     "output_type": "stream",
     "text": [
      "예측: twilight sparkle, 이미지: pony (813).png\n",
      "예측: twilight sparkle, 이미지: pony (814).gif\n",
      "예측: fluttershy, 이미지: pony (814).jpg\n"
     ]
    },
    {
     "name": "stderr",
     "output_type": "stream",
     "text": [
      "예측: applejack, 이미지: pony (814).png\n",
      "예측: twilight sparkle, 이미지: pony (815).gif\n",
      "예측: fluttershy, 이미지: pony (815).jpg\n"
     ]
    },
    {
     "name": "stdout",
     "output_type": "stream",
     "text": [
      "예측: applejack, 이미지: pony (814).png\n",
      "예측: twilight sparkle, 이미지: pony (815).gif\n",
      "예측: fluttershy, 이미지: pony (815).jpg\n"
     ]
    },
    {
     "name": "stderr",
     "output_type": "stream",
     "text": [
      "예측: fluttershy, 이미지: pony (815).png\n",
      "예측: pinkie pie, 이미지: pony (816).gif\n",
      "예측: rarity, 이미지: pony (816).jpg\n",
      "예측: fluttershy, 이미지: pony (816).png\n",
      "예측: applejack, 이미지: pony (817).gif\n"
     ]
    },
    {
     "name": "stdout",
     "output_type": "stream",
     "text": [
      "예측: fluttershy, 이미지: pony (815).png\n",
      "예측: pinkie pie, 이미지: pony (816).gif\n",
      "예측: rarity, 이미지: pony (816).jpg\n",
      "예측: fluttershy, 이미지: pony (816).png\n"
     ]
    },
    {
     "name": "stderr",
     "output_type": "stream",
     "text": [
      "예측: applejack, 이미지: pony (817).jpg\n"
     ]
    },
    {
     "name": "stdout",
     "output_type": "stream",
     "text": [
      "예측: applejack, 이미지: pony (817).gif\n",
      "예측: applejack, 이미지: pony (817).jpg\n"
     ]
    },
    {
     "name": "stderr",
     "output_type": "stream",
     "text": [
      "예측: applejack, 이미지: pony (817).png\n",
      "예측: fluttershy, 이미지: pony (818).gif\n",
      "예측: rarity, 이미지: pony (818).jpg\n",
      "예측: fluttershy, 이미지: pony (818).png\n",
      "예측: twilight sparkle, 이미지: pony (819).gif\n"
     ]
    },
    {
     "name": "stdout",
     "output_type": "stream",
     "text": [
      "예측: applejack, 이미지: pony (817).png\n",
      "예측: fluttershy, 이미지: pony (818).gif\n",
      "예측: rarity, 이미지: pony (818).jpg\n",
      "예측: fluttershy, 이미지: pony (818).png\n",
      "예측: twilight sparkle, 이미지: pony (819).gif\n"
     ]
    },
    {
     "name": "stderr",
     "output_type": "stream",
     "text": [
      "예측: applejack, 이미지: pony (819).jpg\n",
      "예측: twilight sparkle, 이미지: pony (819).png\n",
      "예측: applejack, 이미지: pony (82).gif\n"
     ]
    },
    {
     "name": "stdout",
     "output_type": "stream",
     "text": [
      "예측: applejack, 이미지: pony (819).jpg\n",
      "예측: twilight sparkle, 이미지: pony (819).png\n",
      "예측: applejack, 이미지: pony (82).gif\n"
     ]
    },
    {
     "name": "stderr",
     "output_type": "stream",
     "text": [
      "예측: rainbow dash, 이미지: pony (82).jpg\n"
     ]
    },
    {
     "name": "stdout",
     "output_type": "stream",
     "text": [
      "예측: rainbow dash, 이미지: pony (82).jpg\n"
     ]
    },
    {
     "name": "stderr",
     "output_type": "stream",
     "text": [
      "예측: rarity, 이미지: pony (82).png\n",
      "예측: twilight sparkle, 이미지: pony (820).gif\n",
      "예측: twilight sparkle, 이미지: pony (820).jpg\n",
      "예측: rarity, 이미지: pony (820).png\n"
     ]
    },
    {
     "name": "stdout",
     "output_type": "stream",
     "text": [
      "예측: rarity, 이미지: pony (82).png\n",
      "예측: twilight sparkle, 이미지: pony (820).gif\n",
      "예측: twilight sparkle, 이미지: pony (820).jpg\n"
     ]
    },
    {
     "name": "stderr",
     "output_type": "stream",
     "text": [
      "예측: rainbow dash, 이미지: pony (821).gif\n",
      "예측: fluttershy, 이미지: pony (821).jpg\n"
     ]
    },
    {
     "name": "stdout",
     "output_type": "stream",
     "text": [
      "예측: rarity, 이미지: pony (820).png\n",
      "예측: rainbow dash, 이미지: pony (821).gif\n",
      "예측: fluttershy, 이미지: pony (821).jpg\n"
     ]
    },
    {
     "name": "stderr",
     "output_type": "stream",
     "text": [
      "예측: rarity, 이미지: pony (821).png\n",
      "예측: twilight sparkle, 이미지: pony (822).gif\n"
     ]
    },
    {
     "name": "stdout",
     "output_type": "stream",
     "text": [
      "예측: rarity, 이미지: pony (821).png\n",
      "예측: twilight sparkle, 이미지: pony (822).gif\n"
     ]
    },
    {
     "name": "stderr",
     "output_type": "stream",
     "text": [
      "예측: twilight sparkle, 이미지: pony (822).jpg\n"
     ]
    },
    {
     "name": "stdout",
     "output_type": "stream",
     "text": [
      "예측: twilight sparkle, 이미지: pony (822).jpg\n"
     ]
    },
    {
     "name": "stderr",
     "output_type": "stream",
     "text": [
      "예측: twilight sparkle, 이미지: pony (822).png\n",
      "예측: twilight sparkle, 이미지: pony (823).gif\n",
      "예측: applejack, 이미지: pony (823).jpg\n"
     ]
    },
    {
     "name": "stdout",
     "output_type": "stream",
     "text": [
      "예측: twilight sparkle, 이미지: pony (822).png\n",
      "예측: twilight sparkle, 이미지: pony (823).gif\n",
      "예측: applejack, 이미지: pony (823).jpg\n"
     ]
    },
    {
     "name": "stderr",
     "output_type": "stream",
     "text": [
      "예측: twilight sparkle, 이미지: pony (823).png\n",
      "예측: twilight sparkle, 이미지: pony (824).gif\n"
     ]
    },
    {
     "name": "stdout",
     "output_type": "stream",
     "text": [
      "예측: twilight sparkle, 이미지: pony (823).png\n",
      "예측: twilight sparkle, 이미지: pony (824).gif\n"
     ]
    },
    {
     "name": "stderr",
     "output_type": "stream",
     "text": [
      "예측: rainbow dash, 이미지: pony (824).jpg\n",
      "예측: fluttershy, 이미지: pony (824).png\n",
      "예측: pinkie pie, 이미지: pony (825).gif\n"
     ]
    },
    {
     "name": "stdout",
     "output_type": "stream",
     "text": [
      "예측: rainbow dash, 이미지: pony (824).jpg\n",
      "예측: fluttershy, 이미지: pony (824).png\n",
      "예측: pinkie pie, 이미지: pony (825).gif\n"
     ]
    },
    {
     "name": "stderr",
     "output_type": "stream",
     "text": [
      "예측: twilight sparkle, 이미지: pony (825).jpg\n",
      "예측: fluttershy, 이미지: pony (825).png\n"
     ]
    },
    {
     "name": "stdout",
     "output_type": "stream",
     "text": [
      "예측: twilight sparkle, 이미지: pony (825).jpg\n",
      "예측: fluttershy, 이미지: pony (825).png\n"
     ]
    },
    {
     "name": "stderr",
     "output_type": "stream",
     "text": [
      "예측: rarity, 이미지: pony (826).gif\n",
      "예측: applejack, 이미지: pony (826).jpg\n",
      "예측: rarity, 이미지: pony (826).png\n",
      "예측: applejack, 이미지: pony (827).gif\n",
      "예측: fluttershy, 이미지: pony (827).jpg\n"
     ]
    },
    {
     "name": "stdout",
     "output_type": "stream",
     "text": [
      "예측: rarity, 이미지: pony (826).gif\n",
      "예측: applejack, 이미지: pony (826).jpg\n",
      "예측: rarity, 이미지: pony (826).png\n",
      "예측: applejack, 이미지: pony (827).gif\n",
      "예측: fluttershy, 이미지: pony (827).jpg\n"
     ]
    },
    {
     "name": "stderr",
     "output_type": "stream",
     "text": [
      "예측: twilight sparkle, 이미지: pony (827).png\n",
      "예측: applejack, 이미지: pony (828).gif\n",
      "예측: fluttershy, 이미지: pony (828).png\n",
      "예측: applejack, 이미지: pony (829).gif\n",
      "예측: applejack, 이미지: pony (829).png\n"
     ]
    },
    {
     "name": "stdout",
     "output_type": "stream",
     "text": [
      "예측: twilight sparkle, 이미지: pony (827).png\n",
      "예측: applejack, 이미지: pony (828).gif\n",
      "예측: fluttershy, 이미지: pony (828).png\n",
      "예측: applejack, 이미지: pony (829).gif\n",
      "예측: applejack, 이미지: pony (829).png\n"
     ]
    },
    {
     "name": "stderr",
     "output_type": "stream",
     "text": [
      "예측: rainbow dash, 이미지: pony (83).gif\n",
      "예측: fluttershy, 이미지: pony (83).jpg\n"
     ]
    },
    {
     "name": "stdout",
     "output_type": "stream",
     "text": [
      "예측: rainbow dash, 이미지: pony (83).gif\n",
      "예측: fluttershy, 이미지: pony (83).jpg\n"
     ]
    },
    {
     "name": "stderr",
     "output_type": "stream",
     "text": [
      "예측: applejack, 이미지: pony (83).png\n",
      "예측: twilight sparkle, 이미지: pony (830).gif\n",
      "예측: rainbow dash, 이미지: pony (830).png\n"
     ]
    },
    {
     "name": "stdout",
     "output_type": "stream",
     "text": [
      "예측: applejack, 이미지: pony (83).png\n",
      "예측: twilight sparkle, 이미지: pony (830).gif\n",
      "예측: rainbow dash, 이미지: pony (830).png\n"
     ]
    },
    {
     "name": "stderr",
     "output_type": "stream",
     "text": [
      "예측: pinkie pie, 이미지: pony (831).gif\n",
      "예측: rainbow dash, 이미지: pony (831).png\n",
      "예측: fluttershy, 이미지: pony (832).gif\n"
     ]
    },
    {
     "name": "stdout",
     "output_type": "stream",
     "text": [
      "예측: pinkie pie, 이미지: pony (831).gif\n",
      "예측: rainbow dash, 이미지: pony (831).png\n",
      "예측: fluttershy, 이미지: pony (832).gif\n"
     ]
    },
    {
     "name": "stderr",
     "output_type": "stream",
     "text": [
      "예측: twilight sparkle, 이미지: pony (832).png\n",
      "예측: twilight sparkle, 이미지: pony (833).gif\n",
      "예측: twilight sparkle, 이미지: pony (833).png\n",
      "예측: twilight sparkle, 이미지: pony (834).gif\n",
      "예측: rarity, 이미지: pony (834).png\n"
     ]
    },
    {
     "name": "stdout",
     "output_type": "stream",
     "text": [
      "예측: twilight sparkle, 이미지: pony (832).png\n",
      "예측: twilight sparkle, 이미지: pony (833).gif\n",
      "예측: twilight sparkle, 이미지: pony (833).png\n",
      "예측: twilight sparkle, 이미지: pony (834).gif\n"
     ]
    },
    {
     "name": "stderr",
     "output_type": "stream",
     "text": [
      "예측: twilight sparkle, 이미지: pony (835).gif\n",
      "예측: rarity, 이미지: pony (835).png\n",
      "예측: twilight sparkle, 이미지: pony (836).gif\n"
     ]
    },
    {
     "name": "stdout",
     "output_type": "stream",
     "text": [
      "예측: rarity, 이미지: pony (834).png\n",
      "예측: twilight sparkle, 이미지: pony (835).gif\n",
      "예측: rarity, 이미지: pony (835).png\n",
      "예측: twilight sparkle, 이미지: pony (836).gif\n"
     ]
    },
    {
     "name": "stderr",
     "output_type": "stream",
     "text": [
      "예측: twilight sparkle, 이미지: pony (836).png\n",
      "예측: twilight sparkle, 이미지: pony (837).gif\n",
      "예측: rarity, 이미지: pony (837).png\n",
      "예측: applejack, 이미지: pony (838).gif\n"
     ]
    },
    {
     "name": "stdout",
     "output_type": "stream",
     "text": [
      "예측: twilight sparkle, 이미지: pony (836).png\n",
      "예측: twilight sparkle, 이미지: pony (837).gif\n",
      "예측: rarity, 이미지: pony (837).png\n",
      "예측: applejack, 이미지: pony (838).gif\n"
     ]
    },
    {
     "name": "stderr",
     "output_type": "stream",
     "text": [
      "예측: twilight sparkle, 이미지: pony (838).png\n",
      "예측: applejack, 이미지: pony (839).gif\n",
      "예측: fluttershy, 이미지: pony (839).png\n",
      "예측: rarity, 이미지: pony (84).gif\n",
      "예측: applejack, 이미지: pony (84).jpg\n"
     ]
    },
    {
     "name": "stdout",
     "output_type": "stream",
     "text": [
      "예측: twilight sparkle, 이미지: pony (838).png\n",
      "예측: applejack, 이미지: pony (839).gif\n",
      "예측: fluttershy, 이미지: pony (839).png\n",
      "예측: rarity, 이미지: pony (84).gif\n",
      "예측: applejack, 이미지: pony (84).jpg\n"
     ]
    },
    {
     "name": "stderr",
     "output_type": "stream",
     "text": [
      "예측: twilight sparkle, 이미지: pony (84).png\n",
      "예측: applejack, 이미지: pony (840).gif\n",
      "예측: applejack, 이미지: pony (840).png\n",
      "예측: applejack, 이미지: pony (841).gif\n",
      "예측: rarity, 이미지: pony (841).png\n"
     ]
    },
    {
     "name": "stdout",
     "output_type": "stream",
     "text": [
      "예측: twilight sparkle, 이미지: pony (84).png\n",
      "예측: applejack, 이미지: pony (840).gif\n",
      "예측: applejack, 이미지: pony (840).png\n",
      "예측: applejack, 이미지: pony (841).gif\n"
     ]
    },
    {
     "name": "stderr",
     "output_type": "stream",
     "text": [
      "예측: applejack, 이미지: pony (842).gif\n",
      "예측: rarity, 이미지: pony (842).png\n",
      "예측: applejack, 이미지: pony (843).gif\n"
     ]
    },
    {
     "name": "stdout",
     "output_type": "stream",
     "text": [
      "예측: rarity, 이미지: pony (841).png\n",
      "예측: applejack, 이미지: pony (842).gif\n",
      "예측: rarity, 이미지: pony (842).png\n",
      "예측: applejack, 이미지: pony (843).gif\n"
     ]
    },
    {
     "name": "stderr",
     "output_type": "stream",
     "text": [
      "예측: rainbow dash, 이미지: pony (843).png\n",
      "예측: rainbow dash, 이미지: pony (844).gif\n",
      "예측: applejack, 이미지: pony (844).png\n",
      "예측: twilight sparkle, 이미지: pony (845).gif\n"
     ]
    },
    {
     "name": "stdout",
     "output_type": "stream",
     "text": [
      "예측: rainbow dash, 이미지: pony (843).png\n",
      "예측: rainbow dash, 이미지: pony (844).gif\n",
      "예측: applejack, 이미지: pony (844).png\n",
      "예측: twilight sparkle, 이미지: pony (845).gif\n"
     ]
    },
    {
     "name": "stderr",
     "output_type": "stream",
     "text": [
      "예측: fluttershy, 이미지: pony (845).png\n",
      "예측: fluttershy, 이미지: pony (846).gif\n",
      "예측: fluttershy, 이미지: pony (846).png\n",
      "예측: fluttershy, 이미지: pony (847).gif\n",
      "예측: fluttershy, 이미지: pony (847).png\n"
     ]
    },
    {
     "name": "stdout",
     "output_type": "stream",
     "text": [
      "예측: fluttershy, 이미지: pony (845).png\n",
      "예측: fluttershy, 이미지: pony (846).gif\n",
      "예측: fluttershy, 이미지: pony (846).png\n",
      "예측: fluttershy, 이미지: pony (847).gif\n"
     ]
    },
    {
     "name": "stderr",
     "output_type": "stream",
     "text": [
      "예측: fluttershy, 이미지: pony (848).gif\n",
      "예측: applejack, 이미지: pony (848).png\n",
      "예측: fluttershy, 이미지: pony (849).gif\n"
     ]
    },
    {
     "name": "stdout",
     "output_type": "stream",
     "text": [
      "예측: fluttershy, 이미지: pony (847).png\n",
      "예측: fluttershy, 이미지: pony (848).gif\n",
      "예측: applejack, 이미지: pony (848).png\n",
      "예측: fluttershy, 이미지: pony (849).gif\n"
     ]
    },
    {
     "name": "stderr",
     "output_type": "stream",
     "text": [
      "예측: twilight sparkle, 이미지: pony (849).png\n",
      "예측: rainbow dash, 이미지: pony (85).gif\n"
     ]
    },
    {
     "name": "stdout",
     "output_type": "stream",
     "text": [
      "예측: twilight sparkle, 이미지: pony (849).png\n",
      "예측: rainbow dash, 이미지: pony (85).gif\n"
     ]
    },
    {
     "name": "stderr",
     "output_type": "stream",
     "text": [
      "예측: rarity, 이미지: pony (85).jpg\n",
      "예측: rarity, 이미지: pony (85).png\n",
      "예측: fluttershy, 이미지: pony (850).gif\n",
      "예측: fluttershy, 이미지: pony (850).png\n",
      "예측: twilight sparkle, 이미지: pony (851).gif\n",
      "예측: fluttershy, 이미지: pony (851).png\n"
     ]
    },
    {
     "name": "stdout",
     "output_type": "stream",
     "text": [
      "예측: rarity, 이미지: pony (85).jpg\n",
      "예측: rarity, 이미지: pony (85).png\n",
      "예측: fluttershy, 이미지: pony (850).gif\n",
      "예측: fluttershy, 이미지: pony (850).png\n",
      "예측: twilight sparkle, 이미지: pony (851).gif\n"
     ]
    },
    {
     "name": "stderr",
     "output_type": "stream",
     "text": [
      "예측: twilight sparkle, 이미지: pony (852).gif\n",
      "예측: pinkie pie, 이미지: pony (852).png\n",
      "예측: rarity, 이미지: pony (853).gif\n",
      "예측: rarity, 이미지: pony (853).png\n"
     ]
    },
    {
     "name": "stdout",
     "output_type": "stream",
     "text": [
      "예측: fluttershy, 이미지: pony (851).png\n",
      "예측: twilight sparkle, 이미지: pony (852).gif\n",
      "예측: pinkie pie, 이미지: pony (852).png\n",
      "예측: rarity, 이미지: pony (853).gif\n",
      "예측: rarity, 이미지: pony (853).png\n"
     ]
    },
    {
     "name": "stderr",
     "output_type": "stream",
     "text": [
      "예측: rainbow dash, 이미지: pony (854).gif\n",
      "예측: fluttershy, 이미지: pony (854).png\n",
      "예측: twilight sparkle, 이미지: pony (855).gif\n",
      "예측: twilight sparkle, 이미지: pony (855).png\n",
      "예측: rainbow dash, 이미지: pony (856).gif\n"
     ]
    },
    {
     "name": "stdout",
     "output_type": "stream",
     "text": [
      "예측: rainbow dash, 이미지: pony (854).gif\n",
      "예측: fluttershy, 이미지: pony (854).png\n",
      "예측: twilight sparkle, 이미지: pony (855).gif\n",
      "예측: twilight sparkle, 이미지: pony (855).png\n",
      "예측: rainbow dash, 이미지: pony (856).gif\n"
     ]
    },
    {
     "name": "stderr",
     "output_type": "stream",
     "text": [
      "예측: rainbow dash, 이미지: pony (856).png\n",
      "예측: rainbow dash, 이미지: pony (857).gif\n",
      "예측: twilight sparkle, 이미지: pony (857).png\n",
      "예측: fluttershy, 이미지: pony (858).gif\n"
     ]
    },
    {
     "name": "stdout",
     "output_type": "stream",
     "text": [
      "예측: rainbow dash, 이미지: pony (856).png\n",
      "예측: rainbow dash, 이미지: pony (857).gif\n",
      "예측: twilight sparkle, 이미지: pony (857).png\n",
      "예측: fluttershy, 이미지: pony (858).gif\n"
     ]
    },
    {
     "name": "stderr",
     "output_type": "stream",
     "text": [
      "예측: applejack, 이미지: pony (858).png\n",
      "예측: twilight sparkle, 이미지: pony (859).gif\n",
      "예측: rainbow dash, 이미지: pony (859).png\n",
      "예측: twilight sparkle, 이미지: pony (86).gif\n"
     ]
    },
    {
     "name": "stdout",
     "output_type": "stream",
     "text": [
      "예측: applejack, 이미지: pony (858).png\n",
      "예측: twilight sparkle, 이미지: pony (859).gif\n",
      "예측: rainbow dash, 이미지: pony (859).png\n",
      "예측: twilight sparkle, 이미지: pony (86).gif\n"
     ]
    },
    {
     "name": "stderr",
     "output_type": "stream",
     "text": [
      "예측: twilight sparkle, 이미지: pony (86).jpg\n"
     ]
    },
    {
     "name": "stdout",
     "output_type": "stream",
     "text": [
      "예측: twilight sparkle, 이미지: pony (86).jpg\n"
     ]
    },
    {
     "name": "stderr",
     "output_type": "stream",
     "text": [
      "예측: rarity, 이미지: pony (86).png\n",
      "예측: twilight sparkle, 이미지: pony (860).gif\n",
      "예측: twilight sparkle, 이미지: pony (860).png\n",
      "예측: pinkie pie, 이미지: pony (861).gif\n"
     ]
    },
    {
     "name": "stdout",
     "output_type": "stream",
     "text": [
      "예측: rarity, 이미지: pony (86).png\n",
      "예측: twilight sparkle, 이미지: pony (860).gif\n",
      "예측: twilight sparkle, 이미지: pony (860).png\n",
      "예측: pinkie pie, 이미지: pony (861).gif\n"
     ]
    },
    {
     "name": "stderr",
     "output_type": "stream",
     "text": [
      "예측: applejack, 이미지: pony (861).png\n",
      "예측: twilight sparkle, 이미지: pony (862).gif\n",
      "예측: twilight sparkle, 이미지: pony (862).png\n",
      "예측: pinkie pie, 이미지: pony (863).gif\n"
     ]
    },
    {
     "name": "stdout",
     "output_type": "stream",
     "text": [
      "예측: applejack, 이미지: pony (861).png\n",
      "예측: twilight sparkle, 이미지: pony (862).gif\n",
      "예측: twilight sparkle, 이미지: pony (862).png\n",
      "예측: pinkie pie, 이미지: pony (863).gif\n"
     ]
    },
    {
     "name": "stderr",
     "output_type": "stream",
     "text": [
      "예측: pinkie pie, 이미지: pony (863).png\n",
      "예측: pinkie pie, 이미지: pony (864).gif\n",
      "예측: fluttershy, 이미지: pony (864).png\n",
      "예측: pinkie pie, 이미지: pony (865).gif\n",
      "예측: fluttershy, 이미지: pony (865).png\n"
     ]
    },
    {
     "name": "stdout",
     "output_type": "stream",
     "text": [
      "예측: pinkie pie, 이미지: pony (863).png\n",
      "예측: pinkie pie, 이미지: pony (864).gif\n",
      "예측: fluttershy, 이미지: pony (864).png\n",
      "예측: pinkie pie, 이미지: pony (865).gif\n",
      "예측: fluttershy, 이미지: pony (865).png\n"
     ]
    },
    {
     "name": "stderr",
     "output_type": "stream",
     "text": [
      "예측: fluttershy, 이미지: pony (866).gif\n",
      "예측: rainbow dash, 이미지: pony (866).png\n",
      "예측: rainbow dash, 이미지: pony (867).gif\n"
     ]
    },
    {
     "name": "stdout",
     "output_type": "stream",
     "text": [
      "예측: fluttershy, 이미지: pony (866).gif\n",
      "예측: rainbow dash, 이미지: pony (866).png\n"
     ]
    },
    {
     "name": "stderr",
     "output_type": "stream",
     "text": [
      "예측: applejack, 이미지: pony (867).png\n",
      "예측: fluttershy, 이미지: pony (868).gif\n"
     ]
    },
    {
     "name": "stdout",
     "output_type": "stream",
     "text": [
      "예측: rainbow dash, 이미지: pony (867).gif\n",
      "예측: applejack, 이미지: pony (867).png\n",
      "예측: fluttershy, 이미지: pony (868).gif\n"
     ]
    },
    {
     "name": "stderr",
     "output_type": "stream",
     "text": [
      "예측: fluttershy, 이미지: pony (868).png\n",
      "예측: rainbow dash, 이미지: pony (869).gif\n"
     ]
    },
    {
     "name": "stdout",
     "output_type": "stream",
     "text": [
      "예측: fluttershy, 이미지: pony (868).png\n",
      "예측: rainbow dash, 이미지: pony (869).gif\n"
     ]
    },
    {
     "name": "stderr",
     "output_type": "stream",
     "text": [
      "예측: rarity, 이미지: pony (869).png\n",
      "예측: rainbow dash, 이미지: pony (87).gif\n"
     ]
    },
    {
     "name": "stdout",
     "output_type": "stream",
     "text": [
      "예측: rarity, 이미지: pony (869).png\n",
      "예측: rainbow dash, 이미지: pony (87).gif\n"
     ]
    },
    {
     "name": "stderr",
     "output_type": "stream",
     "text": [
      "예측: twilight sparkle, 이미지: pony (87).jpg\n"
     ]
    },
    {
     "name": "stdout",
     "output_type": "stream",
     "text": [
      "예측: twilight sparkle, 이미지: pony (87).jpg\n"
     ]
    },
    {
     "name": "stderr",
     "output_type": "stream",
     "text": [
      "예측: rarity, 이미지: pony (87).png\n",
      "예측: rainbow dash, 이미지: pony (870).gif\n",
      "예측: fluttershy, 이미지: pony (870).png\n",
      "예측: rarity, 이미지: pony (871).gif\n",
      "예측: rarity, 이미지: pony (871).png\n",
      "예측: fluttershy, 이미지: pony (872).gif\n"
     ]
    },
    {
     "name": "stdout",
     "output_type": "stream",
     "text": [
      "예측: rarity, 이미지: pony (87).png\n",
      "예측: rainbow dash, 이미지: pony (870).gif\n",
      "예측: fluttershy, 이미지: pony (870).png\n",
      "예측: rarity, 이미지: pony (871).gif\n",
      "예측: rarity, 이미지: pony (871).png\n"
     ]
    },
    {
     "name": "stderr",
     "output_type": "stream",
     "text": [
      "예측: rainbow dash, 이미지: pony (872).png\n",
      "예측: rarity, 이미지: pony (873).gif\n"
     ]
    },
    {
     "name": "stdout",
     "output_type": "stream",
     "text": [
      "예측: fluttershy, 이미지: pony (872).gif\n",
      "예측: rainbow dash, 이미지: pony (872).png\n",
      "예측: rarity, 이미지: pony (873).gif\n"
     ]
    },
    {
     "name": "stderr",
     "output_type": "stream",
     "text": [
      "예측: fluttershy, 이미지: pony (873).png\n",
      "예측: twilight sparkle, 이미지: pony (874).gif\n",
      "예측: twilight sparkle, 이미지: pony (874).png\n",
      "예측: fluttershy, 이미지: pony (875).gif\n",
      "예측: rainbow dash, 이미지: pony (875).png\n",
      "예측: fluttershy, 이미지: pony (876).gif\n"
     ]
    },
    {
     "name": "stdout",
     "output_type": "stream",
     "text": [
      "예측: fluttershy, 이미지: pony (873).png\n",
      "예측: twilight sparkle, 이미지: pony (874).gif\n",
      "예측: twilight sparkle, 이미지: pony (874).png\n",
      "예측: fluttershy, 이미지: pony (875).gif\n",
      "예측: rainbow dash, 이미지: pony (875).png\n"
     ]
    },
    {
     "name": "stderr",
     "output_type": "stream",
     "text": [
      "예측: rarity, 이미지: pony (876).png\n",
      "예측: rainbow dash, 이미지: pony (877).gif\n"
     ]
    },
    {
     "name": "stdout",
     "output_type": "stream",
     "text": [
      "예측: fluttershy, 이미지: pony (876).gif\n",
      "예측: rarity, 이미지: pony (876).png\n",
      "예측: rainbow dash, 이미지: pony (877).gif\n"
     ]
    },
    {
     "name": "stderr",
     "output_type": "stream",
     "text": [
      "예측: applejack, 이미지: pony (877).png\n",
      "예측: pinkie pie, 이미지: pony (878).gif\n",
      "예측: applejack, 이미지: pony (878).png\n",
      "예측: twilight sparkle, 이미지: pony (879).gif\n",
      "예측: twilight sparkle, 이미지: pony (879).png\n"
     ]
    },
    {
     "name": "stdout",
     "output_type": "stream",
     "text": [
      "예측: applejack, 이미지: pony (877).png\n",
      "예측: pinkie pie, 이미지: pony (878).gif\n",
      "예측: applejack, 이미지: pony (878).png\n",
      "예측: twilight sparkle, 이미지: pony (879).gif\n"
     ]
    },
    {
     "name": "stderr",
     "output_type": "stream",
     "text": [
      "예측: twilight sparkle, 이미지: pony (88).gif\n",
      "예측: pinkie pie, 이미지: pony (88).jpg\n"
     ]
    },
    {
     "name": "stdout",
     "output_type": "stream",
     "text": [
      "예측: twilight sparkle, 이미지: pony (879).png\n",
      "예측: twilight sparkle, 이미지: pony (88).gif\n",
      "예측: pinkie pie, 이미지: pony (88).jpg\n"
     ]
    },
    {
     "name": "stderr",
     "output_type": "stream",
     "text": [
      "예측: rarity, 이미지: pony (88).png\n",
      "예측: pinkie pie, 이미지: pony (880).gif\n",
      "예측: fluttershy, 이미지: pony (880).png\n",
      "예측: twilight sparkle, 이미지: pony (881).gif\n"
     ]
    },
    {
     "name": "stdout",
     "output_type": "stream",
     "text": [
      "예측: rarity, 이미지: pony (88).png\n",
      "예측: pinkie pie, 이미지: pony (880).gif\n",
      "예측: fluttershy, 이미지: pony (880).png\n",
      "예측: twilight sparkle, 이미지: pony (881).gif\n"
     ]
    },
    {
     "name": "stderr",
     "output_type": "stream",
     "text": [
      "예측: rainbow dash, 이미지: pony (881).png\n",
      "예측: fluttershy, 이미지: pony (882).gif\n",
      "예측: twilight sparkle, 이미지: pony (882).png\n",
      "예측: fluttershy, 이미지: pony (883).gif\n"
     ]
    },
    {
     "name": "stdout",
     "output_type": "stream",
     "text": [
      "예측: rainbow dash, 이미지: pony (881).png\n",
      "예측: fluttershy, 이미지: pony (882).gif\n",
      "예측: twilight sparkle, 이미지: pony (882).png\n",
      "예측: fluttershy, 이미지: pony (883).gif\n"
     ]
    },
    {
     "name": "stderr",
     "output_type": "stream",
     "text": [
      "예측: fluttershy, 이미지: pony (883).png\n",
      "예측: fluttershy, 이미지: pony (884).gif\n",
      "예측: applejack, 이미지: pony (884).png\n",
      "예측: twilight sparkle, 이미지: pony (885).gif\n"
     ]
    },
    {
     "name": "stdout",
     "output_type": "stream",
     "text": [
      "예측: fluttershy, 이미지: pony (883).png\n",
      "예측: fluttershy, 이미지: pony (884).gif\n",
      "예측: applejack, 이미지: pony (884).png\n",
      "예측: twilight sparkle, 이미지: pony (885).gif\n"
     ]
    },
    {
     "name": "stderr",
     "output_type": "stream",
     "text": [
      "예측: applejack, 이미지: pony (885).png\n",
      "예측: fluttershy, 이미지: pony (886).gif\n",
      "예측: rarity, 이미지: pony (886).png\n",
      "예측: twilight sparkle, 이미지: pony (887).gif\n"
     ]
    },
    {
     "name": "stdout",
     "output_type": "stream",
     "text": [
      "예측: applejack, 이미지: pony (885).png\n",
      "예측: fluttershy, 이미지: pony (886).gif\n",
      "예측: rarity, 이미지: pony (886).png\n"
     ]
    },
    {
     "name": "stderr",
     "output_type": "stream",
     "text": [
      "예측: pinkie pie, 이미지: pony (887).png\n",
      "예측: pinkie pie, 이미지: pony (888).gif\n",
      "예측: twilight sparkle, 이미지: pony (888).png\n"
     ]
    },
    {
     "name": "stdout",
     "output_type": "stream",
     "text": [
      "예측: twilight sparkle, 이미지: pony (887).gif\n",
      "예측: pinkie pie, 이미지: pony (887).png\n",
      "예측: pinkie pie, 이미지: pony (888).gif\n"
     ]
    },
    {
     "name": "stderr",
     "output_type": "stream",
     "text": [
      "예측: twilight sparkle, 이미지: pony (889).gif\n",
      "예측: twilight sparkle, 이미지: pony (889).png\n",
      "예측: rainbow dash, 이미지: pony (89).gif\n",
      "예측: rainbow dash, 이미지: pony (89).jpg\n"
     ]
    },
    {
     "name": "stdout",
     "output_type": "stream",
     "text": [
      "예측: twilight sparkle, 이미지: pony (888).png\n",
      "예측: twilight sparkle, 이미지: pony (889).gif\n",
      "예측: twilight sparkle, 이미지: pony (889).png\n",
      "예측: rainbow dash, 이미지: pony (89).gif\n",
      "예측: rainbow dash, 이미지: pony (89).jpg\n"
     ]
    },
    {
     "name": "stderr",
     "output_type": "stream",
     "text": [
      "예측: rarity, 이미지: pony (89).png\n",
      "예측: twilight sparkle, 이미지: pony (890).gif\n",
      "예측: pinkie pie, 이미지: pony (890).png\n",
      "예측: fluttershy, 이미지: pony (891).gif\n",
      "예측: fluttershy, 이미지: pony (891).png\n",
      "예측: pinkie pie, 이미지: pony (892).gif\n"
     ]
    },
    {
     "name": "stdout",
     "output_type": "stream",
     "text": [
      "예측: rarity, 이미지: pony (89).png\n",
      "예측: twilight sparkle, 이미지: pony (890).gif\n",
      "예측: pinkie pie, 이미지: pony (890).png\n",
      "예측: fluttershy, 이미지: pony (891).gif\n",
      "예측: fluttershy, 이미지: pony (891).png\n"
     ]
    },
    {
     "name": "stderr",
     "output_type": "stream",
     "text": [
      "예측: twilight sparkle, 이미지: pony (892).png\n",
      "예측: rarity, 이미지: pony (893).gif\n",
      "예측: rainbow dash, 이미지: pony (893).png\n",
      "예측: rarity, 이미지: pony (894).gif\n"
     ]
    },
    {
     "name": "stdout",
     "output_type": "stream",
     "text": [
      "예측: pinkie pie, 이미지: pony (892).gif\n",
      "예측: twilight sparkle, 이미지: pony (892).png\n",
      "예측: rarity, 이미지: pony (893).gif\n",
      "예측: rainbow dash, 이미지: pony (893).png\n",
      "예측: rarity, 이미지: pony (894).gif\n"
     ]
    },
    {
     "name": "stderr",
     "output_type": "stream",
     "text": [
      "예측: fluttershy, 이미지: pony (894).png\n",
      "예측: fluttershy, 이미지: pony (895).gif\n",
      "예측: fluttershy, 이미지: pony (895).png\n",
      "예측: twilight sparkle, 이미지: pony (896).gif\n"
     ]
    },
    {
     "name": "stdout",
     "output_type": "stream",
     "text": [
      "예측: fluttershy, 이미지: pony (894).png\n",
      "예측: fluttershy, 이미지: pony (895).gif\n",
      "예측: fluttershy, 이미지: pony (895).png\n"
     ]
    },
    {
     "name": "stderr",
     "output_type": "stream",
     "text": [
      "예측: twilight sparkle, 이미지: pony (896).png\n",
      "예측: applejack, 이미지: pony (897).gif\n",
      "예측: rarity, 이미지: pony (897).png\n"
     ]
    },
    {
     "name": "stdout",
     "output_type": "stream",
     "text": [
      "예측: twilight sparkle, 이미지: pony (896).gif\n",
      "예측: twilight sparkle, 이미지: pony (896).png\n",
      "예측: applejack, 이미지: pony (897).gif\n",
      "예측: rarity, 이미지: pony (897).png\n"
     ]
    },
    {
     "name": "stderr",
     "output_type": "stream",
     "text": [
      "예측: fluttershy, 이미지: pony (898).gif\n",
      "예측: rarity, 이미지: pony (898).png\n",
      "예측: rainbow dash, 이미지: pony (899).gif\n",
      "예측: rainbow dash, 이미지: pony (899).png\n"
     ]
    },
    {
     "name": "stdout",
     "output_type": "stream",
     "text": [
      "예측: fluttershy, 이미지: pony (898).gif\n",
      "예측: rarity, 이미지: pony (898).png\n",
      "예측: rainbow dash, 이미지: pony (899).gif\n",
      "예측: rainbow dash, 이미지: pony (899).png\n"
     ]
    },
    {
     "name": "stderr",
     "output_type": "stream",
     "text": [
      "예측: pinkie pie, 이미지: pony (9).gif\n",
      "예측: fluttershy, 이미지: pony (9).jpeg\n"
     ]
    },
    {
     "name": "stdout",
     "output_type": "stream",
     "text": [
      "예측: pinkie pie, 이미지: pony (9).gif\n",
      "예측: fluttershy, 이미지: pony (9).jpeg\n"
     ]
    },
    {
     "name": "stderr",
     "output_type": "stream",
     "text": [
      "예측: rarity, 이미지: pony (9).jpg\n",
      "예측: pinkie pie, 이미지: pony (9).png\n",
      "예측: fluttershy, 이미지: pony (9).webp\n",
      "예측: rainbow dash, 이미지: pony (90).gif\n",
      "예측: rarity, 이미지: pony (90).jpg\n"
     ]
    },
    {
     "name": "stdout",
     "output_type": "stream",
     "text": [
      "예측: rarity, 이미지: pony (9).jpg\n",
      "예측: pinkie pie, 이미지: pony (9).png\n",
      "예측: fluttershy, 이미지: pony (9).webp\n",
      "예측: rainbow dash, 이미지: pony (90).gif\n",
      "예측: rarity, 이미지: pony (90).jpg\n"
     ]
    },
    {
     "name": "stderr",
     "output_type": "stream",
     "text": [
      "예측: rainbow dash, 이미지: pony (90).png\n",
      "예측: fluttershy, 이미지: pony (900).gif\n",
      "예측: fluttershy, 이미지: pony (900).png\n",
      "예측: fluttershy, 이미지: pony (901).gif\n"
     ]
    },
    {
     "name": "stdout",
     "output_type": "stream",
     "text": [
      "예측: rainbow dash, 이미지: pony (90).png\n",
      "예측: fluttershy, 이미지: pony (900).gif\n",
      "예측: fluttershy, 이미지: pony (900).png\n",
      "예측: fluttershy, 이미지: pony (901).gif\n"
     ]
    },
    {
     "name": "stderr",
     "output_type": "stream",
     "text": [
      "예측: fluttershy, 이미지: pony (901).png\n",
      "예측: rainbow dash, 이미지: pony (902).gif\n",
      "예측: twilight sparkle, 이미지: pony (902).png\n",
      "예측: rainbow dash, 이미지: pony (903).gif\n"
     ]
    },
    {
     "name": "stdout",
     "output_type": "stream",
     "text": [
      "예측: fluttershy, 이미지: pony (901).png\n",
      "예측: rainbow dash, 이미지: pony (902).gif\n",
      "예측: twilight sparkle, 이미지: pony (902).png\n",
      "예측: rainbow dash, 이미지: pony (903).gif\n"
     ]
    },
    {
     "name": "stderr",
     "output_type": "stream",
     "text": [
      "예측: rarity, 이미지: pony (903).png\n",
      "예측: fluttershy, 이미지: pony (904).gif\n",
      "예측: fluttershy, 이미지: pony (904).png\n",
      "예측: fluttershy, 이미지: pony (905).gif\n"
     ]
    },
    {
     "name": "stdout",
     "output_type": "stream",
     "text": [
      "예측: rarity, 이미지: pony (903).png\n",
      "예측: fluttershy, 이미지: pony (904).gif\n",
      "예측: fluttershy, 이미지: pony (904).png\n",
      "예측: fluttershy, 이미지: pony (905).gif\n"
     ]
    },
    {
     "name": "stderr",
     "output_type": "stream",
     "text": [
      "예측: applejack, 이미지: pony (905).png\n",
      "예측: applejack, 이미지: pony (906).gif\n",
      "예측: twilight sparkle, 이미지: pony (906).png\n",
      "예측: twilight sparkle, 이미지: pony (907).gif\n",
      "예측: rainbow dash, 이미지: pony (907).png\n"
     ]
    },
    {
     "name": "stdout",
     "output_type": "stream",
     "text": [
      "예측: applejack, 이미지: pony (905).png\n",
      "예측: applejack, 이미지: pony (906).gif\n",
      "예측: twilight sparkle, 이미지: pony (906).png\n",
      "예측: twilight sparkle, 이미지: pony (907).gif\n",
      "예측: rainbow dash, 이미지: pony (907).png\n"
     ]
    },
    {
     "name": "stderr",
     "output_type": "stream",
     "text": [
      "예측: fluttershy, 이미지: pony (908).gif\n",
      "예측: twilight sparkle, 이미지: pony (908).png\n",
      "예측: pinkie pie, 이미지: pony (909).gif\n",
      "예측: fluttershy, 이미지: pony (909).png\n",
      "예측: pinkie pie, 이미지: pony (91).gif\n"
     ]
    },
    {
     "name": "stdout",
     "output_type": "stream",
     "text": [
      "예측: fluttershy, 이미지: pony (908).gif\n",
      "예측: twilight sparkle, 이미지: pony (908).png\n",
      "예측: pinkie pie, 이미지: pony (909).gif\n",
      "예측: fluttershy, 이미지: pony (909).png\n",
      "예측: pinkie pie, 이미지: pony (91).gif\n"
     ]
    },
    {
     "name": "stderr",
     "output_type": "stream",
     "text": [
      "예측: rarity, 이미지: pony (91).jpg\n",
      "예측: pinkie pie, 이미지: pony (91).png\n",
      "예측: pinkie pie, 이미지: pony (910).gif\n"
     ]
    },
    {
     "name": "stdout",
     "output_type": "stream",
     "text": [
      "예측: rarity, 이미지: pony (91).jpg\n",
      "예측: pinkie pie, 이미지: pony (91).png\n",
      "예측: pinkie pie, 이미지: pony (910).gif\n"
     ]
    },
    {
     "name": "stderr",
     "output_type": "stream",
     "text": [
      "예측: twilight sparkle, 이미지: pony (910).png\n",
      "예측: twilight sparkle, 이미지: pony (911).gif\n",
      "예측: twilight sparkle, 이미지: pony (911).png\n",
      "예측: rarity, 이미지: pony (912).gif\n",
      "예측: twilight sparkle, 이미지: pony (912).png\n",
      "예측: twilight sparkle, 이미지: pony (913).gif\n"
     ]
    },
    {
     "name": "stdout",
     "output_type": "stream",
     "text": [
      "예측: twilight sparkle, 이미지: pony (910).png\n",
      "예측: twilight sparkle, 이미지: pony (911).gif\n",
      "예측: twilight sparkle, 이미지: pony (911).png\n",
      "예측: rarity, 이미지: pony (912).gif\n",
      "예측: twilight sparkle, 이미지: pony (912).png\n",
      "예측: twilight sparkle, 이미지: pony (913).gif\n"
     ]
    },
    {
     "name": "stderr",
     "output_type": "stream",
     "text": [
      "예측: rarity, 이미지: pony (913).png\n",
      "예측: rarity, 이미지: pony (914).gif\n",
      "예측: rarity, 이미지: pony (914).png\n",
      "예측: applejack, 이미지: pony (915).gif\n"
     ]
    },
    {
     "name": "stdout",
     "output_type": "stream",
     "text": [
      "예측: rarity, 이미지: pony (913).png\n",
      "예측: rarity, 이미지: pony (914).gif\n",
      "예측: rarity, 이미지: pony (914).png\n",
      "예측: applejack, 이미지: pony (915).gif\n"
     ]
    },
    {
     "name": "stderr",
     "output_type": "stream",
     "text": [
      "예측: twilight sparkle, 이미지: pony (915).png\n",
      "예측: twilight sparkle, 이미지: pony (916).gif\n",
      "예측: rarity, 이미지: pony (916).png\n",
      "예측: fluttershy, 이미지: pony (917).gif\n"
     ]
    },
    {
     "name": "stdout",
     "output_type": "stream",
     "text": [
      "예측: twilight sparkle, 이미지: pony (915).png\n",
      "예측: twilight sparkle, 이미지: pony (916).gif\n",
      "예측: rarity, 이미지: pony (916).png\n",
      "예측: fluttershy, 이미지: pony (917).gif\n"
     ]
    },
    {
     "name": "stderr",
     "output_type": "stream",
     "text": [
      "예측: rarity, 이미지: pony (917).png\n",
      "예측: rainbow dash, 이미지: pony (918).gif\n",
      "예측: rainbow dash, 이미지: pony (918).png\n",
      "예측: fluttershy, 이미지: pony (919).gif\n",
      "예측: rarity, 이미지: pony (919).png\n",
      "예측: pinkie pie, 이미지: pony (92).gif\n"
     ]
    },
    {
     "name": "stdout",
     "output_type": "stream",
     "text": [
      "예측: rarity, 이미지: pony (917).png\n",
      "예측: rainbow dash, 이미지: pony (918).gif\n",
      "예측: rainbow dash, 이미지: pony (918).png\n",
      "예측: fluttershy, 이미지: pony (919).gif\n",
      "예측: rarity, 이미지: pony (919).png\n",
      "예측: pinkie pie, 이미지: pony (92).gif\n"
     ]
    },
    {
     "name": "stderr",
     "output_type": "stream",
     "text": [
      "예측: twilight sparkle, 이미지: pony (92).jpg\n"
     ]
    },
    {
     "name": "stdout",
     "output_type": "stream",
     "text": [
      "예측: twilight sparkle, 이미지: pony (92).jpg\n"
     ]
    },
    {
     "name": "stderr",
     "output_type": "stream",
     "text": [
      "예측: twilight sparkle, 이미지: pony (92).png\n",
      "예측: twilight sparkle, 이미지: pony (920).gif\n",
      "예측: twilight sparkle, 이미지: pony (920).png\n",
      "예측: pinkie pie, 이미지: pony (921).gif\n",
      "예측: pinkie pie, 이미지: pony (921).png\n",
      "예측: pinkie pie, 이미지: pony (922).gif\n"
     ]
    },
    {
     "name": "stdout",
     "output_type": "stream",
     "text": [
      "예측: twilight sparkle, 이미지: pony (92).png\n",
      "예측: twilight sparkle, 이미지: pony (920).gif\n",
      "예측: twilight sparkle, 이미지: pony (920).png\n",
      "예측: pinkie pie, 이미지: pony (921).gif\n",
      "예측: pinkie pie, 이미지: pony (921).png\n",
      "예측: pinkie pie, 이미지: pony (922).gif\n"
     ]
    },
    {
     "name": "stderr",
     "output_type": "stream",
     "text": [
      "예측: applejack, 이미지: pony (922).png\n",
      "예측: pinkie pie, 이미지: pony (923).gif\n",
      "예측: rarity, 이미지: pony (923).png\n",
      "예측: rainbow dash, 이미지: pony (924).gif\n",
      "예측: rainbow dash, 이미지: pony (924).png\n",
      "예측: fluttershy, 이미지: pony (925).gif\n"
     ]
    },
    {
     "name": "stdout",
     "output_type": "stream",
     "text": [
      "예측: applejack, 이미지: pony (922).png\n",
      "예측: pinkie pie, 이미지: pony (923).gif\n",
      "예측: rarity, 이미지: pony (923).png\n",
      "예측: rainbow dash, 이미지: pony (924).gif\n",
      "예측: rainbow dash, 이미지: pony (924).png\n",
      "예측: fluttershy, 이미지: pony (925).gif\n"
     ]
    },
    {
     "name": "stderr",
     "output_type": "stream",
     "text": [
      "예측: fluttershy, 이미지: pony (925).png\n",
      "예측: twilight sparkle, 이미지: pony (926).gif\n",
      "예측: rarity, 이미지: pony (926).png\n",
      "예측: pinkie pie, 이미지: pony (927).gif\n",
      "예측: twilight sparkle, 이미지: pony (927).png\n"
     ]
    },
    {
     "name": "stdout",
     "output_type": "stream",
     "text": [
      "예측: fluttershy, 이미지: pony (925).png\n",
      "예측: twilight sparkle, 이미지: pony (926).gif\n",
      "예측: rarity, 이미지: pony (926).png\n",
      "예측: pinkie pie, 이미지: pony (927).gif\n",
      "예측: twilight sparkle, 이미지: pony (927).png\n"
     ]
    },
    {
     "name": "stderr",
     "output_type": "stream",
     "text": [
      "예측: rainbow dash, 이미지: pony (928).gif\n",
      "예측: twilight sparkle, 이미지: pony (928).png\n",
      "예측: fluttershy, 이미지: pony (929).gif\n"
     ]
    },
    {
     "name": "stdout",
     "output_type": "stream",
     "text": [
      "예측: rainbow dash, 이미지: pony (928).gif\n",
      "예측: twilight sparkle, 이미지: pony (928).png\n",
      "예측: fluttershy, 이미지: pony (929).gif\n"
     ]
    },
    {
     "name": "stderr",
     "output_type": "stream",
     "text": [
      "예측: twilight sparkle, 이미지: pony (929).png\n",
      "예측: twilight sparkle, 이미지: pony (93).gif\n",
      "예측: fluttershy, 이미지: pony (93).jpg\n"
     ]
    },
    {
     "name": "stdout",
     "output_type": "stream",
     "text": [
      "예측: twilight sparkle, 이미지: pony (929).png\n",
      "예측: twilight sparkle, 이미지: pony (93).gif\n",
      "예측: fluttershy, 이미지: pony (93).jpg\n"
     ]
    },
    {
     "name": "stderr",
     "output_type": "stream",
     "text": [
      "예측: twilight sparkle, 이미지: pony (93).png\n",
      "예측: rainbow dash, 이미지: pony (930).gif\n",
      "예측: fluttershy, 이미지: pony (930).png\n",
      "예측: rainbow dash, 이미지: pony (931).gif\n",
      "예측: rarity, 이미지: pony (931).png\n"
     ]
    },
    {
     "name": "stdout",
     "output_type": "stream",
     "text": [
      "예측: twilight sparkle, 이미지: pony (93).png\n",
      "예측: rainbow dash, 이미지: pony (930).gif\n",
      "예측: fluttershy, 이미지: pony (930).png\n",
      "예측: rainbow dash, 이미지: pony (931).gif\n"
     ]
    },
    {
     "name": "stderr",
     "output_type": "stream",
     "text": [
      "예측: twilight sparkle, 이미지: pony (932).gif\n",
      "예측: applejack, 이미지: pony (932).png\n",
      "예측: twilight sparkle, 이미지: pony (933).gif\n"
     ]
    },
    {
     "name": "stdout",
     "output_type": "stream",
     "text": [
      "예측: rarity, 이미지: pony (931).png\n",
      "예측: twilight sparkle, 이미지: pony (932).gif\n",
      "예측: applejack, 이미지: pony (932).png\n",
      "예측: twilight sparkle, 이미지: pony (933).gif\n"
     ]
    },
    {
     "name": "stderr",
     "output_type": "stream",
     "text": [
      "예측: pinkie pie, 이미지: pony (933).png\n",
      "예측: twilight sparkle, 이미지: pony (934).gif\n",
      "예측: applejack, 이미지: pony (934).png\n"
     ]
    },
    {
     "name": "stdout",
     "output_type": "stream",
     "text": [
      "예측: pinkie pie, 이미지: pony (933).png\n",
      "예측: twilight sparkle, 이미지: pony (934).gif\n"
     ]
    },
    {
     "name": "stderr",
     "output_type": "stream",
     "text": [
      "예측: twilight sparkle, 이미지: pony (935).gif\n"
     ]
    },
    {
     "name": "stdout",
     "output_type": "stream",
     "text": [
      "예측: applejack, 이미지: pony (934).png\n",
      "예측: twilight sparkle, 이미지: pony (935).gif\n"
     ]
    },
    {
     "name": "stderr",
     "output_type": "stream",
     "text": [
      "예측: pinkie pie, 이미지: pony (935).png\n",
      "예측: twilight sparkle, 이미지: pony (936).gif\n",
      "예측: rainbow dash, 이미지: pony (936).png\n",
      "예측: rainbow dash, 이미지: pony (937).gif\n"
     ]
    },
    {
     "name": "stdout",
     "output_type": "stream",
     "text": [
      "예측: pinkie pie, 이미지: pony (935).png\n",
      "예측: twilight sparkle, 이미지: pony (936).gif\n",
      "예측: rainbow dash, 이미지: pony (936).png\n",
      "예측: rainbow dash, 이미지: pony (937).gif\n"
     ]
    },
    {
     "name": "stderr",
     "output_type": "stream",
     "text": [
      "예측: rarity, 이미지: pony (937).png\n",
      "예측: pinkie pie, 이미지: pony (938).gif\n"
     ]
    },
    {
     "name": "stdout",
     "output_type": "stream",
     "text": [
      "예측: rarity, 이미지: pony (937).png\n",
      "예측: pinkie pie, 이미지: pony (938).gif\n"
     ]
    },
    {
     "name": "stderr",
     "output_type": "stream",
     "text": [
      "예측: applejack, 이미지: pony (938).png\n",
      "예측: twilight sparkle, 이미지: pony (939).gif\n"
     ]
    },
    {
     "name": "stdout",
     "output_type": "stream",
     "text": [
      "예측: applejack, 이미지: pony (938).png\n",
      "예측: twilight sparkle, 이미지: pony (939).gif\n"
     ]
    },
    {
     "name": "stderr",
     "output_type": "stream",
     "text": [
      "예측: rarity, 이미지: pony (939).png\n",
      "예측: rarity, 이미지: pony (94).gif\n",
      "예측: twilight sparkle, 이미지: pony (94).jpg\n",
      "예측: fluttershy, 이미지: pony (94).png\n"
     ]
    },
    {
     "name": "stdout",
     "output_type": "stream",
     "text": [
      "예측: rarity, 이미지: pony (939).png\n",
      "예측: rarity, 이미지: pony (94).gif\n",
      "예측: twilight sparkle, 이미지: pony (94).jpg\n"
     ]
    },
    {
     "name": "stderr",
     "output_type": "stream",
     "text": [
      "예측: twilight sparkle, 이미지: pony (940).gif\n"
     ]
    },
    {
     "name": "stdout",
     "output_type": "stream",
     "text": [
      "예측: fluttershy, 이미지: pony (94).png\n",
      "예측: twilight sparkle, 이미지: pony (940).gif\n"
     ]
    },
    {
     "name": "stderr",
     "output_type": "stream",
     "text": [
      "예측: fluttershy, 이미지: pony (940).png\n",
      "예측: twilight sparkle, 이미지: pony (941).gif\n",
      "예측: pinkie pie, 이미지: pony (941).png\n"
     ]
    },
    {
     "name": "stdout",
     "output_type": "stream",
     "text": [
      "예측: fluttershy, 이미지: pony (940).png\n",
      "예측: twilight sparkle, 이미지: pony (941).gif\n"
     ]
    },
    {
     "name": "stderr",
     "output_type": "stream",
     "text": [
      "예측: fluttershy, 이미지: pony (942).gif\n"
     ]
    },
    {
     "name": "stdout",
     "output_type": "stream",
     "text": [
      "예측: pinkie pie, 이미지: pony (941).png\n",
      "예측: fluttershy, 이미지: pony (942).gif\n"
     ]
    },
    {
     "name": "stderr",
     "output_type": "stream",
     "text": [
      "예측: rainbow dash, 이미지: pony (942).png\n",
      "예측: fluttershy, 이미지: pony (943).gif\n"
     ]
    },
    {
     "name": "stdout",
     "output_type": "stream",
     "text": [
      "예측: rainbow dash, 이미지: pony (942).png\n",
      "예측: fluttershy, 이미지: pony (943).gif\n"
     ]
    },
    {
     "name": "stderr",
     "output_type": "stream",
     "text": [
      "예측: rarity, 이미지: pony (943).png\n",
      "예측: fluttershy, 이미지: pony (944).gif\n"
     ]
    },
    {
     "name": "stdout",
     "output_type": "stream",
     "text": [
      "예측: rarity, 이미지: pony (943).png\n",
      "예측: fluttershy, 이미지: pony (944).gif\n"
     ]
    },
    {
     "name": "stderr",
     "output_type": "stream",
     "text": [
      "예측: applejack, 이미지: pony (944).png\n",
      "예측: twilight sparkle, 이미지: pony (945).gif\n"
     ]
    },
    {
     "name": "stdout",
     "output_type": "stream",
     "text": [
      "예측: applejack, 이미지: pony (944).png\n",
      "예측: twilight sparkle, 이미지: pony (945).gif\n"
     ]
    },
    {
     "name": "stderr",
     "output_type": "stream",
     "text": [
      "예측: rarity, 이미지: pony (945).png\n",
      "예측: rarity, 이미지: pony (946).gif\n"
     ]
    },
    {
     "name": "stdout",
     "output_type": "stream",
     "text": [
      "예측: rarity, 이미지: pony (945).png\n",
      "예측: rarity, 이미지: pony (946).gif\n"
     ]
    },
    {
     "name": "stderr",
     "output_type": "stream",
     "text": [
      "예측: rainbow dash, 이미지: pony (946).png\n",
      "예측: pinkie pie, 이미지: pony (947).gif\n"
     ]
    },
    {
     "name": "stdout",
     "output_type": "stream",
     "text": [
      "예측: rainbow dash, 이미지: pony (946).png\n",
      "예측: pinkie pie, 이미지: pony (947).gif\n"
     ]
    },
    {
     "name": "stderr",
     "output_type": "stream",
     "text": [
      "예측: twilight sparkle, 이미지: pony (947).png\n",
      "예측: pinkie pie, 이미지: pony (948).gif\n"
     ]
    },
    {
     "name": "stdout",
     "output_type": "stream",
     "text": [
      "예측: twilight sparkle, 이미지: pony (947).png\n",
      "예측: pinkie pie, 이미지: pony (948).gif\n"
     ]
    },
    {
     "name": "stderr",
     "output_type": "stream",
     "text": [
      "예측: applejack, 이미지: pony (948).png\n",
      "예측: pinkie pie, 이미지: pony (949).gif\n",
      "예측: applejack, 이미지: pony (949).png\n"
     ]
    },
    {
     "name": "stdout",
     "output_type": "stream",
     "text": [
      "예측: applejack, 이미지: pony (948).png\n",
      "예측: pinkie pie, 이미지: pony (949).gif\n"
     ]
    },
    {
     "name": "stderr",
     "output_type": "stream",
     "text": [
      "예측: rarity, 이미지: pony (95).gif\n",
      "예측: twilight sparkle, 이미지: pony (95).jpg\n"
     ]
    },
    {
     "name": "stdout",
     "output_type": "stream",
     "text": [
      "예측: applejack, 이미지: pony (949).png\n",
      "예측: rarity, 이미지: pony (95).gif\n",
      "예측: twilight sparkle, 이미지: pony (95).jpg\n"
     ]
    },
    {
     "name": "stderr",
     "output_type": "stream",
     "text": [
      "예측: rainbow dash, 이미지: pony (95).png\n",
      "예측: rainbow dash, 이미지: pony (950).gif\n"
     ]
    },
    {
     "name": "stdout",
     "output_type": "stream",
     "text": [
      "예측: rainbow dash, 이미지: pony (95).png\n",
      "예측: rainbow dash, 이미지: pony (950).gif\n"
     ]
    },
    {
     "name": "stderr",
     "output_type": "stream",
     "text": [
      "예측: twilight sparkle, 이미지: pony (950).png\n",
      "예측: rainbow dash, 이미지: pony (951).gif\n",
      "예측: twilight sparkle, 이미지: pony (951).png\n"
     ]
    },
    {
     "name": "stdout",
     "output_type": "stream",
     "text": [
      "예측: twilight sparkle, 이미지: pony (950).png\n",
      "예측: rainbow dash, 이미지: pony (951).gif\n"
     ]
    },
    {
     "name": "stderr",
     "output_type": "stream",
     "text": [
      "예측: twilight sparkle, 이미지: pony (952).gif\n"
     ]
    },
    {
     "name": "stdout",
     "output_type": "stream",
     "text": [
      "예측: twilight sparkle, 이미지: pony (951).png\n",
      "예측: twilight sparkle, 이미지: pony (952).gif\n"
     ]
    },
    {
     "name": "stderr",
     "output_type": "stream",
     "text": [
      "예측: twilight sparkle, 이미지: pony (952).png\n",
      "예측: twilight sparkle, 이미지: pony (953).gif\n"
     ]
    },
    {
     "name": "stdout",
     "output_type": "stream",
     "text": [
      "예측: twilight sparkle, 이미지: pony (952).png\n",
      "예측: twilight sparkle, 이미지: pony (953).gif\n"
     ]
    },
    {
     "name": "stderr",
     "output_type": "stream",
     "text": [
      "예측: fluttershy, 이미지: pony (953).png\n",
      "예측: rarity, 이미지: pony (954).gif\n",
      "예측: fluttershy, 이미지: pony (954).png\n",
      "예측: twilight sparkle, 이미지: pony (955).gif\n"
     ]
    },
    {
     "name": "stdout",
     "output_type": "stream",
     "text": [
      "예측: fluttershy, 이미지: pony (953).png\n",
      "예측: rarity, 이미지: pony (954).gif\n",
      "예측: fluttershy, 이미지: pony (954).png\n",
      "예측: twilight sparkle, 이미지: pony (955).gif\n"
     ]
    },
    {
     "name": "stderr",
     "output_type": "stream",
     "text": [
      "예측: fluttershy, 이미지: pony (955).png\n",
      "예측: twilight sparkle, 이미지: pony (956).gif\n",
      "예측: pinkie pie, 이미지: pony (956).png\n",
      "예측: twilight sparkle, 이미지: pony (957).gif\n"
     ]
    },
    {
     "name": "stdout",
     "output_type": "stream",
     "text": [
      "예측: fluttershy, 이미지: pony (955).png\n",
      "예측: twilight sparkle, 이미지: pony (956).gif\n",
      "예측: pinkie pie, 이미지: pony (956).png\n",
      "예측: twilight sparkle, 이미지: pony (957).gif\n"
     ]
    },
    {
     "name": "stderr",
     "output_type": "stream",
     "text": [
      "예측: fluttershy, 이미지: pony (957).png\n",
      "예측: twilight sparkle, 이미지: pony (958).gif\n",
      "예측: applejack, 이미지: pony (958).png\n",
      "예측: twilight sparkle, 이미지: pony (959).gif\n"
     ]
    },
    {
     "name": "stdout",
     "output_type": "stream",
     "text": [
      "예측: fluttershy, 이미지: pony (957).png\n",
      "예측: twilight sparkle, 이미지: pony (958).gif\n",
      "예측: applejack, 이미지: pony (958).png\n"
     ]
    },
    {
     "name": "stderr",
     "output_type": "stream",
     "text": [
      "예측: fluttershy, 이미지: pony (959).png\n",
      "예측: pinkie pie, 이미지: pony (96).gif\n"
     ]
    },
    {
     "name": "stdout",
     "output_type": "stream",
     "text": [
      "예측: twilight sparkle, 이미지: pony (959).gif\n",
      "예측: fluttershy, 이미지: pony (959).png\n",
      "예측: pinkie pie, 이미지: pony (96).gif\n"
     ]
    },
    {
     "name": "stderr",
     "output_type": "stream",
     "text": [
      "예측: twilight sparkle, 이미지: pony (96).jpg\n"
     ]
    },
    {
     "name": "stdout",
     "output_type": "stream",
     "text": [
      "예측: twilight sparkle, 이미지: pony (96).jpg\n"
     ]
    },
    {
     "name": "stderr",
     "output_type": "stream",
     "text": [
      "예측: twilight sparkle, 이미지: pony (96).png\n",
      "예측: twilight sparkle, 이미지: pony (960).gif\n",
      "예측: applejack, 이미지: pony (960).png\n",
      "예측: twilight sparkle, 이미지: pony (961).gif\n"
     ]
    },
    {
     "name": "stdout",
     "output_type": "stream",
     "text": [
      "예측: twilight sparkle, 이미지: pony (96).png\n",
      "예측: twilight sparkle, 이미지: pony (960).gif\n",
      "예측: applejack, 이미지: pony (960).png\n"
     ]
    },
    {
     "name": "stderr",
     "output_type": "stream",
     "text": [
      "예측: fluttershy, 이미지: pony (961).png\n",
      "예측: twilight sparkle, 이미지: pony (962).gif\n"
     ]
    },
    {
     "name": "stdout",
     "output_type": "stream",
     "text": [
      "예측: twilight sparkle, 이미지: pony (961).gif\n",
      "예측: fluttershy, 이미지: pony (961).png\n"
     ]
    },
    {
     "name": "stderr",
     "output_type": "stream",
     "text": [
      "예측: fluttershy, 이미지: pony (962).png\n"
     ]
    },
    {
     "name": "stdout",
     "output_type": "stream",
     "text": [
      "예측: twilight sparkle, 이미지: pony (962).gif\n",
      "예측: fluttershy, 이미지: pony (962).png\n"
     ]
    },
    {
     "name": "stderr",
     "output_type": "stream",
     "text": [
      "예측: twilight sparkle, 이미지: pony (963).gif\n",
      "예측: fluttershy, 이미지: pony (963).png\n",
      "예측: fluttershy, 이미지: pony (964).gif\n"
     ]
    },
    {
     "name": "stdout",
     "output_type": "stream",
     "text": [
      "예측: twilight sparkle, 이미지: pony (963).gif\n",
      "예측: fluttershy, 이미지: pony (963).png\n"
     ]
    },
    {
     "name": "stderr",
     "output_type": "stream",
     "text": [
      "예측: twilight sparkle, 이미지: pony (964).png\n",
      "예측: rarity, 이미지: pony (965).gif\n"
     ]
    },
    {
     "name": "stdout",
     "output_type": "stream",
     "text": [
      "예측: fluttershy, 이미지: pony (964).gif\n",
      "예측: twilight sparkle, 이미지: pony (964).png\n",
      "예측: rarity, 이미지: pony (965).gif\n"
     ]
    },
    {
     "name": "stderr",
     "output_type": "stream",
     "text": [
      "예측: applejack, 이미지: pony (965).png\n",
      "예측: applejack, 이미지: pony (966).gif\n"
     ]
    },
    {
     "name": "stdout",
     "output_type": "stream",
     "text": [
      "예측: applejack, 이미지: pony (965).png\n",
      "예측: applejack, 이미지: pony (966).gif\n"
     ]
    },
    {
     "name": "stderr",
     "output_type": "stream",
     "text": [
      "예측: twilight sparkle, 이미지: pony (966).png\n",
      "예측: twilight sparkle, 이미지: pony (967).gif\n",
      "예측: rarity, 이미지: pony (968).gif\n",
      "예측: pinkie pie, 이미지: pony (969).gif\n",
      "예측: rainbow dash, 이미지: pony (97).gif\n"
     ]
    },
    {
     "name": "stdout",
     "output_type": "stream",
     "text": [
      "예측: twilight sparkle, 이미지: pony (966).png\n",
      "예측: twilight sparkle, 이미지: pony (967).gif\n",
      "예측: rarity, 이미지: pony (968).gif\n",
      "예측: pinkie pie, 이미지: pony (969).gif\n",
      "예측: rainbow dash, 이미지: pony (97).gif\n"
     ]
    },
    {
     "name": "stderr",
     "output_type": "stream",
     "text": [
      "예측: rarity, 이미지: pony (97).jpg\n",
      "예측: fluttershy, 이미지: pony (97).png\n",
      "예측: fluttershy, 이미지: pony (970).gif\n"
     ]
    },
    {
     "name": "stdout",
     "output_type": "stream",
     "text": [
      "예측: rarity, 이미지: pony (97).jpg\n",
      "예측: fluttershy, 이미지: pony (97).png\n",
      "예측: fluttershy, 이미지: pony (970).gif\n"
     ]
    },
    {
     "name": "stderr",
     "output_type": "stream",
     "text": [
      "예측: rarity, 이미지: pony (971).gif\n",
      "예측: applejack, 이미지: pony (972).gif\n",
      "예측: fluttershy, 이미지: pony (973).gif\n",
      "예측: rarity, 이미지: pony (974).gif\n",
      "예측: fluttershy, 이미지: pony (975).gif\n",
      "예측: twilight sparkle, 이미지: pony (976).gif\n",
      "예측: rarity, 이미지: pony (977).gif\n",
      "예측: rarity, 이미지: pony (978).gif\n"
     ]
    },
    {
     "name": "stdout",
     "output_type": "stream",
     "text": [
      "예측: rarity, 이미지: pony (971).gif\n",
      "예측: applejack, 이미지: pony (972).gif\n",
      "예측: fluttershy, 이미지: pony (973).gif\n",
      "예측: rarity, 이미지: pony (974).gif\n",
      "예측: fluttershy, 이미지: pony (975).gif\n",
      "예측: twilight sparkle, 이미지: pony (976).gif\n",
      "예측: rarity, 이미지: pony (977).gif\n",
      "예측: rarity, 이미지: pony (978).gif\n"
     ]
    },
    {
     "name": "stderr",
     "output_type": "stream",
     "text": [
      "예측: applejack, 이미지: pony (979).gif\n",
      "예측: fluttershy, 이미지: pony (98).gif\n"
     ]
    },
    {
     "name": "stdout",
     "output_type": "stream",
     "text": [
      "예측: applejack, 이미지: pony (979).gif\n"
     ]
    },
    {
     "name": "stderr",
     "output_type": "stream",
     "text": [
      "예측: twilight sparkle, 이미지: pony (98).jpg\n"
     ]
    },
    {
     "name": "stdout",
     "output_type": "stream",
     "text": [
      "예측: fluttershy, 이미지: pony (98).gif\n",
      "예측: twilight sparkle, 이미지: pony (98).jpg\n"
     ]
    },
    {
     "name": "stderr",
     "output_type": "stream",
     "text": [
      "예측: twilight sparkle, 이미지: pony (98).png\n",
      "예측: twilight sparkle, 이미지: pony (980).gif\n",
      "예측: pinkie pie, 이미지: pony (981).gif\n",
      "예측: applejack, 이미지: pony (982).gif\n",
      "예측: twilight sparkle, 이미지: pony (983).gif\n"
     ]
    },
    {
     "name": "stdout",
     "output_type": "stream",
     "text": [
      "예측: twilight sparkle, 이미지: pony (98).png\n",
      "예측: twilight sparkle, 이미지: pony (980).gif\n",
      "예측: pinkie pie, 이미지: pony (981).gif\n",
      "예측: applejack, 이미지: pony (982).gif\n",
      "예측: twilight sparkle, 이미지: pony (983).gif\n"
     ]
    },
    {
     "name": "stderr",
     "output_type": "stream",
     "text": [
      "예측: rarity, 이미지: pony (984).gif\n",
      "예측: applejack, 이미지: pony (985).gif\n",
      "예측: applejack, 이미지: pony (986).gif\n",
      "예측: applejack, 이미지: pony (987).gif\n",
      "예측: twilight sparkle, 이미지: pony (988).gif\n",
      "예측: twilight sparkle, 이미지: pony (99).gif\n",
      "예측: twilight sparkle, 이미지: pony (99).jpg\n"
     ]
    },
    {
     "name": "stdout",
     "output_type": "stream",
     "text": [
      "예측: rarity, 이미지: pony (984).gif\n",
      "예측: applejack, 이미지: pony (985).gif\n",
      "예측: applejack, 이미지: pony (986).gif\n",
      "예측: applejack, 이미지: pony (987).gif\n",
      "예측: twilight sparkle, 이미지: pony (988).gif\n",
      "예측: twilight sparkle, 이미지: pony (99).gif\n"
     ]
    },
    {
     "name": "stderr",
     "output_type": "stream",
     "text": [
      "예측: twilight sparkle, 이미지: pony (99).png\n",
      "{'applejack': 278, 'fluttershy': 458, 'pinkie pie': 340, 'rainbow dash': 333, 'rarity': 473, 'twilight sparkle': 924}\n"
     ]
    },
    {
     "name": "stdout",
     "output_type": "stream",
     "text": [
      "예측: twilight sparkle, 이미지: pony (99).jpg\n",
      "예측: twilight sparkle, 이미지: pony (99).png\n",
      "{'applejack': 278, 'fluttershy': 458, 'pinkie pie': 340, 'rainbow dash': 333, 'rarity': 473, 'twilight sparkle': 924}\n"
     ]
    }
   ],
   "source": [
    "logging.basicConfig(level=logging.INFO,\n",
    "                    format='%(message)s',\n",
    "                    handlers=[logging.FileHandler(\"log.txt\"),\n",
    "                              logging.StreamHandler()])\n",
    "\n",
    "device = torch.device(\"cuda\" if torch.cuda.is_available() else \"cpu\") #쿠다주세요쿠다주세요\n",
    "\n",
    "dirs = ['applejack', 'fluttershy', 'pinkie pie', 'rainbow dash', 'rarity', 'twilight sparkle']\n",
    "\n",
    "def is_valid_image(image_path):\n",
    "    try:\n",
    "        img = Image.open(image_path)\n",
    "        img.verify()\n",
    "        return True\n",
    "    except:\n",
    "        return False\n",
    "    \n",
    "def resize_image(image_path, new_width=300, new_height=300):\n",
    "    try:\n",
    "        img = Image.open(image_path)\n",
    "        img = img.convert(\"RGB\")\n",
    "        img = img.resize((new_width, new_height), Image.ANTIALIAS)\n",
    "        return img\n",
    "    except Exception as e:\n",
    "        print(f\"Error occurred with file {image_path}: {e}\")\n",
    "        return None\n",
    "\n",
    "\n",
    "transformations=transforms.Compose([transforms.ToTensor(),\n",
    "                                    transforms.Normalize(mean=[0.485, 0.456, 0.406], std=[0.229, 0.224, 0.225])])\n",
    "\n",
    "\n",
    "#-------------------------------------모델 선택----------------------------------------------\n",
    "model = SimpleCNN()\n",
    "model_path = \"save/model3.pth\"                      \n",
    "model.load_state_dict(torch.load(model_path))\n",
    "model.to(device)\n",
    "print(\"Model loaded\")\n",
    "\n",
    "model.eval()\n",
    "\n",
    "#-------------------------------------폴더 선택----------------------------------------------\n",
    "test_dir = \"mlp\"\n",
    "\n",
    "class_count = {name: 0 for name in ['applejack', 'fluttershy', 'pinkie pie', 'rainbow dash', 'rarity', 'twilight sparkle']}\n",
    "\n",
    "for file in os.listdir(test_dir):\n",
    "    image_path = os.path.join(test_dir, file)\n",
    "\n",
    "    if is_valid_image(image_path):\n",
    "        img = resize_image(image_path)\n",
    "        if img is not None:\n",
    "            img_tensor = transformations(img).unsqueeze(0).to(device)  # Transform image and add batch dimension\n",
    "            \n",
    "            output=model(img_tensor)\n",
    "            _, predicted=torch.max(output.data,1)\n",
    "\n",
    "            logging.info(f\"예측: {dirs[predicted.item()]}, 이미지: {file}\")\n",
    "            print(f\"예측: {dirs[predicted.item()]}, 이미지: {file}\")\n",
    "\n",
    "            class_count[dirs[predicted.item()]] += 1  # Increment count of predicted class\n",
    "\n",
    "logging.info(class_count)\n",
    "print(class_count)\n"
   ]
  },
  {
   "cell_type": "code",
   "execution_count": null,
   "metadata": {},
   "outputs": [],
   "source": []
  }
 ],
 "metadata": {
  "kernelspec": {
   "display_name": "Python 3",
   "language": "python",
   "name": "python3"
  },
  "language_info": {
   "codemirror_mode": {
    "name": "ipython",
    "version": 3
   },
   "file_extension": ".py",
   "mimetype": "text/x-python",
   "name": "python",
   "nbconvert_exporter": "python",
   "pygments_lexer": "ipython3",
   "version": "3.11.4"
  },
  "orig_nbformat": 4
 },
 "nbformat": 4,
 "nbformat_minor": 2
}
